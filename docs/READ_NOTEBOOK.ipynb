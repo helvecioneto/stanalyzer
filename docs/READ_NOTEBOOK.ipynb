{
 "cells": [
  {
   "cell_type": "code",
   "execution_count": 193,
   "metadata": {},
   "outputs": [],
   "source": [
    "import pandas as pd\n",
    "import geopandas as gpd\n",
    "from zipfile import ZipFile\n",
    "\n",
    "PATH01 = './IOP1_BEST_RADAR.zip'\n",
    "\n",
    "FIRST_ROW = 0\n",
    "LAST_ROW = 500\n",
    "\n",
    "def read_tracking(path,fr_row,lt_row):\n",
    "    read_columns = ['time','timestamp','uid','status','angle','velm','area_t','global_mean_threshold',\n",
    "                    'lifetime','geometry_t','geom_30','geom_40']\n",
    "    \n",
    "    zip_file = ZipFile(path)\n",
    "    for f in zip_file.infolist():\n",
    "        if f.filename.endswith('.csv') and 'FINAL' in f.filename:\n",
    "            tracking_df = pd.read_csv(zip_file.open(f),usecols=read_columns,skiprows=fr_row, nrows=lt_row)\n",
    "            tracking_df = tracking_df[read_columns]\n",
    "    return tracking_df"
   ]
  },
  {
   "cell_type": "code",
   "execution_count": 238,
   "metadata": {},
   "outputs": [],
   "source": [
    "zip_file = ZipFile(PATH01)\n",
    "for f in zip_file.infolist():\n",
    "    if f.filename.endswith('.csv') and 'FINAL' in f.filename:\n",
    "        tracking_df = pd.read_csv(zip_file.open(f),skiprows=0, nrows=500)"
   ]
  },
  {
   "cell_type": "code",
   "execution_count": 170,
   "metadata": {},
   "outputs": [
    {
     "name": "stdout",
     "output_type": "stream",
     "text": [
      "FAM_0  UID->2.0 0 days 00:24:00\n",
      "FAM_1  UID->3.0 0 days 00:24:00\n",
      "FAM_2  UID->4.0 0 days 00:12:00\n"
     ]
    }
   ],
   "source": [
    "count = 0\n",
    "\n",
    "for i in tk.uid.unique():\n",
    "    if len(tk.query('uid == @i')) > 1:\n",
    "        print('FAM_'+str(count),' UID->'+str(i),tk.query('uid == @i').lifetime.values[-1])\n",
    "        count += 1"
   ]
  },
  {
   "cell_type": "code",
   "execution_count": 315,
   "metadata": {},
   "outputs": [],
   "source": [
    "tk = tracking_df[['timestamp','time','uid','area_t','angle','velm','centroid_t','centroid_tp',\n",
    "                  'linestring','total_area_40','n_poly_30','status','lifetime']]\n",
    "\n",
    "# tk.query('uid == 1')"
   ]
  },
  {
   "cell_type": "code",
   "execution_count": 264,
   "metadata": {},
   "outputs": [
    {
     "name": "stdout",
     "output_type": "stream",
     "text": [
      "Unnamed: 0\n",
      "time\n",
      "timestamp\n",
      "uid\n",
      "id_t\n",
      "id_tp\n",
      "area_t\n",
      "area_tp\n",
      "intersect_geom\n",
      "overlap_percent\n",
      "geometry_t\n",
      "geometry_tp\n",
      "centroid_t\n",
      "centroid_tp\n",
      "p0\n",
      "p1\n",
      "growth\n",
      "merged\n",
      "root\n",
      "status\n",
      "linestring\n",
      "angle\n",
      "length\n",
      "velm\n",
      "global_mean_threshold\n",
      "rainrate\n",
      "geom_30\n",
      "geom_40\n",
      "centroid_30\n",
      "centroid_40\n",
      "areas_30\n",
      "areas_40\n",
      "total_area_30\n",
      "total_area_40\n",
      "n_poly_30\n",
      "n_poly_40\n",
      "mean_threshold_30\n",
      "mean_threshold_40\n",
      "internal_linestring_30\n",
      "internal_linestring_40\n",
      "internal_length_30\n",
      "internal_length_40\n",
      "internal_length_mean_30\n",
      "internal_length_mean_40\n",
      "internal_angle_30\n",
      "internal_angle_40\n",
      "internal_angle_mean_30\n",
      "internal_angle_mean_40\n",
      "internal_cent_30\n",
      "internal_cent_40\n",
      "mean_rain_rate_30\n",
      "mean_rain_rate_40\n",
      "internal_velm_30\n",
      "internal_velm_40\n",
      "lifetime\n",
      "result_vector_20\n",
      "pred_point_20\n",
      "used_points_20\n",
      "pred_geo_20\n",
      "pred_area_20\n",
      "pred_cent_20\n",
      "pred_linestring_20\n",
      "pred_length_20\n",
      "pred_angle_20\n",
      "nc_file\n",
      "pixel_area_20\n",
      "HIT_20\n",
      "FALSE_ALARM_20\n",
      "FAR_20\n",
      "predict_path\n",
      "uid_pred_path\n",
      "tracking_path\n",
      "uid_tracking_path\n",
      "index_\n",
      "result_vector_30\n",
      "pred_point_30\n",
      "used_points_30\n",
      "pred_geo_30\n",
      "pred_area_30\n",
      "pred_cent_30\n",
      "pred_linestring_30\n",
      "pred_length_30\n",
      "pred_angle_30\n",
      "pixel_area_30\n",
      "HIT_30\n",
      "FALSE_ALARM_30\n",
      "FAR_30\n",
      "result_vector_40\n",
      "pred_point_40\n",
      "used_points_40\n",
      "pred_geo_40\n",
      "pred_area_40\n",
      "pred_cent_40\n",
      "pred_linestring_40\n",
      "pred_length_40\n",
      "pred_angle_40\n",
      "pixel_area_40\n",
      "HIT_40\n",
      "FALSE_ALARM_40\n",
      "FAR_40\n",
      "pred_area_30_\n",
      "pred_length_30_\n",
      "pred_angle_30_\n",
      "pred_area_40_\n",
      "pred_length_40_\n",
      "pred_angle_40_\n",
      "geometry__20\n",
      "centroid__20\n",
      "geometry__30\n",
      "centroid__30\n",
      "geometry__40\n",
      "centroid__40\n"
     ]
    }
   ],
   "source": [
    "for c in tracking_df.columns:\n",
    "    print(c)"
   ]
  },
  {
   "cell_type": "code",
   "execution_count": 317,
   "metadata": {},
   "outputs": [
    {
     "data": {
      "text/html": [
       "<div>\n",
       "<style scoped>\n",
       "    .dataframe tbody tr th:only-of-type {\n",
       "        vertical-align: middle;\n",
       "    }\n",
       "\n",
       "    .dataframe tbody tr th {\n",
       "        vertical-align: top;\n",
       "    }\n",
       "\n",
       "    .dataframe thead th {\n",
       "        text-align: right;\n",
       "    }\n",
       "</style>\n",
       "<table border=\"1\" class=\"dataframe\">\n",
       "  <thead>\n",
       "    <tr style=\"text-align: right;\">\n",
       "      <th></th>\n",
       "      <th>timestamp</th>\n",
       "      <th>time</th>\n",
       "      <th>uid</th>\n",
       "      <th>area_t</th>\n",
       "      <th>angle</th>\n",
       "      <th>velm</th>\n",
       "      <th>centroid_t</th>\n",
       "      <th>centroid_tp</th>\n",
       "      <th>linestring</th>\n",
       "      <th>total_area_40</th>\n",
       "      <th>n_poly_30</th>\n",
       "      <th>status</th>\n",
       "      <th>lifetime</th>\n",
       "    </tr>\n",
       "  </thead>\n",
       "  <tbody>\n",
       "    <tr>\n",
       "      <th>303</th>\n",
       "      <td>2014-02-01 19:00:00</td>\n",
       "      <td>95.0</td>\n",
       "      <td>27.0</td>\n",
       "      <td>2441.121798</td>\n",
       "      <td>153.438013</td>\n",
       "      <td>42.798172</td>\n",
       "      <td>POINT (96.30356641926026 171.2166537916858)</td>\n",
       "      <td>POINT (100.5816783116825 171.5203835335193)</td>\n",
       "      <td>LINESTRING (100.5816783116825 171.520383533519...</td>\n",
       "      <td>30.038986</td>\n",
       "      <td>6.0</td>\n",
       "      <td>CONT</td>\n",
       "      <td>0 days 03:12:00</td>\n",
       "    </tr>\n",
       "  </tbody>\n",
       "</table>\n",
       "</div>"
      ],
      "text/plain": [
       "               timestamp  time   uid       area_t       angle       velm  \\\n",
       "303  2014-02-01 19:00:00  95.0  27.0  2441.121798  153.438013  42.798172   \n",
       "\n",
       "                                      centroid_t  \\\n",
       "303  POINT (96.30356641926026 171.2166537916858)   \n",
       "\n",
       "                                     centroid_tp  \\\n",
       "303  POINT (100.5816783116825 171.5203835335193)   \n",
       "\n",
       "                                            linestring  total_area_40  \\\n",
       "303  LINESTRING (100.5816783116825 171.520383533519...      30.038986   \n",
       "\n",
       "     n_poly_30 status         lifetime  \n",
       "303        6.0   CONT  0 days 03:12:00  "
      ]
     },
     "execution_count": 317,
     "metadata": {},
     "output_type": "execute_result"
    }
   ],
   "source": [
    "tk.loc[tk['timestamp'] == '2014-02-01 19:00:00'].query('uid == 27')"
   ]
  },
  {
   "cell_type": "code",
   "execution_count": 318,
   "metadata": {},
   "outputs": [],
   "source": [
    "# timestamp\n",
    "# uid     -> identificador unico\n",
    "# time    -> timeindex\n",
    "\n",
    "# lat lon -> centroid\n",
    "\n",
    "# size_20    -> tamanho do sistema\n",
    "# total_size_30    -> tamanho do sistema\n",
    "# total_size_40    -> tamanho do sistema\n",
    "\n",
    "# dsize   -> Delta área\n",
    "\n",
    "# mean_ref_20 -> \n",
    "# mean_total_ref_30 -> \n",
    "# mean_total_ref_40 ->\n",
    "\n",
    "# angle_20 ->\n",
    "# avg_angle_30 ->\n",
    "# avg_angle_40 ->\n",
    "\n",
    "# vel_20_orig ->\n",
    "# vel_20_cor ->\n",
    "# avg_vel_30 ->\n",
    "# avg_vel_40 ->\n",
    "\n",
    "# n_cluster_30 ->\n",
    "# n_cluster_40 ->\n",
    "\n",
    "# status -> \n",
    "# lifetime -> delta_t\n",
    "\n",
    "\n",
    "# MAX_REFLECT -> Máxima refletivida do cluster no tempo t\n",
    "# DMAX_REFLECT -> Diferença entre a max (t-1) com (t)\n",
    "# DMEAN_REFLECT -> Média\n",
    "\n",
    "\n",
    "\n",
    "#### UM NOTEBOOK PARA CONVERTER TRACKING PARA FAMILY (No mínimo 2 clusters por familia)\n",
    "#### UM NOTEBOOK PARA VISUALIZAR FAMILIY E CONSULTAR CLUSTERS"
   ]
  },
  {
   "cell_type": "code",
   "execution_count": null,
   "metadata": {},
   "outputs": [],
   "source": [
    "## nome variável | unidade  | "
   ]
  },
  {
   "cell_type": "code",
   "execution_count": 228,
   "metadata": {},
   "outputs": [],
   "source": [
    "import numpy as np\n",
    "import matplotlib.pyplot as plt "
   ]
  },
  {
   "cell_type": "code",
   "execution_count": 290,
   "metadata": {},
   "outputs": [],
   "source": [
    "matrix = np.load('20140201_190000_uid.npz')['arr_0']\n",
    "\n",
    "dbz = np.load('20140201_190000_trk.npz')['arr_0']"
   ]
  },
  {
   "cell_type": "code",
   "execution_count": 291,
   "metadata": {},
   "outputs": [],
   "source": [
    "uid_ = 27"
   ]
  },
  {
   "cell_type": "code",
   "execution_count": 292,
   "metadata": {},
   "outputs": [],
   "source": [
    "uid_27 = matrix[:,:,1]"
   ]
  },
  {
   "cell_type": "code",
   "execution_count": 293,
   "metadata": {},
   "outputs": [],
   "source": [
    "x,y,z = np.where(matrix == uid_)"
   ]
  },
  {
   "cell_type": "code",
   "execution_count": 311,
   "metadata": {},
   "outputs": [
    {
     "data": {
      "text/plain": [
       "6.317894771609907e+43"
      ]
     },
     "execution_count": 311,
     "metadata": {},
     "output_type": "execute_result"
    }
   ],
   "source": [
    "np.nanmean(10**(dbz[x,y,1])/10)"
   ]
  },
  {
   "cell_type": "code",
   "execution_count": 312,
   "metadata": {},
   "outputs": [
    {
     "data": {
      "text/plain": [
       "36.952505466148175"
      ]
     },
     "execution_count": 312,
     "metadata": {},
     "output_type": "execute_result"
    }
   ],
   "source": [
    "zs = np.nanmean(10**(dbz[x,y,1]/10))\n",
    "varMean = 10*np.log10(zs)\n",
    "varMean"
   ]
  },
  {
   "cell_type": "code",
   "execution_count": 253,
   "metadata": {},
   "outputs": [
    {
     "ename": "TypeError",
     "evalue": "scatter() missing 1 required positional argument: 'y'",
     "output_type": "error",
     "traceback": [
      "\u001b[0;31m---------------------------------------------------------------------------\u001b[0m",
      "\u001b[0;31mTypeError\u001b[0m                                 Traceback (most recent call last)",
      "\u001b[0;32m<ipython-input-253-5f73da9b5a4d>\u001b[0m in \u001b[0;36m<module>\u001b[0;34m\u001b[0m\n\u001b[0;32m----> 1\u001b[0;31m \u001b[0mplt\u001b[0m\u001b[0;34m.\u001b[0m\u001b[0mscatter\u001b[0m\u001b[0;34m(\u001b[0m\u001b[0mdbz\u001b[0m\u001b[0;34m[\u001b[0m\u001b[0mx\u001b[0m\u001b[0;34m,\u001b[0m\u001b[0my\u001b[0m\u001b[0;34m,\u001b[0m\u001b[0;36m0\u001b[0m\u001b[0;34m]\u001b[0m\u001b[0;34m)\u001b[0m\u001b[0;34m\u001b[0m\u001b[0;34m\u001b[0m\u001b[0m\n\u001b[0m",
      "\u001b[0;31mTypeError\u001b[0m: scatter() missing 1 required positional argument: 'y'"
     ]
    }
   ],
   "source": [
    "plt.scatter(dbz[x,y,0])"
   ]
  },
  {
   "cell_type": "code",
   "execution_count": 251,
   "metadata": {},
   "outputs": [
    {
     "data": {
      "text/plain": [
       "<matplotlib.image.AxesImage at 0x7f7364367350>"
      ]
     },
     "execution_count": 251,
     "metadata": {},
     "output_type": "execute_result"
    },
    {
     "data": {
      "image/png": "[encoded data removed]",
      "text/plain": [
       "<Figure size 432x288 with 1 Axes>"
      ]
     },
     "metadata": {
      "needs_background": "light"
     },
     "output_type": "display_data"
    }
   ],
   "source": [
    "plt.imshow(dbz[x,y])"
   ]
  },
  {
   "cell_type": "code",
   "execution_count": 244,
   "metadata": {},
   "outputs": [
    {
     "name": "stderr",
     "output_type": "stream",
     "text": [
      "Clipping input data to the valid range for imshow with RGB data ([0..1] for floats or [0..255] for integers).\n"
     ]
    },
    {
     "data": {
      "text/plain": [
       "<matplotlib.image.AxesImage at 0x7f7362bd0c90>"
      ]
     },
     "execution_count": 244,
     "metadata": {},
     "output_type": "execute_result"
    },
    {
     "data": {
      "image/png": "[encoded data removed]",
      "text/plain": [
       "<Figure size 432x288 with 1 Axes>"
      ]
     },
     "metadata": {
      "needs_background": "light"
     },
     "output_type": "display_data"
    }
   ],
   "source": [
    "plt.imshow(dbz)"
   ]
  },
  {
   "cell_type": "code",
   "execution_count": null,
   "metadata": {},
   "outputs": [],
   "source": []
  },
  {
   "cell_type": "code",
   "execution_count": null,
   "metadata": {},
   "outputs": [],
   "source": []
  }
 ],
 "metadata": {
  "kernelspec": {
   "display_name": "Python 3",
   "language": "python",
   "name": "python3"
  },
  "language_info": {
   "codemirror_mode": {
    "name": "ipython",
    "version": 3
   },
   "file_extension": ".py",
   "mimetype": "text/x-python",
   "name": "python",
   "nbconvert_exporter": "python",
   "pygments_lexer": "ipython3",
   "version": "3.7.7"
  }
 },
 "nbformat": 4,
 "nbformat_minor": 4
}
