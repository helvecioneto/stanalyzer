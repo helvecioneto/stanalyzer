{
 "cells": [
  {
   "cell_type": "markdown",
   "id": "b2e6807f",
   "metadata": {},
   "source": [
    "# OUTPUT TRACKING ALGORITHM\n",
    "\n",
    "\n",
    "---\n",
    "Author: **Helvecio B. Leal Neto** & **Alan J. P. Calheiros**\\\n",
    "**National Institute for Space Research - Brazil - (2021)**\n",
    "\n",
    "\n",
    "\n",
    "## About\n",
    "\n",
    "This notebook is designed for viewing the tracking results of the storm/precipitation tracking algorithm beta version. The results presented here refer to the tracking of clusters via radar data provided by the GoAmazon project, for the following periods:\n",
    "\n",
    "**Start**: 2014-09-07 00:00:00\n",
    "\n",
    "**End**: 2014-09-09 00:00:00\n",
    "\n",
    "The tracking threshold is:\n",
    "\n",
    "* **20** dBZ\n",
    "* inner 1 - ***35*** dBZ\n",
    "* inner 2 - ***40*** dBZ\n",
    "\n",
    "Minimum size threshold per cluster:\n",
    "\n",
    "* **30** pixels\n",
    "* inner 1 - ***15*** pixels\n",
    "* inner 2 - ***10*** pixels"
   ]
  },
  {
   "cell_type": "code",
   "execution_count": 1,
   "id": "df6bcfd7",
   "metadata": {},
   "outputs": [],
   "source": [
    "%load_ext autoreload\n",
    "%autoreload 2\n",
    "\n",
    "import sys\n",
    "sys.path.append(\"../\")\n",
    "import stanalyzer as sta"
   ]
  },
  {
   "cell_type": "code",
   "execution_count": 2,
   "id": "b58bfe90",
   "metadata": {},
   "outputs": [],
   "source": [
    "track_frame = sta.read_file('../output/tracking_compressed.pkl')"
   ]
  },
  {
   "cell_type": "code",
   "execution_count": 3,
   "id": "87408c8d",
   "metadata": {},
   "outputs": [
    {
     "data": {
      "text/html": [
       "<div>\n",
       "<style scoped>\n",
       "    .dataframe tbody tr th:only-of-type {\n",
       "        vertical-align: middle;\n",
       "    }\n",
       "\n",
       "    .dataframe tbody tr th {\n",
       "        vertical-align: top;\n",
       "    }\n",
       "\n",
       "    .dataframe thead th {\n",
       "        text-align: right;\n",
       "    }\n",
       "</style>\n",
       "<table border=\"1\" class=\"dataframe\">\n",
       "  <thead>\n",
       "    <tr style=\"text-align: right;\">\n",
       "      <th></th>\n",
       "      <th></th>\n",
       "      <th>timestamp</th>\n",
       "      <th>time</th>\n",
       "      <th>uid</th>\n",
       "      <th>id_t</th>\n",
       "      <th>lat</th>\n",
       "      <th>lon</th>\n",
       "      <th>p0</th>\n",
       "      <th>p1</th>\n",
       "      <th>size_20</th>\n",
       "      <th>mean_ref_20</th>\n",
       "      <th>...</th>\n",
       "      <th>trajectory</th>\n",
       "      <th>vector_20</th>\n",
       "      <th>vector_35</th>\n",
       "      <th>vector_40</th>\n",
       "      <th>dsize_20</th>\n",
       "      <th>dmean_ref_20</th>\n",
       "      <th>dtotal_size_35</th>\n",
       "      <th>dmean_total_ref_35</th>\n",
       "      <th>dtotal_size_40</th>\n",
       "      <th>dmean_total_ref_40</th>\n",
       "    </tr>\n",
       "  </thead>\n",
       "  <tbody>\n",
       "    <tr>\n",
       "      <th rowspan=\"2\" valign=\"top\">Fam_0</th>\n",
       "      <th>0</th>\n",
       "      <td>2014-09-07 00:00:00</td>\n",
       "      <td>0</td>\n",
       "      <td>0</td>\n",
       "      <td>2</td>\n",
       "      <td>-3.866008</td>\n",
       "      <td>-58.262753</td>\n",
       "      <td>216.0</td>\n",
       "      <td>80.0</td>\n",
       "      <td>66.0</td>\n",
       "      <td>35.540233</td>\n",
       "      <td>...</td>\n",
       "      <td>GEOMETRYCOLLECTION EMPTY</td>\n",
       "      <td>GEOMETRYCOLLECTION EMPTY</td>\n",
       "      <td>GEOMETRYCOLLECTION EMPTY</td>\n",
       "      <td>GEOMETRYCOLLECTION EMPTY</td>\n",
       "      <td>NaN</td>\n",
       "      <td>NaN</td>\n",
       "      <td>NaN</td>\n",
       "      <td>NaN</td>\n",
       "      <td>NaN</td>\n",
       "      <td>NaN</td>\n",
       "    </tr>\n",
       "    <tr>\n",
       "      <th>10</th>\n",
       "      <td>2014-09-07 00:12:00</td>\n",
       "      <td>1</td>\n",
       "      <td>0</td>\n",
       "      <td>3</td>\n",
       "      <td>-3.884098</td>\n",
       "      <td>-58.334747</td>\n",
       "      <td>212.0</td>\n",
       "      <td>79.0</td>\n",
       "      <td>34.0</td>\n",
       "      <td>26.850009</td>\n",
       "      <td>...</td>\n",
       "      <td>LINESTRING (-58.26275253295898 -3.866008281707...</td>\n",
       "      <td>LINESTRING (-58.26275253295898 -3.866008281707...</td>\n",
       "      <td>GEOMETRYCOLLECTION EMPTY</td>\n",
       "      <td>GEOMETRYCOLLECTION EMPTY</td>\n",
       "      <td>-32.0</td>\n",
       "      <td>-8.690224</td>\n",
       "      <td>NaN</td>\n",
       "      <td>NaN</td>\n",
       "      <td>NaN</td>\n",
       "      <td>NaN</td>\n",
       "    </tr>\n",
       "    <tr>\n",
       "      <th rowspan=\"2\" valign=\"top\">Fam_1</th>\n",
       "      <th>1</th>\n",
       "      <td>2014-09-07 00:00:00</td>\n",
       "      <td>0</td>\n",
       "      <td>1</td>\n",
       "      <td>5</td>\n",
       "      <td>-3.759429</td>\n",
       "      <td>-59.199203</td>\n",
       "      <td>164.0</td>\n",
       "      <td>86.0</td>\n",
       "      <td>75.0</td>\n",
       "      <td>39.058735</td>\n",
       "      <td>...</td>\n",
       "      <td>GEOMETRYCOLLECTION EMPTY</td>\n",
       "      <td>GEOMETRYCOLLECTION EMPTY</td>\n",
       "      <td>GEOMETRYCOLLECTION EMPTY</td>\n",
       "      <td>GEOMETRYCOLLECTION EMPTY</td>\n",
       "      <td>NaN</td>\n",
       "      <td>NaN</td>\n",
       "      <td>NaN</td>\n",
       "      <td>NaN</td>\n",
       "      <td>NaN</td>\n",
       "      <td>NaN</td>\n",
       "    </tr>\n",
       "    <tr>\n",
       "      <th>11</th>\n",
       "      <td>2014-09-07 00:12:00</td>\n",
       "      <td>1</td>\n",
       "      <td>1</td>\n",
       "      <td>4</td>\n",
       "      <td>-3.795402</td>\n",
       "      <td>-59.253189</td>\n",
       "      <td>161.0</td>\n",
       "      <td>84.0</td>\n",
       "      <td>41.0</td>\n",
       "      <td>37.308171</td>\n",
       "      <td>...</td>\n",
       "      <td>LINESTRING (-59.19920349121094 -3.759428739547...</td>\n",
       "      <td>LINESTRING (-59.19920349121094 -3.759428739547...</td>\n",
       "      <td>GEOMETRYCOLLECTION EMPTY</td>\n",
       "      <td>GEOMETRYCOLLECTION EMPTY</td>\n",
       "      <td>-34.0</td>\n",
       "      <td>-1.750565</td>\n",
       "      <td>-9.0</td>\n",
       "      <td>-2.209392</td>\n",
       "      <td>-3.0</td>\n",
       "      <td>-3.066082</td>\n",
       "    </tr>\n",
       "    <tr>\n",
       "      <th>Fam_10</th>\n",
       "      <th>20</th>\n",
       "      <td>2014-09-07 00:24:00</td>\n",
       "      <td>2</td>\n",
       "      <td>10</td>\n",
       "      <td>8</td>\n",
       "      <td>-3.668817</td>\n",
       "      <td>-58.515167</td>\n",
       "      <td>202.0</td>\n",
       "      <td>91.0</td>\n",
       "      <td>82.0</td>\n",
       "      <td>38.440909</td>\n",
       "      <td>...</td>\n",
       "      <td>LINESTRING (-58.40708923339844 -3.704577922821...</td>\n",
       "      <td>LINESTRING (-58.40708923339844 -3.704577922821...</td>\n",
       "      <td>GEOMETRYCOLLECTION EMPTY</td>\n",
       "      <td>GEOMETRYCOLLECTION EMPTY</td>\n",
       "      <td>NaN</td>\n",
       "      <td>NaN</td>\n",
       "      <td>NaN</td>\n",
       "      <td>NaN</td>\n",
       "      <td>NaN</td>\n",
       "      <td>NaN</td>\n",
       "    </tr>\n",
       "  </tbody>\n",
       "</table>\n",
       "<p>5 rows × 43 columns</p>\n",
       "</div>"
      ],
      "text/plain": [
       "                     timestamp  time  uid  id_t       lat        lon     p0  \\\n",
       "Fam_0  0   2014-09-07 00:00:00     0    0     2 -3.866008 -58.262753  216.0   \n",
       "       10  2014-09-07 00:12:00     1    0     3 -3.884098 -58.334747  212.0   \n",
       "Fam_1  1   2014-09-07 00:00:00     0    1     5 -3.759429 -59.199203  164.0   \n",
       "       11  2014-09-07 00:12:00     1    1     4 -3.795402 -59.253189  161.0   \n",
       "Fam_10 20  2014-09-07 00:24:00     2   10     8 -3.668817 -58.515167  202.0   \n",
       "\n",
       "             p1  size_20  mean_ref_20  ...  \\\n",
       "Fam_0  0   80.0     66.0    35.540233  ...   \n",
       "       10  79.0     34.0    26.850009  ...   \n",
       "Fam_1  1   86.0     75.0    39.058735  ...   \n",
       "       11  84.0     41.0    37.308171  ...   \n",
       "Fam_10 20  91.0     82.0    38.440909  ...   \n",
       "\n",
       "                                                  trajectory  \\\n",
       "Fam_0  0                            GEOMETRYCOLLECTION EMPTY   \n",
       "       10  LINESTRING (-58.26275253295898 -3.866008281707...   \n",
       "Fam_1  1                            GEOMETRYCOLLECTION EMPTY   \n",
       "       11  LINESTRING (-59.19920349121094 -3.759428739547...   \n",
       "Fam_10 20  LINESTRING (-58.40708923339844 -3.704577922821...   \n",
       "\n",
       "                                                   vector_20  \\\n",
       "Fam_0  0                            GEOMETRYCOLLECTION EMPTY   \n",
       "       10  LINESTRING (-58.26275253295898 -3.866008281707...   \n",
       "Fam_1  1                            GEOMETRYCOLLECTION EMPTY   \n",
       "       11  LINESTRING (-59.19920349121094 -3.759428739547...   \n",
       "Fam_10 20  LINESTRING (-58.40708923339844 -3.704577922821...   \n",
       "\n",
       "                          vector_35                 vector_40  dsize_20  \\\n",
       "Fam_0  0   GEOMETRYCOLLECTION EMPTY  GEOMETRYCOLLECTION EMPTY       NaN   \n",
       "       10  GEOMETRYCOLLECTION EMPTY  GEOMETRYCOLLECTION EMPTY     -32.0   \n",
       "Fam_1  1   GEOMETRYCOLLECTION EMPTY  GEOMETRYCOLLECTION EMPTY       NaN   \n",
       "       11  GEOMETRYCOLLECTION EMPTY  GEOMETRYCOLLECTION EMPTY     -34.0   \n",
       "Fam_10 20  GEOMETRYCOLLECTION EMPTY  GEOMETRYCOLLECTION EMPTY       NaN   \n",
       "\n",
       "           dmean_ref_20  dtotal_size_35  dmean_total_ref_35  dtotal_size_40  \\\n",
       "Fam_0  0            NaN             NaN                 NaN             NaN   \n",
       "       10     -8.690224             NaN                 NaN             NaN   \n",
       "Fam_1  1            NaN             NaN                 NaN             NaN   \n",
       "       11     -1.750565            -9.0           -2.209392            -3.0   \n",
       "Fam_10 20           NaN             NaN                 NaN             NaN   \n",
       "\n",
       "           dmean_total_ref_40  \n",
       "Fam_0  0                  NaN  \n",
       "       10                 NaN  \n",
       "Fam_1  1                  NaN  \n",
       "       11           -3.066082  \n",
       "Fam_10 20                 NaN  \n",
       "\n",
       "[5 rows x 43 columns]"
      ]
     },
     "execution_count": 3,
     "metadata": {},
     "output_type": "execute_result"
    }
   ],
   "source": [
    "track_frame.head()"
   ]
  },
  {
   "cell_type": "code",
   "execution_count": 4,
   "id": "58d615be",
   "metadata": {},
   "outputs": [
    {
     "data": {
      "text/html": [
       "<div>\n",
       "<style scoped>\n",
       "    .dataframe tbody tr th:only-of-type {\n",
       "        vertical-align: middle;\n",
       "    }\n",
       "\n",
       "    .dataframe tbody tr th {\n",
       "        vertical-align: top;\n",
       "    }\n",
       "\n",
       "    .dataframe thead th {\n",
       "        text-align: right;\n",
       "    }\n",
       "</style>\n",
       "<table border=\"1\" class=\"dataframe\">\n",
       "  <thead>\n",
       "    <tr style=\"text-align: right;\">\n",
       "      <th></th>\n",
       "      <th>uid</th>\n",
       "      <th>times</th>\n",
       "      <th>begin</th>\n",
       "      <th>end</th>\n",
       "      <th>duration</th>\n",
       "    </tr>\n",
       "  </thead>\n",
       "  <tbody>\n",
       "    <tr>\n",
       "      <th>56</th>\n",
       "      <td>182</td>\n",
       "      <td>51</td>\n",
       "      <td>2014-09-08 14:24:00</td>\n",
       "      <td>2014-09-09 00:24:00</td>\n",
       "      <td>0 days 10:00:00</td>\n",
       "    </tr>\n",
       "    <tr>\n",
       "      <th>288</th>\n",
       "      <td>68</td>\n",
       "      <td>31</td>\n",
       "      <td>2014-09-07 17:24:00</td>\n",
       "      <td>2014-09-07 23:24:00</td>\n",
       "      <td>0 days 06:00:00</td>\n",
       "    </tr>\n",
       "    <tr>\n",
       "      <th>23</th>\n",
       "      <td>13</td>\n",
       "      <td>30</td>\n",
       "      <td>2014-09-07 01:12:00</td>\n",
       "      <td>2014-09-07 07:00:00</td>\n",
       "      <td>0 days 05:48:00</td>\n",
       "    </tr>\n",
       "    <tr>\n",
       "      <th>244</th>\n",
       "      <td>414</td>\n",
       "      <td>28</td>\n",
       "      <td>2014-09-08 06:36:00</td>\n",
       "      <td>2014-09-08 12:00:00</td>\n",
       "      <td>0 days 05:24:00</td>\n",
       "    </tr>\n",
       "    <tr>\n",
       "      <th>57</th>\n",
       "      <td>183</td>\n",
       "      <td>27</td>\n",
       "      <td>2014-09-08 14:36:00</td>\n",
       "      <td>2014-09-08 19:48:00</td>\n",
       "      <td>0 days 05:12:00</td>\n",
       "    </tr>\n",
       "    <tr>\n",
       "      <th>...</th>\n",
       "      <td>...</td>\n",
       "      <td>...</td>\n",
       "      <td>...</td>\n",
       "      <td>...</td>\n",
       "      <td>...</td>\n",
       "    </tr>\n",
       "    <tr>\n",
       "      <th>197</th>\n",
       "      <td>367</td>\n",
       "      <td>2</td>\n",
       "      <td>2014-09-09 10:12:00</td>\n",
       "      <td>2014-09-09 10:24:00</td>\n",
       "      <td>0 days 00:12:00</td>\n",
       "    </tr>\n",
       "    <tr>\n",
       "      <th>198</th>\n",
       "      <td>368</td>\n",
       "      <td>2</td>\n",
       "      <td>2014-09-09 10:24:00</td>\n",
       "      <td>2014-09-09 10:36:00</td>\n",
       "      <td>0 days 00:12:00</td>\n",
       "    </tr>\n",
       "    <tr>\n",
       "      <th>199</th>\n",
       "      <td>369</td>\n",
       "      <td>2</td>\n",
       "      <td>2014-09-09 10:36:00</td>\n",
       "      <td>2014-09-09 10:48:00</td>\n",
       "      <td>0 days 00:12:00</td>\n",
       "    </tr>\n",
       "    <tr>\n",
       "      <th>201</th>\n",
       "      <td>370</td>\n",
       "      <td>2</td>\n",
       "      <td>2014-09-09 10:48:00</td>\n",
       "      <td>2014-09-09 11:00:00</td>\n",
       "      <td>0 days 00:12:00</td>\n",
       "    </tr>\n",
       "    <tr>\n",
       "      <th>309</th>\n",
       "      <td>98</td>\n",
       "      <td>2</td>\n",
       "      <td>2014-09-07 19:00:00</td>\n",
       "      <td>2014-09-07 19:12:00</td>\n",
       "      <td>0 days 00:12:00</td>\n",
       "    </tr>\n",
       "  </tbody>\n",
       "</table>\n",
       "<p>310 rows × 5 columns</p>\n",
       "</div>"
      ],
      "text/plain": [
       "     uid  times               begin                 end        duration\n",
       "56   182     51 2014-09-08 14:24:00 2014-09-09 00:24:00 0 days 10:00:00\n",
       "288   68     31 2014-09-07 17:24:00 2014-09-07 23:24:00 0 days 06:00:00\n",
       "23    13     30 2014-09-07 01:12:00 2014-09-07 07:00:00 0 days 05:48:00\n",
       "244  414     28 2014-09-08 06:36:00 2014-09-08 12:00:00 0 days 05:24:00\n",
       "57   183     27 2014-09-08 14:36:00 2014-09-08 19:48:00 0 days 05:12:00\n",
       "..   ...    ...                 ...                 ...             ...\n",
       "197  367      2 2014-09-09 10:12:00 2014-09-09 10:24:00 0 days 00:12:00\n",
       "198  368      2 2014-09-09 10:24:00 2014-09-09 10:36:00 0 days 00:12:00\n",
       "199  369      2 2014-09-09 10:36:00 2014-09-09 10:48:00 0 days 00:12:00\n",
       "201  370      2 2014-09-09 10:48:00 2014-09-09 11:00:00 0 days 00:12:00\n",
       "309   98      2 2014-09-07 19:00:00 2014-09-07 19:12:00 0 days 00:12:00\n",
       "\n",
       "[310 rows x 5 columns]"
      ]
     },
     "execution_count": 4,
     "metadata": {},
     "output_type": "execute_result"
    }
   ],
   "source": [
    "## This function returns the duration of events\n",
    "lifes = sta.life_cicle(track_frame,sort=True)\n",
    "lifes"
   ]
  },
  {
   "cell_type": "code",
   "execution_count": 5,
   "id": "85abc317",
   "metadata": {},
   "outputs": [],
   "source": [
    "### Filter by time\n",
    "TIME_MIN = 0\n",
    "TIME_MAX = 15\n",
    "UNIT = 'h'"
   ]
  },
  {
   "cell_type": "code",
   "execution_count": 6,
   "id": "e84afb17",
   "metadata": {},
   "outputs": [],
   "source": [
    "## Apply filter by time\n",
    "df_filter1 = sta.time_filter(track_frame,TIME_MIN,TIME_MAX,UNIT)"
   ]
  },
  {
   "cell_type": "code",
   "execution_count": 7,
   "id": "2061e982",
   "metadata": {},
   "outputs": [
    {
     "data": {
      "text/html": [
       "<div>\n",
       "<style scoped>\n",
       "    .dataframe tbody tr th:only-of-type {\n",
       "        vertical-align: middle;\n",
       "    }\n",
       "\n",
       "    .dataframe tbody tr th {\n",
       "        vertical-align: top;\n",
       "    }\n",
       "\n",
       "    .dataframe thead th {\n",
       "        text-align: right;\n",
       "    }\n",
       "</style>\n",
       "<table border=\"1\" class=\"dataframe\">\n",
       "  <thead>\n",
       "    <tr style=\"text-align: right;\">\n",
       "      <th></th>\n",
       "      <th>uid</th>\n",
       "      <th>times</th>\n",
       "      <th>begin</th>\n",
       "      <th>end</th>\n",
       "      <th>duration</th>\n",
       "    </tr>\n",
       "  </thead>\n",
       "  <tbody>\n",
       "    <tr>\n",
       "      <th>56</th>\n",
       "      <td>182</td>\n",
       "      <td>51</td>\n",
       "      <td>2014-09-08 14:24:00</td>\n",
       "      <td>2014-09-09 00:24:00</td>\n",
       "      <td>0 days 10:00:00</td>\n",
       "    </tr>\n",
       "    <tr>\n",
       "      <th>287</th>\n",
       "      <td>68</td>\n",
       "      <td>31</td>\n",
       "      <td>2014-09-07 17:24:00</td>\n",
       "      <td>2014-09-07 23:24:00</td>\n",
       "      <td>0 days 06:00:00</td>\n",
       "    </tr>\n",
       "    <tr>\n",
       "      <th>23</th>\n",
       "      <td>13</td>\n",
       "      <td>30</td>\n",
       "      <td>2014-09-07 01:12:00</td>\n",
       "      <td>2014-09-07 07:00:00</td>\n",
       "      <td>0 days 05:48:00</td>\n",
       "    </tr>\n",
       "    <tr>\n",
       "      <th>243</th>\n",
       "      <td>414</td>\n",
       "      <td>28</td>\n",
       "      <td>2014-09-08 06:36:00</td>\n",
       "      <td>2014-09-08 12:00:00</td>\n",
       "      <td>0 days 05:24:00</td>\n",
       "    </tr>\n",
       "    <tr>\n",
       "      <th>72</th>\n",
       "      <td>205</td>\n",
       "      <td>27</td>\n",
       "      <td>2014-09-08 16:00:00</td>\n",
       "      <td>2014-09-08 21:12:00</td>\n",
       "      <td>0 days 05:12:00</td>\n",
       "    </tr>\n",
       "    <tr>\n",
       "      <th>...</th>\n",
       "      <td>...</td>\n",
       "      <td>...</td>\n",
       "      <td>...</td>\n",
       "      <td>...</td>\n",
       "      <td>...</td>\n",
       "    </tr>\n",
       "    <tr>\n",
       "      <th>196</th>\n",
       "      <td>367</td>\n",
       "      <td>2</td>\n",
       "      <td>2014-09-09 10:12:00</td>\n",
       "      <td>2014-09-09 10:24:00</td>\n",
       "      <td>0 days 00:12:00</td>\n",
       "    </tr>\n",
       "    <tr>\n",
       "      <th>197</th>\n",
       "      <td>368</td>\n",
       "      <td>2</td>\n",
       "      <td>2014-09-09 10:24:00</td>\n",
       "      <td>2014-09-09 10:36:00</td>\n",
       "      <td>0 days 00:12:00</td>\n",
       "    </tr>\n",
       "    <tr>\n",
       "      <th>198</th>\n",
       "      <td>369</td>\n",
       "      <td>2</td>\n",
       "      <td>2014-09-09 10:36:00</td>\n",
       "      <td>2014-09-09 10:48:00</td>\n",
       "      <td>0 days 00:12:00</td>\n",
       "    </tr>\n",
       "    <tr>\n",
       "      <th>200</th>\n",
       "      <td>370</td>\n",
       "      <td>2</td>\n",
       "      <td>2014-09-09 10:48:00</td>\n",
       "      <td>2014-09-09 11:00:00</td>\n",
       "      <td>0 days 00:12:00</td>\n",
       "    </tr>\n",
       "    <tr>\n",
       "      <th>308</th>\n",
       "      <td>98</td>\n",
       "      <td>2</td>\n",
       "      <td>2014-09-07 19:00:00</td>\n",
       "      <td>2014-09-07 19:12:00</td>\n",
       "      <td>0 days 00:12:00</td>\n",
       "    </tr>\n",
       "  </tbody>\n",
       "</table>\n",
       "<p>309 rows × 5 columns</p>\n",
       "</div>"
      ],
      "text/plain": [
       "     uid  times               begin                 end        duration\n",
       "56   182     51 2014-09-08 14:24:00 2014-09-09 00:24:00 0 days 10:00:00\n",
       "287   68     31 2014-09-07 17:24:00 2014-09-07 23:24:00 0 days 06:00:00\n",
       "23    13     30 2014-09-07 01:12:00 2014-09-07 07:00:00 0 days 05:48:00\n",
       "243  414     28 2014-09-08 06:36:00 2014-09-08 12:00:00 0 days 05:24:00\n",
       "72   205     27 2014-09-08 16:00:00 2014-09-08 21:12:00 0 days 05:12:00\n",
       "..   ...    ...                 ...                 ...             ...\n",
       "196  367      2 2014-09-09 10:12:00 2014-09-09 10:24:00 0 days 00:12:00\n",
       "197  368      2 2014-09-09 10:24:00 2014-09-09 10:36:00 0 days 00:12:00\n",
       "198  369      2 2014-09-09 10:36:00 2014-09-09 10:48:00 0 days 00:12:00\n",
       "200  370      2 2014-09-09 10:48:00 2014-09-09 11:00:00 0 days 00:12:00\n",
       "308   98      2 2014-09-07 19:00:00 2014-09-07 19:12:00 0 days 00:12:00\n",
       "\n",
       "[309 rows x 5 columns]"
      ]
     },
     "execution_count": 7,
     "metadata": {},
     "output_type": "execute_result"
    }
   ],
   "source": [
    "sta.life_cicle(df_filter1,sort=True)"
   ]
  },
  {
   "cell_type": "code",
   "execution_count": 8,
   "id": "1b919cbf",
   "metadata": {},
   "outputs": [],
   "source": [
    "## PLOT CONFIG\n",
    "VAR = \"DBZc\"\n",
    "LEVEL = 5"
   ]
  },
  {
   "cell_type": "code",
   "execution_count": 61,
   "id": "7c9ed748",
   "metadata": {},
   "outputs": [
    {
     "data": {
      "application/vnd.plotly.v1+json": {
       "config": {
        "plotlyServerURL": "https://plot.ly"
       },
       "data": [
        {
         "customdata": [
          [
           "2014-09-07 02:00:00",
           13,
           "CONT",
           "0 days 00:48:00",
           42.38,
           195.54,
           50.23,
           38.63,
           44.2,
           45.74,
           -0.63,
           1.2,
           1.42,
           704.95,
           172.25,
           112.16,
           172,
           43,
           28,
           39,
           -10,
           -7
          ]
         ],
         "hoverlabel": {
          "bgcolor": "white",
          "font": {
           "family": "Rockwell",
           "size": 14
          }
         },
         "hovertemplate": "<b>DATE: %{customdata[0]} </b><br><b>UID:</b> %{customdata[1]}        <b>STATUS:</b> %{customdata[2]}<br><b>LIFE: </b>: %{customdata[3]}<br><br><b>VELOCITY: </b>       %{customdata[4]} km/h<br><b>DIRECTION: </b>     %{customdata[5]} º<br><br><b>MAX_REF</b>:          %{customdata[6]} dBZ<br><b>MEAN_REF_20</b>: %{customdata[7]} dBZ<br><b>MEAN_REF_35</b>: %{customdata[8]} dBZ<br><b>MEAN_REF_40</b>: %{customdata[9]} dBZ<br><br><b>DMEAN_REF_20</b>: %{customdata[10]} dBZ<br><b>DMEAN_REF_35</b>: %{customdata[11]} dBZ<br><b>DMEAN_REF_40</b>: %{customdata[12]} dBZ<br><br><b>AREA_20</b>:          %{customdata[13]} km²<br><b>AREA_35</b>:          %{customdata[14]} km²<br><b>AREA_40</b>:          %{customdata[15]} km²<br><br><b>SIZE_20</b>:          %{customdata[16]} pixels<br><b>SIZE_35</b>:          %{customdata[17]} pixels<br><b>SIZE_40</b>:          %{customdata[18]} pixels<br><br><b>DSIZE_20</b>:          %{customdata[19]} pixels<br><b>DSIZE_35</b>:          %{customdata[20]} pixels<br><b>DSIZE_40</b>:          %{customdata[21]} pixels<br><br>LON: %{lon}   LAT: %{lat}<br><extra></extra>",
         "lat": [
          -2.1427719593048096
         ],
         "lon": [
          -59.84758377075195
         ],
         "marker": {
          "cmax": 75,
          "cmin": -30,
          "color": "black",
          "colorbar": {
           "thickness": 20,
           "thicknessmode": "pixels",
           "tickcolor": "orange",
           "tickfont": {
            "color": "black",
            "size": 14
           },
           "ticklen": 3,
           "title": {
            "side": "right",
            "text": "DBZc"
           }
          },
          "colorscale": [
           [
            0,
            "#0034f8"
           ],
           [
            0.00392156862745098,
            "#0037f6"
           ],
           [
            0.00784313725490196,
            "#003af3"
           ],
           [
            0.011764705882352941,
            "#003df0"
           ],
           [
            0.01568627450980392,
            "#003fed"
           ],
           [
            0.0196078431372549,
            "#0041ea"
           ],
           [
            0.023529411764705882,
            "#0044e7"
           ],
           [
            0.027450980392156862,
            "#0046e4"
           ],
           [
            0.03137254901960784,
            "#0048e1"
           ],
           [
            0.03529411764705882,
            "#004ade"
           ],
           [
            0.0392156862745098,
            "#004cdb"
           ],
           [
            0.043137254901960784,
            "#004fd8"
           ],
           [
            0.047058823529411764,
            "#0051d5"
           ],
           [
            0.050980392156862744,
            "#0053d2"
           ],
           [
            0.054901960784313725,
            "#0054d0"
           ],
           [
            0.058823529411764705,
            "#0056cd"
           ],
           [
            0.06274509803921569,
            "#0058ca"
           ],
           [
            0.06666666666666667,
            "#005ac7"
           ],
           [
            0.07058823529411765,
            "#005cc4"
           ],
           [
            0.07450980392156863,
            "#005ec1"
           ],
           [
            0.0784313725490196,
            "#0060be"
           ],
           [
            0.08235294117647059,
            "#0061bb"
           ],
           [
            0.08627450980392157,
            "#0063b8"
           ],
           [
            0.09019607843137255,
            "#0065b6"
           ],
           [
            0.09411764705882353,
            "#0066b3"
           ],
           [
            0.09803921568627451,
            "#0068b0"
           ],
           [
            0.10196078431372549,
            "#006aad"
           ],
           [
            0.10588235294117647,
            "#006baa"
           ],
           [
            0.10980392156862745,
            "#006da7"
           ],
           [
            0.11372549019607843,
            "#006ea5"
           ],
           [
            0.11764705882352941,
            "#006fa2"
           ],
           [
            0.12156862745098039,
            "#00719f"
           ],
           [
            0.12549019607843137,
            "#00729d"
           ],
           [
            0.12941176470588237,
            "#00739a"
           ],
           [
            0.13333333333333333,
            "#007598"
           ],
           [
            0.13725490196078433,
            "#007695"
           ],
           [
            0.1411764705882353,
            "#077793"
           ],
           [
            0.1450980392156863,
            "#0d7890"
           ],
           [
            0.14901960784313725,
            "#13798e"
           ],
           [
            0.15294117647058825,
            "#187a8b"
           ],
           [
            0.1568627450980392,
            "#1c7b89"
           ],
           [
            0.1607843137254902,
            "#1f7c87"
           ],
           [
            0.16470588235294117,
            "#237d84"
           ],
           [
            0.16862745098039217,
            "#267e82"
           ],
           [
            0.17254901960784313,
            "#287f7f"
           ],
           [
            0.17647058823529413,
            "#2b807d"
           ],
           [
            0.1803921568627451,
            "#2d817b"
           ],
           [
            0.1843137254901961,
            "#2f8278"
           ],
           [
            0.18823529411764706,
            "#318376"
           ],
           [
            0.19215686274509805,
            "#328473"
           ],
           [
            0.19607843137254902,
            "#348571"
           ],
           [
            0.2,
            "#35866f"
           ],
           [
            0.20392156862745098,
            "#36876c"
           ],
           [
            0.20784313725490197,
            "#37886a"
           ],
           [
            0.21176470588235294,
            "#388967"
           ],
           [
            0.21568627450980393,
            "#398a65"
           ],
           [
            0.2196078431372549,
            "#3a8b62"
           ],
           [
            0.2235294117647059,
            "#3b8c60"
           ],
           [
            0.22745098039215686,
            "#3c8e5d"
           ],
           [
            0.23137254901960785,
            "#3c8f5b"
           ],
           [
            0.23529411764705882,
            "#3d9058"
           ],
           [
            0.23921568627450981,
            "#3d9155"
           ],
           [
            0.24313725490196078,
            "#3e9253"
           ],
           [
            0.24705882352941178,
            "#3e9350"
           ],
           [
            0.25098039215686274,
            "#3e944d"
           ],
           [
            0.2549019607843137,
            "#3e954a"
           ],
           [
            0.25882352941176473,
            "#3e9647"
           ],
           [
            0.2627450980392157,
            "#3f9745"
           ],
           [
            0.26666666666666666,
            "#3f9842"
           ],
           [
            0.27058823529411763,
            "#3e993e"
           ],
           [
            0.27450980392156865,
            "#3e9a3b"
           ],
           [
            0.2784313725490196,
            "#3e9b38"
           ],
           [
            0.2823529411764706,
            "#3e9c35"
           ],
           [
            0.28627450980392155,
            "#3e9d32"
           ],
           [
            0.2901960784313726,
            "#3e9e2e"
           ],
           [
            0.29411764705882354,
            "#3e9f2b"
           ],
           [
            0.2980392156862745,
            "#3fa027"
           ],
           [
            0.30196078431372547,
            "#3fa124"
           ],
           [
            0.3058823529411765,
            "#40a221"
           ],
           [
            0.30980392156862746,
            "#41a31d"
           ],
           [
            0.3137254901960784,
            "#42a41a"
           ],
           [
            0.3176470588235294,
            "#44a517"
           ],
           [
            0.3215686274509804,
            "#45a615"
           ],
           [
            0.3254901960784314,
            "#47a713"
           ],
           [
            0.32941176470588235,
            "#4aa711"
           ],
           [
            0.3333333333333333,
            "#4ca80f"
           ],
           [
            0.33725490196078434,
            "#4fa90e"
           ],
           [
            0.3411764705882353,
            "#51a90d"
           ],
           [
            0.34509803921568627,
            "#54aa0d"
           ],
           [
            0.34901960784313724,
            "#57ab0d"
           ],
           [
            0.35294117647058826,
            "#5aab0d"
           ],
           [
            0.3568627450980392,
            "#5dac0d"
           ],
           [
            0.3607843137254902,
            "#5fad0d"
           ],
           [
            0.36470588235294116,
            "#62ad0e"
           ],
           [
            0.3686274509803922,
            "#65ae0e"
           ],
           [
            0.37254901960784315,
            "#67ae0e"
           ],
           [
            0.3764705882352941,
            "#6aaf0f"
           ],
           [
            0.3803921568627451,
            "#6db00f"
           ],
           [
            0.3843137254901961,
            "#6fb00f"
           ],
           [
            0.38823529411764707,
            "#72b110"
           ],
           [
            0.39215686274509803,
            "#74b110"
           ],
           [
            0.396078431372549,
            "#77b211"
           ],
           [
            0.4,
            "#79b211"
           ],
           [
            0.403921568627451,
            "#7cb311"
           ],
           [
            0.40784313725490196,
            "#7eb412"
           ],
           [
            0.4117647058823529,
            "#80b412"
           ],
           [
            0.41568627450980394,
            "#83b512"
           ],
           [
            0.4196078431372549,
            "#85b513"
           ],
           [
            0.4235294117647059,
            "#88b613"
           ],
           [
            0.42745098039215684,
            "#8ab613"
           ],
           [
            0.43137254901960786,
            "#8cb714"
           ],
           [
            0.43529411764705883,
            "#8fb814"
           ],
           [
            0.4392156862745098,
            "#91b815"
           ],
           [
            0.44313725490196076,
            "#93b915"
           ],
           [
            0.4470588235294118,
            "#95b915"
           ],
           [
            0.45098039215686275,
            "#98ba16"
           ],
           [
            0.4549019607843137,
            "#9aba16"
           ],
           [
            0.4588235294117647,
            "#9cbb16"
           ],
           [
            0.4627450980392157,
            "#9fbb17"
           ],
           [
            0.4666666666666667,
            "#a1bc17"
           ],
           [
            0.47058823529411764,
            "#a3bc18"
           ],
           [
            0.4745098039215686,
            "#a5bd18"
           ],
           [
            0.47843137254901963,
            "#a7be18"
           ],
           [
            0.4823529411764706,
            "#aabe19"
           ],
           [
            0.48627450980392156,
            "#acbf19"
           ],
           [
            0.49019607843137253,
            "#aebf19"
           ],
           [
            0.49411764705882355,
            "#b0c01a"
           ],
           [
            0.4980392156862745,
            "#b2c01a"
           ],
           [
            0.5019607843137255,
            "#b5c11b"
           ],
           [
            0.5058823529411764,
            "#b7c11b"
           ],
           [
            0.5098039215686274,
            "#b9c21b"
           ],
           [
            0.5137254901960784,
            "#bbc21c"
           ],
           [
            0.5176470588235295,
            "#bdc31c"
           ],
           [
            0.5215686274509804,
            "#c0c31c"
           ],
           [
            0.5254901960784314,
            "#c2c41d"
           ],
           [
            0.5294117647058824,
            "#c4c41d"
           ],
           [
            0.5333333333333333,
            "#c6c51d"
           ],
           [
            0.5372549019607843,
            "#c8c51e"
           ],
           [
            0.5411764705882353,
            "#cac61e"
           ],
           [
            0.5450980392156862,
            "#cdc61f"
           ],
           [
            0.5490196078431373,
            "#cfc71f"
           ],
           [
            0.5529411764705883,
            "#d1c71f"
           ],
           [
            0.5568627450980392,
            "#d3c820"
           ],
           [
            0.5607843137254902,
            "#d5c820"
           ],
           [
            0.5647058823529412,
            "#d7c920"
           ],
           [
            0.5686274509803921,
            "#d9c921"
           ],
           [
            0.5725490196078431,
            "#dcca21"
           ],
           [
            0.5764705882352941,
            "#deca22"
           ],
           [
            0.5803921568627451,
            "#e0ca22"
           ],
           [
            0.5843137254901961,
            "#e2cb22"
           ],
           [
            0.5882352941176471,
            "#e4cb23"
           ],
           [
            0.592156862745098,
            "#e6cc23"
           ],
           [
            0.596078431372549,
            "#e8cc23"
           ],
           [
            0.6,
            "#eacc24"
           ],
           [
            0.6039215686274509,
            "#eccd24"
           ],
           [
            0.6078431372549019,
            "#eecd24"
           ],
           [
            0.611764705882353,
            "#f0cd24"
           ],
           [
            0.615686274509804,
            "#f2cd24"
           ],
           [
            0.6196078431372549,
            "#f3cd24"
           ],
           [
            0.6235294117647059,
            "#f5cc24"
           ],
           [
            0.6274509803921569,
            "#f6cc24"
           ],
           [
            0.6313725490196078,
            "#f8cb24"
           ],
           [
            0.6352941176470588,
            "#f9ca24"
           ],
           [
            0.6392156862745098,
            "#f9c923"
           ],
           [
            0.6431372549019608,
            "#fac823"
           ],
           [
            0.6470588235294118,
            "#fbc722"
           ],
           [
            0.6509803921568628,
            "#fbc622"
           ],
           [
            0.6549019607843137,
            "#fcc521"
           ],
           [
            0.6588235294117647,
            "#fcc421"
           ],
           [
            0.6627450980392157,
            "#fcc220"
           ],
           [
            0.6666666666666666,
            "#fdc120"
           ],
           [
            0.6705882352941176,
            "#fdc01f"
           ],
           [
            0.6745098039215687,
            "#fdbe1f"
           ],
           [
            0.6784313725490196,
            "#fdbd1e"
           ],
           [
            0.6823529411764706,
            "#febb1d"
           ],
           [
            0.6862745098039216,
            "#feba1d"
           ],
           [
            0.6901960784313725,
            "#feb91c"
           ],
           [
            0.6941176470588235,
            "#feb71b"
           ],
           [
            0.6980392156862745,
            "#feb61b"
           ],
           [
            0.7019607843137254,
            "#feb51a"
           ],
           [
            0.7058823529411765,
            "#ffb31a"
           ],
           [
            0.7098039215686275,
            "#ffb219"
           ],
           [
            0.7137254901960784,
            "#ffb018"
           ],
           [
            0.7176470588235294,
            "#ffaf18"
           ],
           [
            0.7215686274509804,
            "#ffae17"
           ],
           [
            0.7254901960784313,
            "#ffac16"
           ],
           [
            0.7294117647058823,
            "#ffab16"
           ],
           [
            0.7333333333333333,
            "#ffa915"
           ],
           [
            0.7372549019607844,
            "#ffa815"
           ],
           [
            0.7411764705882353,
            "#ffa714"
           ],
           [
            0.7450980392156863,
            "#ffa513"
           ],
           [
            0.7490196078431373,
            "#ffa413"
           ],
           [
            0.7529411764705882,
            "#ffa212"
           ],
           [
            0.7568627450980392,
            "#ffa111"
           ],
           [
            0.7607843137254902,
            "#ff9f10"
           ],
           [
            0.7647058823529411,
            "#ff9e10"
           ],
           [
            0.7686274509803922,
            "#ff9c0f"
           ],
           [
            0.7725490196078432,
            "#ff9b0e"
           ],
           [
            0.7764705882352941,
            "#ff9a0e"
           ],
           [
            0.7803921568627451,
            "#ff980d"
           ],
           [
            0.7843137254901961,
            "#ff970c"
           ],
           [
            0.788235294117647,
            "#ff950b"
           ],
           [
            0.792156862745098,
            "#ff940b"
           ],
           [
            0.796078431372549,
            "#ff920a"
           ],
           [
            0.8,
            "#ff9109"
           ],
           [
            0.803921568627451,
            "#ff8f08"
           ],
           [
            0.807843137254902,
            "#ff8e08"
           ],
           [
            0.8117647058823529,
            "#ff8c07"
           ],
           [
            0.8156862745098039,
            "#ff8b06"
           ],
           [
            0.8196078431372549,
            "#ff8905"
           ],
           [
            0.8235294117647058,
            "#ff8805"
           ],
           [
            0.8274509803921568,
            "#ff8604"
           ],
           [
            0.8313725490196079,
            "#ff8404"
           ],
           [
            0.8352941176470589,
            "#ff8303"
           ],
           [
            0.8392156862745098,
            "#ff8102"
           ],
           [
            0.8431372549019608,
            "#ff8002"
           ],
           [
            0.8470588235294118,
            "#ff7e01"
           ],
           [
            0.8509803921568627,
            "#ff7c01"
           ],
           [
            0.8549019607843137,
            "#ff7b00"
           ],
           [
            0.8588235294117647,
            "#ff7900"
           ],
           [
            0.8627450980392157,
            "#ff7800"
           ],
           [
            0.8666666666666667,
            "#ff7600"
           ],
           [
            0.8705882352941177,
            "#ff7400"
           ],
           [
            0.8745098039215686,
            "#ff7200"
           ],
           [
            0.8784313725490196,
            "#ff7100"
           ],
           [
            0.8823529411764706,
            "#ff6f00"
           ],
           [
            0.8862745098039215,
            "#ff6d00"
           ],
           [
            0.8901960784313725,
            "#ff6c00"
           ],
           [
            0.8941176470588236,
            "#ff6a00"
           ],
           [
            0.8980392156862745,
            "#ff6800"
           ],
           [
            0.9019607843137255,
            "#ff6600"
           ],
           [
            0.9058823529411765,
            "#ff6400"
           ],
           [
            0.9098039215686274,
            "#ff6200"
           ],
           [
            0.9137254901960784,
            "#ff6100"
           ],
           [
            0.9176470588235294,
            "#ff5f00"
           ],
           [
            0.9215686274509803,
            "#ff5d00"
           ],
           [
            0.9254901960784314,
            "#ff5b00"
           ],
           [
            0.9294117647058824,
            "#ff5900"
           ],
           [
            0.9333333333333333,
            "#ff5700"
           ],
           [
            0.9372549019607843,
            "#ff5500"
           ],
           [
            0.9411764705882353,
            "#ff5300"
           ],
           [
            0.9450980392156862,
            "#ff5000"
           ],
           [
            0.9490196078431372,
            "#ff4e00"
           ],
           [
            0.9529411764705882,
            "#ff4c00"
           ],
           [
            0.9568627450980393,
            "#ff4a00"
           ],
           [
            0.9607843137254902,
            "#ff4700"
           ],
           [
            0.9647058823529412,
            "#ff4500"
           ],
           [
            0.9686274509803922,
            "#ff4200"
           ],
           [
            0.9725490196078431,
            "#ff4000"
           ],
           [
            0.9764705882352941,
            "#ff3d00"
           ],
           [
            0.9803921568627451,
            "#ff3a00"
           ],
           [
            0.984313725490196,
            "#ff3700"
           ],
           [
            0.9882352941176471,
            "#ff3400"
           ],
           [
            0.9921568627450981,
            "#ff3100"
           ],
           [
            0.996078431372549,
            "#ff2d00"
           ],
           [
            1,
            "#ff2a00"
           ]
          ],
          "showscale": true,
          "size": 5
         },
         "mode": "markers",
         "type": "scattermapbox"
        }
       ],
       "layout": {
        "height": 600,
        "mapbox": {
         "accesstoken": "pk.eyJ1Ijoic3BsaW50ZXJzdG0iLCJhIjoiY2tydWxjMzdlMTRxYTJwcGZlYmc0aWJyYSJ9.3-nO2w18a1fbjmAXrH7kEA",
         "center": {
          "lat": -3.1481435298919678,
          "lon": -59.99140930175781
         },
         "layers": [
          {
           "below": "traces",
           "coordinates": [
            [
             -62.14714189584819,
             -5.295901131951463
            ],
            [
             -57.83567670766743,
             -5.295901131951463
            ],
            [
             -57.83567670766743,
             -1.0001668807629231
            ],
            [
             -62.14714189584819,
             -1.0001668807629231
            ]
           ],
           "source": "data:image/png;base64,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",
           "sourcetype": "image"
          }
         ],
         "style": "light",
         "zoom": 6
        },
        "margin": {
         "b": 0,
         "l": 100,
         "pad": 0,
         "r": 0,
         "t": 40
        },
        "template": {
         "data": {
          "bar": [
           {
            "error_x": {
             "color": "#2a3f5f"
            },
            "error_y": {
             "color": "#2a3f5f"
            },
            "marker": {
             "line": {
              "color": "#E5ECF6",
              "width": 0.5
             },
             "pattern": {
              "fillmode": "overlay",
              "size": 10,
              "solidity": 0.2
             }
            },
            "type": "bar"
           }
          ],
          "barpolar": [
           {
            "marker": {
             "line": {
              "color": "#E5ECF6",
              "width": 0.5
             },
             "pattern": {
              "fillmode": "overlay",
              "size": 10,
              "solidity": 0.2
             }
            },
            "type": "barpolar"
           }
          ],
          "carpet": [
           {
            "aaxis": {
             "endlinecolor": "#2a3f5f",
             "gridcolor": "white",
             "linecolor": "white",
             "minorgridcolor": "white",
             "startlinecolor": "#2a3f5f"
            },
            "baxis": {
             "endlinecolor": "#2a3f5f",
             "gridcolor": "white",
             "linecolor": "white",
             "minorgridcolor": "white",
             "startlinecolor": "#2a3f5f"
            },
            "type": "carpet"
           }
          ],
          "choropleth": [
           {
            "colorbar": {
             "outlinewidth": 0,
             "ticks": ""
            },
            "type": "choropleth"
           }
          ],
          "contour": [
           {
            "colorbar": {
             "outlinewidth": 0,
             "ticks": ""
            },
            "colorscale": [
             [
              0,
              "#0d0887"
             ],
             [
              0.1111111111111111,
              "#46039f"
             ],
             [
              0.2222222222222222,
              "#7201a8"
             ],
             [
              0.3333333333333333,
              "#9c179e"
             ],
             [
              0.4444444444444444,
              "#bd3786"
             ],
             [
              0.5555555555555556,
              "#d8576b"
             ],
             [
              0.6666666666666666,
              "#ed7953"
             ],
             [
              0.7777777777777778,
              "#fb9f3a"
             ],
             [
              0.8888888888888888,
              "#fdca26"
             ],
             [
              1,
              "#f0f921"
             ]
            ],
            "type": "contour"
           }
          ],
          "contourcarpet": [
           {
            "colorbar": {
             "outlinewidth": 0,
             "ticks": ""
            },
            "type": "contourcarpet"
           }
          ],
          "heatmap": [
           {
            "colorbar": {
             "outlinewidth": 0,
             "ticks": ""
            },
            "colorscale": [
             [
              0,
              "#0d0887"
             ],
             [
              0.1111111111111111,
              "#46039f"
             ],
             [
              0.2222222222222222,
              "#7201a8"
             ],
             [
              0.3333333333333333,
              "#9c179e"
             ],
             [
              0.4444444444444444,
              "#bd3786"
             ],
             [
              0.5555555555555556,
              "#d8576b"
             ],
             [
              0.6666666666666666,
              "#ed7953"
             ],
             [
              0.7777777777777778,
              "#fb9f3a"
             ],
             [
              0.8888888888888888,
              "#fdca26"
             ],
             [
              1,
              "#f0f921"
             ]
            ],
            "type": "heatmap"
           }
          ],
          "heatmapgl": [
           {
            "colorbar": {
             "outlinewidth": 0,
             "ticks": ""
            },
            "colorscale": [
             [
              0,
              "#0d0887"
             ],
             [
              0.1111111111111111,
              "#46039f"
             ],
             [
              0.2222222222222222,
              "#7201a8"
             ],
             [
              0.3333333333333333,
              "#9c179e"
             ],
             [
              0.4444444444444444,
              "#bd3786"
             ],
             [
              0.5555555555555556,
              "#d8576b"
             ],
             [
              0.6666666666666666,
              "#ed7953"
             ],
             [
              0.7777777777777778,
              "#fb9f3a"
             ],
             [
              0.8888888888888888,
              "#fdca26"
             ],
             [
              1,
              "#f0f921"
             ]
            ],
            "type": "heatmapgl"
           }
          ],
          "histogram": [
           {
            "marker": {
             "pattern": {
              "fillmode": "overlay",
              "size": 10,
              "solidity": 0.2
             }
            },
            "type": "histogram"
           }
          ],
          "histogram2d": [
           {
            "colorbar": {
             "outlinewidth": 0,
             "ticks": ""
            },
            "colorscale": [
             [
              0,
              "#0d0887"
             ],
             [
              0.1111111111111111,
              "#46039f"
             ],
             [
              0.2222222222222222,
              "#7201a8"
             ],
             [
              0.3333333333333333,
              "#9c179e"
             ],
             [
              0.4444444444444444,
              "#bd3786"
             ],
             [
              0.5555555555555556,
              "#d8576b"
             ],
             [
              0.6666666666666666,
              "#ed7953"
             ],
             [
              0.7777777777777778,
              "#fb9f3a"
             ],
             [
              0.8888888888888888,
              "#fdca26"
             ],
             [
              1,
              "#f0f921"
             ]
            ],
            "type": "histogram2d"
           }
          ],
          "histogram2dcontour": [
           {
            "colorbar": {
             "outlinewidth": 0,
             "ticks": ""
            },
            "colorscale": [
             [
              0,
              "#0d0887"
             ],
             [
              0.1111111111111111,
              "#46039f"
             ],
             [
              0.2222222222222222,
              "#7201a8"
             ],
             [
              0.3333333333333333,
              "#9c179e"
             ],
             [
              0.4444444444444444,
              "#bd3786"
             ],
             [
              0.5555555555555556,
              "#d8576b"
             ],
             [
              0.6666666666666666,
              "#ed7953"
             ],
             [
              0.7777777777777778,
              "#fb9f3a"
             ],
             [
              0.8888888888888888,
              "#fdca26"
             ],
             [
              1,
              "#f0f921"
             ]
            ],
            "type": "histogram2dcontour"
           }
          ],
          "mesh3d": [
           {
            "colorbar": {
             "outlinewidth": 0,
             "ticks": ""
            },
            "type": "mesh3d"
           }
          ],
          "parcoords": [
           {
            "line": {
             "colorbar": {
              "outlinewidth": 0,
              "ticks": ""
             }
            },
            "type": "parcoords"
           }
          ],
          "pie": [
           {
            "automargin": true,
            "type": "pie"
           }
          ],
          "scatter": [
           {
            "marker": {
             "colorbar": {
              "outlinewidth": 0,
              "ticks": ""
             }
            },
            "type": "scatter"
           }
          ],
          "scatter3d": [
           {
            "line": {
             "colorbar": {
              "outlinewidth": 0,
              "ticks": ""
             }
            },
            "marker": {
             "colorbar": {
              "outlinewidth": 0,
              "ticks": ""
             }
            },
            "type": "scatter3d"
           }
          ],
          "scattercarpet": [
           {
            "marker": {
             "colorbar": {
              "outlinewidth": 0,
              "ticks": ""
             }
            },
            "type": "scattercarpet"
           }
          ],
          "scattergeo": [
           {
            "marker": {
             "colorbar": {
              "outlinewidth": 0,
              "ticks": ""
             }
            },
            "type": "scattergeo"
           }
          ],
          "scattergl": [
           {
            "marker": {
             "colorbar": {
              "outlinewidth": 0,
              "ticks": ""
             }
            },
            "type": "scattergl"
           }
          ],
          "scattermapbox": [
           {
            "marker": {
             "colorbar": {
              "outlinewidth": 0,
              "ticks": ""
             }
            },
            "type": "scattermapbox"
           }
          ],
          "scatterpolar": [
           {
            "marker": {
             "colorbar": {
              "outlinewidth": 0,
              "ticks": ""
             }
            },
            "type": "scatterpolar"
           }
          ],
          "scatterpolargl": [
           {
            "marker": {
             "colorbar": {
              "outlinewidth": 0,
              "ticks": ""
             }
            },
            "type": "scatterpolargl"
           }
          ],
          "scatterternary": [
           {
            "marker": {
             "colorbar": {
              "outlinewidth": 0,
              "ticks": ""
             }
            },
            "type": "scatterternary"
           }
          ],
          "surface": [
           {
            "colorbar": {
             "outlinewidth": 0,
             "ticks": ""
            },
            "colorscale": [
             [
              0,
              "#0d0887"
             ],
             [
              0.1111111111111111,
              "#46039f"
             ],
             [
              0.2222222222222222,
              "#7201a8"
             ],
             [
              0.3333333333333333,
              "#9c179e"
             ],
             [
              0.4444444444444444,
              "#bd3786"
             ],
             [
              0.5555555555555556,
              "#d8576b"
             ],
             [
              0.6666666666666666,
              "#ed7953"
             ],
             [
              0.7777777777777778,
              "#fb9f3a"
             ],
             [
              0.8888888888888888,
              "#fdca26"
             ],
             [
              1,
              "#f0f921"
             ]
            ],
            "type": "surface"
           }
          ],
          "table": [
           {
            "cells": {
             "fill": {
              "color": "#EBF0F8"
             },
             "line": {
              "color": "white"
             }
            },
            "header": {
             "fill": {
              "color": "#C8D4E3"
             },
             "line": {
              "color": "white"
             }
            },
            "type": "table"
           }
          ]
         },
         "layout": {
          "annotationdefaults": {
           "arrowcolor": "#2a3f5f",
           "arrowhead": 0,
           "arrowwidth": 1
          },
          "autotypenumbers": "strict",
          "coloraxis": {
           "colorbar": {
            "outlinewidth": 0,
            "ticks": ""
           }
          },
          "colorscale": {
           "diverging": [
            [
             0,
             "#8e0152"
            ],
            [
             0.1,
             "#c51b7d"
            ],
            [
             0.2,
             "#de77ae"
            ],
            [
             0.3,
             "#f1b6da"
            ],
            [
             0.4,
             "#fde0ef"
            ],
            [
             0.5,
             "#f7f7f7"
            ],
            [
             0.6,
             "#e6f5d0"
            ],
            [
             0.7,
             "#b8e186"
            ],
            [
             0.8,
             "#7fbc41"
            ],
            [
             0.9,
             "#4d9221"
            ],
            [
             1,
             "#276419"
            ]
           ],
           "sequential": [
            [
             0,
             "#0d0887"
            ],
            [
             0.1111111111111111,
             "#46039f"
            ],
            [
             0.2222222222222222,
             "#7201a8"
            ],
            [
             0.3333333333333333,
             "#9c179e"
            ],
            [
             0.4444444444444444,
             "#bd3786"
            ],
            [
             0.5555555555555556,
             "#d8576b"
            ],
            [
             0.6666666666666666,
             "#ed7953"
            ],
            [
             0.7777777777777778,
             "#fb9f3a"
            ],
            [
             0.8888888888888888,
             "#fdca26"
            ],
            [
             1,
             "#f0f921"
            ]
           ],
           "sequentialminus": [
            [
             0,
             "#0d0887"
            ],
            [
             0.1111111111111111,
             "#46039f"
            ],
            [
             0.2222222222222222,
             "#7201a8"
            ],
            [
             0.3333333333333333,
             "#9c179e"
            ],
            [
             0.4444444444444444,
             "#bd3786"
            ],
            [
             0.5555555555555556,
             "#d8576b"
            ],
            [
             0.6666666666666666,
             "#ed7953"
            ],
            [
             0.7777777777777778,
             "#fb9f3a"
            ],
            [
             0.8888888888888888,
             "#fdca26"
            ],
            [
             1,
             "#f0f921"
            ]
           ]
          },
          "colorway": [
           "#636efa",
           "#EF553B",
           "#00cc96",
           "#ab63fa",
           "#FFA15A",
           "#19d3f3",
           "#FF6692",
           "#B6E880",
           "#FF97FF",
           "#FECB52"
          ],
          "font": {
           "color": "#2a3f5f"
          },
          "geo": {
           "bgcolor": "white",
           "lakecolor": "white",
           "landcolor": "#E5ECF6",
           "showlakes": true,
           "showland": true,
           "subunitcolor": "white"
          },
          "hoverlabel": {
           "align": "left"
          },
          "hovermode": "closest",
          "mapbox": {
           "style": "light"
          },
          "paper_bgcolor": "white",
          "plot_bgcolor": "#E5ECF6",
          "polar": {
           "angularaxis": {
            "gridcolor": "white",
            "linecolor": "white",
            "ticks": ""
           },
           "bgcolor": "#E5ECF6",
           "radialaxis": {
            "gridcolor": "white",
            "linecolor": "white",
            "ticks": ""
           }
          },
          "scene": {
           "xaxis": {
            "backgroundcolor": "#E5ECF6",
            "gridcolor": "white",
            "gridwidth": 2,
            "linecolor": "white",
            "showbackground": true,
            "ticks": "",
            "zerolinecolor": "white"
           },
           "yaxis": {
            "backgroundcolor": "#E5ECF6",
            "gridcolor": "white",
            "gridwidth": 2,
            "linecolor": "white",
            "showbackground": true,
            "ticks": "",
            "zerolinecolor": "white"
           },
           "zaxis": {
            "backgroundcolor": "#E5ECF6",
            "gridcolor": "white",
            "gridwidth": 2,
            "linecolor": "white",
            "showbackground": true,
            "ticks": "",
            "zerolinecolor": "white"
           }
          },
          "shapedefaults": {
           "line": {
            "color": "#2a3f5f"
           }
          },
          "ternary": {
           "aaxis": {
            "gridcolor": "white",
            "linecolor": "white",
            "ticks": ""
           },
           "baxis": {
            "gridcolor": "white",
            "linecolor": "white",
            "ticks": ""
           },
           "bgcolor": "#E5ECF6",
           "caxis": {
            "gridcolor": "white",
            "linecolor": "white",
            "ticks": ""
           }
          },
          "title": {
           "x": 0.05
          },
          "xaxis": {
           "automargin": true,
           "gridcolor": "white",
           "linecolor": "white",
           "ticks": "",
           "title": {
            "standoff": 15
           },
           "zerolinecolor": "white",
           "zerolinewidth": 2
          },
          "yaxis": {
           "automargin": true,
           "gridcolor": "white",
           "linecolor": "white",
           "ticks": "",
           "title": {
            "standoff": 15
           },
           "zerolinecolor": "white",
           "zerolinewidth": 2
          }
         }
        },
        "title": {
         "text": "Tracking 2014-09-07 02:00:00",
         "x": 0.5
        },
        "updatemenus": [
         {
          "buttons": [
           {
            "args": [
             "mapbox.layers",
             [
              {
               "below": "traces",
               "coordinates": [
                [
                 -62.14714189584819,
                 -5.295901131951463
                ],
                [
                 -57.83567670766743,
                 -5.295901131951463
                ],
                [
                 -57.83567670766743,
                 -1.0001668807629231
                ],
                [
                 -62.14714189584819,
                 -1.0001668807629231
                ]
               ],
               "source": "data:image/png;base64,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",
               "sourcetype": "image"
              }
             ]
            ],
            "label": "None",
            "method": "relayout"
           },
           {
            "args": [
             "mapbox.layers",
             [
              {
               "color": "gray",
               "line": {
                "width": 1.5
               },
               "name": "geom_20",
               "source": {
                "bbox": [
                 -59.99140930175781,
                 -2.322441577911377,
                 -59.64983749389648,
                 -1.9990154504776
                ],
                "features": [
                 {
                  "bbox": [
                   -59.99140930175781,
                   -2.322441577911377,
                   -59.64983749389648,
                   -1.9990154504776
                  ],
                  "geometry": {
                   "coordinates": [
                    [
                     [
                      -59.91948699951172,
                      -2.322441577911377
                     ],
                     [
                      -59.91948699951172,
                      -2.322441577911377
                     ],
                     [
                      -59.91948699951172,
                      -2.322441577911377
                     ],
                     [
                      -59.91948699951172,
                      -2.322441577911377
                     ],
                     [
                      -59.91948699951172,
                      -2.322441577911377
                     ],
                     [
                      -59.91948699951172,
                      -2.322441577911377
                     ],
                     [
                      -59.91948699951172,
                      -2.322441577911377
                     ],
                     [
                      -59.91948699951172,
                      -2.322441577911377
                     ],
                     [
                      -59.91948699951172,
                      -2.322441577911377
                     ],
                     [
                      -59.91948699951172,
                      -2.322441577911377
                     ],
                     [
                      -59.91948699951172,
                      -2.322441577911377
                     ],
                     [
                      -59.91948699951172,
                      -2.322441577911377
                     ],
                     [
                      -59.91948699951172,
                      -2.322441577911377
                     ],
                     [
                      -59.91948699951172,
                      -2.322441577911377
                     ],
                     [
                      -59.91948699951172,
                      -2.322441577911377
                     ],
                     [
                      -59.91948699951172,
                      -2.322441577911377
                     ],
                     [
                      -59.91948699951172,
                      -2.322441577911377
                     ],
                     [
                      -59.91948699951172,
                      -2.3044753074646
                     ],
                     [
                      -59.95544815063477,
                      -2.304476976394653
                     ],
                     [
                      -59.95544815063477,
                      -2.304476976394653
                     ],
                     [
                      -59.95544815063477,
                      -2.304476976394653
                     ],
                     [
                      -59.95544815063477,
                      -2.304476976394653
                     ],
                     [
                      -59.95544815063477,
                      -2.304476976394653
                     ],
                     [
                      -59.95544815063477,
                      -2.304476976394653
                     ],
                     [
                      -59.95544815063477,
                      -2.304476976394653
                     ],
                     [
                      -59.95544815063477,
                      -2.304476976394653
                     ],
                     [
                      -59.95544815063477,
                      -2.304476976394653
                     ],
                     [
                      -59.95544815063477,
                      -2.304476976394653
                     ],
                     [
                      -59.95544815063477,
                      -2.304476976394653
                     ],
                     [
                      -59.95544815063477,
                      -2.304476976394653
                     ],
                     [
                      -59.95544815063477,
                      -2.304476976394653
                     ],
                     [
                      -59.95544815063477,
                      -2.304476976394653
                     ],
                     [
                      -59.95544815063477,
                      -2.304476976394653
                     ],
                     [
                      -59.95544815063477,
                      -2.304476976394653
                     ],
                     [
                      -59.95544815063477,
                      -2.304476976394653
                     ],
                     [
                      -59.95544815063477,
                      -2.286510705947876
                     ],
                     [
                      -59.97343063354492,
                      -2.286510944366455
                     ],
                     [
                      -59.97343063354492,
                      -2.286510944366455
                     ],
                     [
                      -59.97343063354492,
                      -2.286510944366455
                     ],
                     [
                      -59.97343063354492,
                      -2.286510944366455
                     ],
                     [
                      -59.97343063354492,
                      -2.286510944366455
                     ],
                     [
                      -59.97343063354492,
                      -2.286510944366455
                     ],
                     [
                      -59.97343063354492,
                      -2.286510944366455
                     ],
                     [
                      -59.97343063354492,
                      -2.286510944366455
                     ],
                     [
                      -59.97343063354492,
                      -2.286510944366455
                     ],
                     [
                      -59.97343063354492,
                      -2.286510944366455
                     ],
                     [
                      -59.97343063354492,
                      -2.286510944366455
                     ],
                     [
                      -59.97343063354492,
                      -2.286510944366455
                     ],
                     [
                      -59.97343063354492,
                      -2.286510944366455
                     ],
                     [
                      -59.97343063354492,
                      -2.286510944366455
                     ],
                     [
                      -59.97343063354492,
                      -2.286510944366455
                     ],
                     [
                      -59.97343063354492,
                      -2.286510944366455
                     ],
                     [
                      -59.97343063354492,
                      -2.286510944366455
                     ],
                     [
                      -59.97343063354492,
                      -2.232612133026123
                     ],
                     [
                      -59.97343063354492,
                      -2.232612133026123
                     ],
                     [
                      -59.97343063354492,
                      -2.232612133026123
                     ],
                     [
                      -59.97343063354492,
                      -2.232612133026123
                     ],
                     [
                      -59.97343063354492,
                      -2.232612133026123
                     ],
                     [
                      -59.97343063354492,
                      -2.232612133026123
                     ],
                     [
                      -59.97343063354492,
                      -2.232612133026123
                     ],
                     [
                      -59.97343063354492,
                      -2.232612133026123
                     ],
                     [
                      -59.97343063354492,
                      -2.232612133026123
                     ],
                     [
                      -59.97343063354492,
                      -2.232612133026123
                     ],
                     [
                      -59.97343063354492,
                      -2.232612133026123
                     ],
                     [
                      -59.97343063354492,
                      -2.232612133026123
                     ],
                     [
                      -59.97343063354492,
                      -2.232612133026123
                     ],
                     [
                      -59.97343063354492,
                      -2.232612133026123
                     ],
                     [
                      -59.97343063354492,
                      -2.232612133026123
                     ],
                     [
                      -59.97343063354492,
                      -2.232612133026123
                     ],
                     [
                      -59.97343063354492,
                      -2.232612133026123
                     ],
                     [
                      -59.95545196533203,
                      -2.232611656188965
                     ],
                     [
                      -59.95545196533203,
                      -2.214645385742188
                     ],
                     [
                      -59.99140930175781,
                      -2.214645862579346
                     ],
                     [
                      -59.99140930175781,
                      -2.214645862579346
                     ],
                     [
                      -59.99140930175781,
                      -2.214645862579346
                     ],
                     [
                      -59.99140930175781,
                      -2.214645862579346
                     ],
                     [
                      -59.99140930175781,
                      -2.214645862579346
                     ],
                     [
                      -59.99140930175781,
                      -2.214645862579346
                     ],
                     [
                      -59.99140930175781,
                      -2.214645862579346
                     ],
                     [
                      -59.99140930175781,
                      -2.214645862579346
                     ],
                     [
                      -59.99140930175781,
                      -2.214645862579346
                     ],
                     [
                      -59.99140930175781,
                      -2.214645862579346
                     ],
                     [
                      -59.99140930175781,
                      -2.214645862579346
                     ],
                     [
                      -59.99140930175781,
                      -2.214645862579346
                     ],
                     [
                      -59.99140930175781,
                      -2.214645862579346
                     ],
                     [
                      -59.99140930175781,
                      -2.214645862579346
                     ],
                     [
                      -59.99140930175781,
                      -2.214645862579346
                     ],
                     [
                      -59.99140930175781,
                      -2.214645862579346
                     ],
                     [
                      -59.99140930175781,
                      -2.214645862579346
                     ],
                     [
                      -59.99140930175781,
                      -2.124814510345459
                     ],
                     [
                      -59.99140930175781,
                      -2.124814510345459
                     ],
                     [
                      -59.99140930175781,
                      -2.124814510345459
                     ],
                     [
                      -59.99140930175781,
                      -2.124814510345459
                     ],
                     [
                      -59.99140930175781,
                      -2.124814510345459
                     ],
                     [
                      -59.99140930175781,
                      -2.124814510345459
                     ],
                     [
                      -59.99140930175781,
                      -2.124814510345459
                     ],
                     [
                      -59.99140930175781,
                      -2.124814510345459
                     ],
                     [
                      -59.99140930175781,
                      -2.124814510345459
                     ],
                     [
                      -59.99140930175781,
                      -2.124814510345459
                     ],
                     [
                      -59.99140930175781,
                      -2.124814510345459
                     ],
                     [
                      -59.99140930175781,
                      -2.124814510345459
                     ],
                     [
                      -59.99140930175781,
                      -2.124814510345459
                     ],
                     [
                      -59.99140930175781,
                      -2.124814510345459
                     ],
                     [
                      -59.99140930175781,
                      -2.124814510345459
                     ],
                     [
                      -59.99140930175781,
                      -2.124814510345459
                     ],
                     [
                      -59.99140930175781,
                      -2.124814510345459
                     ],
                     [
                      -59.97343063354492,
                      -2.12481427192688
                     ],
                     [
                      -59.97343063354492,
                      -2.106848001480103
                     ],
                     [
                      -59.97343063354492,
                      -2.106848001480103
                     ],
                     [
                      -59.97343063354492,
                      -2.106848001480103
                     ],
                     [
                      -59.97343063354492,
                      -2.106848001480103
                     ],
                     [
                      -59.97343063354492,
                      -2.106848001480103
                     ],
                     [
                      -59.97343063354492,
                      -2.106848001480103
                     ],
                     [
                      -59.97343063354492,
                      -2.106848001480103
                     ],
                     [
                      -59.97343063354492,
                      -2.106848001480103
                     ],
                     [
                      -59.97343063354492,
                      -2.106848001480103
                     ],
                     [
                      -59.97343063354492,
                      -2.106848001480103
                     ],
                     [
                      -59.97343063354492,
                      -2.106848001480103
                     ],
                     [
                      -59.97343063354492,
                      -2.106848001480103
                     ],
                     [
                      -59.97343063354492,
                      -2.106848001480103
                     ],
                     [
                      -59.97343063354492,
                      -2.106848001480103
                     ],
                     [
                      -59.97343063354492,
                      -2.106848001480103
                     ],
                     [
                      -59.97343063354492,
                      -2.106848001480103
                     ],
                     [
                      -59.97343063354492,
                      -2.106848001480103
                     ],
                     [
                      -59.9554557800293,
                      -2.106847524642944
                     ],
                     [
                      -59.9554557800293,
                      -2.07091498374939
                     ],
                     [
                      -59.97343063354492,
                      -2.070915460586548
                     ],
                     [
                      -59.97343063354492,
                      -2.070915460586548
                     ],
                     [
                      -59.97343063354492,
                      -2.070915460586548
                     ],
                     [
                      -59.97343063354492,
                      -2.070915460586548
                     ],
                     [
                      -59.97343063354492,
                      -2.070915460586548
                     ],
                     [
                      -59.97343063354492,
                      -2.070915460586548
                     ],
                     [
                      -59.97343063354492,
                      -2.070915460586548
                     ],
                     [
                      -59.97343063354492,
                      -2.070915460586548
                     ],
                     [
                      -59.97343063354492,
                      -2.070915460586548
                     ],
                     [
                      -59.97343063354492,
                      -2.070915460586548
                     ],
                     [
                      -59.97343063354492,
                      -2.070915460586548
                     ],
                     [
                      -59.97343063354492,
                      -2.070915460586548
                     ],
                     [
                      -59.97343063354492,
                      -2.070915460586548
                     ],
                     [
                      -59.97343063354492,
                      -2.070915460586548
                     ],
                     [
                      -59.97343063354492,
                      -2.070915460586548
                     ],
                     [
                      -59.97343063354492,
                      -2.070915460586548
                     ],
                     [
                      -59.97343063354492,
                      -2.070915460586548
                     ],
                     [
                      -59.97343444824219,
                      -2.052948951721191
                     ],
                     [
                      -59.97343444824219,
                      -2.052948951721191
                     ],
                     [
                      -59.97343444824219,
                      -2.052948951721191
                     ],
                     [
                      -59.97343444824219,
                      -2.052948951721191
                     ],
                     [
                      -59.97343444824219,
                      -2.052948951721191
                     ],
                     [
                      -59.97343444824219,
                      -2.052948951721191
                     ],
                     [
                      -59.97343444824219,
                      -2.052948951721191
                     ],
                     [
                      -59.97343444824219,
                      -2.052948951721191
                     ],
                     [
                      -59.97343444824219,
                      -2.052948951721191
                     ],
                     [
                      -59.97343444824219,
                      -2.052948951721191
                     ],
                     [
                      -59.97343444824219,
                      -2.052948951721191
                     ],
                     [
                      -59.97343444824219,
                      -2.052948951721191
                     ],
                     [
                      -59.97343444824219,
                      -2.052948951721191
                     ],
                     [
                      -59.97343444824219,
                      -2.052948951721191
                     ],
                     [
                      -59.97343444824219,
                      -2.052948951721191
                     ],
                     [
                      -59.97343444824219,
                      -2.052948951721191
                     ],
                     [
                      -59.97343444824219,
                      -2.052948951721191
                     ],
                     [
                      -59.90152740478516,
                      -2.052945852279663
                     ],
                     [
                      -59.90152740478516,
                      -2.034979581832886
                     ],
                     [
                      -59.90152740478516,
                      -2.034979581832886
                     ],
                     [
                      -59.90152740478516,
                      -2.034979581832886
                     ],
                     [
                      -59.90152740478516,
                      -2.034979581832886
                     ],
                     [
                      -59.90152740478516,
                      -2.034979581832886
                     ],
                     [
                      -59.90152740478516,
                      -2.034979581832886
                     ],
                     [
                      -59.90152740478516,
                      -2.034979581832886
                     ],
                     [
                      -59.90152740478516,
                      -2.034979581832886
                     ],
                     [
                      -59.90152740478516,
                      -2.034979581832886
                     ],
                     [
                      -59.90152740478516,
                      -2.034979581832886
                     ],
                     [
                      -59.90152740478516,
                      -2.034979581832886
                     ],
                     [
                      -59.90152740478516,
                      -2.034979581832886
                     ],
                     [
                      -59.90152740478516,
                      -2.034979581832886
                     ],
                     [
                      -59.90152740478516,
                      -2.034979581832886
                     ],
                     [
                      -59.90152740478516,
                      -2.034979581832886
                     ],
                     [
                      -59.90152740478516,
                      -2.034979581832886
                     ],
                     [
                      -59.90152740478516,
                      -2.034979581832886
                     ],
                     [
                      -59.84759902954102,
                      -2.034974098205566
                     ],
                     [
                      -59.84760284423828,
                      -1.999041557312012
                     ],
                     [
                      -59.84760284423828,
                      -1.999041557312012
                     ],
                     [
                      -59.84760284423828,
                      -1.999041557312012
                     ],
                     [
                      -59.84760284423828,
                      -1.999041557312012
                     ],
                     [
                      -59.84760284423828,
                      -1.999041557312012
                     ],
                     [
                      -59.84760284423828,
                      -1.999041557312012
                     ],
                     [
                      -59.84760284423828,
                      -1.999041557312012
                     ],
                     [
                      -59.84760284423828,
                      -1.999041557312012
                     ],
                     [
                      -59.84760284423828,
                      -1.999041557312012
                     ],
                     [
                      -59.84760284423828,
                      -1.999041557312012
                     ],
                     [
                      -59.84760284423828,
                      -1.999041557312012
                     ],
                     [
                      -59.84760284423828,
                      -1.999041557312012
                     ],
                     [
                      -59.84760284423828,
                      -1.999041557312012
                     ],
                     [
                      -59.84760284423828,
                      -1.999041557312012
                     ],
                     [
                      -59.84760284423828,
                      -1.999041557312012
                     ],
                     [
                      -59.84760284423828,
                      -1.999041557312012
                     ],
                     [
                      -59.84760284423828,
                      -1.999041557312012
                     ],
                     [
                      -59.70379257202148,
                      -1.9990154504776
                     ],
                     [
                      -59.70379257202148,
                      -1.9990154504776
                     ],
                     [
                      -59.70379257202148,
                      -1.9990154504776
                     ],
                     [
                      -59.70379257202148,
                      -1.9990154504776
                     ],
                     [
                      -59.70379257202148,
                      -1.9990154504776
                     ],
                     [
                      -59.70379257202148,
                      -1.9990154504776
                     ],
                     [
                      -59.70379257202148,
                      -1.9990154504776
                     ],
                     [
                      -59.70379257202148,
                      -1.9990154504776
                     ],
                     [
                      -59.70379257202148,
                      -1.9990154504776
                     ],
                     [
                      -59.70379257202148,
                      -1.9990154504776
                     ],
                     [
                      -59.70379257202148,
                      -1.9990154504776
                     ],
                     [
                      -59.70379257202148,
                      -1.9990154504776
                     ],
                     [
                      -59.70379257202148,
                      -1.9990154504776
                     ],
                     [
                      -59.70379257202148,
                      -1.9990154504776
                     ],
                     [
                      -59.70379257202148,
                      -1.9990154504776
                     ],
                     [
                      -59.70379257202148,
                      -1.9990154504776
                     ],
                     [
                      -59.70379257202148,
                      -1.9990154504776
                     ],
                     [
                      -59.70378875732422,
                      -2.016981601715088
                     ],
                     [
                      -59.68581390380859,
                      -2.016977071762085
                     ],
                     [
                      -59.68581390380859,
                      -2.016977071762085
                     ],
                     [
                      -59.68581390380859,
                      -2.016977071762085
                     ],
                     [
                      -59.68581390380859,
                      -2.016977071762085
                     ],
                     [
                      -59.68581390380859,
                      -2.016977071762085
                     ],
                     [
                      -59.68581390380859,
                      -2.016977071762085
                     ],
                     [
                      -59.68581390380859,
                      -2.016977071762085
                     ],
                     [
                      -59.68581390380859,
                      -2.016977071762085
                     ],
                     [
                      -59.68581390380859,
                      -2.016977071762085
                     ],
                     [
                      -59.68581390380859,
                      -2.016977071762085
                     ],
                     [
                      -59.68581390380859,
                      -2.016977071762085
                     ],
                     [
                      -59.68581390380859,
                      -2.016977071762085
                     ],
                     [
                      -59.68581390380859,
                      -2.016977071762085
                     ],
                     [
                      -59.68581390380859,
                      -2.016977071762085
                     ],
                     [
                      -59.68581390380859,
                      -2.016977071762085
                     ],
                     [
                      -59.68581390380859,
                      -2.016977071762085
                     ],
                     [
                      -59.68581390380859,
                      -2.016977071762085
                     ],
                     [
                      -59.68581008911133,
                      -2.034943342208862
                     ],
                     [
                      -59.66783142089844,
                      -2.03493857383728
                     ],
                     [
                      -59.66783142089844,
                      -2.03493857383728
                     ],
                     [
                      -59.66783142089844,
                      -2.03493857383728
                     ],
                     [
                      -59.66783142089844,
                      -2.03493857383728
                     ],
                     [
                      -59.66783142089844,
                      -2.03493857383728
                     ],
                     [
                      -59.66783142089844,
                      -2.03493857383728
                     ],
                     [
                      -59.66783142089844,
                      -2.03493857383728
                     ],
                     [
                      -59.66783142089844,
                      -2.03493857383728
                     ],
                     [
                      -59.66783142089844,
                      -2.03493857383728
                     ],
                     [
                      -59.66783142089844,
                      -2.03493857383728
                     ],
                     [
                      -59.66783142089844,
                      -2.03493857383728
                     ],
                     [
                      -59.66783142089844,
                      -2.03493857383728
                     ],
                     [
                      -59.66783142089844,
                      -2.03493857383728
                     ],
                     [
                      -59.66783142089844,
                      -2.03493857383728
                     ],
                     [
                      -59.66783142089844,
                      -2.03493857383728
                     ],
                     [
                      -59.66783142089844,
                      -2.03493857383728
                     ],
                     [
                      -59.66783142089844,
                      -2.03493857383728
                     ],
                     [
                      -59.66782760620117,
                      -2.052904844284058
                     ],
                     [
                      -59.64985275268555,
                      -2.052899837493896
                     ],
                     [
                      -59.64985275268555,
                      -2.052899837493896
                     ],
                     [
                      -59.64985275268555,
                      -2.052899837493896
                     ],
                     [
                      -59.64985275268555,
                      -2.052899837493896
                     ],
                     [
                      -59.64985275268555,
                      -2.052899837493896
                     ],
                     [
                      -59.64985275268555,
                      -2.052899837493896
                     ],
                     [
                      -59.64985275268555,
                      -2.052899837493896
                     ],
                     [
                      -59.64985275268555,
                      -2.052899837493896
                     ],
                     [
                      -59.64985275268555,
                      -2.052899837493896
                     ],
                     [
                      -59.64985275268555,
                      -2.052899837493896
                     ],
                     [
                      -59.64985275268555,
                      -2.052899837493896
                     ],
                     [
                      -59.64985275268555,
                      -2.052899837493896
                     ],
                     [
                      -59.64985275268555,
                      -2.052899837493896
                     ],
                     [
                      -59.64985275268555,
                      -2.052899837493896
                     ],
                     [
                      -59.64985275268555,
                      -2.052899837493896
                     ],
                     [
                      -59.64985275268555,
                      -2.052899837493896
                     ],
                     [
                      -59.64985275268555,
                      -2.052899837493896
                     ],
                     [
                      -59.64984512329102,
                      -2.070865869522095
                     ],
                     [
                      -59.64984512329102,
                      -2.070865869522095
                     ],
                     [
                      -59.64984512329102,
                      -2.070865869522095
                     ],
                     [
                      -59.64984512329102,
                      -2.070865869522095
                     ],
                     [
                      -59.64984512329102,
                      -2.070865869522095
                     ],
                     [
                      -59.64984512329102,
                      -2.070865869522095
                     ],
                     [
                      -59.64984512329102,
                      -2.070865869522095
                     ],
                     [
                      -59.64984512329102,
                      -2.070865869522095
                     ],
                     [
                      -59.64984512329102,
                      -2.070865869522095
                     ],
                     [
                      -59.64984512329102,
                      -2.070865869522095
                     ],
                     [
                      -59.64984512329102,
                      -2.070865869522095
                     ],
                     [
                      -59.64984512329102,
                      -2.070865869522095
                     ],
                     [
                      -59.64984512329102,
                      -2.070865869522095
                     ],
                     [
                      -59.64984512329102,
                      -2.070865869522095
                     ],
                     [
                      -59.64984512329102,
                      -2.070865869522095
                     ],
                     [
                      -59.64984512329102,
                      -2.070865869522095
                     ],
                     [
                      -59.64984512329102,
                      -2.070865869522095
                     ],
                     [
                      -59.66782379150391,
                      -2.070871114730835
                     ],
                     [
                      -59.66781997680664,
                      -2.088837146759033
                     ],
                     [
                      -59.64984130859375,
                      -2.088832139968872
                     ],
                     [
                      -59.64984130859375,
                      -2.088832139968872
                     ],
                     [
                      -59.64984130859375,
                      -2.088832139968872
                     ],
                     [
                      -59.64984130859375,
                      -2.088832139968872
                     ],
                     [
                      -59.64984130859375,
                      -2.088832139968872
                     ],
                     [
                      -59.64984130859375,
                      -2.088832139968872
                     ],
                     [
                      -59.64984130859375,
                      -2.088832139968872
                     ],
                     [
                      -59.64984130859375,
                      -2.088832139968872
                     ],
                     [
                      -59.64984130859375,
                      -2.088832139968872
                     ],
                     [
                      -59.64984130859375,
                      -2.088832139968872
                     ],
                     [
                      -59.64984130859375,
                      -2.088832139968872
                     ],
                     [
                      -59.64984130859375,
                      -2.088832139968872
                     ],
                     [
                      -59.64984130859375,
                      -2.088832139968872
                     ],
                     [
                      -59.64984130859375,
                      -2.088832139968872
                     ],
                     [
                      -59.64984130859375,
                      -2.088832139968872
                     ],
                     [
                      -59.64984130859375,
                      -2.088832139968872
                     ],
                     [
                      -59.64984130859375,
                      -2.088832139968872
                     ],
                     [
                      -59.64983749389648,
                      -2.106798410415649
                     ],
                     [
                      -59.64983749389648,
                      -2.106798410415649
                     ],
                     [
                      -59.64983749389648,
                      -2.106798410415649
                     ],
                     [
                      -59.64983749389648,
                      -2.106798410415649
                     ],
                     [
                      -59.64983749389648,
                      -2.106798410415649
                     ],
                     [
                      -59.64983749389648,
                      -2.106798410415649
                     ],
                     [
                      -59.64983749389648,
                      -2.106798410415649
                     ],
                     [
                      -59.64983749389648,
                      -2.106798410415649
                     ],
                     [
                      -59.64983749389648,
                      -2.106798410415649
                     ],
                     [
                      -59.64983749389648,
                      -2.106798410415649
                     ],
                     [
                      -59.64983749389648,
                      -2.106798410415649
                     ],
                     [
                      -59.64983749389648,
                      -2.106798410415649
                     ],
                     [
                      -59.64983749389648,
                      -2.106798410415649
                     ],
                     [
                      -59.64983749389648,
                      -2.106798410415649
                     ],
                     [
                      -59.64983749389648,
                      -2.106798410415649
                     ],
                     [
                      -59.64983749389648,
                      -2.106798410415649
                     ],
                     [
                      -59.64983749389648,
                      -2.106798410415649
                     ],
                     [
                      -59.685791015625,
                      -2.106808185577393
                     ],
                     [
                      -59.685791015625,
                      -2.106808185577393
                     ],
                     [
                      -59.685791015625,
                      -2.106808185577393
                     ],
                     [
                      -59.685791015625,
                      -2.106808185577393
                     ],
                     [
                      -59.685791015625,
                      -2.106808185577393
                     ],
                     [
                      -59.685791015625,
                      -2.106808185577393
                     ],
                     [
                      -59.685791015625,
                      -2.106808185577393
                     ],
                     [
                      -59.685791015625,
                      -2.106808185577393
                     ],
                     [
                      -59.685791015625,
                      -2.106808185577393
                     ],
                     [
                      -59.685791015625,
                      -2.106808185577393
                     ],
                     [
                      -59.685791015625,
                      -2.106808185577393
                     ],
                     [
                      -59.685791015625,
                      -2.106808185577393
                     ],
                     [
                      -59.685791015625,
                      -2.106808185577393
                     ],
                     [
                      -59.685791015625,
                      -2.106808185577393
                     ],
                     [
                      -59.685791015625,
                      -2.106808185577393
                     ],
                     [
                      -59.685791015625,
                      -2.106808185577393
                     ],
                     [
                      -59.685791015625,
                      -2.106808185577393
                     ],
                     [
                      -59.68579483032227,
                      -2.088842153549194
                     ],
                     [
                      -59.73972702026367,
                      -2.088854789733887
                     ],
                     [
                      -59.73972320556641,
                      -2.106821060180664
                     ],
                     [
                      -59.73972320556641,
                      -2.106821060180664
                     ],
                     [
                      -59.73972320556641,
                      -2.106821060180664
                     ],
                     [
                      -59.73972320556641,
                      -2.106821060180664
                     ],
                     [
                      -59.73972320556641,
                      -2.106821060180664
                     ],
                     [
                      -59.73972320556641,
                      -2.106821060180664
                     ],
                     [
                      -59.73972320556641,
                      -2.106821060180664
                     ],
                     [
                      -59.73972320556641,
                      -2.106821060180664
                     ],
                     [
                      -59.73972320556641,
                      -2.106821060180664
                     ],
                     [
                      -59.73972320556641,
                      -2.106821060180664
                     ],
                     [
                      -59.73972320556641,
                      -2.106821060180664
                     ],
                     [
                      -59.73972320556641,
                      -2.106821060180664
                     ],
                     [
                      -59.73972320556641,
                      -2.106821060180664
                     ],
                     [
                      -59.73972320556641,
                      -2.106821060180664
                     ],
                     [
                      -59.73972320556641,
                      -2.106821060180664
                     ],
                     [
                      -59.73972320556641,
                      -2.106821060180664
                     ],
                     [
                      -59.73972320556641,
                      -2.106821060180664
                     ],
                     [
                      -59.77568054199219,
                      -2.106828212738037
                     ],
                     [
                      -59.77568054199219,
                      -2.106828212738037
                     ],
                     [
                      -59.77568054199219,
                      -2.106828212738037
                     ],
                     [
                      -59.77568054199219,
                      -2.106828212738037
                     ],
                     [
                      -59.77568054199219,
                      -2.106828212738037
                     ],
                     [
                      -59.77568054199219,
                      -2.106828212738037
                     ],
                     [
                      -59.77568054199219,
                      -2.106828212738037
                     ],
                     [
                      -59.77568054199219,
                      -2.106828212738037
                     ],
                     [
                      -59.77568054199219,
                      -2.106828212738037
                     ],
                     [
                      -59.77568054199219,
                      -2.106828212738037
                     ],
                     [
                      -59.77568054199219,
                      -2.106828212738037
                     ],
                     [
                      -59.77568054199219,
                      -2.106828212738037
                     ],
                     [
                      -59.77568054199219,
                      -2.106828212738037
                     ],
                     [
                      -59.77568054199219,
                      -2.106828212738037
                     ],
                     [
                      -59.77568054199219,
                      -2.106828212738037
                     ],
                     [
                      -59.77568054199219,
                      -2.106828212738037
                     ],
                     [
                      -59.77568054199219,
                      -2.106828212738037
                     ],
                     [
                      -59.77568435668945,
                      -2.08886194229126
                     ],
                     [
                      -59.79365921020508,
                      -2.088865280151367
                     ],
                     [
                      -59.79365539550781,
                      -2.106831550598145
                     ],
                     [
                      -59.79365539550781,
                      -2.106831550598145
                     ],
                     [
                      -59.79365539550781,
                      -2.106831550598145
                     ],
                     [
                      -59.79365539550781,
                      -2.106831550598145
                     ],
                     [
                      -59.79365539550781,
                      -2.106831550598145
                     ],
                     [
                      -59.79365539550781,
                      -2.106831550598145
                     ],
                     [
                      -59.79365539550781,
                      -2.106831550598145
                     ],
                     [
                      -59.79365539550781,
                      -2.106831550598145
                     ],
                     [
                      -59.79365539550781,
                      -2.106831550598145
                     ],
                     [
                      -59.79365539550781,
                      -2.106831550598145
                     ],
                     [
                      -59.79365539550781,
                      -2.106831550598145
                     ],
                     [
                      -59.79365539550781,
                      -2.106831550598145
                     ],
                     [
                      -59.79365539550781,
                      -2.106831550598145
                     ],
                     [
                      -59.79365539550781,
                      -2.106831550598145
                     ],
                     [
                      -59.79365539550781,
                      -2.106831550598145
                     ],
                     [
                      -59.79365539550781,
                      -2.106831550598145
                     ],
                     [
                      -59.79365539550781,
                      -2.106831550598145
                     ],
                     [
                      -59.84759140014648,
                      -2.106839179992676
                     ],
                     [
                      -59.84758377075195,
                      -2.14277195930481
                     ],
                     [
                      -59.81163024902344,
                      -2.142766952514648
                     ],
                     [
                      -59.81163024902344,
                      -2.142766952514648
                     ],
                     [
                      -59.81163024902344,
                      -2.142766952514648
                     ],
                     [
                      -59.81163024902344,
                      -2.142766952514648
                     ],
                     [
                      -59.81163024902344,
                      -2.142766952514648
                     ],
                     [
                      -59.81163024902344,
                      -2.142766952514648
                     ],
                     [
                      -59.81163024902344,
                      -2.142766952514648
                     ],
                     [
                      -59.81163024902344,
                      -2.142766952514648
                     ],
                     [
                      -59.81163024902344,
                      -2.142766952514648
                     ],
                     [
                      -59.81163024902344,
                      -2.142766952514648
                     ],
                     [
                      -59.81163024902344,
                      -2.142766952514648
                     ],
                     [
                      -59.81163024902344,
                      -2.142766952514648
                     ],
                     [
                      -59.81163024902344,
                      -2.142766952514648
                     ],
                     [
                      -59.81163024902344,
                      -2.142766952514648
                     ],
                     [
                      -59.81163024902344,
                      -2.142766952514648
                     ],
                     [
                      -59.81163024902344,
                      -2.142766952514648
                     ],
                     [
                      -59.81163024902344,
                      -2.142766952514648
                     ],
                     [
                      -59.81162643432617,
                      -2.178699493408203
                     ],
                     [
                      -59.73971176147461,
                      -2.178686141967773
                     ],
                     [
                      -59.73971176147461,
                      -2.178686141967773
                     ],
                     [
                      -59.73971176147461,
                      -2.178686141967773
                     ],
                     [
                      -59.73971176147461,
                      -2.178686141967773
                     ],
                     [
                      -59.73971176147461,
                      -2.178686141967773
                     ],
                     [
                      -59.73971176147461,
                      -2.178686141967773
                     ],
                     [
                      -59.73971176147461,
                      -2.178686141967773
                     ],
                     [
                      -59.73971176147461,
                      -2.178686141967773
                     ],
                     [
                      -59.73971176147461,
                      -2.178686141967773
                     ],
                     [
                      -59.73971176147461,
                      -2.178686141967773
                     ],
                     [
                      -59.73971176147461,
                      -2.178686141967773
                     ],
                     [
                      -59.73971176147461,
                      -2.178686141967773
                     ],
                     [
                      -59.73971176147461,
                      -2.178686141967773
                     ],
                     [
                      -59.73971176147461,
                      -2.178686141967773
                     ],
                     [
                      -59.73971176147461,
                      -2.178686141967773
                     ],
                     [
                      -59.73971176147461,
                      -2.178686141967773
                     ],
                     [
                      -59.73971176147461,
                      -2.178686141967773
                     ],
                     [
                      -59.73970794677734,
                      -2.196652412414551
                     ],
                     [
                      -59.70375061035156,
                      -2.196644067764282
                     ],
                     [
                      -59.70375061035156,
                      -2.196644067764282
                     ],
                     [
                      -59.70375061035156,
                      -2.196644067764282
                     ],
                     [
                      -59.70375061035156,
                      -2.196644067764282
                     ],
                     [
                      -59.70375061035156,
                      -2.196644067764282
                     ],
                     [
                      -59.70375061035156,
                      -2.196644067764282
                     ],
                     [
                      -59.70375061035156,
                      -2.196644067764282
                     ],
                     [
                      -59.70375061035156,
                      -2.196644067764282
                     ],
                     [
                      -59.70375061035156,
                      -2.196644067764282
                     ],
                     [
                      -59.70375061035156,
                      -2.196644067764282
                     ],
                     [
                      -59.70375061035156,
                      -2.196644067764282
                     ],
                     [
                      -59.70375061035156,
                      -2.196644067764282
                     ],
                     [
                      -59.70375061035156,
                      -2.196644067764282
                     ],
                     [
                      -59.70375061035156,
                      -2.196644067764282
                     ],
                     [
                      -59.70375061035156,
                      -2.196644067764282
                     ],
                     [
                      -59.70375061035156,
                      -2.196644067764282
                     ],
                     [
                      -59.70375061035156,
                      -2.196644067764282
                     ],
                     [
                      -59.7037467956543,
                      -2.21461009979248
                     ],
                     [
                      -59.7037467956543,
                      -2.21461009979248
                     ],
                     [
                      -59.7037467956543,
                      -2.21461009979248
                     ],
                     [
                      -59.7037467956543,
                      -2.21461009979248
                     ],
                     [
                      -59.7037467956543,
                      -2.21461009979248
                     ],
                     [
                      -59.7037467956543,
                      -2.21461009979248
                     ],
                     [
                      -59.7037467956543,
                      -2.21461009979248
                     ],
                     [
                      -59.7037467956543,
                      -2.21461009979248
                     ],
                     [
                      -59.7037467956543,
                      -2.21461009979248
                     ],
                     [
                      -59.7037467956543,
                      -2.21461009979248
                     ],
                     [
                      -59.7037467956543,
                      -2.21461009979248
                     ],
                     [
                      -59.7037467956543,
                      -2.21461009979248
                     ],
                     [
                      -59.7037467956543,
                      -2.21461009979248
                     ],
                     [
                      -59.7037467956543,
                      -2.21461009979248
                     ],
                     [
                      -59.7037467956543,
                      -2.21461009979248
                     ],
                     [
                      -59.7037467956543,
                      -2.21461009979248
                     ],
                     [
                      -59.7037467956543,
                      -2.21461009979248
                     ],
                     [
                      -59.79364013671875,
                      -2.214628934860229
                     ],
                     [
                      -59.79364013671875,
                      -2.214628934860229
                     ],
                     [
                      -59.79364013671875,
                      -2.214628934860229
                     ],
                     [
                      -59.79364013671875,
                      -2.214628934860229
                     ],
                     [
                      -59.79364013671875,
                      -2.214628934860229
                     ],
                     [
                      -59.79364013671875,
                      -2.214628934860229
                     ],
                     [
                      -59.79364013671875,
                      -2.214628934860229
                     ],
                     [
                      -59.79364013671875,
                      -2.214628934860229
                     ],
                     [
                      -59.79364013671875,
                      -2.214628934860229
                     ],
                     [
                      -59.79364013671875,
                      -2.214628934860229
                     ],
                     [
                      -59.79364013671875,
                      -2.214628934860229
                     ],
                     [
                      -59.79364013671875,
                      -2.214628934860229
                     ],
                     [
                      -59.79364013671875,
                      -2.214628934860229
                     ],
                     [
                      -59.79364013671875,
                      -2.214628934860229
                     ],
                     [
                      -59.79364013671875,
                      -2.214628934860229
                     ],
                     [
                      -59.79364013671875,
                      -2.214628934860229
                     ],
                     [
                      -59.79364013671875,
                      -2.214628934860229
                     ],
                     [
                      -59.79364395141602,
                      -2.196662664413452
                     ],
                     [
                      -59.8296012878418,
                      -2.196668386459351
                     ],
                     [
                      -59.82959747314453,
                      -2.214634656906128
                     ],
                     [
                      -59.82959747314453,
                      -2.214634656906128
                     ],
                     [
                      -59.82959747314453,
                      -2.214634656906128
                     ],
                     [
                      -59.82959747314453,
                      -2.214634656906128
                     ],
                     [
                      -59.82959747314453,
                      -2.214634656906128
                     ],
                     [
                      -59.82959747314453,
                      -2.214634656906128
                     ],
                     [
                      -59.82959747314453,
                      -2.214634656906128
                     ],
                     [
                      -59.82959747314453,
                      -2.214634656906128
                     ],
                     [
                      -59.82959747314453,
                      -2.214634656906128
                     ],
                     [
                      -59.82959747314453,
                      -2.214634656906128
                     ],
                     [
                      -59.82959747314453,
                      -2.214634656906128
                     ],
                     [
                      -59.82959747314453,
                      -2.214634656906128
                     ],
                     [
                      -59.82959747314453,
                      -2.214634656906128
                     ],
                     [
                      -59.82959747314453,
                      -2.214634656906128
                     ],
                     [
                      -59.82959747314453,
                      -2.214634656906128
                     ],
                     [
                      -59.82959747314453,
                      -2.214634656906128
                     ],
                     [
                      -59.82959747314453,
                      -2.214634656906128
                     ],
                     [
                      -59.84757614135742,
                      -2.214637041091919
                     ],
                     [
                      -59.84757232666016,
                      -2.250569581985474
                     ],
                     [
                      -59.82959365844727,
                      -2.250567197799683
                     ],
                     [
                      -59.82959365844727,
                      -2.250567197799683
                     ],
                     [
                      -59.82959365844727,
                      -2.250567197799683
                     ],
                     [
                      -59.82959365844727,
                      -2.250567197799683
                     ],
                     [
                      -59.82959365844727,
                      -2.250567197799683
                     ],
                     [
                      -59.82959365844727,
                      -2.250567197799683
                     ],
                     [
                      -59.82959365844727,
                      -2.250567197799683
                     ],
                     [
                      -59.82959365844727,
                      -2.250567197799683
                     ],
                     [
                      -59.82959365844727,
                      -2.250567197799683
                     ],
                     [
                      -59.82959365844727,
                      -2.250567197799683
                     ],
                     [
                      -59.82959365844727,
                      -2.250567197799683
                     ],
                     [
                      -59.82959365844727,
                      -2.250567197799683
                     ],
                     [
                      -59.82959365844727,
                      -2.250567197799683
                     ],
                     [
                      -59.82959365844727,
                      -2.250567197799683
                     ],
                     [
                      -59.82959365844727,
                      -2.250567197799683
                     ],
                     [
                      -59.82959365844727,
                      -2.250567197799683
                     ],
                     [
                      -59.82959365844727,
                      -2.250567197799683
                     ],
                     [
                      -59.82959365844727,
                      -2.26853346824646
                     ],
                     [
                      -59.82959365844727,
                      -2.26853346824646
                     ],
                     [
                      -59.82959365844727,
                      -2.26853346824646
                     ],
                     [
                      -59.82959365844727,
                      -2.26853346824646
                     ],
                     [
                      -59.82959365844727,
                      -2.26853346824646
                     ],
                     [
                      -59.82959365844727,
                      -2.26853346824646
                     ],
                     [
                      -59.82959365844727,
                      -2.26853346824646
                     ],
                     [
                      -59.82959365844727,
                      -2.26853346824646
                     ],
                     [
                      -59.82959365844727,
                      -2.26853346824646
                     ],
                     [
                      -59.82959365844727,
                      -2.26853346824646
                     ],
                     [
                      -59.82959365844727,
                      -2.26853346824646
                     ],
                     [
                      -59.82959365844727,
                      -2.26853346824646
                     ],
                     [
                      -59.82959365844727,
                      -2.26853346824646
                     ],
                     [
                      -59.82959365844727,
                      -2.26853346824646
                     ],
                     [
                      -59.82959365844727,
                      -2.26853346824646
                     ],
                     [
                      -59.82959365844727,
                      -2.26853346824646
                     ],
                     [
                      -59.82959365844727,
                      -2.26853346824646
                     ],
                     [
                      -59.84757232666016,
                      -2.268535852432251
                     ],
                     [
                      -59.84756851196289,
                      -2.304468393325806
                     ],
                     [
                      -59.84756851196289,
                      -2.304468393325806
                     ],
                     [
                      -59.84756851196289,
                      -2.304468393325806
                     ],
                     [
                      -59.84756851196289,
                      -2.304468393325806
                     ],
                     [
                      -59.84756851196289,
                      -2.304468393325806
                     ],
                     [
                      -59.84756851196289,
                      -2.304468393325806
                     ],
                     [
                      -59.84756851196289,
                      -2.304468393325806
                     ],
                     [
                      -59.84756851196289,
                      -2.304468393325806
                     ],
                     [
                      -59.84756851196289,
                      -2.304468393325806
                     ],
                     [
                      -59.84756851196289,
                      -2.304468393325806
                     ],
                     [
                      -59.84756851196289,
                      -2.304468393325806
                     ],
                     [
                      -59.84756851196289,
                      -2.304468393325806
                     ],
                     [
                      -59.84756851196289,
                      -2.304468393325806
                     ],
                     [
                      -59.84756851196289,
                      -2.304468393325806
                     ],
                     [
                      -59.84756851196289,
                      -2.304468393325806
                     ],
                     [
                      -59.84756851196289,
                      -2.304468393325806
                     ],
                     [
                      -59.84756851196289,
                      -2.304468393325806
                     ],
                     [
                      -59.88352966308594,
                      -2.30447244644165
                     ],
                     [
                      -59.88352584838867,
                      -2.322438716888428
                     ],
                     [
                      -59.88352584838867,
                      -2.322438716888428
                     ],
                     [
                      -59.88352584838867,
                      -2.322438716888428
                     ],
                     [
                      -59.88352584838867,
                      -2.322438716888428
                     ],
                     [
                      -59.88352584838867,
                      -2.322438716888428
                     ],
                     [
                      -59.88352584838867,
                      -2.322438716888428
                     ],
                     [
                      -59.88352584838867,
                      -2.322438716888428
                     ],
                     [
                      -59.88352584838867,
                      -2.322438716888428
                     ],
                     [
                      -59.88352584838867,
                      -2.322438716888428
                     ],
                     [
                      -59.88352584838867,
                      -2.322438716888428
                     ],
                     [
                      -59.88352584838867,
                      -2.322438716888428
                     ],
                     [
                      -59.88352584838867,
                      -2.322438716888428
                     ],
                     [
                      -59.88352584838867,
                      -2.322438716888428
                     ],
                     [
                      -59.88352584838867,
                      -2.322438716888428
                     ],
                     [
                      -59.88352584838867,
                      -2.322438716888428
                     ],
                     [
                      -59.88352584838867,
                      -2.322438716888428
                     ],
                     [
                      -59.88352584838867,
                      -2.322438716888428
                     ],
                     [
                      -59.91948699951172,
                      -2.322441577911377
                     ]
                    ]
                   ],
                   "type": "Polygon"
                  },
                  "id": "('Fam_13', 92)",
                  "properties": {},
                  "type": "Feature"
                 }
                ],
                "type": "FeatureCollection"
               },
               "type": "line"
              },
              {
               "color": "blue",
               "line": {
                "width": 1.5
               },
               "name": "geom_35",
               "source": {
                "bbox": [
                 -59.97343063354492,
                 -2.3044753074646,
                 -59.84757995605469,
                 -2.124807596206665
                ],
                "features": [
                 {
                  "bbox": [
                   -59.97343063354492,
                   -2.3044753074646,
                   -59.84757995605469,
                   -2.124807596206665
                  ],
                  "geometry": {
                   "coordinates": [
                    [
                     [
                      -59.91948699951172,
                      -2.3044753074646
                     ],
                     [
                      -59.91948699951172,
                      -2.3044753074646
                     ],
                     [
                      -59.91948699951172,
                      -2.3044753074646
                     ],
                     [
                      -59.91948699951172,
                      -2.3044753074646
                     ],
                     [
                      -59.91948699951172,
                      -2.3044753074646
                     ],
                     [
                      -59.91948699951172,
                      -2.3044753074646
                     ],
                     [
                      -59.91948699951172,
                      -2.3044753074646
                     ],
                     [
                      -59.91948699951172,
                      -2.3044753074646
                     ],
                     [
                      -59.91948699951172,
                      -2.3044753074646
                     ],
                     [
                      -59.91948699951172,
                      -2.3044753074646
                     ],
                     [
                      -59.91948699951172,
                      -2.3044753074646
                     ],
                     [
                      -59.91948699951172,
                      -2.3044753074646
                     ],
                     [
                      -59.91948699951172,
                      -2.3044753074646
                     ],
                     [
                      -59.91948699951172,
                      -2.3044753074646
                     ],
                     [
                      -59.91948699951172,
                      -2.3044753074646
                     ],
                     [
                      -59.91948699951172,
                      -2.3044753074646
                     ],
                     [
                      -59.91948699951172,
                      -2.3044753074646
                     ],
                     [
                      -59.91949081420898,
                      -2.286508798599243
                     ],
                     [
                      -59.93746948242188,
                      -2.286509990692139
                     ],
                     [
                      -59.93746948242188,
                      -2.286509990692139
                     ],
                     [
                      -59.93746948242188,
                      -2.286509990692139
                     ],
                     [
                      -59.93746948242188,
                      -2.286509990692139
                     ],
                     [
                      -59.93746948242188,
                      -2.286509990692139
                     ],
                     [
                      -59.93746948242188,
                      -2.286509990692139
                     ],
                     [
                      -59.93746948242188,
                      -2.286509990692139
                     ],
                     [
                      -59.93746948242188,
                      -2.286509990692139
                     ],
                     [
                      -59.93746948242188,
                      -2.286509990692139
                     ],
                     [
                      -59.93746948242188,
                      -2.286509990692139
                     ],
                     [
                      -59.93746948242188,
                      -2.286509990692139
                     ],
                     [
                      -59.93746948242188,
                      -2.286509990692139
                     ],
                     [
                      -59.93746948242188,
                      -2.286509990692139
                     ],
                     [
                      -59.93746948242188,
                      -2.286509990692139
                     ],
                     [
                      -59.93746948242188,
                      -2.286509990692139
                     ],
                     [
                      -59.93746948242188,
                      -2.286509990692139
                     ],
                     [
                      -59.93746948242188,
                      -2.286509990692139
                     ],
                     [
                      -59.93747329711914,
                      -2.21464467048645
                     ],
                     [
                      -59.95545196533203,
                      -2.214645385742188
                     ],
                     [
                      -59.95545196533203,
                      -2.214645385742188
                     ],
                     [
                      -59.95545196533203,
                      -2.214645385742188
                     ],
                     [
                      -59.95545196533203,
                      -2.214645385742188
                     ],
                     [
                      -59.95545196533203,
                      -2.214645385742188
                     ],
                     [
                      -59.95545196533203,
                      -2.214645385742188
                     ],
                     [
                      -59.95545196533203,
                      -2.214645385742188
                     ],
                     [
                      -59.95545196533203,
                      -2.214645385742188
                     ],
                     [
                      -59.95545196533203,
                      -2.214645385742188
                     ],
                     [
                      -59.95545196533203,
                      -2.214645385742188
                     ],
                     [
                      -59.95545196533203,
                      -2.214645385742188
                     ],
                     [
                      -59.95545196533203,
                      -2.214645385742188
                     ],
                     [
                      -59.95545196533203,
                      -2.214645385742188
                     ],
                     [
                      -59.95545196533203,
                      -2.214645385742188
                     ],
                     [
                      -59.95545196533203,
                      -2.214645385742188
                     ],
                     [
                      -59.95545196533203,
                      -2.214645385742188
                     ],
                     [
                      -59.95545196533203,
                      -2.214645385742188
                     ],
                     [
                      -59.95545196533203,
                      -2.19667911529541
                     ],
                     [
                      -59.97343063354492,
                      -2.196679592132568
                     ],
                     [
                      -59.97343063354492,
                      -2.196679592132568
                     ],
                     [
                      -59.97343063354492,
                      -2.196679592132568
                     ],
                     [
                      -59.97343063354492,
                      -2.196679592132568
                     ],
                     [
                      -59.97343063354492,
                      -2.196679592132568
                     ],
                     [
                      -59.97343063354492,
                      -2.196679592132568
                     ],
                     [
                      -59.97343063354492,
                      -2.196679592132568
                     ],
                     [
                      -59.97343063354492,
                      -2.196679592132568
                     ],
                     [
                      -59.97343063354492,
                      -2.196679592132568
                     ],
                     [
                      -59.97343063354492,
                      -2.196679592132568
                     ],
                     [
                      -59.97343063354492,
                      -2.196679592132568
                     ],
                     [
                      -59.97343063354492,
                      -2.196679592132568
                     ],
                     [
                      -59.97343063354492,
                      -2.196679592132568
                     ],
                     [
                      -59.97343063354492,
                      -2.196679592132568
                     ],
                     [
                      -59.97343063354492,
                      -2.196679592132568
                     ],
                     [
                      -59.97343063354492,
                      -2.196679592132568
                     ],
                     [
                      -59.97343063354492,
                      -2.196679592132568
                     ],
                     [
                      -59.97343063354492,
                      -2.160746812820435
                     ],
                     [
                      -59.97343063354492,
                      -2.160746812820435
                     ],
                     [
                      -59.97343063354492,
                      -2.160746812820435
                     ],
                     [
                      -59.97343063354492,
                      -2.160746812820435
                     ],
                     [
                      -59.97343063354492,
                      -2.160746812820435
                     ],
                     [
                      -59.97343063354492,
                      -2.160746812820435
                     ],
                     [
                      -59.97343063354492,
                      -2.160746812820435
                     ],
                     [
                      -59.97343063354492,
                      -2.160746812820435
                     ],
                     [
                      -59.97343063354492,
                      -2.160746812820435
                     ],
                     [
                      -59.97343063354492,
                      -2.160746812820435
                     ],
                     [
                      -59.97343063354492,
                      -2.160746812820435
                     ],
                     [
                      -59.97343063354492,
                      -2.160746812820435
                     ],
                     [
                      -59.97343063354492,
                      -2.160746812820435
                     ],
                     [
                      -59.97343063354492,
                      -2.160746812820435
                     ],
                     [
                      -59.97343063354492,
                      -2.160746812820435
                     ],
                     [
                      -59.97343063354492,
                      -2.160746812820435
                     ],
                     [
                      -59.97343063354492,
                      -2.160746812820435
                     ],
                     [
                      -59.93747329711914,
                      -2.160745859146118
                     ],
                     [
                      -59.93747711181641,
                      -2.142779588699341
                     ],
                     [
                      -59.95545196533203,
                      -2.142780065536499
                     ],
                     [
                      -59.95545196533203,
                      -2.142780065536499
                     ],
                     [
                      -59.95545196533203,
                      -2.142780065536499
                     ],
                     [
                      -59.95545196533203,
                      -2.142780065536499
                     ],
                     [
                      -59.95545196533203,
                      -2.142780065536499
                     ],
                     [
                      -59.95545196533203,
                      -2.142780065536499
                     ],
                     [
                      -59.95545196533203,
                      -2.142780065536499
                     ],
                     [
                      -59.95545196533203,
                      -2.142780065536499
                     ],
                     [
                      -59.95545196533203,
                      -2.142780065536499
                     ],
                     [
                      -59.95545196533203,
                      -2.142780065536499
                     ],
                     [
                      -59.95545196533203,
                      -2.142780065536499
                     ],
                     [
                      -59.95545196533203,
                      -2.142780065536499
                     ],
                     [
                      -59.95545196533203,
                      -2.142780065536499
                     ],
                     [
                      -59.95545196533203,
                      -2.142780065536499
                     ],
                     [
                      -59.95545196533203,
                      -2.142780065536499
                     ],
                     [
                      -59.95545196533203,
                      -2.142780065536499
                     ],
                     [
                      -59.95545196533203,
                      -2.142780065536499
                     ],
                     [
                      -59.9554557800293,
                      -2.124813795089722
                     ],
                     [
                      -59.9554557800293,
                      -2.124813795089722
                     ],
                     [
                      -59.9554557800293,
                      -2.124813795089722
                     ],
                     [
                      -59.9554557800293,
                      -2.124813795089722
                     ],
                     [
                      -59.9554557800293,
                      -2.124813795089722
                     ],
                     [
                      -59.9554557800293,
                      -2.124813795089722
                     ],
                     [
                      -59.9554557800293,
                      -2.124813795089722
                     ],
                     [
                      -59.9554557800293,
                      -2.124813795089722
                     ],
                     [
                      -59.9554557800293,
                      -2.124813795089722
                     ],
                     [
                      -59.9554557800293,
                      -2.124813795089722
                     ],
                     [
                      -59.9554557800293,
                      -2.124813795089722
                     ],
                     [
                      -59.9554557800293,
                      -2.124813795089722
                     ],
                     [
                      -59.9554557800293,
                      -2.124813795089722
                     ],
                     [
                      -59.9554557800293,
                      -2.124813795089722
                     ],
                     [
                      -59.9554557800293,
                      -2.124813795089722
                     ],
                     [
                      -59.9554557800293,
                      -2.124813795089722
                     ],
                     [
                      -59.9554557800293,
                      -2.124813795089722
                     ],
                     [
                      -59.86556625366211,
                      -2.124807596206665
                     ],
                     [
                      -59.86556625366211,
                      -2.124807596206665
                     ],
                     [
                      -59.86556625366211,
                      -2.124807596206665
                     ],
                     [
                      -59.86556625366211,
                      -2.124807596206665
                     ],
                     [
                      -59.86556625366211,
                      -2.124807596206665
                     ],
                     [
                      -59.86556625366211,
                      -2.124807596206665
                     ],
                     [
                      -59.86556625366211,
                      -2.124807596206665
                     ],
                     [
                      -59.86556625366211,
                      -2.124807596206665
                     ],
                     [
                      -59.86556625366211,
                      -2.124807596206665
                     ],
                     [
                      -59.86556625366211,
                      -2.124807596206665
                     ],
                     [
                      -59.86556625366211,
                      -2.124807596206665
                     ],
                     [
                      -59.86556625366211,
                      -2.124807596206665
                     ],
                     [
                      -59.86556625366211,
                      -2.124807596206665
                     ],
                     [
                      -59.86556625366211,
                      -2.124807596206665
                     ],
                     [
                      -59.86556625366211,
                      -2.124807596206665
                     ],
                     [
                      -59.86556625366211,
                      -2.124807596206665
                     ],
                     [
                      -59.86556625366211,
                      -2.124807596206665
                     ],
                     [
                      -59.86556243896484,
                      -2.142773866653442
                     ],
                     [
                      -59.84758377075195,
                      -2.14277195930481
                     ],
                     [
                      -59.84758377075195,
                      -2.14277195930481
                     ],
                     [
                      -59.84758377075195,
                      -2.14277195930481
                     ],
                     [
                      -59.84758377075195,
                      -2.14277195930481
                     ],
                     [
                      -59.84758377075195,
                      -2.14277195930481
                     ],
                     [
                      -59.84758377075195,
                      -2.14277195930481
                     ],
                     [
                      -59.84758377075195,
                      -2.14277195930481
                     ],
                     [
                      -59.84758377075195,
                      -2.14277195930481
                     ],
                     [
                      -59.84758377075195,
                      -2.14277195930481
                     ],
                     [
                      -59.84758377075195,
                      -2.14277195930481
                     ],
                     [
                      -59.84758377075195,
                      -2.14277195930481
                     ],
                     [
                      -59.84758377075195,
                      -2.14277195930481
                     ],
                     [
                      -59.84758377075195,
                      -2.14277195930481
                     ],
                     [
                      -59.84758377075195,
                      -2.14277195930481
                     ],
                     [
                      -59.84758377075195,
                      -2.14277195930481
                     ],
                     [
                      -59.84758377075195,
                      -2.14277195930481
                     ],
                     [
                      -59.84758377075195,
                      -2.14277195930481
                     ],
                     [
                      -59.84758377075195,
                      -2.160738229751587
                     ],
                     [
                      -59.84758377075195,
                      -2.160738229751587
                     ],
                     [
                      -59.84758377075195,
                      -2.160738229751587
                     ],
                     [
                      -59.84758377075195,
                      -2.160738229751587
                     ],
                     [
                      -59.84758377075195,
                      -2.160738229751587
                     ],
                     [
                      -59.84758377075195,
                      -2.160738229751587
                     ],
                     [
                      -59.84758377075195,
                      -2.160738229751587
                     ],
                     [
                      -59.84758377075195,
                      -2.160738229751587
                     ],
                     [
                      -59.84758377075195,
                      -2.160738229751587
                     ],
                     [
                      -59.84758377075195,
                      -2.160738229751587
                     ],
                     [
                      -59.84758377075195,
                      -2.160738229751587
                     ],
                     [
                      -59.84758377075195,
                      -2.160738229751587
                     ],
                     [
                      -59.84758377075195,
                      -2.160738229751587
                     ],
                     [
                      -59.84758377075195,
                      -2.160738229751587
                     ],
                     [
                      -59.84758377075195,
                      -2.160738229751587
                     ],
                     [
                      -59.84758377075195,
                      -2.160738229751587
                     ],
                     [
                      -59.84758377075195,
                      -2.160738229751587
                     ],
                     [
                      -59.86556243896484,
                      -2.16074013710022
                     ],
                     [
                      -59.86555862426758,
                      -2.178706407546997
                     ],
                     [
                      -59.84757995605469,
                      -2.178704500198364
                     ],
                     [
                      -59.84757995605469,
                      -2.178704500198364
                     ],
                     [
                      -59.84757995605469,
                      -2.178704500198364
                     ],
                     [
                      -59.84757995605469,
                      -2.178704500198364
                     ],
                     [
                      -59.84757995605469,
                      -2.178704500198364
                     ],
                     [
                      -59.84757995605469,
                      -2.178704500198364
                     ],
                     [
                      -59.84757995605469,
                      -2.178704500198364
                     ],
                     [
                      -59.84757995605469,
                      -2.178704500198364
                     ],
                     [
                      -59.84757995605469,
                      -2.178704500198364
                     ],
                     [
                      -59.84757995605469,
                      -2.178704500198364
                     ],
                     [
                      -59.84757995605469,
                      -2.178704500198364
                     ],
                     [
                      -59.84757995605469,
                      -2.178704500198364
                     ],
                     [
                      -59.84757995605469,
                      -2.178704500198364
                     ],
                     [
                      -59.84757995605469,
                      -2.178704500198364
                     ],
                     [
                      -59.84757995605469,
                      -2.178704500198364
                     ],
                     [
                      -59.84757995605469,
                      -2.178704500198364
                     ],
                     [
                      -59.84757995605469,
                      -2.178704500198364
                     ],
                     [
                      -59.84757995605469,
                      -2.196670770645142
                     ],
                     [
                      -59.84757995605469,
                      -2.196670770645142
                     ],
                     [
                      -59.84757995605469,
                      -2.196670770645142
                     ],
                     [
                      -59.84757995605469,
                      -2.196670770645142
                     ],
                     [
                      -59.84757995605469,
                      -2.196670770645142
                     ],
                     [
                      -59.84757995605469,
                      -2.196670770645142
                     ],
                     [
                      -59.84757995605469,
                      -2.196670770645142
                     ],
                     [
                      -59.84757995605469,
                      -2.196670770645142
                     ],
                     [
                      -59.84757995605469,
                      -2.196670770645142
                     ],
                     [
                      -59.84757995605469,
                      -2.196670770645142
                     ],
                     [
                      -59.84757995605469,
                      -2.196670770645142
                     ],
                     [
                      -59.84757995605469,
                      -2.196670770645142
                     ],
                     [
                      -59.84757995605469,
                      -2.196670770645142
                     ],
                     [
                      -59.84757995605469,
                      -2.196670770645142
                     ],
                     [
                      -59.84757995605469,
                      -2.196670770645142
                     ],
                     [
                      -59.84757995605469,
                      -2.196670770645142
                     ],
                     [
                      -59.84757995605469,
                      -2.196670770645142
                     ],
                     [
                      -59.86555862426758,
                      -2.196672916412354
                     ],
                     [
                      -59.86555862426758,
                      -2.214639186859131
                     ],
                     [
                      -59.86555862426758,
                      -2.214639186859131
                     ],
                     [
                      -59.86555862426758,
                      -2.214639186859131
                     ],
                     [
                      -59.86555862426758,
                      -2.214639186859131
                     ],
                     [
                      -59.86555862426758,
                      -2.214639186859131
                     ],
                     [
                      -59.86555862426758,
                      -2.214639186859131
                     ],
                     [
                      -59.86555862426758,
                      -2.214639186859131
                     ],
                     [
                      -59.86555862426758,
                      -2.214639186859131
                     ],
                     [
                      -59.86555862426758,
                      -2.214639186859131
                     ],
                     [
                      -59.86555862426758,
                      -2.214639186859131
                     ],
                     [
                      -59.86555862426758,
                      -2.214639186859131
                     ],
                     [
                      -59.86555862426758,
                      -2.214639186859131
                     ],
                     [
                      -59.86555862426758,
                      -2.214639186859131
                     ],
                     [
                      -59.86555862426758,
                      -2.214639186859131
                     ],
                     [
                      -59.86555862426758,
                      -2.214639186859131
                     ],
                     [
                      -59.86555862426758,
                      -2.214639186859131
                     ],
                     [
                      -59.86555862426758,
                      -2.214639186859131
                     ],
                     [
                      -59.88353729248047,
                      -2.214640855789185
                     ],
                     [
                      -59.8835334777832,
                      -2.250573396682739
                     ],
                     [
                      -59.86555480957031,
                      -2.250571727752686
                     ],
                     [
                      -59.86555480957031,
                      -2.250571727752686
                     ],
                     [
                      -59.86555480957031,
                      -2.250571727752686
                     ],
                     [
                      -59.86555480957031,
                      -2.250571727752686
                     ],
                     [
                      -59.86555480957031,
                      -2.250571727752686
                     ],
                     [
                      -59.86555480957031,
                      -2.250571727752686
                     ],
                     [
                      -59.86555480957031,
                      -2.250571727752686
                     ],
                     [
                      -59.86555480957031,
                      -2.250571727752686
                     ],
                     [
                      -59.86555480957031,
                      -2.250571727752686
                     ],
                     [
                      -59.86555480957031,
                      -2.250571727752686
                     ],
                     [
                      -59.86555480957031,
                      -2.250571727752686
                     ],
                     [
                      -59.86555480957031,
                      -2.250571727752686
                     ],
                     [
                      -59.86555480957031,
                      -2.250571727752686
                     ],
                     [
                      -59.86555480957031,
                      -2.250571727752686
                     ],
                     [
                      -59.86555480957031,
                      -2.250571727752686
                     ],
                     [
                      -59.86555480957031,
                      -2.250571727752686
                     ],
                     [
                      -59.86555480957031,
                      -2.250571727752686
                     ],
                     [
                      -59.86555099487305,
                      -2.268537998199463
                     ],
                     [
                      -59.86555099487305,
                      -2.268537998199463
                     ],
                     [
                      -59.86555099487305,
                      -2.268537998199463
                     ],
                     [
                      -59.86555099487305,
                      -2.268537998199463
                     ],
                     [
                      -59.86555099487305,
                      -2.268537998199463
                     ],
                     [
                      -59.86555099487305,
                      -2.268537998199463
                     ],
                     [
                      -59.86555099487305,
                      -2.268537998199463
                     ],
                     [
                      -59.86555099487305,
                      -2.268537998199463
                     ],
                     [
                      -59.86555099487305,
                      -2.268537998199463
                     ],
                     [
                      -59.86555099487305,
                      -2.268537998199463
                     ],
                     [
                      -59.86555099487305,
                      -2.268537998199463
                     ],
                     [
                      -59.86555099487305,
                      -2.268537998199463
                     ],
                     [
                      -59.86555099487305,
                      -2.268537998199463
                     ],
                     [
                      -59.86555099487305,
                      -2.268537998199463
                     ],
                     [
                      -59.86555099487305,
                      -2.268537998199463
                     ],
                     [
                      -59.86555099487305,
                      -2.268537998199463
                     ],
                     [
                      -59.86555099487305,
                      -2.268537998199463
                     ],
                     [
                      -59.88352966308594,
                      -2.268539905548096
                     ],
                     [
                      -59.88352966308594,
                      -2.30447244644165
                     ],
                     [
                      -59.88352966308594,
                      -2.30447244644165
                     ],
                     [
                      -59.88352966308594,
                      -2.30447244644165
                     ],
                     [
                      -59.88352966308594,
                      -2.30447244644165
                     ],
                     [
                      -59.88352966308594,
                      -2.30447244644165
                     ],
                     [
                      -59.88352966308594,
                      -2.30447244644165
                     ],
                     [
                      -59.88352966308594,
                      -2.30447244644165
                     ],
                     [
                      -59.88352966308594,
                      -2.30447244644165
                     ],
                     [
                      -59.88352966308594,
                      -2.30447244644165
                     ],
                     [
                      -59.88352966308594,
                      -2.30447244644165
                     ],
                     [
                      -59.88352966308594,
                      -2.30447244644165
                     ],
                     [
                      -59.88352966308594,
                      -2.30447244644165
                     ],
                     [
                      -59.88352966308594,
                      -2.30447244644165
                     ],
                     [
                      -59.88352966308594,
                      -2.30447244644165
                     ],
                     [
                      -59.88352966308594,
                      -2.30447244644165
                     ],
                     [
                      -59.88352966308594,
                      -2.30447244644165
                     ],
                     [
                      -59.88352966308594,
                      -2.30447244644165
                     ],
                     [
                      -59.91948699951172,
                      -2.3044753074646
                     ]
                    ]
                   ],
                   "type": "Polygon"
                  },
                  "id": "('Fam_13', 92)",
                  "properties": {},
                  "type": "Feature"
                 }
                ],
                "type": "FeatureCollection"
               },
               "type": "line"
              },
              {
               "color": "red",
               "line": {
                "width": 1.5
               },
               "name": "geom_40",
               "source": {
                "bbox": [
                 -59.95545196533203,
                 -2.3044753074646,
                 -59.86555862426758,
                 -2.124809503555298
                ],
                "features": [
                 {
                  "bbox": [
                   -59.95545196533203,
                   -2.3044753074646,
                   -59.86555862426758,
                   -2.124809503555298
                  ],
                  "geometry": {
                   "coordinates": [
                    [
                     [
                      -59.91948699951172,
                      -2.3044753074646
                     ],
                     [
                      -59.91948699951172,
                      -2.3044753074646
                     ],
                     [
                      -59.91948699951172,
                      -2.3044753074646
                     ],
                     [
                      -59.91948699951172,
                      -2.3044753074646
                     ],
                     [
                      -59.91948699951172,
                      -2.3044753074646
                     ],
                     [
                      -59.91948699951172,
                      -2.3044753074646
                     ],
                     [
                      -59.91948699951172,
                      -2.3044753074646
                     ],
                     [
                      -59.91948699951172,
                      -2.3044753074646
                     ],
                     [
                      -59.91948699951172,
                      -2.3044753074646
                     ],
                     [
                      -59.91948699951172,
                      -2.3044753074646
                     ],
                     [
                      -59.91948699951172,
                      -2.3044753074646
                     ],
                     [
                      -59.91948699951172,
                      -2.3044753074646
                     ],
                     [
                      -59.91948699951172,
                      -2.3044753074646
                     ],
                     [
                      -59.91948699951172,
                      -2.3044753074646
                     ],
                     [
                      -59.91948699951172,
                      -2.3044753074646
                     ],
                     [
                      -59.91948699951172,
                      -2.3044753074646
                     ],
                     [
                      -59.91948699951172,
                      -2.3044753074646
                     ],
                     [
                      -59.91949081420898,
                      -2.268542528152466
                     ],
                     [
                      -59.93746948242188,
                      -2.268543481826782
                     ],
                     [
                      -59.93746948242188,
                      -2.268543481826782
                     ],
                     [
                      -59.93746948242188,
                      -2.268543481826782
                     ],
                     [
                      -59.93746948242188,
                      -2.268543481826782
                     ],
                     [
                      -59.93746948242188,
                      -2.268543481826782
                     ],
                     [
                      -59.93746948242188,
                      -2.268543481826782
                     ],
                     [
                      -59.93746948242188,
                      -2.268543481826782
                     ],
                     [
                      -59.93746948242188,
                      -2.268543481826782
                     ],
                     [
                      -59.93746948242188,
                      -2.268543481826782
                     ],
                     [
                      -59.93746948242188,
                      -2.268543481826782
                     ],
                     [
                      -59.93746948242188,
                      -2.268543481826782
                     ],
                     [
                      -59.93746948242188,
                      -2.268543481826782
                     ],
                     [
                      -59.93746948242188,
                      -2.268543481826782
                     ],
                     [
                      -59.93746948242188,
                      -2.268543481826782
                     ],
                     [
                      -59.93746948242188,
                      -2.268543481826782
                     ],
                     [
                      -59.93746948242188,
                      -2.268543481826782
                     ],
                     [
                      -59.93746948242188,
                      -2.268543481826782
                     ],
                     [
                      -59.93746948242188,
                      -2.250577211380005
                     ],
                     [
                      -59.93746948242188,
                      -2.250577211380005
                     ],
                     [
                      -59.93746948242188,
                      -2.250577211380005
                     ],
                     [
                      -59.93746948242188,
                      -2.250577211380005
                     ],
                     [
                      -59.93746948242188,
                      -2.250577211380005
                     ],
                     [
                      -59.93746948242188,
                      -2.250577211380005
                     ],
                     [
                      -59.93746948242188,
                      -2.250577211380005
                     ],
                     [
                      -59.93746948242188,
                      -2.250577211380005
                     ],
                     [
                      -59.93746948242188,
                      -2.250577211380005
                     ],
                     [
                      -59.93746948242188,
                      -2.250577211380005
                     ],
                     [
                      -59.93746948242188,
                      -2.250577211380005
                     ],
                     [
                      -59.93746948242188,
                      -2.250577211380005
                     ],
                     [
                      -59.93746948242188,
                      -2.250577211380005
                     ],
                     [
                      -59.93746948242188,
                      -2.250577211380005
                     ],
                     [
                      -59.93746948242188,
                      -2.250577211380005
                     ],
                     [
                      -59.93746948242188,
                      -2.250577211380005
                     ],
                     [
                      -59.93746948242188,
                      -2.250577211380005
                     ],
                     [
                      -59.91949081420898,
                      -2.250576257705688
                     ],
                     [
                      -59.91949081420898,
                      -2.232609987258911
                     ],
                     [
                      -59.93747329711914,
                      -2.232610940933228
                     ],
                     [
                      -59.93747329711914,
                      -2.232610940933228
                     ],
                     [
                      -59.93747329711914,
                      -2.232610940933228
                     ],
                     [
                      -59.93747329711914,
                      -2.232610940933228
                     ],
                     [
                      -59.93747329711914,
                      -2.232610940933228
                     ],
                     [
                      -59.93747329711914,
                      -2.232610940933228
                     ],
                     [
                      -59.93747329711914,
                      -2.232610940933228
                     ],
                     [
                      -59.93747329711914,
                      -2.232610940933228
                     ],
                     [
                      -59.93747329711914,
                      -2.232610940933228
                     ],
                     [
                      -59.93747329711914,
                      -2.232610940933228
                     ],
                     [
                      -59.93747329711914,
                      -2.232610940933228
                     ],
                     [
                      -59.93747329711914,
                      -2.232610940933228
                     ],
                     [
                      -59.93747329711914,
                      -2.232610940933228
                     ],
                     [
                      -59.93747329711914,
                      -2.232610940933228
                     ],
                     [
                      -59.93747329711914,
                      -2.232610940933228
                     ],
                     [
                      -59.93747329711914,
                      -2.232610940933228
                     ],
                     [
                      -59.93747329711914,
                      -2.232610940933228
                     ],
                     [
                      -59.93747329711914,
                      -2.196678400039673
                     ],
                     [
                      -59.95545196533203,
                      -2.19667911529541
                     ],
                     [
                      -59.95545196533203,
                      -2.19667911529541
                     ],
                     [
                      -59.95545196533203,
                      -2.19667911529541
                     ],
                     [
                      -59.95545196533203,
                      -2.19667911529541
                     ],
                     [
                      -59.95545196533203,
                      -2.19667911529541
                     ],
                     [
                      -59.95545196533203,
                      -2.19667911529541
                     ],
                     [
                      -59.95545196533203,
                      -2.19667911529541
                     ],
                     [
                      -59.95545196533203,
                      -2.19667911529541
                     ],
                     [
                      -59.95545196533203,
                      -2.19667911529541
                     ],
                     [
                      -59.95545196533203,
                      -2.19667911529541
                     ],
                     [
                      -59.95545196533203,
                      -2.19667911529541
                     ],
                     [
                      -59.95545196533203,
                      -2.19667911529541
                     ],
                     [
                      -59.95545196533203,
                      -2.19667911529541
                     ],
                     [
                      -59.95545196533203,
                      -2.19667911529541
                     ],
                     [
                      -59.95545196533203,
                      -2.19667911529541
                     ],
                     [
                      -59.95545196533203,
                      -2.19667911529541
                     ],
                     [
                      -59.95545196533203,
                      -2.19667911529541
                     ],
                     [
                      -59.95545196533203,
                      -2.160746574401855
                     ],
                     [
                      -59.95545196533203,
                      -2.160746574401855
                     ],
                     [
                      -59.95545196533203,
                      -2.160746574401855
                     ],
                     [
                      -59.95545196533203,
                      -2.160746574401855
                     ],
                     [
                      -59.95545196533203,
                      -2.160746574401855
                     ],
                     [
                      -59.95545196533203,
                      -2.160746574401855
                     ],
                     [
                      -59.95545196533203,
                      -2.160746574401855
                     ],
                     [
                      -59.95545196533203,
                      -2.160746574401855
                     ],
                     [
                      -59.95545196533203,
                      -2.160746574401855
                     ],
                     [
                      -59.95545196533203,
                      -2.160746574401855
                     ],
                     [
                      -59.95545196533203,
                      -2.160746574401855
                     ],
                     [
                      -59.95545196533203,
                      -2.160746574401855
                     ],
                     [
                      -59.95545196533203,
                      -2.160746574401855
                     ],
                     [
                      -59.95545196533203,
                      -2.160746574401855
                     ],
                     [
                      -59.95545196533203,
                      -2.160746574401855
                     ],
                     [
                      -59.95545196533203,
                      -2.160746574401855
                     ],
                     [
                      -59.95545196533203,
                      -2.160746574401855
                     ],
                     [
                      -59.91949462890625,
                      -2.160744905471802
                     ],
                     [
                      -59.91949844360352,
                      -2.142778396606445
                     ],
                     [
                      -59.91949844360352,
                      -2.142778396606445
                     ],
                     [
                      -59.91949844360352,
                      -2.142778396606445
                     ],
                     [
                      -59.91949844360352,
                      -2.142778396606445
                     ],
                     [
                      -59.91949844360352,
                      -2.142778396606445
                     ],
                     [
                      -59.91949844360352,
                      -2.142778396606445
                     ],
                     [
                      -59.91949844360352,
                      -2.142778396606445
                     ],
                     [
                      -59.91949844360352,
                      -2.142778396606445
                     ],
                     [
                      -59.91949844360352,
                      -2.142778396606445
                     ],
                     [
                      -59.91949844360352,
                      -2.142778396606445
                     ],
                     [
                      -59.91949844360352,
                      -2.142778396606445
                     ],
                     [
                      -59.91949844360352,
                      -2.142778396606445
                     ],
                     [
                      -59.91949844360352,
                      -2.142778396606445
                     ],
                     [
                      -59.91949844360352,
                      -2.142778396606445
                     ],
                     [
                      -59.91949844360352,
                      -2.142778396606445
                     ],
                     [
                      -59.91949844360352,
                      -2.142778396606445
                     ],
                     [
                      -59.91949844360352,
                      -2.142778396606445
                     ],
                     [
                      -59.90151977539062,
                      -2.14277720451355
                     ],
                     [
                      -59.90151977539062,
                      -2.124810934066772
                     ],
                     [
                      -59.90151977539062,
                      -2.124810934066772
                     ],
                     [
                      -59.90151977539062,
                      -2.124810934066772
                     ],
                     [
                      -59.90151977539062,
                      -2.124810934066772
                     ],
                     [
                      -59.90151977539062,
                      -2.124810934066772
                     ],
                     [
                      -59.90151977539062,
                      -2.124810934066772
                     ],
                     [
                      -59.90151977539062,
                      -2.124810934066772
                     ],
                     [
                      -59.90151977539062,
                      -2.124810934066772
                     ],
                     [
                      -59.90151977539062,
                      -2.124810934066772
                     ],
                     [
                      -59.90151977539062,
                      -2.124810934066772
                     ],
                     [
                      -59.90151977539062,
                      -2.124810934066772
                     ],
                     [
                      -59.90151977539062,
                      -2.124810934066772
                     ],
                     [
                      -59.90151977539062,
                      -2.124810934066772
                     ],
                     [
                      -59.90151977539062,
                      -2.124810934066772
                     ],
                     [
                      -59.90151977539062,
                      -2.124810934066772
                     ],
                     [
                      -59.90151977539062,
                      -2.124810934066772
                     ],
                     [
                      -59.90151977539062,
                      -2.124810934066772
                     ],
                     [
                      -59.883544921875,
                      -2.124809503555298
                     ],
                     [
                      -59.883544921875,
                      -2.124809503555298
                     ],
                     [
                      -59.883544921875,
                      -2.124809503555298
                     ],
                     [
                      -59.883544921875,
                      -2.124809503555298
                     ],
                     [
                      -59.883544921875,
                      -2.124809503555298
                     ],
                     [
                      -59.883544921875,
                      -2.124809503555298
                     ],
                     [
                      -59.883544921875,
                      -2.124809503555298
                     ],
                     [
                      -59.883544921875,
                      -2.124809503555298
                     ],
                     [
                      -59.883544921875,
                      -2.124809503555298
                     ],
                     [
                      -59.883544921875,
                      -2.124809503555298
                     ],
                     [
                      -59.883544921875,
                      -2.124809503555298
                     ],
                     [
                      -59.883544921875,
                      -2.124809503555298
                     ],
                     [
                      -59.883544921875,
                      -2.124809503555298
                     ],
                     [
                      -59.883544921875,
                      -2.124809503555298
                     ],
                     [
                      -59.883544921875,
                      -2.124809503555298
                     ],
                     [
                      -59.883544921875,
                      -2.124809503555298
                     ],
                     [
                      -59.883544921875,
                      -2.124809503555298
                     ],
                     [
                      -59.88354110717773,
                      -2.142775774002075
                     ],
                     [
                      -59.86556243896484,
                      -2.142773866653442
                     ],
                     [
                      -59.86556243896484,
                      -2.142773866653442
                     ],
                     [
                      -59.86556243896484,
                      -2.142773866653442
                     ],
                     [
                      -59.86556243896484,
                      -2.142773866653442
                     ],
                     [
                      -59.86556243896484,
                      -2.142773866653442
                     ],
                     [
                      -59.86556243896484,
                      -2.142773866653442
                     ],
                     [
                      -59.86556243896484,
                      -2.142773866653442
                     ],
                     [
                      -59.86556243896484,
                      -2.142773866653442
                     ],
                     [
                      -59.86556243896484,
                      -2.142773866653442
                     ],
                     [
                      -59.86556243896484,
                      -2.142773866653442
                     ],
                     [
                      -59.86556243896484,
                      -2.142773866653442
                     ],
                     [
                      -59.86556243896484,
                      -2.142773866653442
                     ],
                     [
                      -59.86556243896484,
                      -2.142773866653442
                     ],
                     [
                      -59.86556243896484,
                      -2.142773866653442
                     ],
                     [
                      -59.86556243896484,
                      -2.142773866653442
                     ],
                     [
                      -59.86556243896484,
                      -2.142773866653442
                     ],
                     [
                      -59.86556243896484,
                      -2.142773866653442
                     ],
                     [
                      -59.86555862426758,
                      -2.196672916412354
                     ],
                     [
                      -59.86555862426758,
                      -2.196672916412354
                     ],
                     [
                      -59.86555862426758,
                      -2.196672916412354
                     ],
                     [
                      -59.86555862426758,
                      -2.196672916412354
                     ],
                     [
                      -59.86555862426758,
                      -2.196672916412354
                     ],
                     [
                      -59.86555862426758,
                      -2.196672916412354
                     ],
                     [
                      -59.86555862426758,
                      -2.196672916412354
                     ],
                     [
                      -59.86555862426758,
                      -2.196672916412354
                     ],
                     [
                      -59.86555862426758,
                      -2.196672916412354
                     ],
                     [
                      -59.86555862426758,
                      -2.196672916412354
                     ],
                     [
                      -59.86555862426758,
                      -2.196672916412354
                     ],
                     [
                      -59.86555862426758,
                      -2.196672916412354
                     ],
                     [
                      -59.86555862426758,
                      -2.196672916412354
                     ],
                     [
                      -59.86555862426758,
                      -2.196672916412354
                     ],
                     [
                      -59.86555862426758,
                      -2.196672916412354
                     ],
                     [
                      -59.86555862426758,
                      -2.196672916412354
                     ],
                     [
                      -59.86555862426758,
                      -2.196672916412354
                     ],
                     [
                      -59.88353729248047,
                      -2.196674585342407
                     ],
                     [
                      -59.8835334777832,
                      -2.232607126235962
                     ],
                     [
                      -59.8835334777832,
                      -2.232607126235962
                     ],
                     [
                      -59.8835334777832,
                      -2.232607126235962
                     ],
                     [
                      -59.8835334777832,
                      -2.232607126235962
                     ],
                     [
                      -59.8835334777832,
                      -2.232607126235962
                     ],
                     [
                      -59.8835334777832,
                      -2.232607126235962
                     ],
                     [
                      -59.8835334777832,
                      -2.232607126235962
                     ],
                     [
                      -59.8835334777832,
                      -2.232607126235962
                     ],
                     [
                      -59.8835334777832,
                      -2.232607126235962
                     ],
                     [
                      -59.8835334777832,
                      -2.232607126235962
                     ],
                     [
                      -59.8835334777832,
                      -2.232607126235962
                     ],
                     [
                      -59.8835334777832,
                      -2.232607126235962
                     ],
                     [
                      -59.8835334777832,
                      -2.232607126235962
                     ],
                     [
                      -59.8835334777832,
                      -2.232607126235962
                     ],
                     [
                      -59.8835334777832,
                      -2.232607126235962
                     ],
                     [
                      -59.8835334777832,
                      -2.232607126235962
                     ],
                     [
                      -59.8835334777832,
                      -2.232607126235962
                     ],
                     [
                      -59.90151214599609,
                      -2.232608795166016
                     ],
                     [
                      -59.90151214599609,
                      -2.250575065612793
                     ],
                     [
                      -59.8835334777832,
                      -2.250573396682739
                     ],
                     [
                      -59.8835334777832,
                      -2.250573396682739
                     ],
                     [
                      -59.8835334777832,
                      -2.250573396682739
                     ],
                     [
                      -59.8835334777832,
                      -2.250573396682739
                     ],
                     [
                      -59.8835334777832,
                      -2.250573396682739
                     ],
                     [
                      -59.8835334777832,
                      -2.250573396682739
                     ],
                     [
                      -59.8835334777832,
                      -2.250573396682739
                     ],
                     [
                      -59.8835334777832,
                      -2.250573396682739
                     ],
                     [
                      -59.8835334777832,
                      -2.250573396682739
                     ],
                     [
                      -59.8835334777832,
                      -2.250573396682739
                     ],
                     [
                      -59.8835334777832,
                      -2.250573396682739
                     ],
                     [
                      -59.8835334777832,
                      -2.250573396682739
                     ],
                     [
                      -59.8835334777832,
                      -2.250573396682739
                     ],
                     [
                      -59.8835334777832,
                      -2.250573396682739
                     ],
                     [
                      -59.8835334777832,
                      -2.250573396682739
                     ],
                     [
                      -59.8835334777832,
                      -2.250573396682739
                     ],
                     [
                      -59.8835334777832,
                      -2.250573396682739
                     ],
                     [
                      -59.88352966308594,
                      -2.30447244644165
                     ],
                     [
                      -59.88352966308594,
                      -2.30447244644165
                     ],
                     [
                      -59.88352966308594,
                      -2.30447244644165
                     ],
                     [
                      -59.88352966308594,
                      -2.30447244644165
                     ],
                     [
                      -59.88352966308594,
                      -2.30447244644165
                     ],
                     [
                      -59.88352966308594,
                      -2.30447244644165
                     ],
                     [
                      -59.88352966308594,
                      -2.30447244644165
                     ],
                     [
                      -59.88352966308594,
                      -2.30447244644165
                     ],
                     [
                      -59.88352966308594,
                      -2.30447244644165
                     ],
                     [
                      -59.88352966308594,
                      -2.30447244644165
                     ],
                     [
                      -59.88352966308594,
                      -2.30447244644165
                     ],
                     [
                      -59.88352966308594,
                      -2.30447244644165
                     ],
                     [
                      -59.88352966308594,
                      -2.30447244644165
                     ],
                     [
                      -59.88352966308594,
                      -2.30447244644165
                     ],
                     [
                      -59.88352966308594,
                      -2.30447244644165
                     ],
                     [
                      -59.88352966308594,
                      -2.30447244644165
                     ],
                     [
                      -59.88352966308594,
                      -2.30447244644165
                     ],
                     [
                      -59.91948699951172,
                      -2.3044753074646
                     ]
                    ]
                   ],
                   "type": "Polygon"
                  },
                  "id": "('Fam_13', 92)",
                  "properties": {},
                  "type": "Feature"
                 }
                ],
                "type": "FeatureCollection"
               },
               "type": "line"
              },
              {
               "color": "black",
               "line": {
                "width": 4
               },
               "name": "Trajectory",
               "source": {
                "bbox": [
                 -59.84758377075195,
                 -2.14277195930481,
                 -59.77567672729492,
                 -2.124794483184814
                ],
                "features": [
                 {
                  "bbox": [
                   -59.84758377075195,
                   -2.14277195930481,
                   -59.77567672729492,
                   -2.124794483184814
                  ],
                  "geometry": {
                   "coordinates": [
                    [
                     -59.77567672729492,
                     -2.124794483184814
                    ],
                    [
                     -59.84758377075195,
                     -2.14277195930481
                    ]
                   ],
                   "type": "LineString"
                  },
                  "id": "('Fam_13', 92)",
                  "properties": {},
                  "type": "Feature"
                 }
                ],
                "type": "FeatureCollection"
               },
               "type": "line"
              },
              {
               "below": "traces",
               "coordinates": [
                [
                 -62.14714189584819,
                 -5.295901131951463
                ],
                [
                 -57.83567670766743,
                 -5.295901131951463
                ],
                [
                 -57.83567670766743,
                 -1.0001668807629231
                ],
                [
                 -62.14714189584819,
                 -1.0001668807629231
                ]
               ],
               "source": "data:image/png;base64,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",
               "sourcetype": "image"
              },
              {
               "below": "traces",
               "coordinates": [
                [
                 -62.14714189584819,
                 -5.295901131951463
                ],
                [
                 -57.83567670766743,
                 -5.295901131951463
                ],
                [
                 -57.83567670766743,
                 -1.0001668807629231
                ],
                [
                 -62.14714189584819,
                 -1.0001668807629231
                ]
               ],
               "source": "data:image/png;base64,iVBORw0KGgoAAAANSUhEUgAAAPEAAADxCAYAAAAay1EJAAACe0lEQVR4nO3dsU3DQBSA4TOCkpYhqCnYgZoBYAfEDAyQlgUQJTt4AoZgAiSKo0JYEU4g2HHeve+rgOqQ+PXubOOUAgAAAAAAAAAAAAAAAAAAAAAAAAAAAAAAAAAAAAAAAAAAAAAAAAAAAAAAAAAAAAAAAAAAAAAAAAAAAAAAAAAAAAAAAAAAAAAAAAAAQBwX7/3SSwD+S8iTOVp6ASQmZAju4r0XMgAAAAAAM7tb9eVu5Wr0xNwnZv+EPCkRAzBibPtsEkMgzsHQABEDAAAAAAAAAAAAAAAAAAAAAAAA0JKb59P+5vnUy/YgMhGP8wkQEJyIAQAAAAAAAAAAAAAAAAAAAAAAAACgCfXpzLuUIYL6dNYPg13/Hv6jW3oBGWwKtrt+u9znWmiPl8cvRLxMRcQL+ApYyExBxHsgVkiqPpz09eHEBTA2MokDGAv56+diz+146QWwm2HA3f2H7XpiJvEBG8b522lrIufjPnEAfwnTVM5HxEFsC1m8edlOB7EtUtvovETcCJM4L9vpgMamrpBzMokhOBGzVb0qztsHzMMejZhjKy3eGEQczPp5eK5zsIDjEPGO6u33H3n3WPZ2Qam7/7ic43bSMNru5fv3GX7NYXJ1ekdLRTyHn6aueOMwiSdQb0sfPeRShBuVSRzYcFvtHjEAAAAATavnpa/nHuRoiWenExFvm0SclKDbIeKkulcPdrRCxBCciJNY3z7bTrdDxAmMBSvkNog4MefiNvgHiER+mrxCjs8kTkLAAAAAAAAAAAAAAAAAAAAAAAAAAAAAAAAAAAAAAAAAAAAAAAAAAAAAAAAAAAAAAAAAAAAAAAAAAAAAAAAAu/sECXihqsrs3hAAAAAASUVORK5CYII=",
               "sourcetype": "image"
              },
              {
               "below": "traces",
               "coordinates": [
                [
                 -62.14714189584819,
                 -5.295901131951463
                ],
                [
                 -57.83567670766743,
                 -5.295901131951463
                ],
                [
                 -57.83567670766743,
                 -1.0001668807629231
                ],
                [
                 -62.14714189584819,
                 -1.0001668807629231
                ]
               ],
               "source": "data:image/png;base64,iVBORw0KGgoAAAANSUhEUgAAAPEAAADxCAYAAAAay1EJAAACCUlEQVR4nO3bsW0CMQCGURuliMQMWYCa4iZImT2QMg5S9kjJBC5Ss0BmiESFUxGRKCcIBIzt9ypKU3z8d6cjBAAAAAAAAAAAAAAAAAAAAAAAAAAAAAAAAAAAAAAAAAAAAAAAAAAAAAAAAAAAAAAAAAAAAAAAAAAAAAAAAAAAAAAAAAAAAAAAAAAAAAAAAAAAAAAAgFsXSx+Ajsw36evz2/1Q8CTAyfZDBm7cfJNEC7UTMTRAyAAAAAAAAAAAAAAAAAAAAAAAAAAAAAAAAAAAAAAAAAAAAAAAAAAAAAAAAAC0Zbt6SKXPQLsmpQ/QCyFzKSK+ou3qIYmZ/ybiK5g8vg+lz0C7RHwlQoYO5eXUpTcHWWKAS8rLaRpbZEtNCJb45sXnjyGE8WCFTCx9AI5zTKy74OnLXekDcD7x9s3ldCWEyhgRQ+XcE1do7P7YWvfJEldIrOwTcYV+W2Jh90vEDRBw30RcOQEj4jPkRfC2FMV5On2i/YDjS6h6DfPT9x+j+Fr394Gj5UVI1hgAAAAAAA7Js5DyzBP1lnjZAyon4o5YYGiAkNtjiTuyC1jIbRExVE7Enfi5vta4HSKGyom4E3Edhrj2F0NogktpAAAAAAAAAAAAAAAAAAAAAAAAAAAAAAAAAAAAAAAAAAAAAAAAAAAAAAAAAAAAAAAAAAAAAAAAAAAAAACAv/kE+rVeVlIdrKIAAAAASUVORK5CYII=",
               "sourcetype": "image"
              },
              {
               "below": "traces",
               "coordinates": [
                [
                 -62.14714189584819,
                 -5.295901131951463
                ],
                [
                 -57.83567670766743,
                 -5.295901131951463
                ],
                [
                 -57.83567670766743,
                 -1.0001668807629231
                ],
                [
                 -62.14714189584819,
                 -1.0001668807629231
                ]
               ],
               "source": "data:image/png;base64,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",
               "sourcetype": "image"
              }
             ]
            ],
            "label": "All",
            "method": "relayout"
           },
           {
            "args": [
             "mapbox.layers",
             [
              {
               "below": "traces",
               "coordinates": [
                [
                 -62.14714189584819,
                 -5.295901131951463
                ],
                [
                 -57.83567670766743,
                 -5.295901131951463
                ],
                [
                 -57.83567670766743,
                 -1.0001668807629231
                ],
                [
                 -62.14714189584819,
                 -1.0001668807629231
                ]
               ],
               "source": "data:image/png;base64,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",
               "sourcetype": "image"
              }
             ]
            ],
            "label": "Clusters 20 dBZ",
            "method": "relayout"
           },
           {
            "args": [
             "mapbox.layers",
             [
              {
               "below": "traces",
               "coordinates": [
                [
                 -62.14714189584819,
                 -5.295901131951463
                ],
                [
                 -57.83567670766743,
                 -5.295901131951463
                ],
                [
                 -57.83567670766743,
                 -1.0001668807629231
                ],
                [
                 -62.14714189584819,
                 -1.0001668807629231
                ]
               ],
               "source": "data:image/png;base64,iVBORw0KGgoAAAANSUhEUgAAAPEAAADxCAYAAAAay1EJAAACe0lEQVR4nO3dsU3DQBSA4TOCkpYhqCnYgZoBYAfEDAyQlgUQJTt4AoZgAiSKo0JYEU4g2HHeve+rgOqQ+PXubOOUAgAAAAAAAAAAAAAAAAAAAAAAAAAAAAAAAAAAAAAAAAAAAAAAAAAAAAAAAAAAAAAAAAAAAAAAAAAAAAAAAAAAAAAAAAAAAAAAAAAAQBwX7/3SSwD+S8iTOVp6ASQmZAju4r0XMgAAAAAAM7tb9eVu5Wr0xNwnZv+EPCkRAzBibPtsEkMgzsHQABEDAAAAAAAAAAAAAAAAAAAAAAAA0JKb59P+5vnUy/YgMhGP8wkQEJyIAQAAAAAAAAAAAAAAAAAAAAAAAACgCfXpzLuUIYL6dNYPg13/Hv6jW3oBGWwKtrt+u9znWmiPl8cvRLxMRcQL+ApYyExBxHsgVkiqPpz09eHEBTA2MokDGAv56+diz+146QWwm2HA3f2H7XpiJvEBG8b522lrIufjPnEAfwnTVM5HxEFsC1m8edlOB7EtUtvovETcCJM4L9vpgMamrpBzMokhOBGzVb0qztsHzMMejZhjKy3eGEQczPp5eK5zsIDjEPGO6u33H3n3WPZ2Qam7/7ic43bSMNru5fv3GX7NYXJ1ekdLRTyHn6aueOMwiSdQb0sfPeRShBuVSRzYcFvtHjEAAAAATavnpa/nHuRoiWenExFvm0SclKDbIeKkulcPdrRCxBCciJNY3z7bTrdDxAmMBSvkNog4MefiNvgHiER+mrxCjs8kTkLAAAAAAAAAAAAAAAAAAAAAAAAAAAAAAAAAAAAAAAAAAAAAAAAAAAAAAAAAAAAAAAAAAAAAAAAAAAAAAAAAu/sECXihqsrs3hAAAAAASUVORK5CYII=",
               "sourcetype": "image"
              }
             ]
            ],
            "label": "Clusters 35 dBZ",
            "method": "relayout"
           },
           {
            "args": [
             "mapbox.layers",
             [
              {
               "below": "traces",
               "coordinates": [
                [
                 -62.14714189584819,
                 -5.295901131951463
                ],
                [
                 -57.83567670766743,
                 -5.295901131951463
                ],
                [
                 -57.83567670766743,
                 -1.0001668807629231
                ],
                [
                 -62.14714189584819,
                 -1.0001668807629231
                ]
               ],
               "source": "data:image/png;base64,iVBORw0KGgoAAAANSUhEUgAAAPEAAADxCAYAAAAay1EJAAACCUlEQVR4nO3bsW0CMQCGURuliMQMWYCa4iZImT2QMg5S9kjJBC5Ss0BmiESFUxGRKCcIBIzt9ypKU3z8d6cjBAAAAAAAAAAAAAAAAAAAAAAAAAAAAAAAAAAAAAAAAAAAAAAAAAAAAAAAAAAAAAAAAAAAAAAAAAAAAAAAAAAAAAAAAAAAAAAAAAAAAAAAAAAAAAAAgFsXSx+Ajsw36evz2/1Q8CTAyfZDBm7cfJNEC7UTMTRAyAAAAAAAAAAAAAAAAAAAAAAAAAAAAAAAAAAAAAAAAAAAAAAAAAAAAAAAAAC0Zbt6SKXPQLsmpQ/QCyFzKSK+ou3qIYmZ/ybiK5g8vg+lz0C7RHwlQoYO5eXUpTcHWWKAS8rLaRpbZEtNCJb45sXnjyGE8WCFTCx9AI5zTKy74OnLXekDcD7x9s3ldCWEyhgRQ+XcE1do7P7YWvfJEldIrOwTcYV+W2Jh90vEDRBw30RcOQEj4jPkRfC2FMV5On2i/YDjS6h6DfPT9x+j+Fr394Gj5UVI1hgAAAAAAA7Js5DyzBP1lnjZAyon4o5YYGiAkNtjiTuyC1jIbRExVE7Enfi5vta4HSKGyom4E3Edhrj2F0NogktpAAAAAAAAAAAAAAAAAAAAAAAAAAAAAAAAAAAAAAAAAAAAAAAAAAAAAAAAAAAAAAAAAAAAAAAAAAAAAACAv/kE+rVeVlIdrKIAAAAASUVORK5CYII=",
               "sourcetype": "image"
              }
             ]
            ],
            "label": "Clusters 40 dBZ",
            "method": "relayout"
           },
           {
            "args": [
             "mapbox.layers",
             [
              {
               "color": "gray",
               "line": {
                "width": 1.5
               },
               "name": "geom_20",
               "source": {
                "bbox": [
                 -59.99140930175781,
                 -2.322441577911377,
                 -59.64983749389648,
                 -1.9990154504776
                ],
                "features": [
                 {
                  "bbox": [
                   -59.99140930175781,
                   -2.322441577911377,
                   -59.64983749389648,
                   -1.9990154504776
                  ],
                  "geometry": {
                   "coordinates": [
                    [
                     [
                      -59.91948699951172,
                      -2.322441577911377
                     ],
                     [
                      -59.91948699951172,
                      -2.322441577911377
                     ],
                     [
                      -59.91948699951172,
                      -2.322441577911377
                     ],
                     [
                      -59.91948699951172,
                      -2.322441577911377
                     ],
                     [
                      -59.91948699951172,
                      -2.322441577911377
                     ],
                     [
                      -59.91948699951172,
                      -2.322441577911377
                     ],
                     [
                      -59.91948699951172,
                      -2.322441577911377
                     ],
                     [
                      -59.91948699951172,
                      -2.322441577911377
                     ],
                     [
                      -59.91948699951172,
                      -2.322441577911377
                     ],
                     [
                      -59.91948699951172,
                      -2.322441577911377
                     ],
                     [
                      -59.91948699951172,
                      -2.322441577911377
                     ],
                     [
                      -59.91948699951172,
                      -2.322441577911377
                     ],
                     [
                      -59.91948699951172,
                      -2.322441577911377
                     ],
                     [
                      -59.91948699951172,
                      -2.322441577911377
                     ],
                     [
                      -59.91948699951172,
                      -2.322441577911377
                     ],
                     [
                      -59.91948699951172,
                      -2.322441577911377
                     ],
                     [
                      -59.91948699951172,
                      -2.322441577911377
                     ],
                     [
                      -59.91948699951172,
                      -2.3044753074646
                     ],
                     [
                      -59.95544815063477,
                      -2.304476976394653
                     ],
                     [
                      -59.95544815063477,
                      -2.304476976394653
                     ],
                     [
                      -59.95544815063477,
                      -2.304476976394653
                     ],
                     [
                      -59.95544815063477,
                      -2.304476976394653
                     ],
                     [
                      -59.95544815063477,
                      -2.304476976394653
                     ],
                     [
                      -59.95544815063477,
                      -2.304476976394653
                     ],
                     [
                      -59.95544815063477,
                      -2.304476976394653
                     ],
                     [
                      -59.95544815063477,
                      -2.304476976394653
                     ],
                     [
                      -59.95544815063477,
                      -2.304476976394653
                     ],
                     [
                      -59.95544815063477,
                      -2.304476976394653
                     ],
                     [
                      -59.95544815063477,
                      -2.304476976394653
                     ],
                     [
                      -59.95544815063477,
                      -2.304476976394653
                     ],
                     [
                      -59.95544815063477,
                      -2.304476976394653
                     ],
                     [
                      -59.95544815063477,
                      -2.304476976394653
                     ],
                     [
                      -59.95544815063477,
                      -2.304476976394653
                     ],
                     [
                      -59.95544815063477,
                      -2.304476976394653
                     ],
                     [
                      -59.95544815063477,
                      -2.304476976394653
                     ],
                     [
                      -59.95544815063477,
                      -2.286510705947876
                     ],
                     [
                      -59.97343063354492,
                      -2.286510944366455
                     ],
                     [
                      -59.97343063354492,
                      -2.286510944366455
                     ],
                     [
                      -59.97343063354492,
                      -2.286510944366455
                     ],
                     [
                      -59.97343063354492,
                      -2.286510944366455
                     ],
                     [
                      -59.97343063354492,
                      -2.286510944366455
                     ],
                     [
                      -59.97343063354492,
                      -2.286510944366455
                     ],
                     [
                      -59.97343063354492,
                      -2.286510944366455
                     ],
                     [
                      -59.97343063354492,
                      -2.286510944366455
                     ],
                     [
                      -59.97343063354492,
                      -2.286510944366455
                     ],
                     [
                      -59.97343063354492,
                      -2.286510944366455
                     ],
                     [
                      -59.97343063354492,
                      -2.286510944366455
                     ],
                     [
                      -59.97343063354492,
                      -2.286510944366455
                     ],
                     [
                      -59.97343063354492,
                      -2.286510944366455
                     ],
                     [
                      -59.97343063354492,
                      -2.286510944366455
                     ],
                     [
                      -59.97343063354492,
                      -2.286510944366455
                     ],
                     [
                      -59.97343063354492,
                      -2.286510944366455
                     ],
                     [
                      -59.97343063354492,
                      -2.286510944366455
                     ],
                     [
                      -59.97343063354492,
                      -2.232612133026123
                     ],
                     [
                      -59.97343063354492,
                      -2.232612133026123
                     ],
                     [
                      -59.97343063354492,
                      -2.232612133026123
                     ],
                     [
                      -59.97343063354492,
                      -2.232612133026123
                     ],
                     [
                      -59.97343063354492,
                      -2.232612133026123
                     ],
                     [
                      -59.97343063354492,
                      -2.232612133026123
                     ],
                     [
                      -59.97343063354492,
                      -2.232612133026123
                     ],
                     [
                      -59.97343063354492,
                      -2.232612133026123
                     ],
                     [
                      -59.97343063354492,
                      -2.232612133026123
                     ],
                     [
                      -59.97343063354492,
                      -2.232612133026123
                     ],
                     [
                      -59.97343063354492,
                      -2.232612133026123
                     ],
                     [
                      -59.97343063354492,
                      -2.232612133026123
                     ],
                     [
                      -59.97343063354492,
                      -2.232612133026123
                     ],
                     [
                      -59.97343063354492,
                      -2.232612133026123
                     ],
                     [
                      -59.97343063354492,
                      -2.232612133026123
                     ],
                     [
                      -59.97343063354492,
                      -2.232612133026123
                     ],
                     [
                      -59.97343063354492,
                      -2.232612133026123
                     ],
                     [
                      -59.95545196533203,
                      -2.232611656188965
                     ],
                     [
                      -59.95545196533203,
                      -2.214645385742188
                     ],
                     [
                      -59.99140930175781,
                      -2.214645862579346
                     ],
                     [
                      -59.99140930175781,
                      -2.214645862579346
                     ],
                     [
                      -59.99140930175781,
                      -2.214645862579346
                     ],
                     [
                      -59.99140930175781,
                      -2.214645862579346
                     ],
                     [
                      -59.99140930175781,
                      -2.214645862579346
                     ],
                     [
                      -59.99140930175781,
                      -2.214645862579346
                     ],
                     [
                      -59.99140930175781,
                      -2.214645862579346
                     ],
                     [
                      -59.99140930175781,
                      -2.214645862579346
                     ],
                     [
                      -59.99140930175781,
                      -2.214645862579346
                     ],
                     [
                      -59.99140930175781,
                      -2.214645862579346
                     ],
                     [
                      -59.99140930175781,
                      -2.214645862579346
                     ],
                     [
                      -59.99140930175781,
                      -2.214645862579346
                     ],
                     [
                      -59.99140930175781,
                      -2.214645862579346
                     ],
                     [
                      -59.99140930175781,
                      -2.214645862579346
                     ],
                     [
                      -59.99140930175781,
                      -2.214645862579346
                     ],
                     [
                      -59.99140930175781,
                      -2.214645862579346
                     ],
                     [
                      -59.99140930175781,
                      -2.214645862579346
                     ],
                     [
                      -59.99140930175781,
                      -2.124814510345459
                     ],
                     [
                      -59.99140930175781,
                      -2.124814510345459
                     ],
                     [
                      -59.99140930175781,
                      -2.124814510345459
                     ],
                     [
                      -59.99140930175781,
                      -2.124814510345459
                     ],
                     [
                      -59.99140930175781,
                      -2.124814510345459
                     ],
                     [
                      -59.99140930175781,
                      -2.124814510345459
                     ],
                     [
                      -59.99140930175781,
                      -2.124814510345459
                     ],
                     [
                      -59.99140930175781,
                      -2.124814510345459
                     ],
                     [
                      -59.99140930175781,
                      -2.124814510345459
                     ],
                     [
                      -59.99140930175781,
                      -2.124814510345459
                     ],
                     [
                      -59.99140930175781,
                      -2.124814510345459
                     ],
                     [
                      -59.99140930175781,
                      -2.124814510345459
                     ],
                     [
                      -59.99140930175781,
                      -2.124814510345459
                     ],
                     [
                      -59.99140930175781,
                      -2.124814510345459
                     ],
                     [
                      -59.99140930175781,
                      -2.124814510345459
                     ],
                     [
                      -59.99140930175781,
                      -2.124814510345459
                     ],
                     [
                      -59.99140930175781,
                      -2.124814510345459
                     ],
                     [
                      -59.97343063354492,
                      -2.12481427192688
                     ],
                     [
                      -59.97343063354492,
                      -2.106848001480103
                     ],
                     [
                      -59.97343063354492,
                      -2.106848001480103
                     ],
                     [
                      -59.97343063354492,
                      -2.106848001480103
                     ],
                     [
                      -59.97343063354492,
                      -2.106848001480103
                     ],
                     [
                      -59.97343063354492,
                      -2.106848001480103
                     ],
                     [
                      -59.97343063354492,
                      -2.106848001480103
                     ],
                     [
                      -59.97343063354492,
                      -2.106848001480103
                     ],
                     [
                      -59.97343063354492,
                      -2.106848001480103
                     ],
                     [
                      -59.97343063354492,
                      -2.106848001480103
                     ],
                     [
                      -59.97343063354492,
                      -2.106848001480103
                     ],
                     [
                      -59.97343063354492,
                      -2.106848001480103
                     ],
                     [
                      -59.97343063354492,
                      -2.106848001480103
                     ],
                     [
                      -59.97343063354492,
                      -2.106848001480103
                     ],
                     [
                      -59.97343063354492,
                      -2.106848001480103
                     ],
                     [
                      -59.97343063354492,
                      -2.106848001480103
                     ],
                     [
                      -59.97343063354492,
                      -2.106848001480103
                     ],
                     [
                      -59.97343063354492,
                      -2.106848001480103
                     ],
                     [
                      -59.9554557800293,
                      -2.106847524642944
                     ],
                     [
                      -59.9554557800293,
                      -2.07091498374939
                     ],
                     [
                      -59.97343063354492,
                      -2.070915460586548
                     ],
                     [
                      -59.97343063354492,
                      -2.070915460586548
                     ],
                     [
                      -59.97343063354492,
                      -2.070915460586548
                     ],
                     [
                      -59.97343063354492,
                      -2.070915460586548
                     ],
                     [
                      -59.97343063354492,
                      -2.070915460586548
                     ],
                     [
                      -59.97343063354492,
                      -2.070915460586548
                     ],
                     [
                      -59.97343063354492,
                      -2.070915460586548
                     ],
                     [
                      -59.97343063354492,
                      -2.070915460586548
                     ],
                     [
                      -59.97343063354492,
                      -2.070915460586548
                     ],
                     [
                      -59.97343063354492,
                      -2.070915460586548
                     ],
                     [
                      -59.97343063354492,
                      -2.070915460586548
                     ],
                     [
                      -59.97343063354492,
                      -2.070915460586548
                     ],
                     [
                      -59.97343063354492,
                      -2.070915460586548
                     ],
                     [
                      -59.97343063354492,
                      -2.070915460586548
                     ],
                     [
                      -59.97343063354492,
                      -2.070915460586548
                     ],
                     [
                      -59.97343063354492,
                      -2.070915460586548
                     ],
                     [
                      -59.97343063354492,
                      -2.070915460586548
                     ],
                     [
                      -59.97343444824219,
                      -2.052948951721191
                     ],
                     [
                      -59.97343444824219,
                      -2.052948951721191
                     ],
                     [
                      -59.97343444824219,
                      -2.052948951721191
                     ],
                     [
                      -59.97343444824219,
                      -2.052948951721191
                     ],
                     [
                      -59.97343444824219,
                      -2.052948951721191
                     ],
                     [
                      -59.97343444824219,
                      -2.052948951721191
                     ],
                     [
                      -59.97343444824219,
                      -2.052948951721191
                     ],
                     [
                      -59.97343444824219,
                      -2.052948951721191
                     ],
                     [
                      -59.97343444824219,
                      -2.052948951721191
                     ],
                     [
                      -59.97343444824219,
                      -2.052948951721191
                     ],
                     [
                      -59.97343444824219,
                      -2.052948951721191
                     ],
                     [
                      -59.97343444824219,
                      -2.052948951721191
                     ],
                     [
                      -59.97343444824219,
                      -2.052948951721191
                     ],
                     [
                      -59.97343444824219,
                      -2.052948951721191
                     ],
                     [
                      -59.97343444824219,
                      -2.052948951721191
                     ],
                     [
                      -59.97343444824219,
                      -2.052948951721191
                     ],
                     [
                      -59.97343444824219,
                      -2.052948951721191
                     ],
                     [
                      -59.90152740478516,
                      -2.052945852279663
                     ],
                     [
                      -59.90152740478516,
                      -2.034979581832886
                     ],
                     [
                      -59.90152740478516,
                      -2.034979581832886
                     ],
                     [
                      -59.90152740478516,
                      -2.034979581832886
                     ],
                     [
                      -59.90152740478516,
                      -2.034979581832886
                     ],
                     [
                      -59.90152740478516,
                      -2.034979581832886
                     ],
                     [
                      -59.90152740478516,
                      -2.034979581832886
                     ],
                     [
                      -59.90152740478516,
                      -2.034979581832886
                     ],
                     [
                      -59.90152740478516,
                      -2.034979581832886
                     ],
                     [
                      -59.90152740478516,
                      -2.034979581832886
                     ],
                     [
                      -59.90152740478516,
                      -2.034979581832886
                     ],
                     [
                      -59.90152740478516,
                      -2.034979581832886
                     ],
                     [
                      -59.90152740478516,
                      -2.034979581832886
                     ],
                     [
                      -59.90152740478516,
                      -2.034979581832886
                     ],
                     [
                      -59.90152740478516,
                      -2.034979581832886
                     ],
                     [
                      -59.90152740478516,
                      -2.034979581832886
                     ],
                     [
                      -59.90152740478516,
                      -2.034979581832886
                     ],
                     [
                      -59.90152740478516,
                      -2.034979581832886
                     ],
                     [
                      -59.84759902954102,
                      -2.034974098205566
                     ],
                     [
                      -59.84760284423828,
                      -1.999041557312012
                     ],
                     [
                      -59.84760284423828,
                      -1.999041557312012
                     ],
                     [
                      -59.84760284423828,
                      -1.999041557312012
                     ],
                     [
                      -59.84760284423828,
                      -1.999041557312012
                     ],
                     [
                      -59.84760284423828,
                      -1.999041557312012
                     ],
                     [
                      -59.84760284423828,
                      -1.999041557312012
                     ],
                     [
                      -59.84760284423828,
                      -1.999041557312012
                     ],
                     [
                      -59.84760284423828,
                      -1.999041557312012
                     ],
                     [
                      -59.84760284423828,
                      -1.999041557312012
                     ],
                     [
                      -59.84760284423828,
                      -1.999041557312012
                     ],
                     [
                      -59.84760284423828,
                      -1.999041557312012
                     ],
                     [
                      -59.84760284423828,
                      -1.999041557312012
                     ],
                     [
                      -59.84760284423828,
                      -1.999041557312012
                     ],
                     [
                      -59.84760284423828,
                      -1.999041557312012
                     ],
                     [
                      -59.84760284423828,
                      -1.999041557312012
                     ],
                     [
                      -59.84760284423828,
                      -1.999041557312012
                     ],
                     [
                      -59.84760284423828,
                      -1.999041557312012
                     ],
                     [
                      -59.70379257202148,
                      -1.9990154504776
                     ],
                     [
                      -59.70379257202148,
                      -1.9990154504776
                     ],
                     [
                      -59.70379257202148,
                      -1.9990154504776
                     ],
                     [
                      -59.70379257202148,
                      -1.9990154504776
                     ],
                     [
                      -59.70379257202148,
                      -1.9990154504776
                     ],
                     [
                      -59.70379257202148,
                      -1.9990154504776
                     ],
                     [
                      -59.70379257202148,
                      -1.9990154504776
                     ],
                     [
                      -59.70379257202148,
                      -1.9990154504776
                     ],
                     [
                      -59.70379257202148,
                      -1.9990154504776
                     ],
                     [
                      -59.70379257202148,
                      -1.9990154504776
                     ],
                     [
                      -59.70379257202148,
                      -1.9990154504776
                     ],
                     [
                      -59.70379257202148,
                      -1.9990154504776
                     ],
                     [
                      -59.70379257202148,
                      -1.9990154504776
                     ],
                     [
                      -59.70379257202148,
                      -1.9990154504776
                     ],
                     [
                      -59.70379257202148,
                      -1.9990154504776
                     ],
                     [
                      -59.70379257202148,
                      -1.9990154504776
                     ],
                     [
                      -59.70379257202148,
                      -1.9990154504776
                     ],
                     [
                      -59.70378875732422,
                      -2.016981601715088
                     ],
                     [
                      -59.68581390380859,
                      -2.016977071762085
                     ],
                     [
                      -59.68581390380859,
                      -2.016977071762085
                     ],
                     [
                      -59.68581390380859,
                      -2.016977071762085
                     ],
                     [
                      -59.68581390380859,
                      -2.016977071762085
                     ],
                     [
                      -59.68581390380859,
                      -2.016977071762085
                     ],
                     [
                      -59.68581390380859,
                      -2.016977071762085
                     ],
                     [
                      -59.68581390380859,
                      -2.016977071762085
                     ],
                     [
                      -59.68581390380859,
                      -2.016977071762085
                     ],
                     [
                      -59.68581390380859,
                      -2.016977071762085
                     ],
                     [
                      -59.68581390380859,
                      -2.016977071762085
                     ],
                     [
                      -59.68581390380859,
                      -2.016977071762085
                     ],
                     [
                      -59.68581390380859,
                      -2.016977071762085
                     ],
                     [
                      -59.68581390380859,
                      -2.016977071762085
                     ],
                     [
                      -59.68581390380859,
                      -2.016977071762085
                     ],
                     [
                      -59.68581390380859,
                      -2.016977071762085
                     ],
                     [
                      -59.68581390380859,
                      -2.016977071762085
                     ],
                     [
                      -59.68581390380859,
                      -2.016977071762085
                     ],
                     [
                      -59.68581008911133,
                      -2.034943342208862
                     ],
                     [
                      -59.66783142089844,
                      -2.03493857383728
                     ],
                     [
                      -59.66783142089844,
                      -2.03493857383728
                     ],
                     [
                      -59.66783142089844,
                      -2.03493857383728
                     ],
                     [
                      -59.66783142089844,
                      -2.03493857383728
                     ],
                     [
                      -59.66783142089844,
                      -2.03493857383728
                     ],
                     [
                      -59.66783142089844,
                      -2.03493857383728
                     ],
                     [
                      -59.66783142089844,
                      -2.03493857383728
                     ],
                     [
                      -59.66783142089844,
                      -2.03493857383728
                     ],
                     [
                      -59.66783142089844,
                      -2.03493857383728
                     ],
                     [
                      -59.66783142089844,
                      -2.03493857383728
                     ],
                     [
                      -59.66783142089844,
                      -2.03493857383728
                     ],
                     [
                      -59.66783142089844,
                      -2.03493857383728
                     ],
                     [
                      -59.66783142089844,
                      -2.03493857383728
                     ],
                     [
                      -59.66783142089844,
                      -2.03493857383728
                     ],
                     [
                      -59.66783142089844,
                      -2.03493857383728
                     ],
                     [
                      -59.66783142089844,
                      -2.03493857383728
                     ],
                     [
                      -59.66783142089844,
                      -2.03493857383728
                     ],
                     [
                      -59.66782760620117,
                      -2.052904844284058
                     ],
                     [
                      -59.64985275268555,
                      -2.052899837493896
                     ],
                     [
                      -59.64985275268555,
                      -2.052899837493896
                     ],
                     [
                      -59.64985275268555,
                      -2.052899837493896
                     ],
                     [
                      -59.64985275268555,
                      -2.052899837493896
                     ],
                     [
                      -59.64985275268555,
                      -2.052899837493896
                     ],
                     [
                      -59.64985275268555,
                      -2.052899837493896
                     ],
                     [
                      -59.64985275268555,
                      -2.052899837493896
                     ],
                     [
                      -59.64985275268555,
                      -2.052899837493896
                     ],
                     [
                      -59.64985275268555,
                      -2.052899837493896
                     ],
                     [
                      -59.64985275268555,
                      -2.052899837493896
                     ],
                     [
                      -59.64985275268555,
                      -2.052899837493896
                     ],
                     [
                      -59.64985275268555,
                      -2.052899837493896
                     ],
                     [
                      -59.64985275268555,
                      -2.052899837493896
                     ],
                     [
                      -59.64985275268555,
                      -2.052899837493896
                     ],
                     [
                      -59.64985275268555,
                      -2.052899837493896
                     ],
                     [
                      -59.64985275268555,
                      -2.052899837493896
                     ],
                     [
                      -59.64985275268555,
                      -2.052899837493896
                     ],
                     [
                      -59.64984512329102,
                      -2.070865869522095
                     ],
                     [
                      -59.64984512329102,
                      -2.070865869522095
                     ],
                     [
                      -59.64984512329102,
                      -2.070865869522095
                     ],
                     [
                      -59.64984512329102,
                      -2.070865869522095
                     ],
                     [
                      -59.64984512329102,
                      -2.070865869522095
                     ],
                     [
                      -59.64984512329102,
                      -2.070865869522095
                     ],
                     [
                      -59.64984512329102,
                      -2.070865869522095
                     ],
                     [
                      -59.64984512329102,
                      -2.070865869522095
                     ],
                     [
                      -59.64984512329102,
                      -2.070865869522095
                     ],
                     [
                      -59.64984512329102,
                      -2.070865869522095
                     ],
                     [
                      -59.64984512329102,
                      -2.070865869522095
                     ],
                     [
                      -59.64984512329102,
                      -2.070865869522095
                     ],
                     [
                      -59.64984512329102,
                      -2.070865869522095
                     ],
                     [
                      -59.64984512329102,
                      -2.070865869522095
                     ],
                     [
                      -59.64984512329102,
                      -2.070865869522095
                     ],
                     [
                      -59.64984512329102,
                      -2.070865869522095
                     ],
                     [
                      -59.64984512329102,
                      -2.070865869522095
                     ],
                     [
                      -59.66782379150391,
                      -2.070871114730835
                     ],
                     [
                      -59.66781997680664,
                      -2.088837146759033
                     ],
                     [
                      -59.64984130859375,
                      -2.088832139968872
                     ],
                     [
                      -59.64984130859375,
                      -2.088832139968872
                     ],
                     [
                      -59.64984130859375,
                      -2.088832139968872
                     ],
                     [
                      -59.64984130859375,
                      -2.088832139968872
                     ],
                     [
                      -59.64984130859375,
                      -2.088832139968872
                     ],
                     [
                      -59.64984130859375,
                      -2.088832139968872
                     ],
                     [
                      -59.64984130859375,
                      -2.088832139968872
                     ],
                     [
                      -59.64984130859375,
                      -2.088832139968872
                     ],
                     [
                      -59.64984130859375,
                      -2.088832139968872
                     ],
                     [
                      -59.64984130859375,
                      -2.088832139968872
                     ],
                     [
                      -59.64984130859375,
                      -2.088832139968872
                     ],
                     [
                      -59.64984130859375,
                      -2.088832139968872
                     ],
                     [
                      -59.64984130859375,
                      -2.088832139968872
                     ],
                     [
                      -59.64984130859375,
                      -2.088832139968872
                     ],
                     [
                      -59.64984130859375,
                      -2.088832139968872
                     ],
                     [
                      -59.64984130859375,
                      -2.088832139968872
                     ],
                     [
                      -59.64984130859375,
                      -2.088832139968872
                     ],
                     [
                      -59.64983749389648,
                      -2.106798410415649
                     ],
                     [
                      -59.64983749389648,
                      -2.106798410415649
                     ],
                     [
                      -59.64983749389648,
                      -2.106798410415649
                     ],
                     [
                      -59.64983749389648,
                      -2.106798410415649
                     ],
                     [
                      -59.64983749389648,
                      -2.106798410415649
                     ],
                     [
                      -59.64983749389648,
                      -2.106798410415649
                     ],
                     [
                      -59.64983749389648,
                      -2.106798410415649
                     ],
                     [
                      -59.64983749389648,
                      -2.106798410415649
                     ],
                     [
                      -59.64983749389648,
                      -2.106798410415649
                     ],
                     [
                      -59.64983749389648,
                      -2.106798410415649
                     ],
                     [
                      -59.64983749389648,
                      -2.106798410415649
                     ],
                     [
                      -59.64983749389648,
                      -2.106798410415649
                     ],
                     [
                      -59.64983749389648,
                      -2.106798410415649
                     ],
                     [
                      -59.64983749389648,
                      -2.106798410415649
                     ],
                     [
                      -59.64983749389648,
                      -2.106798410415649
                     ],
                     [
                      -59.64983749389648,
                      -2.106798410415649
                     ],
                     [
                      -59.64983749389648,
                      -2.106798410415649
                     ],
                     [
                      -59.685791015625,
                      -2.106808185577393
                     ],
                     [
                      -59.685791015625,
                      -2.106808185577393
                     ],
                     [
                      -59.685791015625,
                      -2.106808185577393
                     ],
                     [
                      -59.685791015625,
                      -2.106808185577393
                     ],
                     [
                      -59.685791015625,
                      -2.106808185577393
                     ],
                     [
                      -59.685791015625,
                      -2.106808185577393
                     ],
                     [
                      -59.685791015625,
                      -2.106808185577393
                     ],
                     [
                      -59.685791015625,
                      -2.106808185577393
                     ],
                     [
                      -59.685791015625,
                      -2.106808185577393
                     ],
                     [
                      -59.685791015625,
                      -2.106808185577393
                     ],
                     [
                      -59.685791015625,
                      -2.106808185577393
                     ],
                     [
                      -59.685791015625,
                      -2.106808185577393
                     ],
                     [
                      -59.685791015625,
                      -2.106808185577393
                     ],
                     [
                      -59.685791015625,
                      -2.106808185577393
                     ],
                     [
                      -59.685791015625,
                      -2.106808185577393
                     ],
                     [
                      -59.685791015625,
                      -2.106808185577393
                     ],
                     [
                      -59.685791015625,
                      -2.106808185577393
                     ],
                     [
                      -59.68579483032227,
                      -2.088842153549194
                     ],
                     [
                      -59.73972702026367,
                      -2.088854789733887
                     ],
                     [
                      -59.73972320556641,
                      -2.106821060180664
                     ],
                     [
                      -59.73972320556641,
                      -2.106821060180664
                     ],
                     [
                      -59.73972320556641,
                      -2.106821060180664
                     ],
                     [
                      -59.73972320556641,
                      -2.106821060180664
                     ],
                     [
                      -59.73972320556641,
                      -2.106821060180664
                     ],
                     [
                      -59.73972320556641,
                      -2.106821060180664
                     ],
                     [
                      -59.73972320556641,
                      -2.106821060180664
                     ],
                     [
                      -59.73972320556641,
                      -2.106821060180664
                     ],
                     [
                      -59.73972320556641,
                      -2.106821060180664
                     ],
                     [
                      -59.73972320556641,
                      -2.106821060180664
                     ],
                     [
                      -59.73972320556641,
                      -2.106821060180664
                     ],
                     [
                      -59.73972320556641,
                      -2.106821060180664
                     ],
                     [
                      -59.73972320556641,
                      -2.106821060180664
                     ],
                     [
                      -59.73972320556641,
                      -2.106821060180664
                     ],
                     [
                      -59.73972320556641,
                      -2.106821060180664
                     ],
                     [
                      -59.73972320556641,
                      -2.106821060180664
                     ],
                     [
                      -59.73972320556641,
                      -2.106821060180664
                     ],
                     [
                      -59.77568054199219,
                      -2.106828212738037
                     ],
                     [
                      -59.77568054199219,
                      -2.106828212738037
                     ],
                     [
                      -59.77568054199219,
                      -2.106828212738037
                     ],
                     [
                      -59.77568054199219,
                      -2.106828212738037
                     ],
                     [
                      -59.77568054199219,
                      -2.106828212738037
                     ],
                     [
                      -59.77568054199219,
                      -2.106828212738037
                     ],
                     [
                      -59.77568054199219,
                      -2.106828212738037
                     ],
                     [
                      -59.77568054199219,
                      -2.106828212738037
                     ],
                     [
                      -59.77568054199219,
                      -2.106828212738037
                     ],
                     [
                      -59.77568054199219,
                      -2.106828212738037
                     ],
                     [
                      -59.77568054199219,
                      -2.106828212738037
                     ],
                     [
                      -59.77568054199219,
                      -2.106828212738037
                     ],
                     [
                      -59.77568054199219,
                      -2.106828212738037
                     ],
                     [
                      -59.77568054199219,
                      -2.106828212738037
                     ],
                     [
                      -59.77568054199219,
                      -2.106828212738037
                     ],
                     [
                      -59.77568054199219,
                      -2.106828212738037
                     ],
                     [
                      -59.77568054199219,
                      -2.106828212738037
                     ],
                     [
                      -59.77568435668945,
                      -2.08886194229126
                     ],
                     [
                      -59.79365921020508,
                      -2.088865280151367
                     ],
                     [
                      -59.79365539550781,
                      -2.106831550598145
                     ],
                     [
                      -59.79365539550781,
                      -2.106831550598145
                     ],
                     [
                      -59.79365539550781,
                      -2.106831550598145
                     ],
                     [
                      -59.79365539550781,
                      -2.106831550598145
                     ],
                     [
                      -59.79365539550781,
                      -2.106831550598145
                     ],
                     [
                      -59.79365539550781,
                      -2.106831550598145
                     ],
                     [
                      -59.79365539550781,
                      -2.106831550598145
                     ],
                     [
                      -59.79365539550781,
                      -2.106831550598145
                     ],
                     [
                      -59.79365539550781,
                      -2.106831550598145
                     ],
                     [
                      -59.79365539550781,
                      -2.106831550598145
                     ],
                     [
                      -59.79365539550781,
                      -2.106831550598145
                     ],
                     [
                      -59.79365539550781,
                      -2.106831550598145
                     ],
                     [
                      -59.79365539550781,
                      -2.106831550598145
                     ],
                     [
                      -59.79365539550781,
                      -2.106831550598145
                     ],
                     [
                      -59.79365539550781,
                      -2.106831550598145
                     ],
                     [
                      -59.79365539550781,
                      -2.106831550598145
                     ],
                     [
                      -59.79365539550781,
                      -2.106831550598145
                     ],
                     [
                      -59.84759140014648,
                      -2.106839179992676
                     ],
                     [
                      -59.84758377075195,
                      -2.14277195930481
                     ],
                     [
                      -59.81163024902344,
                      -2.142766952514648
                     ],
                     [
                      -59.81163024902344,
                      -2.142766952514648
                     ],
                     [
                      -59.81163024902344,
                      -2.142766952514648
                     ],
                     [
                      -59.81163024902344,
                      -2.142766952514648
                     ],
                     [
                      -59.81163024902344,
                      -2.142766952514648
                     ],
                     [
                      -59.81163024902344,
                      -2.142766952514648
                     ],
                     [
                      -59.81163024902344,
                      -2.142766952514648
                     ],
                     [
                      -59.81163024902344,
                      -2.142766952514648
                     ],
                     [
                      -59.81163024902344,
                      -2.142766952514648
                     ],
                     [
                      -59.81163024902344,
                      -2.142766952514648
                     ],
                     [
                      -59.81163024902344,
                      -2.142766952514648
                     ],
                     [
                      -59.81163024902344,
                      -2.142766952514648
                     ],
                     [
                      -59.81163024902344,
                      -2.142766952514648
                     ],
                     [
                      -59.81163024902344,
                      -2.142766952514648
                     ],
                     [
                      -59.81163024902344,
                      -2.142766952514648
                     ],
                     [
                      -59.81163024902344,
                      -2.142766952514648
                     ],
                     [
                      -59.81163024902344,
                      -2.142766952514648
                     ],
                     [
                      -59.81162643432617,
                      -2.178699493408203
                     ],
                     [
                      -59.73971176147461,
                      -2.178686141967773
                     ],
                     [
                      -59.73971176147461,
                      -2.178686141967773
                     ],
                     [
                      -59.73971176147461,
                      -2.178686141967773
                     ],
                     [
                      -59.73971176147461,
                      -2.178686141967773
                     ],
                     [
                      -59.73971176147461,
                      -2.178686141967773
                     ],
                     [
                      -59.73971176147461,
                      -2.178686141967773
                     ],
                     [
                      -59.73971176147461,
                      -2.178686141967773
                     ],
                     [
                      -59.73971176147461,
                      -2.178686141967773
                     ],
                     [
                      -59.73971176147461,
                      -2.178686141967773
                     ],
                     [
                      -59.73971176147461,
                      -2.178686141967773
                     ],
                     [
                      -59.73971176147461,
                      -2.178686141967773
                     ],
                     [
                      -59.73971176147461,
                      -2.178686141967773
                     ],
                     [
                      -59.73971176147461,
                      -2.178686141967773
                     ],
                     [
                      -59.73971176147461,
                      -2.178686141967773
                     ],
                     [
                      -59.73971176147461,
                      -2.178686141967773
                     ],
                     [
                      -59.73971176147461,
                      -2.178686141967773
                     ],
                     [
                      -59.73971176147461,
                      -2.178686141967773
                     ],
                     [
                      -59.73970794677734,
                      -2.196652412414551
                     ],
                     [
                      -59.70375061035156,
                      -2.196644067764282
                     ],
                     [
                      -59.70375061035156,
                      -2.196644067764282
                     ],
                     [
                      -59.70375061035156,
                      -2.196644067764282
                     ],
                     [
                      -59.70375061035156,
                      -2.196644067764282
                     ],
                     [
                      -59.70375061035156,
                      -2.196644067764282
                     ],
                     [
                      -59.70375061035156,
                      -2.196644067764282
                     ],
                     [
                      -59.70375061035156,
                      -2.196644067764282
                     ],
                     [
                      -59.70375061035156,
                      -2.196644067764282
                     ],
                     [
                      -59.70375061035156,
                      -2.196644067764282
                     ],
                     [
                      -59.70375061035156,
                      -2.196644067764282
                     ],
                     [
                      -59.70375061035156,
                      -2.196644067764282
                     ],
                     [
                      -59.70375061035156,
                      -2.196644067764282
                     ],
                     [
                      -59.70375061035156,
                      -2.196644067764282
                     ],
                     [
                      -59.70375061035156,
                      -2.196644067764282
                     ],
                     [
                      -59.70375061035156,
                      -2.196644067764282
                     ],
                     [
                      -59.70375061035156,
                      -2.196644067764282
                     ],
                     [
                      -59.70375061035156,
                      -2.196644067764282
                     ],
                     [
                      -59.7037467956543,
                      -2.21461009979248
                     ],
                     [
                      -59.7037467956543,
                      -2.21461009979248
                     ],
                     [
                      -59.7037467956543,
                      -2.21461009979248
                     ],
                     [
                      -59.7037467956543,
                      -2.21461009979248
                     ],
                     [
                      -59.7037467956543,
                      -2.21461009979248
                     ],
                     [
                      -59.7037467956543,
                      -2.21461009979248
                     ],
                     [
                      -59.7037467956543,
                      -2.21461009979248
                     ],
                     [
                      -59.7037467956543,
                      -2.21461009979248
                     ],
                     [
                      -59.7037467956543,
                      -2.21461009979248
                     ],
                     [
                      -59.7037467956543,
                      -2.21461009979248
                     ],
                     [
                      -59.7037467956543,
                      -2.21461009979248
                     ],
                     [
                      -59.7037467956543,
                      -2.21461009979248
                     ],
                     [
                      -59.7037467956543,
                      -2.21461009979248
                     ],
                     [
                      -59.7037467956543,
                      -2.21461009979248
                     ],
                     [
                      -59.7037467956543,
                      -2.21461009979248
                     ],
                     [
                      -59.7037467956543,
                      -2.21461009979248
                     ],
                     [
                      -59.7037467956543,
                      -2.21461009979248
                     ],
                     [
                      -59.79364013671875,
                      -2.214628934860229
                     ],
                     [
                      -59.79364013671875,
                      -2.214628934860229
                     ],
                     [
                      -59.79364013671875,
                      -2.214628934860229
                     ],
                     [
                      -59.79364013671875,
                      -2.214628934860229
                     ],
                     [
                      -59.79364013671875,
                      -2.214628934860229
                     ],
                     [
                      -59.79364013671875,
                      -2.214628934860229
                     ],
                     [
                      -59.79364013671875,
                      -2.214628934860229
                     ],
                     [
                      -59.79364013671875,
                      -2.214628934860229
                     ],
                     [
                      -59.79364013671875,
                      -2.214628934860229
                     ],
                     [
                      -59.79364013671875,
                      -2.214628934860229
                     ],
                     [
                      -59.79364013671875,
                      -2.214628934860229
                     ],
                     [
                      -59.79364013671875,
                      -2.214628934860229
                     ],
                     [
                      -59.79364013671875,
                      -2.214628934860229
                     ],
                     [
                      -59.79364013671875,
                      -2.214628934860229
                     ],
                     [
                      -59.79364013671875,
                      -2.214628934860229
                     ],
                     [
                      -59.79364013671875,
                      -2.214628934860229
                     ],
                     [
                      -59.79364013671875,
                      -2.214628934860229
                     ],
                     [
                      -59.79364395141602,
                      -2.196662664413452
                     ],
                     [
                      -59.8296012878418,
                      -2.196668386459351
                     ],
                     [
                      -59.82959747314453,
                      -2.214634656906128
                     ],
                     [
                      -59.82959747314453,
                      -2.214634656906128
                     ],
                     [
                      -59.82959747314453,
                      -2.214634656906128
                     ],
                     [
                      -59.82959747314453,
                      -2.214634656906128
                     ],
                     [
                      -59.82959747314453,
                      -2.214634656906128
                     ],
                     [
                      -59.82959747314453,
                      -2.214634656906128
                     ],
                     [
                      -59.82959747314453,
                      -2.214634656906128
                     ],
                     [
                      -59.82959747314453,
                      -2.214634656906128
                     ],
                     [
                      -59.82959747314453,
                      -2.214634656906128
                     ],
                     [
                      -59.82959747314453,
                      -2.214634656906128
                     ],
                     [
                      -59.82959747314453,
                      -2.214634656906128
                     ],
                     [
                      -59.82959747314453,
                      -2.214634656906128
                     ],
                     [
                      -59.82959747314453,
                      -2.214634656906128
                     ],
                     [
                      -59.82959747314453,
                      -2.214634656906128
                     ],
                     [
                      -59.82959747314453,
                      -2.214634656906128
                     ],
                     [
                      -59.82959747314453,
                      -2.214634656906128
                     ],
                     [
                      -59.82959747314453,
                      -2.214634656906128
                     ],
                     [
                      -59.84757614135742,
                      -2.214637041091919
                     ],
                     [
                      -59.84757232666016,
                      -2.250569581985474
                     ],
                     [
                      -59.82959365844727,
                      -2.250567197799683
                     ],
                     [
                      -59.82959365844727,
                      -2.250567197799683
                     ],
                     [
                      -59.82959365844727,
                      -2.250567197799683
                     ],
                     [
                      -59.82959365844727,
                      -2.250567197799683
                     ],
                     [
                      -59.82959365844727,
                      -2.250567197799683
                     ],
                     [
                      -59.82959365844727,
                      -2.250567197799683
                     ],
                     [
                      -59.82959365844727,
                      -2.250567197799683
                     ],
                     [
                      -59.82959365844727,
                      -2.250567197799683
                     ],
                     [
                      -59.82959365844727,
                      -2.250567197799683
                     ],
                     [
                      -59.82959365844727,
                      -2.250567197799683
                     ],
                     [
                      -59.82959365844727,
                      -2.250567197799683
                     ],
                     [
                      -59.82959365844727,
                      -2.250567197799683
                     ],
                     [
                      -59.82959365844727,
                      -2.250567197799683
                     ],
                     [
                      -59.82959365844727,
                      -2.250567197799683
                     ],
                     [
                      -59.82959365844727,
                      -2.250567197799683
                     ],
                     [
                      -59.82959365844727,
                      -2.250567197799683
                     ],
                     [
                      -59.82959365844727,
                      -2.250567197799683
                     ],
                     [
                      -59.82959365844727,
                      -2.26853346824646
                     ],
                     [
                      -59.82959365844727,
                      -2.26853346824646
                     ],
                     [
                      -59.82959365844727,
                      -2.26853346824646
                     ],
                     [
                      -59.82959365844727,
                      -2.26853346824646
                     ],
                     [
                      -59.82959365844727,
                      -2.26853346824646
                     ],
                     [
                      -59.82959365844727,
                      -2.26853346824646
                     ],
                     [
                      -59.82959365844727,
                      -2.26853346824646
                     ],
                     [
                      -59.82959365844727,
                      -2.26853346824646
                     ],
                     [
                      -59.82959365844727,
                      -2.26853346824646
                     ],
                     [
                      -59.82959365844727,
                      -2.26853346824646
                     ],
                     [
                      -59.82959365844727,
                      -2.26853346824646
                     ],
                     [
                      -59.82959365844727,
                      -2.26853346824646
                     ],
                     [
                      -59.82959365844727,
                      -2.26853346824646
                     ],
                     [
                      -59.82959365844727,
                      -2.26853346824646
                     ],
                     [
                      -59.82959365844727,
                      -2.26853346824646
                     ],
                     [
                      -59.82959365844727,
                      -2.26853346824646
                     ],
                     [
                      -59.82959365844727,
                      -2.26853346824646
                     ],
                     [
                      -59.84757232666016,
                      -2.268535852432251
                     ],
                     [
                      -59.84756851196289,
                      -2.304468393325806
                     ],
                     [
                      -59.84756851196289,
                      -2.304468393325806
                     ],
                     [
                      -59.84756851196289,
                      -2.304468393325806
                     ],
                     [
                      -59.84756851196289,
                      -2.304468393325806
                     ],
                     [
                      -59.84756851196289,
                      -2.304468393325806
                     ],
                     [
                      -59.84756851196289,
                      -2.304468393325806
                     ],
                     [
                      -59.84756851196289,
                      -2.304468393325806
                     ],
                     [
                      -59.84756851196289,
                      -2.304468393325806
                     ],
                     [
                      -59.84756851196289,
                      -2.304468393325806
                     ],
                     [
                      -59.84756851196289,
                      -2.304468393325806
                     ],
                     [
                      -59.84756851196289,
                      -2.304468393325806
                     ],
                     [
                      -59.84756851196289,
                      -2.304468393325806
                     ],
                     [
                      -59.84756851196289,
                      -2.304468393325806
                     ],
                     [
                      -59.84756851196289,
                      -2.304468393325806
                     ],
                     [
                      -59.84756851196289,
                      -2.304468393325806
                     ],
                     [
                      -59.84756851196289,
                      -2.304468393325806
                     ],
                     [
                      -59.84756851196289,
                      -2.304468393325806
                     ],
                     [
                      -59.88352966308594,
                      -2.30447244644165
                     ],
                     [
                      -59.88352584838867,
                      -2.322438716888428
                     ],
                     [
                      -59.88352584838867,
                      -2.322438716888428
                     ],
                     [
                      -59.88352584838867,
                      -2.322438716888428
                     ],
                     [
                      -59.88352584838867,
                      -2.322438716888428
                     ],
                     [
                      -59.88352584838867,
                      -2.322438716888428
                     ],
                     [
                      -59.88352584838867,
                      -2.322438716888428
                     ],
                     [
                      -59.88352584838867,
                      -2.322438716888428
                     ],
                     [
                      -59.88352584838867,
                      -2.322438716888428
                     ],
                     [
                      -59.88352584838867,
                      -2.322438716888428
                     ],
                     [
                      -59.88352584838867,
                      -2.322438716888428
                     ],
                     [
                      -59.88352584838867,
                      -2.322438716888428
                     ],
                     [
                      -59.88352584838867,
                      -2.322438716888428
                     ],
                     [
                      -59.88352584838867,
                      -2.322438716888428
                     ],
                     [
                      -59.88352584838867,
                      -2.322438716888428
                     ],
                     [
                      -59.88352584838867,
                      -2.322438716888428
                     ],
                     [
                      -59.88352584838867,
                      -2.322438716888428
                     ],
                     [
                      -59.88352584838867,
                      -2.322438716888428
                     ],
                     [
                      -59.91948699951172,
                      -2.322441577911377
                     ]
                    ]
                   ],
                   "type": "Polygon"
                  },
                  "id": "('Fam_13', 92)",
                  "properties": {},
                  "type": "Feature"
                 }
                ],
                "type": "FeatureCollection"
               },
               "type": "line"
              },
              {
               "below": "traces",
               "coordinates": [
                [
                 -62.14714189584819,
                 -5.295901131951463
                ],
                [
                 -57.83567670766743,
                 -5.295901131951463
                ],
                [
                 -57.83567670766743,
                 -1.0001668807629231
                ],
                [
                 -62.14714189584819,
                 -1.0001668807629231
                ]
               ],
               "source": "data:image/png;base64,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",
               "sourcetype": "image"
              }
             ]
            ],
            "label": "Geometries 20 dBZ",
            "method": "relayout"
           },
           {
            "args": [
             "mapbox.layers",
             [
              {
               "color": "blue",
               "line": {
                "width": 1.5
               },
               "name": "geom_35",
               "source": {
                "bbox": [
                 -59.97343063354492,
                 -2.3044753074646,
                 -59.84757995605469,
                 -2.124807596206665
                ],
                "features": [
                 {
                  "bbox": [
                   -59.97343063354492,
                   -2.3044753074646,
                   -59.84757995605469,
                   -2.124807596206665
                  ],
                  "geometry": {
                   "coordinates": [
                    [
                     [
                      -59.91948699951172,
                      -2.3044753074646
                     ],
                     [
                      -59.91948699951172,
                      -2.3044753074646
                     ],
                     [
                      -59.91948699951172,
                      -2.3044753074646
                     ],
                     [
                      -59.91948699951172,
                      -2.3044753074646
                     ],
                     [
                      -59.91948699951172,
                      -2.3044753074646
                     ],
                     [
                      -59.91948699951172,
                      -2.3044753074646
                     ],
                     [
                      -59.91948699951172,
                      -2.3044753074646
                     ],
                     [
                      -59.91948699951172,
                      -2.3044753074646
                     ],
                     [
                      -59.91948699951172,
                      -2.3044753074646
                     ],
                     [
                      -59.91948699951172,
                      -2.3044753074646
                     ],
                     [
                      -59.91948699951172,
                      -2.3044753074646
                     ],
                     [
                      -59.91948699951172,
                      -2.3044753074646
                     ],
                     [
                      -59.91948699951172,
                      -2.3044753074646
                     ],
                     [
                      -59.91948699951172,
                      -2.3044753074646
                     ],
                     [
                      -59.91948699951172,
                      -2.3044753074646
                     ],
                     [
                      -59.91948699951172,
                      -2.3044753074646
                     ],
                     [
                      -59.91948699951172,
                      -2.3044753074646
                     ],
                     [
                      -59.91949081420898,
                      -2.286508798599243
                     ],
                     [
                      -59.93746948242188,
                      -2.286509990692139
                     ],
                     [
                      -59.93746948242188,
                      -2.286509990692139
                     ],
                     [
                      -59.93746948242188,
                      -2.286509990692139
                     ],
                     [
                      -59.93746948242188,
                      -2.286509990692139
                     ],
                     [
                      -59.93746948242188,
                      -2.286509990692139
                     ],
                     [
                      -59.93746948242188,
                      -2.286509990692139
                     ],
                     [
                      -59.93746948242188,
                      -2.286509990692139
                     ],
                     [
                      -59.93746948242188,
                      -2.286509990692139
                     ],
                     [
                      -59.93746948242188,
                      -2.286509990692139
                     ],
                     [
                      -59.93746948242188,
                      -2.286509990692139
                     ],
                     [
                      -59.93746948242188,
                      -2.286509990692139
                     ],
                     [
                      -59.93746948242188,
                      -2.286509990692139
                     ],
                     [
                      -59.93746948242188,
                      -2.286509990692139
                     ],
                     [
                      -59.93746948242188,
                      -2.286509990692139
                     ],
                     [
                      -59.93746948242188,
                      -2.286509990692139
                     ],
                     [
                      -59.93746948242188,
                      -2.286509990692139
                     ],
                     [
                      -59.93746948242188,
                      -2.286509990692139
                     ],
                     [
                      -59.93747329711914,
                      -2.21464467048645
                     ],
                     [
                      -59.95545196533203,
                      -2.214645385742188
                     ],
                     [
                      -59.95545196533203,
                      -2.214645385742188
                     ],
                     [
                      -59.95545196533203,
                      -2.214645385742188
                     ],
                     [
                      -59.95545196533203,
                      -2.214645385742188
                     ],
                     [
                      -59.95545196533203,
                      -2.214645385742188
                     ],
                     [
                      -59.95545196533203,
                      -2.214645385742188
                     ],
                     [
                      -59.95545196533203,
                      -2.214645385742188
                     ],
                     [
                      -59.95545196533203,
                      -2.214645385742188
                     ],
                     [
                      -59.95545196533203,
                      -2.214645385742188
                     ],
                     [
                      -59.95545196533203,
                      -2.214645385742188
                     ],
                     [
                      -59.95545196533203,
                      -2.214645385742188
                     ],
                     [
                      -59.95545196533203,
                      -2.214645385742188
                     ],
                     [
                      -59.95545196533203,
                      -2.214645385742188
                     ],
                     [
                      -59.95545196533203,
                      -2.214645385742188
                     ],
                     [
                      -59.95545196533203,
                      -2.214645385742188
                     ],
                     [
                      -59.95545196533203,
                      -2.214645385742188
                     ],
                     [
                      -59.95545196533203,
                      -2.214645385742188
                     ],
                     [
                      -59.95545196533203,
                      -2.19667911529541
                     ],
                     [
                      -59.97343063354492,
                      -2.196679592132568
                     ],
                     [
                      -59.97343063354492,
                      -2.196679592132568
                     ],
                     [
                      -59.97343063354492,
                      -2.196679592132568
                     ],
                     [
                      -59.97343063354492,
                      -2.196679592132568
                     ],
                     [
                      -59.97343063354492,
                      -2.196679592132568
                     ],
                     [
                      -59.97343063354492,
                      -2.196679592132568
                     ],
                     [
                      -59.97343063354492,
                      -2.196679592132568
                     ],
                     [
                      -59.97343063354492,
                      -2.196679592132568
                     ],
                     [
                      -59.97343063354492,
                      -2.196679592132568
                     ],
                     [
                      -59.97343063354492,
                      -2.196679592132568
                     ],
                     [
                      -59.97343063354492,
                      -2.196679592132568
                     ],
                     [
                      -59.97343063354492,
                      -2.196679592132568
                     ],
                     [
                      -59.97343063354492,
                      -2.196679592132568
                     ],
                     [
                      -59.97343063354492,
                      -2.196679592132568
                     ],
                     [
                      -59.97343063354492,
                      -2.196679592132568
                     ],
                     [
                      -59.97343063354492,
                      -2.196679592132568
                     ],
                     [
                      -59.97343063354492,
                      -2.196679592132568
                     ],
                     [
                      -59.97343063354492,
                      -2.160746812820435
                     ],
                     [
                      -59.97343063354492,
                      -2.160746812820435
                     ],
                     [
                      -59.97343063354492,
                      -2.160746812820435
                     ],
                     [
                      -59.97343063354492,
                      -2.160746812820435
                     ],
                     [
                      -59.97343063354492,
                      -2.160746812820435
                     ],
                     [
                      -59.97343063354492,
                      -2.160746812820435
                     ],
                     [
                      -59.97343063354492,
                      -2.160746812820435
                     ],
                     [
                      -59.97343063354492,
                      -2.160746812820435
                     ],
                     [
                      -59.97343063354492,
                      -2.160746812820435
                     ],
                     [
                      -59.97343063354492,
                      -2.160746812820435
                     ],
                     [
                      -59.97343063354492,
                      -2.160746812820435
                     ],
                     [
                      -59.97343063354492,
                      -2.160746812820435
                     ],
                     [
                      -59.97343063354492,
                      -2.160746812820435
                     ],
                     [
                      -59.97343063354492,
                      -2.160746812820435
                     ],
                     [
                      -59.97343063354492,
                      -2.160746812820435
                     ],
                     [
                      -59.97343063354492,
                      -2.160746812820435
                     ],
                     [
                      -59.97343063354492,
                      -2.160746812820435
                     ],
                     [
                      -59.93747329711914,
                      -2.160745859146118
                     ],
                     [
                      -59.93747711181641,
                      -2.142779588699341
                     ],
                     [
                      -59.95545196533203,
                      -2.142780065536499
                     ],
                     [
                      -59.95545196533203,
                      -2.142780065536499
                     ],
                     [
                      -59.95545196533203,
                      -2.142780065536499
                     ],
                     [
                      -59.95545196533203,
                      -2.142780065536499
                     ],
                     [
                      -59.95545196533203,
                      -2.142780065536499
                     ],
                     [
                      -59.95545196533203,
                      -2.142780065536499
                     ],
                     [
                      -59.95545196533203,
                      -2.142780065536499
                     ],
                     [
                      -59.95545196533203,
                      -2.142780065536499
                     ],
                     [
                      -59.95545196533203,
                      -2.142780065536499
                     ],
                     [
                      -59.95545196533203,
                      -2.142780065536499
                     ],
                     [
                      -59.95545196533203,
                      -2.142780065536499
                     ],
                     [
                      -59.95545196533203,
                      -2.142780065536499
                     ],
                     [
                      -59.95545196533203,
                      -2.142780065536499
                     ],
                     [
                      -59.95545196533203,
                      -2.142780065536499
                     ],
                     [
                      -59.95545196533203,
                      -2.142780065536499
                     ],
                     [
                      -59.95545196533203,
                      -2.142780065536499
                     ],
                     [
                      -59.95545196533203,
                      -2.142780065536499
                     ],
                     [
                      -59.9554557800293,
                      -2.124813795089722
                     ],
                     [
                      -59.9554557800293,
                      -2.124813795089722
                     ],
                     [
                      -59.9554557800293,
                      -2.124813795089722
                     ],
                     [
                      -59.9554557800293,
                      -2.124813795089722
                     ],
                     [
                      -59.9554557800293,
                      -2.124813795089722
                     ],
                     [
                      -59.9554557800293,
                      -2.124813795089722
                     ],
                     [
                      -59.9554557800293,
                      -2.124813795089722
                     ],
                     [
                      -59.9554557800293,
                      -2.124813795089722
                     ],
                     [
                      -59.9554557800293,
                      -2.124813795089722
                     ],
                     [
                      -59.9554557800293,
                      -2.124813795089722
                     ],
                     [
                      -59.9554557800293,
                      -2.124813795089722
                     ],
                     [
                      -59.9554557800293,
                      -2.124813795089722
                     ],
                     [
                      -59.9554557800293,
                      -2.124813795089722
                     ],
                     [
                      -59.9554557800293,
                      -2.124813795089722
                     ],
                     [
                      -59.9554557800293,
                      -2.124813795089722
                     ],
                     [
                      -59.9554557800293,
                      -2.124813795089722
                     ],
                     [
                      -59.9554557800293,
                      -2.124813795089722
                     ],
                     [
                      -59.86556625366211,
                      -2.124807596206665
                     ],
                     [
                      -59.86556625366211,
                      -2.124807596206665
                     ],
                     [
                      -59.86556625366211,
                      -2.124807596206665
                     ],
                     [
                      -59.86556625366211,
                      -2.124807596206665
                     ],
                     [
                      -59.86556625366211,
                      -2.124807596206665
                     ],
                     [
                      -59.86556625366211,
                      -2.124807596206665
                     ],
                     [
                      -59.86556625366211,
                      -2.124807596206665
                     ],
                     [
                      -59.86556625366211,
                      -2.124807596206665
                     ],
                     [
                      -59.86556625366211,
                      -2.124807596206665
                     ],
                     [
                      -59.86556625366211,
                      -2.124807596206665
                     ],
                     [
                      -59.86556625366211,
                      -2.124807596206665
                     ],
                     [
                      -59.86556625366211,
                      -2.124807596206665
                     ],
                     [
                      -59.86556625366211,
                      -2.124807596206665
                     ],
                     [
                      -59.86556625366211,
                      -2.124807596206665
                     ],
                     [
                      -59.86556625366211,
                      -2.124807596206665
                     ],
                     [
                      -59.86556625366211,
                      -2.124807596206665
                     ],
                     [
                      -59.86556625366211,
                      -2.124807596206665
                     ],
                     [
                      -59.86556243896484,
                      -2.142773866653442
                     ],
                     [
                      -59.84758377075195,
                      -2.14277195930481
                     ],
                     [
                      -59.84758377075195,
                      -2.14277195930481
                     ],
                     [
                      -59.84758377075195,
                      -2.14277195930481
                     ],
                     [
                      -59.84758377075195,
                      -2.14277195930481
                     ],
                     [
                      -59.84758377075195,
                      -2.14277195930481
                     ],
                     [
                      -59.84758377075195,
                      -2.14277195930481
                     ],
                     [
                      -59.84758377075195,
                      -2.14277195930481
                     ],
                     [
                      -59.84758377075195,
                      -2.14277195930481
                     ],
                     [
                      -59.84758377075195,
                      -2.14277195930481
                     ],
                     [
                      -59.84758377075195,
                      -2.14277195930481
                     ],
                     [
                      -59.84758377075195,
                      -2.14277195930481
                     ],
                     [
                      -59.84758377075195,
                      -2.14277195930481
                     ],
                     [
                      -59.84758377075195,
                      -2.14277195930481
                     ],
                     [
                      -59.84758377075195,
                      -2.14277195930481
                     ],
                     [
                      -59.84758377075195,
                      -2.14277195930481
                     ],
                     [
                      -59.84758377075195,
                      -2.14277195930481
                     ],
                     [
                      -59.84758377075195,
                      -2.14277195930481
                     ],
                     [
                      -59.84758377075195,
                      -2.160738229751587
                     ],
                     [
                      -59.84758377075195,
                      -2.160738229751587
                     ],
                     [
                      -59.84758377075195,
                      -2.160738229751587
                     ],
                     [
                      -59.84758377075195,
                      -2.160738229751587
                     ],
                     [
                      -59.84758377075195,
                      -2.160738229751587
                     ],
                     [
                      -59.84758377075195,
                      -2.160738229751587
                     ],
                     [
                      -59.84758377075195,
                      -2.160738229751587
                     ],
                     [
                      -59.84758377075195,
                      -2.160738229751587
                     ],
                     [
                      -59.84758377075195,
                      -2.160738229751587
                     ],
                     [
                      -59.84758377075195,
                      -2.160738229751587
                     ],
                     [
                      -59.84758377075195,
                      -2.160738229751587
                     ],
                     [
                      -59.84758377075195,
                      -2.160738229751587
                     ],
                     [
                      -59.84758377075195,
                      -2.160738229751587
                     ],
                     [
                      -59.84758377075195,
                      -2.160738229751587
                     ],
                     [
                      -59.84758377075195,
                      -2.160738229751587
                     ],
                     [
                      -59.84758377075195,
                      -2.160738229751587
                     ],
                     [
                      -59.84758377075195,
                      -2.160738229751587
                     ],
                     [
                      -59.86556243896484,
                      -2.16074013710022
                     ],
                     [
                      -59.86555862426758,
                      -2.178706407546997
                     ],
                     [
                      -59.84757995605469,
                      -2.178704500198364
                     ],
                     [
                      -59.84757995605469,
                      -2.178704500198364
                     ],
                     [
                      -59.84757995605469,
                      -2.178704500198364
                     ],
                     [
                      -59.84757995605469,
                      -2.178704500198364
                     ],
                     [
                      -59.84757995605469,
                      -2.178704500198364
                     ],
                     [
                      -59.84757995605469,
                      -2.178704500198364
                     ],
                     [
                      -59.84757995605469,
                      -2.178704500198364
                     ],
                     [
                      -59.84757995605469,
                      -2.178704500198364
                     ],
                     [
                      -59.84757995605469,
                      -2.178704500198364
                     ],
                     [
                      -59.84757995605469,
                      -2.178704500198364
                     ],
                     [
                      -59.84757995605469,
                      -2.178704500198364
                     ],
                     [
                      -59.84757995605469,
                      -2.178704500198364
                     ],
                     [
                      -59.84757995605469,
                      -2.178704500198364
                     ],
                     [
                      -59.84757995605469,
                      -2.178704500198364
                     ],
                     [
                      -59.84757995605469,
                      -2.178704500198364
                     ],
                     [
                      -59.84757995605469,
                      -2.178704500198364
                     ],
                     [
                      -59.84757995605469,
                      -2.178704500198364
                     ],
                     [
                      -59.84757995605469,
                      -2.196670770645142
                     ],
                     [
                      -59.84757995605469,
                      -2.196670770645142
                     ],
                     [
                      -59.84757995605469,
                      -2.196670770645142
                     ],
                     [
                      -59.84757995605469,
                      -2.196670770645142
                     ],
                     [
                      -59.84757995605469,
                      -2.196670770645142
                     ],
                     [
                      -59.84757995605469,
                      -2.196670770645142
                     ],
                     [
                      -59.84757995605469,
                      -2.196670770645142
                     ],
                     [
                      -59.84757995605469,
                      -2.196670770645142
                     ],
                     [
                      -59.84757995605469,
                      -2.196670770645142
                     ],
                     [
                      -59.84757995605469,
                      -2.196670770645142
                     ],
                     [
                      -59.84757995605469,
                      -2.196670770645142
                     ],
                     [
                      -59.84757995605469,
                      -2.196670770645142
                     ],
                     [
                      -59.84757995605469,
                      -2.196670770645142
                     ],
                     [
                      -59.84757995605469,
                      -2.196670770645142
                     ],
                     [
                      -59.84757995605469,
                      -2.196670770645142
                     ],
                     [
                      -59.84757995605469,
                      -2.196670770645142
                     ],
                     [
                      -59.84757995605469,
                      -2.196670770645142
                     ],
                     [
                      -59.86555862426758,
                      -2.196672916412354
                     ],
                     [
                      -59.86555862426758,
                      -2.214639186859131
                     ],
                     [
                      -59.86555862426758,
                      -2.214639186859131
                     ],
                     [
                      -59.86555862426758,
                      -2.214639186859131
                     ],
                     [
                      -59.86555862426758,
                      -2.214639186859131
                     ],
                     [
                      -59.86555862426758,
                      -2.214639186859131
                     ],
                     [
                      -59.86555862426758,
                      -2.214639186859131
                     ],
                     [
                      -59.86555862426758,
                      -2.214639186859131
                     ],
                     [
                      -59.86555862426758,
                      -2.214639186859131
                     ],
                     [
                      -59.86555862426758,
                      -2.214639186859131
                     ],
                     [
                      -59.86555862426758,
                      -2.214639186859131
                     ],
                     [
                      -59.86555862426758,
                      -2.214639186859131
                     ],
                     [
                      -59.86555862426758,
                      -2.214639186859131
                     ],
                     [
                      -59.86555862426758,
                      -2.214639186859131
                     ],
                     [
                      -59.86555862426758,
                      -2.214639186859131
                     ],
                     [
                      -59.86555862426758,
                      -2.214639186859131
                     ],
                     [
                      -59.86555862426758,
                      -2.214639186859131
                     ],
                     [
                      -59.86555862426758,
                      -2.214639186859131
                     ],
                     [
                      -59.88353729248047,
                      -2.214640855789185
                     ],
                     [
                      -59.8835334777832,
                      -2.250573396682739
                     ],
                     [
                      -59.86555480957031,
                      -2.250571727752686
                     ],
                     [
                      -59.86555480957031,
                      -2.250571727752686
                     ],
                     [
                      -59.86555480957031,
                      -2.250571727752686
                     ],
                     [
                      -59.86555480957031,
                      -2.250571727752686
                     ],
                     [
                      -59.86555480957031,
                      -2.250571727752686
                     ],
                     [
                      -59.86555480957031,
                      -2.250571727752686
                     ],
                     [
                      -59.86555480957031,
                      -2.250571727752686
                     ],
                     [
                      -59.86555480957031,
                      -2.250571727752686
                     ],
                     [
                      -59.86555480957031,
                      -2.250571727752686
                     ],
                     [
                      -59.86555480957031,
                      -2.250571727752686
                     ],
                     [
                      -59.86555480957031,
                      -2.250571727752686
                     ],
                     [
                      -59.86555480957031,
                      -2.250571727752686
                     ],
                     [
                      -59.86555480957031,
                      -2.250571727752686
                     ],
                     [
                      -59.86555480957031,
                      -2.250571727752686
                     ],
                     [
                      -59.86555480957031,
                      -2.250571727752686
                     ],
                     [
                      -59.86555480957031,
                      -2.250571727752686
                     ],
                     [
                      -59.86555480957031,
                      -2.250571727752686
                     ],
                     [
                      -59.86555099487305,
                      -2.268537998199463
                     ],
                     [
                      -59.86555099487305,
                      -2.268537998199463
                     ],
                     [
                      -59.86555099487305,
                      -2.268537998199463
                     ],
                     [
                      -59.86555099487305,
                      -2.268537998199463
                     ],
                     [
                      -59.86555099487305,
                      -2.268537998199463
                     ],
                     [
                      -59.86555099487305,
                      -2.268537998199463
                     ],
                     [
                      -59.86555099487305,
                      -2.268537998199463
                     ],
                     [
                      -59.86555099487305,
                      -2.268537998199463
                     ],
                     [
                      -59.86555099487305,
                      -2.268537998199463
                     ],
                     [
                      -59.86555099487305,
                      -2.268537998199463
                     ],
                     [
                      -59.86555099487305,
                      -2.268537998199463
                     ],
                     [
                      -59.86555099487305,
                      -2.268537998199463
                     ],
                     [
                      -59.86555099487305,
                      -2.268537998199463
                     ],
                     [
                      -59.86555099487305,
                      -2.268537998199463
                     ],
                     [
                      -59.86555099487305,
                      -2.268537998199463
                     ],
                     [
                      -59.86555099487305,
                      -2.268537998199463
                     ],
                     [
                      -59.86555099487305,
                      -2.268537998199463
                     ],
                     [
                      -59.88352966308594,
                      -2.268539905548096
                     ],
                     [
                      -59.88352966308594,
                      -2.30447244644165
                     ],
                     [
                      -59.88352966308594,
                      -2.30447244644165
                     ],
                     [
                      -59.88352966308594,
                      -2.30447244644165
                     ],
                     [
                      -59.88352966308594,
                      -2.30447244644165
                     ],
                     [
                      -59.88352966308594,
                      -2.30447244644165
                     ],
                     [
                      -59.88352966308594,
                      -2.30447244644165
                     ],
                     [
                      -59.88352966308594,
                      -2.30447244644165
                     ],
                     [
                      -59.88352966308594,
                      -2.30447244644165
                     ],
                     [
                      -59.88352966308594,
                      -2.30447244644165
                     ],
                     [
                      -59.88352966308594,
                      -2.30447244644165
                     ],
                     [
                      -59.88352966308594,
                      -2.30447244644165
                     ],
                     [
                      -59.88352966308594,
                      -2.30447244644165
                     ],
                     [
                      -59.88352966308594,
                      -2.30447244644165
                     ],
                     [
                      -59.88352966308594,
                      -2.30447244644165
                     ],
                     [
                      -59.88352966308594,
                      -2.30447244644165
                     ],
                     [
                      -59.88352966308594,
                      -2.30447244644165
                     ],
                     [
                      -59.88352966308594,
                      -2.30447244644165
                     ],
                     [
                      -59.91948699951172,
                      -2.3044753074646
                     ]
                    ]
                   ],
                   "type": "Polygon"
                  },
                  "id": "('Fam_13', 92)",
                  "properties": {},
                  "type": "Feature"
                 }
                ],
                "type": "FeatureCollection"
               },
               "type": "line"
              },
              {
               "below": "traces",
               "coordinates": [
                [
                 -62.14714189584819,
                 -5.295901131951463
                ],
                [
                 -57.83567670766743,
                 -5.295901131951463
                ],
                [
                 -57.83567670766743,
                 -1.0001668807629231
                ],
                [
                 -62.14714189584819,
                 -1.0001668807629231
                ]
               ],
               "source": "data:image/png;base64,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",
               "sourcetype": "image"
              }
             ]
            ],
            "label": "Geometries 35 dBZ",
            "method": "relayout"
           },
           {
            "args": [
             "mapbox.layers",
             [
              {
               "color": "red",
               "line": {
                "width": 1.5
               },
               "name": "geom_40",
               "source": {
                "bbox": [
                 -59.95545196533203,
                 -2.3044753074646,
                 -59.86555862426758,
                 -2.124809503555298
                ],
                "features": [
                 {
                  "bbox": [
                   -59.95545196533203,
                   -2.3044753074646,
                   -59.86555862426758,
                   -2.124809503555298
                  ],
                  "geometry": {
                   "coordinates": [
                    [
                     [
                      -59.91948699951172,
                      -2.3044753074646
                     ],
                     [
                      -59.91948699951172,
                      -2.3044753074646
                     ],
                     [
                      -59.91948699951172,
                      -2.3044753074646
                     ],
                     [
                      -59.91948699951172,
                      -2.3044753074646
                     ],
                     [
                      -59.91948699951172,
                      -2.3044753074646
                     ],
                     [
                      -59.91948699951172,
                      -2.3044753074646
                     ],
                     [
                      -59.91948699951172,
                      -2.3044753074646
                     ],
                     [
                      -59.91948699951172,
                      -2.3044753074646
                     ],
                     [
                      -59.91948699951172,
                      -2.3044753074646
                     ],
                     [
                      -59.91948699951172,
                      -2.3044753074646
                     ],
                     [
                      -59.91948699951172,
                      -2.3044753074646
                     ],
                     [
                      -59.91948699951172,
                      -2.3044753074646
                     ],
                     [
                      -59.91948699951172,
                      -2.3044753074646
                     ],
                     [
                      -59.91948699951172,
                      -2.3044753074646
                     ],
                     [
                      -59.91948699951172,
                      -2.3044753074646
                     ],
                     [
                      -59.91948699951172,
                      -2.3044753074646
                     ],
                     [
                      -59.91948699951172,
                      -2.3044753074646
                     ],
                     [
                      -59.91949081420898,
                      -2.268542528152466
                     ],
                     [
                      -59.93746948242188,
                      -2.268543481826782
                     ],
                     [
                      -59.93746948242188,
                      -2.268543481826782
                     ],
                     [
                      -59.93746948242188,
                      -2.268543481826782
                     ],
                     [
                      -59.93746948242188,
                      -2.268543481826782
                     ],
                     [
                      -59.93746948242188,
                      -2.268543481826782
                     ],
                     [
                      -59.93746948242188,
                      -2.268543481826782
                     ],
                     [
                      -59.93746948242188,
                      -2.268543481826782
                     ],
                     [
                      -59.93746948242188,
                      -2.268543481826782
                     ],
                     [
                      -59.93746948242188,
                      -2.268543481826782
                     ],
                     [
                      -59.93746948242188,
                      -2.268543481826782
                     ],
                     [
                      -59.93746948242188,
                      -2.268543481826782
                     ],
                     [
                      -59.93746948242188,
                      -2.268543481826782
                     ],
                     [
                      -59.93746948242188,
                      -2.268543481826782
                     ],
                     [
                      -59.93746948242188,
                      -2.268543481826782
                     ],
                     [
                      -59.93746948242188,
                      -2.268543481826782
                     ],
                     [
                      -59.93746948242188,
                      -2.268543481826782
                     ],
                     [
                      -59.93746948242188,
                      -2.268543481826782
                     ],
                     [
                      -59.93746948242188,
                      -2.250577211380005
                     ],
                     [
                      -59.93746948242188,
                      -2.250577211380005
                     ],
                     [
                      -59.93746948242188,
                      -2.250577211380005
                     ],
                     [
                      -59.93746948242188,
                      -2.250577211380005
                     ],
                     [
                      -59.93746948242188,
                      -2.250577211380005
                     ],
                     [
                      -59.93746948242188,
                      -2.250577211380005
                     ],
                     [
                      -59.93746948242188,
                      -2.250577211380005
                     ],
                     [
                      -59.93746948242188,
                      -2.250577211380005
                     ],
                     [
                      -59.93746948242188,
                      -2.250577211380005
                     ],
                     [
                      -59.93746948242188,
                      -2.250577211380005
                     ],
                     [
                      -59.93746948242188,
                      -2.250577211380005
                     ],
                     [
                      -59.93746948242188,
                      -2.250577211380005
                     ],
                     [
                      -59.93746948242188,
                      -2.250577211380005
                     ],
                     [
                      -59.93746948242188,
                      -2.250577211380005
                     ],
                     [
                      -59.93746948242188,
                      -2.250577211380005
                     ],
                     [
                      -59.93746948242188,
                      -2.250577211380005
                     ],
                     [
                      -59.93746948242188,
                      -2.250577211380005
                     ],
                     [
                      -59.91949081420898,
                      -2.250576257705688
                     ],
                     [
                      -59.91949081420898,
                      -2.232609987258911
                     ],
                     [
                      -59.93747329711914,
                      -2.232610940933228
                     ],
                     [
                      -59.93747329711914,
                      -2.232610940933228
                     ],
                     [
                      -59.93747329711914,
                      -2.232610940933228
                     ],
                     [
                      -59.93747329711914,
                      -2.232610940933228
                     ],
                     [
                      -59.93747329711914,
                      -2.232610940933228
                     ],
                     [
                      -59.93747329711914,
                      -2.232610940933228
                     ],
                     [
                      -59.93747329711914,
                      -2.232610940933228
                     ],
                     [
                      -59.93747329711914,
                      -2.232610940933228
                     ],
                     [
                      -59.93747329711914,
                      -2.232610940933228
                     ],
                     [
                      -59.93747329711914,
                      -2.232610940933228
                     ],
                     [
                      -59.93747329711914,
                      -2.232610940933228
                     ],
                     [
                      -59.93747329711914,
                      -2.232610940933228
                     ],
                     [
                      -59.93747329711914,
                      -2.232610940933228
                     ],
                     [
                      -59.93747329711914,
                      -2.232610940933228
                     ],
                     [
                      -59.93747329711914,
                      -2.232610940933228
                     ],
                     [
                      -59.93747329711914,
                      -2.232610940933228
                     ],
                     [
                      -59.93747329711914,
                      -2.232610940933228
                     ],
                     [
                      -59.93747329711914,
                      -2.196678400039673
                     ],
                     [
                      -59.95545196533203,
                      -2.19667911529541
                     ],
                     [
                      -59.95545196533203,
                      -2.19667911529541
                     ],
                     [
                      -59.95545196533203,
                      -2.19667911529541
                     ],
                     [
                      -59.95545196533203,
                      -2.19667911529541
                     ],
                     [
                      -59.95545196533203,
                      -2.19667911529541
                     ],
                     [
                      -59.95545196533203,
                      -2.19667911529541
                     ],
                     [
                      -59.95545196533203,
                      -2.19667911529541
                     ],
                     [
                      -59.95545196533203,
                      -2.19667911529541
                     ],
                     [
                      -59.95545196533203,
                      -2.19667911529541
                     ],
                     [
                      -59.95545196533203,
                      -2.19667911529541
                     ],
                     [
                      -59.95545196533203,
                      -2.19667911529541
                     ],
                     [
                      -59.95545196533203,
                      -2.19667911529541
                     ],
                     [
                      -59.95545196533203,
                      -2.19667911529541
                     ],
                     [
                      -59.95545196533203,
                      -2.19667911529541
                     ],
                     [
                      -59.95545196533203,
                      -2.19667911529541
                     ],
                     [
                      -59.95545196533203,
                      -2.19667911529541
                     ],
                     [
                      -59.95545196533203,
                      -2.19667911529541
                     ],
                     [
                      -59.95545196533203,
                      -2.160746574401855
                     ],
                     [
                      -59.95545196533203,
                      -2.160746574401855
                     ],
                     [
                      -59.95545196533203,
                      -2.160746574401855
                     ],
                     [
                      -59.95545196533203,
                      -2.160746574401855
                     ],
                     [
                      -59.95545196533203,
                      -2.160746574401855
                     ],
                     [
                      -59.95545196533203,
                      -2.160746574401855
                     ],
                     [
                      -59.95545196533203,
                      -2.160746574401855
                     ],
                     [
                      -59.95545196533203,
                      -2.160746574401855
                     ],
                     [
                      -59.95545196533203,
                      -2.160746574401855
                     ],
                     [
                      -59.95545196533203,
                      -2.160746574401855
                     ],
                     [
                      -59.95545196533203,
                      -2.160746574401855
                     ],
                     [
                      -59.95545196533203,
                      -2.160746574401855
                     ],
                     [
                      -59.95545196533203,
                      -2.160746574401855
                     ],
                     [
                      -59.95545196533203,
                      -2.160746574401855
                     ],
                     [
                      -59.95545196533203,
                      -2.160746574401855
                     ],
                     [
                      -59.95545196533203,
                      -2.160746574401855
                     ],
                     [
                      -59.95545196533203,
                      -2.160746574401855
                     ],
                     [
                      -59.91949462890625,
                      -2.160744905471802
                     ],
                     [
                      -59.91949844360352,
                      -2.142778396606445
                     ],
                     [
                      -59.91949844360352,
                      -2.142778396606445
                     ],
                     [
                      -59.91949844360352,
                      -2.142778396606445
                     ],
                     [
                      -59.91949844360352,
                      -2.142778396606445
                     ],
                     [
                      -59.91949844360352,
                      -2.142778396606445
                     ],
                     [
                      -59.91949844360352,
                      -2.142778396606445
                     ],
                     [
                      -59.91949844360352,
                      -2.142778396606445
                     ],
                     [
                      -59.91949844360352,
                      -2.142778396606445
                     ],
                     [
                      -59.91949844360352,
                      -2.142778396606445
                     ],
                     [
                      -59.91949844360352,
                      -2.142778396606445
                     ],
                     [
                      -59.91949844360352,
                      -2.142778396606445
                     ],
                     [
                      -59.91949844360352,
                      -2.142778396606445
                     ],
                     [
                      -59.91949844360352,
                      -2.142778396606445
                     ],
                     [
                      -59.91949844360352,
                      -2.142778396606445
                     ],
                     [
                      -59.91949844360352,
                      -2.142778396606445
                     ],
                     [
                      -59.91949844360352,
                      -2.142778396606445
                     ],
                     [
                      -59.91949844360352,
                      -2.142778396606445
                     ],
                     [
                      -59.90151977539062,
                      -2.14277720451355
                     ],
                     [
                      -59.90151977539062,
                      -2.124810934066772
                     ],
                     [
                      -59.90151977539062,
                      -2.124810934066772
                     ],
                     [
                      -59.90151977539062,
                      -2.124810934066772
                     ],
                     [
                      -59.90151977539062,
                      -2.124810934066772
                     ],
                     [
                      -59.90151977539062,
                      -2.124810934066772
                     ],
                     [
                      -59.90151977539062,
                      -2.124810934066772
                     ],
                     [
                      -59.90151977539062,
                      -2.124810934066772
                     ],
                     [
                      -59.90151977539062,
                      -2.124810934066772
                     ],
                     [
                      -59.90151977539062,
                      -2.124810934066772
                     ],
                     [
                      -59.90151977539062,
                      -2.124810934066772
                     ],
                     [
                      -59.90151977539062,
                      -2.124810934066772
                     ],
                     [
                      -59.90151977539062,
                      -2.124810934066772
                     ],
                     [
                      -59.90151977539062,
                      -2.124810934066772
                     ],
                     [
                      -59.90151977539062,
                      -2.124810934066772
                     ],
                     [
                      -59.90151977539062,
                      -2.124810934066772
                     ],
                     [
                      -59.90151977539062,
                      -2.124810934066772
                     ],
                     [
                      -59.90151977539062,
                      -2.124810934066772
                     ],
                     [
                      -59.883544921875,
                      -2.124809503555298
                     ],
                     [
                      -59.883544921875,
                      -2.124809503555298
                     ],
                     [
                      -59.883544921875,
                      -2.124809503555298
                     ],
                     [
                      -59.883544921875,
                      -2.124809503555298
                     ],
                     [
                      -59.883544921875,
                      -2.124809503555298
                     ],
                     [
                      -59.883544921875,
                      -2.124809503555298
                     ],
                     [
                      -59.883544921875,
                      -2.124809503555298
                     ],
                     [
                      -59.883544921875,
                      -2.124809503555298
                     ],
                     [
                      -59.883544921875,
                      -2.124809503555298
                     ],
                     [
                      -59.883544921875,
                      -2.124809503555298
                     ],
                     [
                      -59.883544921875,
                      -2.124809503555298
                     ],
                     [
                      -59.883544921875,
                      -2.124809503555298
                     ],
                     [
                      -59.883544921875,
                      -2.124809503555298
                     ],
                     [
                      -59.883544921875,
                      -2.124809503555298
                     ],
                     [
                      -59.883544921875,
                      -2.124809503555298
                     ],
                     [
                      -59.883544921875,
                      -2.124809503555298
                     ],
                     [
                      -59.883544921875,
                      -2.124809503555298
                     ],
                     [
                      -59.88354110717773,
                      -2.142775774002075
                     ],
                     [
                      -59.86556243896484,
                      -2.142773866653442
                     ],
                     [
                      -59.86556243896484,
                      -2.142773866653442
                     ],
                     [
                      -59.86556243896484,
                      -2.142773866653442
                     ],
                     [
                      -59.86556243896484,
                      -2.142773866653442
                     ],
                     [
                      -59.86556243896484,
                      -2.142773866653442
                     ],
                     [
                      -59.86556243896484,
                      -2.142773866653442
                     ],
                     [
                      -59.86556243896484,
                      -2.142773866653442
                     ],
                     [
                      -59.86556243896484,
                      -2.142773866653442
                     ],
                     [
                      -59.86556243896484,
                      -2.142773866653442
                     ],
                     [
                      -59.86556243896484,
                      -2.142773866653442
                     ],
                     [
                      -59.86556243896484,
                      -2.142773866653442
                     ],
                     [
                      -59.86556243896484,
                      -2.142773866653442
                     ],
                     [
                      -59.86556243896484,
                      -2.142773866653442
                     ],
                     [
                      -59.86556243896484,
                      -2.142773866653442
                     ],
                     [
                      -59.86556243896484,
                      -2.142773866653442
                     ],
                     [
                      -59.86556243896484,
                      -2.142773866653442
                     ],
                     [
                      -59.86556243896484,
                      -2.142773866653442
                     ],
                     [
                      -59.86555862426758,
                      -2.196672916412354
                     ],
                     [
                      -59.86555862426758,
                      -2.196672916412354
                     ],
                     [
                      -59.86555862426758,
                      -2.196672916412354
                     ],
                     [
                      -59.86555862426758,
                      -2.196672916412354
                     ],
                     [
                      -59.86555862426758,
                      -2.196672916412354
                     ],
                     [
                      -59.86555862426758,
                      -2.196672916412354
                     ],
                     [
                      -59.86555862426758,
                      -2.196672916412354
                     ],
                     [
                      -59.86555862426758,
                      -2.196672916412354
                     ],
                     [
                      -59.86555862426758,
                      -2.196672916412354
                     ],
                     [
                      -59.86555862426758,
                      -2.196672916412354
                     ],
                     [
                      -59.86555862426758,
                      -2.196672916412354
                     ],
                     [
                      -59.86555862426758,
                      -2.196672916412354
                     ],
                     [
                      -59.86555862426758,
                      -2.196672916412354
                     ],
                     [
                      -59.86555862426758,
                      -2.196672916412354
                     ],
                     [
                      -59.86555862426758,
                      -2.196672916412354
                     ],
                     [
                      -59.86555862426758,
                      -2.196672916412354
                     ],
                     [
                      -59.86555862426758,
                      -2.196672916412354
                     ],
                     [
                      -59.88353729248047,
                      -2.196674585342407
                     ],
                     [
                      -59.8835334777832,
                      -2.232607126235962
                     ],
                     [
                      -59.8835334777832,
                      -2.232607126235962
                     ],
                     [
                      -59.8835334777832,
                      -2.232607126235962
                     ],
                     [
                      -59.8835334777832,
                      -2.232607126235962
                     ],
                     [
                      -59.8835334777832,
                      -2.232607126235962
                     ],
                     [
                      -59.8835334777832,
                      -2.232607126235962
                     ],
                     [
                      -59.8835334777832,
                      -2.232607126235962
                     ],
                     [
                      -59.8835334777832,
                      -2.232607126235962
                     ],
                     [
                      -59.8835334777832,
                      -2.232607126235962
                     ],
                     [
                      -59.8835334777832,
                      -2.232607126235962
                     ],
                     [
                      -59.8835334777832,
                      -2.232607126235962
                     ],
                     [
                      -59.8835334777832,
                      -2.232607126235962
                     ],
                     [
                      -59.8835334777832,
                      -2.232607126235962
                     ],
                     [
                      -59.8835334777832,
                      -2.232607126235962
                     ],
                     [
                      -59.8835334777832,
                      -2.232607126235962
                     ],
                     [
                      -59.8835334777832,
                      -2.232607126235962
                     ],
                     [
                      -59.8835334777832,
                      -2.232607126235962
                     ],
                     [
                      -59.90151214599609,
                      -2.232608795166016
                     ],
                     [
                      -59.90151214599609,
                      -2.250575065612793
                     ],
                     [
                      -59.8835334777832,
                      -2.250573396682739
                     ],
                     [
                      -59.8835334777832,
                      -2.250573396682739
                     ],
                     [
                      -59.8835334777832,
                      -2.250573396682739
                     ],
                     [
                      -59.8835334777832,
                      -2.250573396682739
                     ],
                     [
                      -59.8835334777832,
                      -2.250573396682739
                     ],
                     [
                      -59.8835334777832,
                      -2.250573396682739
                     ],
                     [
                      -59.8835334777832,
                      -2.250573396682739
                     ],
                     [
                      -59.8835334777832,
                      -2.250573396682739
                     ],
                     [
                      -59.8835334777832,
                      -2.250573396682739
                     ],
                     [
                      -59.8835334777832,
                      -2.250573396682739
                     ],
                     [
                      -59.8835334777832,
                      -2.250573396682739
                     ],
                     [
                      -59.8835334777832,
                      -2.250573396682739
                     ],
                     [
                      -59.8835334777832,
                      -2.250573396682739
                     ],
                     [
                      -59.8835334777832,
                      -2.250573396682739
                     ],
                     [
                      -59.8835334777832,
                      -2.250573396682739
                     ],
                     [
                      -59.8835334777832,
                      -2.250573396682739
                     ],
                     [
                      -59.8835334777832,
                      -2.250573396682739
                     ],
                     [
                      -59.88352966308594,
                      -2.30447244644165
                     ],
                     [
                      -59.88352966308594,
                      -2.30447244644165
                     ],
                     [
                      -59.88352966308594,
                      -2.30447244644165
                     ],
                     [
                      -59.88352966308594,
                      -2.30447244644165
                     ],
                     [
                      -59.88352966308594,
                      -2.30447244644165
                     ],
                     [
                      -59.88352966308594,
                      -2.30447244644165
                     ],
                     [
                      -59.88352966308594,
                      -2.30447244644165
                     ],
                     [
                      -59.88352966308594,
                      -2.30447244644165
                     ],
                     [
                      -59.88352966308594,
                      -2.30447244644165
                     ],
                     [
                      -59.88352966308594,
                      -2.30447244644165
                     ],
                     [
                      -59.88352966308594,
                      -2.30447244644165
                     ],
                     [
                      -59.88352966308594,
                      -2.30447244644165
                     ],
                     [
                      -59.88352966308594,
                      -2.30447244644165
                     ],
                     [
                      -59.88352966308594,
                      -2.30447244644165
                     ],
                     [
                      -59.88352966308594,
                      -2.30447244644165
                     ],
                     [
                      -59.88352966308594,
                      -2.30447244644165
                     ],
                     [
                      -59.88352966308594,
                      -2.30447244644165
                     ],
                     [
                      -59.91948699951172,
                      -2.3044753074646
                     ]
                    ]
                   ],
                   "type": "Polygon"
                  },
                  "id": "('Fam_13', 92)",
                  "properties": {},
                  "type": "Feature"
                 }
                ],
                "type": "FeatureCollection"
               },
               "type": "line"
              },
              {
               "below": "traces",
               "coordinates": [
                [
                 -62.14714189584819,
                 -5.295901131951463
                ],
                [
                 -57.83567670766743,
                 -5.295901131951463
                ],
                [
                 -57.83567670766743,
                 -1.0001668807629231
                ],
                [
                 -62.14714189584819,
                 -1.0001668807629231
                ]
               ],
               "source": "data:image/png;base64,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",
               "sourcetype": "image"
              }
             ]
            ],
            "label": "Geometries 40 dBZ",
            "method": "relayout"
           },
           {
            "args": [
             "mapbox.layers",
             [
              {
               "color": "black",
               "line": {
                "width": 4
               },
               "name": "Trajectory",
               "source": {
                "bbox": [
                 -59.84758377075195,
                 -2.14277195930481,
                 -59.77567672729492,
                 -2.124794483184814
                ],
                "features": [
                 {
                  "bbox": [
                   -59.84758377075195,
                   -2.14277195930481,
                   -59.77567672729492,
                   -2.124794483184814
                  ],
                  "geometry": {
                   "coordinates": [
                    [
                     -59.77567672729492,
                     -2.124794483184814
                    ],
                    [
                     -59.84758377075195,
                     -2.14277195930481
                    ]
                   ],
                   "type": "LineString"
                  },
                  "id": "('Fam_13', 92)",
                  "properties": {},
                  "type": "Feature"
                 }
                ],
                "type": "FeatureCollection"
               },
               "type": "line"
              },
              {
               "below": "traces",
               "coordinates": [
                [
                 -62.14714189584819,
                 -5.295901131951463
                ],
                [
                 -57.83567670766743,
                 -5.295901131951463
                ],
                [
                 -57.83567670766743,
                 -1.0001668807629231
                ],
                [
                 -62.14714189584819,
                 -1.0001668807629231
                ]
               ],
               "source": "data:image/png;base64,iVBORw0KGgoAAAANSUhEUgAAAPEAAADxCAYAAAAay1EJAABBAklEQVR4nO2dd5wdVdn4v+dMuWX3bs1m0wlVBJWfijgoht6RjooIIggi+gK+KoK9K1hQ7EoTEdCQADGJgVATyqHYXgXpJSEk2Wy/u7fNzDm/P+bupm1C+m425/v55ANb7tyZu/PM058HLBaLxWKxWCwWi8VisVgsFovFYrFYLBaLxWKxWCwWi8VisVgsFovFYrFYLBaLxWKxWCwWi8VisVgsFovFYrFYLBaLZQfgtvvHK4C7FkxUADOrXwPMXzBJ3b9wkvrrgxPVul5v2XaI4T4By/bFXQsmKm2gzpGUjeGQ970WDPc57ehYIbZsEH95YILSJDdMxRjK2pCWgpQQjPFcgvcussI8TMjhPgHL9sH7D3o9ODKbJajNcurBS4MD62oY77tkHcnicrjF3+/RhydbU30DsZrYssHctWCimux7THFdvMiQCl4MSo/vplYITU+sWVwOOfrAJVtUIz+4cJI60Jrs68UKsWWD+Y+aqiRQ0Jr+WLNTyqfOkXTFMSkhmfSuFwNIAl+HT7OCt62wQmzZYB5YOEkBOEJQ0oYm18ERiVB7QrCoHBIb+MAhS60Ab0Pc4T4By/bDQWuYtQNpKGMg60gyUlLSenhObgfGBrYsm8ypBy8NCrHGAGWtyTmS8X6iF269b9xGBaZmPzDBBrIslq3JzfcOLZR/XMf3B4pENoUFD9nI9MZgfWLLRnHD/FYFoDGcc3ib9X0tFovFYrFYLBaLxWKxWCwWi8WynTLL5og3C1vsYRlWbr1vnIqMAWCOHTKwSdiyS8uw8M9Hd1L/6S/T6DqUtGHm/eNV0ZZsbhJWE1u2OQ89NFm1ei57ZVO0ei4nHPR6sFPKp1ZK5lptvNFYTWzZptx4T6vSwNJKRMZJCgZfenwX5QCTfY9XKpVhPb/tEauJLduUndM+/bGmT2sq2vDmd78SNDqSvNa8UqngC8GChyarGasM5rOsH1s7bdlmLHxostol5VMymhdKicYtxJrxvsfUlEdbGLE8jClrzXEHvW7rsjcQa06PQq6c26wApBA4AiSCi49aMWxC8Yd7xqlGV/K+AxYH6uEpKnjvoqDjb7up5ne+ENxy3zgVvHdRcOM9rWrf2gwTfZfnStak3hisJh7F/P6eVuUKQVFrPj4COo5uumecyrmSOkdS0oajD1wSLHxosnqyr8jOaZ8TD3o9uGb+WDUSznV7wmriUcYP5jYrRwikgL5Y44jhf05Pv2+8Ou2QpUHJaD5y0LLggYWT1NEHLgn+dN849b4DFq8msFaAN57h/wtbtig/mTdGXXJUezDrgQmq0XXwhWBpGPGf/hIOgsuP7dimQvKXByaofq2JDTgCinFS2NHoOeyR9nmir4gnBB8+dJkV3k3ECvEo5cZ7WlXWkdRISUFrTjl4ZAyvu3b+WHXu4W3BNfPHqkbXwZCM+bl+fqv62OHLR8Q5bm9YIR6l/OGecSrjCDwhCI0hMgaJGBGTKH9391gVAxcc0RYMTArxZTIt87Jjtq2lMBqwPvEo5fVKSFpK0lIQGUPFGCJthvu0ADjviJV+b4SxfvBmYos9RinjfZcWzyHnSDwhcIWg1hl5f+6PH94W/PrusbawYzOw5vQOwG/vHqt8IfCkoC2M+MxR7VbzjSKsEI9iZt4/XtU5Dj1xTE8U068N/3Pkti/6uGreGDXcBSejGSvEo5Sf3dWi6hxJo+uwtBKxqJRsLjTAd4/vGhZh+tacJvWVYzutIG9hrBCPYq6aN0YJIC0lvgCBoE/rYdHGlq2HjU6PYtb0fb80q1GNgAIui8VisayKfS6PYr78l0ZV1gYN+EKQloKUTP7kAvjCNiisuGreGLUh0fAf/XWMio3hUlvssdGMvMShZYuRjzVSCMb7LpNTLq2+S1ZKBFDYRoUfnzmqPfj2nCb13TnN680Ff/bo9sAANme88VhNPEr55uwmFQNlnVRr1TqSmqoW1gY0yVK0bREt/t6cZiVFEhnfkLLKq+e1qItsOmqDsUI8Crn4jnrlCUFKCNKOoKzNoOAKoK5auVUyhlCbbZJy+v7cZhUZQ2jgG8fZNNOWxJrTo5CcI6lxJM2ewzjPRVb94RbPoclNupoqxgwK0+WzGtVn7qhXn7q9fquZspcd0xH4QjAyqrdHF1YTjzIum9WoHEAKcITArY7nKRlDPorJSEmjK6kYCI2hI4qpk5Kcm0zb+Po20JLfn9us8pHmO8NUdDLasJp4O+Grs5s2SEt+//iuwJMCWRXglBAIYIzrMDnlkZaCtCOZ6LvskvbYP5ehzpWUtVlLS156Z8MW1cxXzm1WX/5Lo7rsmI6gzrW33pbCauJRxiV31CtHCNLVET0GKGpDPtbUOZK9syl2Tnu0+i7PFissLYd0R5oVUYwnBGWtMcBPT+zZLC35jdlN6muraPUvzWpU3zm+K/j2nCblC0FkwBXYlJJlx+F/7kj81Y/NyG2QdrxsVqO6fFaj+taclRr8pnvGqSVP7Kp6/7abUg9PUf94dCf18uO7rHW8z25BDfy/qxzrG1Vr4vtzm9VX/tKovj67SX17zoZZGJZ1YzXxdsDn72xQFWNIS8kVG+hHfnFWoxIkfu+VJ3QHp/45p/ar9dmnNs0k36PecWhCEEl4vL/EYdNe2yyN+Jk76tVVq2jvr89uUj1RzDjfpawNUsCXq+msH/51jHJFkscWQFek+dEJ3VYjbyJWiLcDLphZpxpdJ4kqa4MnBVevx9y9fFajcgVEBvq1JislOUeSkYKMFNS5DlNTHhp4pLdAd6SpdSTLwght4BcnbbopfeXcZlXQhtgYmjwHhyQiXYg1XVHMpJSHzQFvWawQjzAuvL1eeWJon/SCmXXKrxZsuEKwIoypcyTuEL9/8R31SgNZKemLNb5I8sS1UpJ2BKGBUBvKxuAJkVR3AWVj+N3JvcEFM+tUk+tsdA75C7MaVVoKIm1wpWBKyqUzjKkYKGnNt97fFVwxt1ltaOGH5Y2xQjyC+MKsRtUTxfz65N7Vbu7/vbNBaWOIV/meXx2AB6xXK28M58+sU79d4703lE/dXq8GNPiAHxwbw8BEywZX0l6JB837y6rm/vdsmmmzsUI8Qjjrtpy68dT8Wjf012Y3qUKsaXQdloURsUn+aKEx/KYqcKdPzylDki+UgCvhhlPWPtZQ/O+dDUoCP9xEn/TSOxvUlSd0B5+7s0E5QuBXI+KuSAb0DZRoR8ZQU60U84Ug4wgq2tAexlxp/eHNwibrRggDAvyJmXXqvJl1gxHbpZWIrCMHzV1DouF8KTh3Rp06e0ZO5RxBRkJWCm46LR9sqABD8kDYVAEGuPKE7uDSOxuUAa44visoaUOuuqYlNJCWgppqBVkMvF6JuPzYjqAr0qSlxOaLNx+riUcQZ0zPqQZXDgaWPjmzTv3q5N7gw9Nzape0iycEhar2qnPEYCdSVNV2O6Vc2sLEZDXAG5nGZ96WU46ASENBw8wPbrjwX3RHvfKFGHwAXHJHvap1JN9+f1fw+TsbVEomNdsAFWMY77t0RZpmV9rc8BbGTvYYQThiZWT4ojvqVVkbLry9XuUcybtyGZZVIv5TKHPtKb3BeTPrVFkb8jHsnHaIjOG1SkRnZLjtAxsmjG2hx06piKwruGkdEekzpueUL2Gi7xIa6Ipifntyb7B3NoUh8ePbwxhDsoXxC7MaVUYKvn5cZ3Dh7fXKFUnDRWQM9Y6kI9Jb7gPbRpgZY5U4ZeTOxraaeATwtdlNanE54rpTegdNaoD+2HDTaYlAfm12k6qRgrfXZni2WObTR64IzptZp363irY9e0ZO9cVskBB/4M9J0Ui9K+gIzWpa+KzbcqrOkfy8KtgfnZFTDY6kO9a0ug5SCHwp6I5iJvoufbEmH2sy1V7lkjHUOZLeWPPjE7qDr81uUq5I2iJ9IShto86pLYm5vkGJj41M390K8TBz8R31aiA99MHpOeUAvkxqnn9zcm9w0p9yqskVvLXG57Tmev5VKHHMgUsCSFJOoUnM1awUxAb6tOHW0zZME58zI9Hmf9zA3//4jDo13nfQBg5qqGHvbIofLekYrLkWJILa5Dnko5iYxIcfaLDoCGN+sA2CWHc8MEGduIWXlJsbm1R5zybS+70w4gTZCvEI5KzbckoK8MTKJv6sI2h0HeocyeeOXn3czfkz61RoDBXNBgvkh6bnlCfAGBAC/rBGZPxTt9ernkgPWgKQ+L352PCZiU3k45ieSNMba8ra8Pe+IgCiqmkHik1cAU2uQ1EbHLb+uNyf3dWiJvkuGrb4EjnzyxolLuwfcUJsQ4MjkBopyAjB7mmP3dIeUiRpmYPrs3y6uWGt3++MDAUN4QY2635oek75IolmQ/KQOPO21Wuyf3FSTzAgwB+anlMfmZ5TXbHmrTU+j/YWeLUcUtCa5WHEkko4qHUFyXFF9TpcIeiJYlySQpKvbWA31gDfntOkrpzbvFoN+Jr88K9jBn/2P0euCGK2vAADMCHHvx7dacTVelshHmGcPj2n3lOX5U1ZHw1kpKTVc1gRxjhCDGnOFWNJuBFCfOtp+eDGU/NBX5wUkORjQV+1kuTYW+rVh6bn1KqNFreelg9uOi0f7J72eLZQYc9sioo29ETJDOsXq4PpC9qgjeGHJ3QHEqqVYokgd0QxhzbU8LaaFLfdP36dgnDLfePUqoL+5WM7Aw3UOw4/WkVYV2VNy+TUg5cGM9fzHpuKOHFZ8Nb2cEsfdrOxQjyC+ND0nLrltHzQFcV8ormBjJQ8X6pQIyWRgUm+t9ZrTvpTTgmRSO/tG5EiOn9mnco6opp3FoOvnXN6T2CA8Z7LlXOb1enTc+qs23LqojvqVYvncnxzjsfyRboizX8LZQB+d3Jv4FX7lq86sSe46I565UuJBnpjTVekKRtDQWtO1B6H19Ww8KHJQwpZT6TZtzbNd+asrn0rxuAKwS/ualEbos37460zQ0S+f8v62lsCK8QjCEOiiVNSMLO3j31qUuyS9lgWRjS4kqcKJZ5/bGf1m7vHqu/NaVYn/SmnJOCLtRv634jIJEGoQiwwCA6/eaWWe1PGo2IMSyoRaZmY2y2ew7npLLExTPBdds/4q1Va/eiE7mCggiysamRNUqmVdZKg2z1d/XTW+9Td+SL74w6pkS84oi3Ix5qsIxjjOnxtdpOqrcYBfAHtYUzjBhSInHnYshEnbFsLK8QjiJwU9MeCrihmSTlEA8sqSZPDrmmPeV39fGNRO3d3Fflbf4W+OEW/TrRzRUuOvKVJHXPLhvUCrwihI5QU4hQayfwPrzRJ+2Od5HVdB08kVWCLyhF3xGWO7YzZM5OiPYyApAVxzWP/6uTewBGJ4BbipPSy1pGEBq5v68K8azzOY6+zZybFvQsnqbkPTlR/vm+8urh6rA8fuiz4zFHtwSePXBE0uQ4O8Ju7x6pPHrki2CnlkRJinab1joiNTo8QBpr+O0LNJN/hhVLM3lmXojYIEv/yV2tUYB1xc7NyRYzAUNYpsk6JyEhC4xJrj/s+MnRw54ibm5UjNJ6IGTDF76ya0++/tU6lZPKeroC+WJCRhv+d2MjtHXn2yvp8sC73hqmWT86sUzEQG+iODDM+mA/OmVGn3l6botFxOCMPhDHxhFpiV7LcMdzX3c8/+ktrdWR9a06TGue5LK1E5FxJWgiyjuSjhy3fYbTt+rBCPMI4e0ZOlXViWpc0NLgQ6iR3fP0qNdGH/XGsirUPgKgKsjYuxkh8t5+7Pzx0aeOhN41TBkGD10doBMU4hRCGMMqQ8vqJtcvEdJFFhRx1fh5jBLWO4fSWHE2uw6JKyNzOfhpdSSFOzPhrq0Uqx99ap2Z9qDc46pYmNe/0zuCjM5KikWJsECLxnS+6o159a3ILZQMtz3eDFJiGFDrrUsi63NrRy5JKtNZY26/PblIDQ/yumNusJJCS0vYmY4V4xPHB6TmVElAxSU3sTaflg+NvrVNpaeiKUoNm72F/bFFh2MjANOkHz35+g2/mI25uVmGcIq6MQTgFPK8HX4YUoxocGQKGWPuk3MLgDXJog8O7atOUjeGIaUuCo29pVPVuRKhhRlWLf3JmnSoaQ7PrsKgcI0g0caMrcKrdTb89uTf4ybwx6tM1tRgpcPojdNohSicVwE9HIbM788SsPZ/6V3e1qE/ajY5rYYV4hPHxGXVqQGu90e8eelOriqJ6jJEs+NgzG3RzH/j7XZXj9OPICE9EVLRPGNbx4NmJeXzwHyaolFui3g2TEkoN2ggaXMNbsz7/V6gMFoac8qec6tcezW7IH0/LB6f9OadqnURYU0LQFSVjeWqloCMyNLuCelfS7DrskfV5SzaFQ9IXXec4VIzh2WKZ7jhmUSlEG7j82NUtij/cM07tSEGrDcEK8QhizVroAQa6mdb8/sF/mKiMcXGdAmFUx4MffTGYdt3eCmDBOU8NeaMf/IcJynPKg+b2tOvfrBZ87L/BtOvfrFyvGwBXVgBIy5DQODS6ETeflg+OuqVJaSPwRESNo8k4yTFLGv5ULQz5yPSccmXSGZVzBEsq0OwZJEkKKsQwNeXxpozP7hmftJSUtSaqti12RzFPF8qUjaE/1ggEXzrWdj2tDyvEo4CD/zBRxeVWhNuHqAqgMQIT1wCw4Jz/rFMIDrpxstJhM8gSrteD1i5ZL08xqsV1SqtFrSEJfGUdMyi0H5qeUymZlG8O9ESfM6NOCSDG0B2BL5J/TZ4k1IaKgd0zHm+vTZMWglbfpTvSlLRmaRjxYrFCznEGxwp93rYurhcrxKOAade9RQlZ4cGzn0u063V7K0y1MMRIFnz870MKwUE3TlE6ykFcg/BX0JBuJyuhPUzhiJhSWIvR6UF/+6AbJ6usl8cRmnfUuiwqhxQ0eCT9yG71bvrzB/LBGdNzKjRJe2WDIziyqZaXSxXemk3zRL7I4krE7hmPVs/Fl4K3ZFM8XShT0obeWLOkHNLsObSHMa2+y04pj+O3cFPDtuL/Ht1JvW3/V7fauds88XbOoTe1KiotuG4P035zwKApveDcfwboFH5mMQfesPtgTnXatfuoadftrQ69qVU9cNaiQMgKwusE43DnB/PB6/3jMEZSKE7igbMWB6sGzFynTH+lkb4wxzeO6wxKGjoqaYoacm6yOiY0ia8MUOsIHCBTHctzSV5yaFuFy2KflEhG1baHMcbA3/tKvFaOqOjEjE5JQUcYE1UH+lWM4eZ7x213ueEHF05S/Xrr9lBbTbwdM+36vZQQIYgYE2cgqoeolgUX3p1o5GvfrlKZxZTLzRDnQFRAhoCAqBa0z4JPPDSkr33/mUvW+v6BN+yupFMg4/ajkcw7vTM45U85VdQOtU6MENAXSRpdjSaJsNc4ScXXtRNb8B5fCkuL0OBROWgKX1zeQUYK3lqToiOMqRiDQFDnJEvfOqOkoDstBAfUZxnvefyjv8hJW6O5YSvwyMOTVVEnwxD2fc8iq4kta7PgY08HD579fPDgR18KQCL8NvA7mPab9yYaS4SUS61QaQHtgvES4Y1qWHDe4wFOgQNv2F0delOrOvD3OyuAA2/YTek4AyQPiTXfM+UWKIR1zDu9Mzjsj2NVSUuk0HRUaugKfbKOZlklzf51aa7dtZWUEHhCcE+lDBNyEAH1KbzOEm+rSdEbaxaXI5aFyRqZitZ0RDGuEDS4DgMl0MsqSbdUWq7/ln304cnqt3ePVTfdM/xa+z3vXRxAMjRwa2I18Shj2nVvVcQZ0F4itG4ejAQZsuDcfwbTfj1NLbhgQQBw4A17KBNnWHDuvzZYSxxy0zh130dWpniOuLlZRdpHiggQ+LKCwHDOuCwnP9kBoeaX72xkr2yKqSmfqUsL0FUi2qOJ3+bzfOrIFcGldzaoXTI+2hiWlCNafIcm16GsDT2xxlQH0UfVAQj/s55c8eOPTFGNjkPZGB7qLXDBEcM3VueBhZOUAGodh3e+x/rEb8h35jQP+5N3uJj262krr137YFwwPoR1LPj434IF5z0RENUy7ZeHqwUXLAimXfNONe2ad6oHz34uWHDuv4Jp175NTfvdu9WBv1+5l2naNfsO+Xk6Mlrt64HyzqxTRojE94uRLOwpYPZugacjLnyxkPQVxzGPj/GJd25gsQu9keazdzaorjjpiFoWxqQdgTaJv5ypat3PH9MRVKqDBtYnwAAD0zZ3dt3Bfunhwqm2YW5NAQariUcl037zXkWUY8Gn5q1180z72QmK2mcRpQkA6HILwu8Ep8CCTzwcTLvmHUq4eXLp5VS0tzKffN3eCgTCKSBlhfvPXLm76aAbp6qmVEdS4609JAaNYO+s5tsTxpB56DUe3HcM432P1yshZW2odyV/7eqnM4z5+Uk9wdkzcqrJdWhwJF89rjP4ybwxypB0WgngC8d0BN+Z06zGeA6fWI92veOBCeodNWnyscYVgje9++Xtwn/eHKwQj1Km/XZ/teD8R9/wBp7220AR1Q0GwyAJYL2pbjnvzqVZWol4thjyWjGH1hlMnEbICkKWeOCsxOc76pYm5YmI2Kw07FIyJjKCVg/2qU3R7DpMSXm0hRFpmWjq3TIe93UXB0cKfWxGTg3Uh3+2ukRurOfQvZEL1x55eLJqcBzGei4zO3o5fxhN6m3BqDGnLQnTfnZCkmY6/9Fg2i8PV9OuPnG9bsaC81VAahnTrn27Apj2mwPUg2c/H3RGhmcKFcb7Lsc31XJ4U5nGdFtipq9BOcpQ1h51bkxF+0TGITSCinF5vSL5a2fInM5+rlnezUulkP/0lygbw2P5EjXOSj1y/Sn5YGCZ+o9O6A5+dmJP0BbGG70xsTvSLKlE/KdQon4HGE4/+q9wB2PB/9w5eMMvuHB+YPTaQrcWYQOICu/76SlqwSceCqb95gDV1vsmHuts5W99ZQpaU+dKDqhLsU/zS7hu76AWBrj/zCWBIVkcLoRGG4dSnKLRDTEIsk5MaKAQw0ulkJwj2SPjY4C2NWYKeWvYhtk3iEYPRVcU80yxzEulCsWtNOHjjYjnDz25ZGtgzentlMP+2KJ2zpR5tmc8Cz727Nq+78+PUegUCy66fZ1a7H0/PVUBLLz4tnXWWWudYe+6dvbIeBRjw+SUR1ccc2c73HPG6kGmw28eo7R2iOIsnps0WfgiwhGGtExKL10hmJRy2Tvr82S+xJJKjITVpmp+e06TGthlvKn8/K4WJYCiNmvN4NoWbMuB8zuMJr5sVuPgk/HSOzds+sVIZoxf4uViChBMu/pk9d4ffnTwmg748RkKvxvh9Q752gHhFU4yZvaAqz681ucx7ZdHqLg0iYnZNib6LuN9l3fk0oz1HSb5Loc1ai6+o14ddOOUJL/8+13U/A+3B2FpIiau4Z4z2oJYu/jCkJFQ0dAeOvRrQzHWPNRbZPeqNl4ziLy5Agzw6SNXBJ86ckXgbeUc7brYlhsjdghN/NXZTeqb1d7Ub81pUj2R3qwlYiOd/a88V+2z23Se7a9bLYr8Rky7+mRltIPw8uAU8Gqfo9nv54TmGnZOe9RIScUkUy77teaZQhmVrww5oO+Qm8apWrdAs2doq0jqXU1YnUPd6kn6tSElxOA+5C37CexY7BCauC9O8pffm9Os8pEm66y87NGSX37vD88avA6v7kX2qUnhyArTfnnEBl/fgotmBgsvmR6YsA78TjJugYm+5NlihayUNLoODmLQb92nJs2RjZkhj5VxijR7hnfVpplzek9QMVDnJDPEah3JlJTLz0/qCawAbz6jfqHaN2c3qa9WtfDA3tyBm/DLf2lU/iixRSqVBoIrzleOUwbvn2QdyUENIV8+4+51Csn+V56jjHFwnDLCqfDQZ24NAITfRUvNqwQ5n3rXQQpYUokY77nUOhJXQLPn0uI6vFIeeg5zi6/ZK+OTkZILZtYpXwqe7k9xzxltwX5zmtTLpWjI140mzPSxSpy29c3qUa+JBwT4C7Ma1ReP7Qjq3GTq4ldnNykpVq4H/cpfGrdrjfzEF68OhIhwci9Sm32Vl0shd794IPt+5+J1Xtejl14XGOPw8OduDKJKHQN+9YQWxe4ZF1nd3tDsOkxNedQZwUTHYSffY2fXpRbBON/l1D+vvj3izNtySgB5bQiNodF1uPrEnqDVT3zwLx/bGayaWlqVS+9sUJfPalQ/ndeivr6R2yJGGttCgGE70MRXzRujpqa8LdK58tXZTUoA2hhSUhAa6IhiPn17vXKGKQCypXjPDz6mpFvCyb6EKzR3//dEjHEphjkA3vTVr6n6TDuPX/6L1T7Hxy77dfVrg9Yu7/nB2er17qeY2voCkTEsD2OOaUpRKyXCQLo/hNhQqk9SV//uL1HRgg9OzymPpP0wMrB3jc8jvWU6w6S7CVbfE7W4PHR7ngFafYc9Mj5PVvc7QeL2GMwWCXqNNrbrO/fKuc0q60g+vQHD0742u0l947jO4Kuzm1Qh1jS6Dl1RzA9P6A4+f2eDWnNb37kz6tS1p/QGH5meUzdt4JKy4eYtX/+S+s/XvzN4ru/67kXqiS9eHUz50vdUU6qLSHs4MuJfX71ivdfzvp+cpmpa72W8H/K2mhRvyabZM+MzoT9GVDRGgCjFLG5Nc2t7D88XQ6SAlBS0ViusBlbPFI2hLdSDk0DeiG/MblITfJed0h6vlyMWlUNy1YKNUCezsH0h+NjhdlztACPenL5+futaJtVP5o1RV89rUR2RxiGZgjjws2/PaVI/X+XrAQYmJ/oCso6kpDWhSUzpNQX4wtvr1cAY1mGuod8oVhVgSExsgEXfuTz451evDP7z9e8EXeUG9vnmF9Zrpgq/m0JpLL0RRNqQj2NK2tCV84hrPUzKwWRdYmDPbIpDG7NM9F1avaTU8fSWegywd02KQ+qzG2TufXN2k7rkjnoVAzXVQfM9sabBddgp5bFL2qfVd2nxHDZ+38W24YGFk4bF/B/R5vTv7h6rSkNMRdAGNIZxvoMvk37VK+cmUebIJFv5rpzbrFJScvEQc4l9ASECfx0mdO8q2+xvPHVka+EDfvwRJev/A7I4ZNHHmiz6zuWB+PJ31du/9TklhObvX/7xWq9ZcOH84H0/PUX1pdt4phhS60havYgGxyGfktQKKNW4+NqwS9qnL47ZI53iuVKZOsdhSSVkgu+xR9anrA25Ifzfz93ZoN5UzROXqy2IGpiScklLwQTfZeeURz7WONUikd3TPgWtcYTg6nktqmKGp5BjXWztvuF1MaI1sRAgV/lgbr0vafT2q+pxl7TPuYe3BbGBetfh0mM6ggZXYqq/k49jrpq3ct3HT+aNURWTzEI2rK2BB9hezOf3/eQ0JZwSxOmVAvz5Xw2pDQbaDCd88QrVFWVwZERPuXGdx1548Yyg3gnZI+PR6ifP+rIxxAac/hDHJFZKk+MwyffIOoKdUh5ZKcg5Ek/CRM+jL9aDenPVVkdJMn9rgu8y0Xd5c9bnmMZa3pxJ8d5cloo27Oy4vCXlM9H3GO+5NLoOu6R8dk37xBiMGVkaud51huV9R7QQj/FcfCG4Zv5Yddv941WqKtDJTSKokZI/3jtOlY0hUxXsok6MrUuOag+iqsB+Y3aT+um8FtUXa755XGfQEcUU4q0792hbYLSPyLyeNDEM8INPDvkASqZ/wISapUgM7cUW0k6ZSV/6/jpNwGWd+1LrSHZO++yS9nEEZIG4xiMWSZtgxST/tIE6x8EVYnDMzgulpO66u1q/PHAOACVj2D2TYq9smnfUZHh3LsO+tRn2dX2aKoY3p30qEtK9IU0x1CBoiqE+HzLRc9kl7dOvR5YQDxcj2pxOVZuqC7GmGBsmpFxmPzBBVYzBq1b7QHIzDVCp/v9V88aoSCe/FxlDeRWzPCslxVW+vmxWo/r+Vt5gvzV46H//uOHnfMkNChny5JfOC7j496r7px8NUl+4Wu2Sbl/rV6f98ghFZjGO+xwtnssY18EAdQgiAU61WKZskrnQaSGQwlCp9v7G1cqsf/WX6YljIg0n/imnMhJuOS0fnHVbTnWEmqLWZKruUBOSVGSQsUaGmppyTCHnYXyJU4oh7SAjTZxKFqyNcR3GeMOj+dbFcGnEER22mX7feNUdxRS0ocl1aPaSm6lQNdFaPYd/F8pkpSAtZZISqUQ0eg6mmj5q9VzawojuSCOBjCNYHsb4QqCNIec6dEcxV6+xxAvWPcx9u+aimxSpHvjBp9bdGPGT0xTCILKvcsj4F/l/tWn2yqSoGMPuOEhtWOEL3OpA+F4dU9bJKtMVYUR7GNMRxRS1plZKXi6FlIwhLQQpKXixFNLqOUxMuRzdmKPBSZakJbOqobYUI0sxUY2HW4qIMi4yNuiqtdXmGAra8GRfkTMOtdsgRrQ5nY9jzjuiLbj4qBWBI5LyyZLWlHWS5+3XhkKcbA/QBs46bHngSYEk2Vo/MMMYwJMCTyZLtbWBjBRkpaSszeAYGEgi0xfMrFMAI+s5v4mc8ZDi7HsV581OzOarPxJQaoRPzlDNl/9oSFN64SXTg4UX3xZQHst/iyFFrVlaCZMZWNIQu5JaISjo5GEqSSwmQ+LOvFyq4ItEI79aDtm7JsXB9VkOqM8yKeXyjtoUU6q12IvLIZGBzlhTMrAiiqmkHERs8HqSJeYYEJHGLUUgkvdbHkaUtObHdsXpyDanKyZpKauRkr446WkNdaJhM04irGkpEcDAbN+BPbiOSJ5QFx+1Irh6Xosq66ToQBsY5ydD12IM9VLSE2u+8pdG9a33dwU1UhAj+PTt9SolBWfPyKkbTtk+Al1D8scDVp77R+9TdeP/RW+Yh0wnHd/77Hqvy8RplrXvx2weZ/eMx8H1Wf7ZX2Ks5/KOmgxLw5AxbmJux8Df+ovEJtGSr5Qjdk/7ifUjBTunfZZUkkh3f5xo5dAY+rXmlXKFjJSsICIyhpLW7JnzEjPagNtXIar1cSoxpmq61zsSX0gcYf3iEW1O/6Ka742qKaUxrsuZhy0Lrp/fqjwhcGUSTBnI9za6Di8VK4TGUOPIQaHtizXLKlG1dhp8kWjlsk46cgzQ4jl0VmcfA4OmXVeULNwe6akmPj5Xcc0xyTl++BHFze8JOOoVRa4TCjnI5OG2dyQ/v2CmIvbgd+9f5zXt970Llef1Ib0CwutBCI2RZd7c8n/UOpJ35zK0eg7jfY+eOKbJTYo7llZC/luoUDaGFs+hEGvGei7vrcvSG2vao4gHuguUtEZWe4slgqlpj7ZKxJS0xwTfwxMwRbqkeiuIQkTcnEY7gqIr8DW0Gc1DvQVeq4RctoOveRnRmjjZNp9s1hvIJvzyrhZV40gq2pCWkj0zKfrimLaqnxuT+GY5R9LiuTxfrAwOW8tKgVONnvZEOlnwZcygf+xIQcqsfO9CrKl1BGaEPuv+3zcvVf/86pUB5/5V4ZbgnHmKvjFw874BJ/1HUY6htxnKWfBLcLpS3BIEdEyF1ucYe/kPVdv3PjekADx++S+H/L64YQ/1zsY2XixWyMcOr1UiGt3kQVrUhlrHYYLvsrgSYoAxnkNRa5aHEW/JpBAky1jzcTIo4NVS0kCxtBLR4EriEoxxXdKOJBYgYoMoR7jL+onG1ZDVBmHA8wSNnsMr5cpW+nS3H0a0T3zBEW2BJwSmmteNjMERgqLWSJEIaq2U1DiSfBxT60jOPbwtiKq10S2ew3jfJTKGiKQSqKQNDtAfJxVbaSmISUz3sjaEJllFsqwSIUVisldGaCrjn8v2hQv/rACmjvlvMl86TMNRryg6W6FrLNy1U8ADLQErJkPneDjp36p1t3shP5a29jet9/j7X3muOv7WutV8TlNp5tlCMg+6M4x5qr/M4/kizxUq1FZjCw1eUmUVVmMSaSnpjTVPFct0RDGvVyL6teHnJ/UEPzkx+edLQV+s6Y1iuuOYsjHkMUQ5D5NJdsQ43WVkJXGbmo0gI5MGjB2dES3EkKy7HCh9LBtT9XWTpdXawGuVkCWViEXliO4o5ouzGlVZG/Kx5qVSSFsYDfYTa6A31sQkhR7GJKZ6SgoWl0OyUtAbxTS5koxMtHNooHmYkvjrQlz6c8VnrlX88gMBqT6QmldeOhB6xkHkQezCgy0Bj+ZWatOHGgJiD25/a7D8ucMhSlHX/AKcP2vIwNC7vnuRevTSa4Pu9gNW+/6C8x8N5pzeEzyybE/+XajgS8EYL9kt/HShTKpa7NHoOgiRVL85Al4qVVjQU+De7n60SVJNqx73m8d1Bm1hjCGxunqimO4opt+XGN+BUCMq8eDvu+WInJNsWdzRGbGPsd/cPVbtlvHJx5qCNtRISYwhJSQ1jqA30hSkZnF/JdkMoDUvFBNfLDSGV0shaRkRk0SqHZIBarExgz5URGJOo2FFaJiaFvgySXU41cBLaAyFrbwQa2PZO7s0qZO+8DZF0QEMZHsgPwa6x8LCxqF9xHsmBOyfVzjPQqmG3mVvhRsOW+t3D7pxinrgrKTuesGn5w55rAXnPxosIFnoNq0hCVjtnU3hkDws+7RGInitEvFqOaLGSSLYK8J4tW6mVdEmmS/967vHqnG+S181+p3N+fj5CsaTGFdgBHRmHOKytgUfjDBN/Ou7x6pr549N0jsiSfH4Vb/YreYRB/51xzFdYVwNpkT4UtKnNV61R7hiDK+WIxaVQirGEEM1Ir0SWf1XMYl/Vqymm3pjTVEbemNDZKAj2jAh/vD03DZJd7xQbE3yvbGbmNCRD13JMPh1CvAAXgX+vG9A6wvJa4fggbM2fPlXWNiFpZVoUECfLpR5uLfIo71Fllai5DPEcPWJPcGPT+gOWtZToHFNtemkP9YsLodUtKEziil6AlPrY1LJa/O+xBGiGuPY0DMdvYwoIYbEVE7+mwhrSWsqxlDUiUaOSUzljJREJEInRRK9joxhjOcgSYrRU1KQdSQ/PqE7cEXSybSq6REaQ9kk+eQ/npYPvnFcZ/D947uCvljjieT9m1zJmjfehbfXDyms3jb6NEtRimm7/wn8fnDK0PwSTPkb75n2/Td+8YLmREB/eWrw9t3+utnnsuD8R4MVYdLptKwSsrC3yJN9FfKx5pliRErC71dJ0ZU3QHN+9uj2oD2MyTmSReWQJWFEoSmFznqUUsmStZJOHuzDNJF2RDGizOkBLQtUl2cl6aFQGwpoKtowwXc5pTog4Od3tShHJOWZsUlem+QhNdoYGhw5mH5qqvq1mVXma3lVLf+zk1av1mpyHZaHMVLA22vT/L2vxCdm1qnfVKu3llWDK2uuAP39tsgnf/4XKucUWPDKcRB7kO6Fjl2gVMcjTx8GXL9hxznuOfWPnvu2yCn1aY/F5YjfbEB12y9OWrsybii6oqTqy1QLRrJS0upJTNVCC6taWo+wJojhYERpYgmDHS9RtRBAm8Q/FdUSv4ZVgkyfPnJFEBm49JiO4HNHtweCpM1wYNl1rSMHO57qqo3lA/O1vl9tXbxqiHJLDTR7Di6JWV/rSFJSDGrgTPVT2yWb3+KfwRvyg08FNTKkweuHVB8UmhOz2FQv7PAl6zfpz3ww+XnzEvjhBVvkoXPX6Z3Bs31NW+JQg5S1YVklIiXFoCVWrH7uNXFieS0PI+pGWNBxOBhRmnigAwbgwg2Y1vGDuc0qWuVJ7IikgKPWSYzyyio/K1bNuI5wpVf8veO7gjXroz93Z4PqiuLBUswn8iUkidYe7zn8750Nakkl5uwZOZXeBhMDDvzVIaq3/e384ys/GjzH7jhNqVIDV50TcMHtCiPBiaD1Jfbe5V6e6ikoHs+u/fntW1Is7Uz+//cHb1Gr4YGzXtmix/Or5bNlndQJDCwcH+O6+CRBsFpHDtuGh5HEyNLEgvVuvFuTzx/TEXx2labwi49aEcTAZ45qD0KdtMd95qjk5wMrMf2qcJZW8c0uX2Ww/EAuujuKKZtkr09M8oDpimKWV2JqpWDXtLfaMbYWD37yvsBzi6t9r3TFRcHbGp7nLV//kuLXJwX4/VDTAaUcTz16HhxwMxz7glpNKx//jKKmD+rbtvo5bwl+dmJPUNQGTVKMU9SGtjCiK45ZSrLxsFYmFtJoGTu8qYwoIf7oYZs/N2lArD5/TEdw0RBTPQaMr69Xx/VkZOIXD/CTE3uCyBh+fXJv4AiqvbEMppk00BMbXiqFbKtxt8VK/Wpf7/e9C9Vee/2CI9/+C6b94iiFW4HfHh/w530DdlPwzMEgNMyfGHDwcsWHHlN4ZRizBGb8v63mtx/8hy07nqY31uRjzXjfRYrk66WVcLDmutV32S3jk3NG1G28zRl1V/9Gzf7fXaNvOK763AAX3ZH4vAOmd7PrEBoGb5IrT+gOdkq53PaBfHD9KflgW0xOnnb1yUpUH00H/PgjCpKSyNf7JvK1SWMQtc/Cr05ZeU2/+GDA2Jepf8scOONhRcMKaHkh8Zln7LNVA29pt5+zbkvSbMfdWqfOmVGnzrotp07806al3gqxpitKCkBqpWSi7xFVg51ZKdEmqabb0Q3qEeUTbwm+MEQx/EV31Kuh+oUhqdYauAl6qg+A/qqf1eBKZDmJVr9WTkR21eEB26LXeMFFM4N3fvsz6u3f+pzK960M4iz42DPB+3+/q6KwK/Dy6i+64bCgZ2uf2BB4InFBTp+eU2VtBofcLewtbdLxrjyhO7hsVqN6vRIx2fdodh3qXYmLoGSSoGc+1qtZUjsio04TD8W6BBjgxyd0B2kpuOSOejU15QHQODAi1RhuPi0fRNURNMOFlBH/+MoPgzVHzZaXHcorSw4ZrtNai1kf6g16IxdfwltqPOqrU0Wb3M3zO5ZVEl84hkE/2EHQFka0R9FgGnFHxda7AFfMbVYdYUzOlXzl2M5g1ZywZdM49c85NdmX5FyHtkrErzfj8/z9Pa0qNIZd0z4TfA9HJGb0M8UyzxUrOCQxkC14+tsVO4QmHoovrRKRdoRAVMsGgQ0qWlgXx94ydDXXSCK44rytfo63fSAfXHViT/BKKaRvM9NAHz1sebCsEvFiqcLyMGJ5JWJFGNERxoOTS3dkRp1PvKGkq0W3n7q9Xn3u6Pbge3OaVXkLNDrMOX3DKpKGE/WF322zc9xSwxRiA4XY8Fp1gZsvBR1RTGgMX9rBV7uMek385XUsSvtK9Q8/EBRpqg7hs4xMvnZcZ1DSmiXlkLI2dIYxaSkYWf1lw8OoFOJvrrFN77JZjeqrQ2zY++bsJjXgq030XX66ngDYujh/Zt2IN59HC5ce0xFokkDOwHzxgeXxOzKjzpz+5uwmVVvN6357TpOKDHz7/Z3B14YQ4q5oZQnmcQe9vkk3w7pWwQxw1m05NcZz+H81Kc7aAsUsG8J+3/uUWnP74WhhqBTijs6o08RCrCzeSFenZP5gbrMaStiGan5YF/97Z8OQGrfekZw7Y/3a+F25NGf2bbtEwGgVYMvQbJdCPOuBCQrgmuoAgQF+MLdZ1TsOJZ0I7ueObg/qXcnnj+kIvnTs5j3Bax3JwocmryWs3zm+KxjYoDgUb8n6PFuowGPLuH+YtuZZRjfbpRC3hdFq60wH2go/f0xHMLC+ayBI5W5mKvzT1fbDJeWIB3r6+chGTu94ulghNoYn3j+Fg17s26xzsViGYrsU4kJskEIMriAdmJl15dxmlRKCLxzTEVxa/d7lm6mBB6qBrj2lN2gP443amPjJmXXqhlPyQUZKfrG0izunZgd/duM9a+9dtlg2he2yYuv6+a1qrO/yTKGML8Vgm+FI48t/aVSRgX1qUywuhVx6TEdwxdxm1RdrDqjPEhs45sAlW+zcp/32PcoUJrLwkukj8vOwbB22SyHennjh8Z3V1LLhWQ/u7e5n94zPeN/lL515vlxwuWusx1FbUJAtOx6jLsU00ihpg3PPq+y1SwO77dmEjA3uP9vYp7vEF/fOcWYq+8YHsVjWw3bpE29PLC6H0GPgmS78pztw/7Eccinoi/huF1y/vJszb9u8UbeH3DTO+tc7MFaItzJFraEHeA1Y2A3dZajxqLx/V/AdfnBCd/CHzagvfmDhJHVvscA9C2z6akfFCvFW5rF8Cd5TB08B/wWWRyydXMMjYZkv1cRMv2/8kML31dlNal1136ty0PteC8R5vcH1y3s2Ov1lGR1YId7KXHF8V3DD1Ax8ugH2Aib7tJQ193b3Y4DTDlk6pBa+dFwTX2lp4r+PTV2nMF85t1kNlJO+OetxZmvdVrsOy8jFRqe3EbfcN04dX1dLuqvM/SnDYdNeW68JvezJXVXrzS/C/mNZtFMtX160glXN7m/MblInNueY6Hv4QE1nGaENh68Iufcj26ZG2zIysJp4G3H6IcuCSxa1cVVU5MXSG+/UfalcgalZ6K8w5alOzmhZqWUvvL1eHdxQw9ue6qZ5ST+5f7cj24uUmtJ8drJNOOxoWE28DblnwSQ1v7ufqSmXJZWIb7+/a70a08xsVcxcDm9Pod85jst7erjyhO7gpnvGqTMWleD5bphYw4y96zi5IIgb0/zdRDyaL9ARxvxfIcIX0BP53P1h2/0zWrGaeBtyW3sv3yfNBcuS3bpfeYPA1ZXpCN5bC/eVkde9yhWvRzzxyBSVkgKyXlIg3lXiRCdFaWyWdl+w3wt5LhJpvtTazMyxTXxjSjOuiNf3NpbtHCvE25Bfn9wbXJOO4bU8l87v4LMTmvn9emqotYGf75KBo2sgBYSaff+yiFP/1gHL+6ADSEmcea+Q+dELjHuhlxsm+Lza6JN6uQfRnywi279ODs7Utow+rDk9DFw3f6w6u+IiKpr8lFquW9HNJUe1D2nu3nzvOPX++lpq//gCLAFKQAVYBNQCk4APtBCPrwFH0JaW/L2vyMSUxy6+xz8KJZ4pVniop0hn5DD39G5rVo8yrCYeBs45vC34hRvy/IQMS6OYKdV510Px4UOXBde0d1P54K7QCLwAtJEIcA3J1vR8GWdpP8SG54plemLNnM48qr84uJhsz6xHzrVm9WjEhjK3AFfNG6M+sw5Nui6SzqsVG/S7pdjwkojZc5IDB8SJFm4G2oEiUIkxOQ8cwf5uCvwUvfW1OAKeKZVpcB0eyRftH3uUYjXxZvBgdVJHo+Nw2/1DV15tCS4/tiO44rUOlhw1lZ5P7AbvdRLTOiLZ8PZEP0It5f+kZm6xwCtomtuLNP6rnf0ih84opmTHQo5arE+8mfzz0Z3Uwt4CU1MeSyoRF2zEatZN4Wk1Vb15cQEWtsFyIAdkAAfMkRN5os6hqDVjPZcW1+WVSoVrlnXTFhockQx139D3+uO949QBuSw3r+ih2XMoacNQmyYtw4u1sDaBOx+YoE446PXgB3Ob1W3tvZzX2sisrjw1W3np+DOPTVV7dIbwag88D+QBH3ivgHFZRDlmp1Sa2MCSMER19fJMocLSCsz60IYL72MPT1FtYcRThTJj6iWX9Qoem5Lmnm47XmgkYoV4I9F3T1Yran1uu3+8Gue5LCqH3NGZZ/eMzwvFN67E2lReeHxn9VKpwh4CeLqcOELvAsZ50FJD7z5jeLEc0l4o0ey61EpJexizU9rjgy1ZDp2XUqExfO7odfvu189vVfvXZZgqXPyemOPaDby6DBrSNLkOtTv4HuCRihXijURnXcb0Rpxckhgt2Lmuhif6izxXLK8zTbQl2G2/l4MXH99ZiadWJDnjARN67xby47O4BkpGk5GSR/MF0lKwRzbFskrE7M48kTF8ax0VYh+fUad2TXscUJfFFwK3HCHKMfSWoa8CY7L0xPFWvT7LpmOFeCOYef94dX2hn48XJSzOI/oqTNi1kf13zjHO2/of5a77vRw8uHCSmtZThsYQfInJevy5o5fdMj45R1LnOhzTmMMVyWB7Vwju7eljSXnlSvTLZjUqB/jw2Hr+3lfi6MZamv/VDq+0QXMWMg5UYmhME+/Tws/6+/jMexZZAR6h2MDWRvLXByeqI7SLVEugO4Kciz5gIo95mu5Ib9HBd+viQ9Nz6h01PgZYUomodyRvzqbwpcATAl8IQpPsK2r1XV4thzxXrPDjE7qD/3t0JwUw0fe4v7efvTIp3vzAEsiHUFt9EDVmeO2dLczr6uO8rRyos2w+Vog3kj/dN04dXFdLy/PdsLgHyhom5mh7WzP/LJTIx5pTDx66R3hL8ef7xqui1hxcX4MvBP8tlrm9I09ZG5pch53SHikheLUcsrQSERq4bogB9/1P7qYcDal/toEUVN4yBiMFs/v7t/o1WLYcVog3gXsXTlIHGhekQBYijC/RvsNdldIm73TaWBY+NFkd0FaBtgI0Z3h5p1r+tKKH9ijGAMYYumPN9ackUemzZ+TUqc059s6m+UtnfjBVdNM949TrlWSc7rY4b8uWxwrxJvLkI1PUm32f58OQFWFMSgpeLYVMSrkc/L71N/xvKX52V4s6urGWKbHgT/0Fzjxs2Xrf95I76tXUtGcDVKMMG9jaRPZ9z6Lguvlj1YH1Nfy7v0xaCiJjeKpQ3urvPfuBCapsDKccvHSDSzcBpqQ8GhyH3949VpWNGbFD9y0bh9XEm8mf7xuv9qvNMHW/l7aYQEy/b7zqjzXLwmhwRY3Fsi6sEI9Qrp/fqpo9h55IExnDxw7fvLlZA6tZ31OXoc6RvFis4AjB+Tb6vN1jhXgH4YlHpqh9V1TgyeWgDfrwnXjIiTlwG/nvlq2H9Yl3AMqP7apiKWB5N6QdyPlo36FmcAGsZXvGFsPuALjFiFRfCEvysDiC5wq4S/pIS4l6eIod27OdYzXxDkBfzqNHaybv3gQN/dCUoX/nOl7tL9IeRm98AMuIxgrxDsDMzjwfrTjwUhe0a+go071XEwJoq6wU4s/f2aD2zPrEVSvbBr22D2xga5Qz8/7xarzvEjzTC//uSeZz7SHhzc2EU3L8pVTkhWKFetfhnbVpJvoeDvB0scxYz2Xv4JUA4Nd3j1Vbe+CBZdOwQjzKCR/eWbmL++A/7fCKgS5gHMmMrt3q6H7nWB7pK5JzJPv5KdxyxMNENmq9HWEDW6Ocu6NK8lcum2TUbS1JP/IYD1qzqL4iza7DC8Uy32/rxH3fK8H2JsBdf9ttMDg3fwdc8brVfeLlT+6qWvd9cbu6KUYTGSmY1+qz7wd3Y8zTnfD3zkQbd4VgoC/WVIzhnMM331T+4V/HqJQUGMM2m8W14sndVOM7XwhefXwX9XSxzOFvsKhuNLLVhdgK8PBS1oZDUmn8RXlwBOxdl0zraEwTtWToKfTTXzFcMbdZfWEjSjx/ffdYFa5Rf52Vggu3YT32f9RU1bLvC8Gzj+2sJuUjdjp06/dyj0S2iU9cVruqVGCFeTj4/J0N6ojGWt6WTdFc0jgdRXStz+Kcy9/7i3RGMbGB3igm40g+/QZC+MVZjcqVgm8e1zmsf8+n1FS1d/BK8PBDk1VQhEX1Hjtvwfr17YltFtiyZvXwcN38sSo0sGfGJ/BT+IvymLQLAkQxQjekWNbg869Cic4wxpHgIPjAKsvP/62mqpLWvGuEjeiZv2CSmpZK8ayOcIWgbAxv3//VEXWO24Jtlie2Ajw8nHN4W3DD/FaVdSS9jqCxNUvsO5Q8QbYU4/RHtBZiDslkmKv76Yk0OVdQenw3pQWoUglPwH29xeG+lLUIjeF5E1PrOETGsFc1HbajsU2j031P7rbDRQ5HAnWu5JVSyD29fTyfgqd0xKyuPp6SGp1xKNa4PFgq8rd8iVfKIZ4QOJEm83QHB79cYILrclRj7XBfxlocc+CSoN6R5OOYPd798g4pwGDzxDskjz48WQH4QjLBdylqw2uVkEbXISclGSkY0xMiyjE653F7WKYjirf6dotN4fFHpqj9RpiZv63Z5mWXHX/bTTW/84Ud+kMfbh7LFxEIGlyJJsUeKZ+p3TGIGFyJrvGQ/SG61qcr49JfKo5IAQbY0QUYrCbeYfnG7Cb1teM6gxVP7qYaCxHakwgDoSfxyzGxJ3nexLxlB/UztyesEFu4fn6rWlQOkQK+cuzwpo4sFovFMtL472NT1X8fm2qj2hbLOhjxDRBjXZfuKB7u07BYLJtD1992U/+o7hCyWCzbKUuf3NUKscWyvbPoiV3UU8r6xxaLxWKxWCwWi8VisVgsFovFYrFYLBaLxWKxWCwWi8VisVgsFovFYrFYLBaLxWKxWCwWi8VisVgsFovFYrFYLBaLxWKxWCwWi8VisVgsFovFYrFYLBaLxWKxWCwWi8VisVgsFovFYrFYLBaLxWKxWCwWi8VisVgsFovFYrFYLBaLxWKxWCwWi8VisVgsFovFYrFYLBaLxWKxWCwWi8VisVgsFovFYlmT/w8kmSuUkh4OTwAAAABJRU5ErkJggg==",
               "sourcetype": "image"
              }
             ]
            ],
            "label": "Trajectory",
            "method": "relayout"
           }
          ],
          "type": "buttons"
         }
        ],
        "width": 900
       }
      },
      "text/html": [
       "<div>                            <div id=\"800bcc96-1754-435e-8e76-899c3f07b3f1\" class=\"plotly-graph-div\" style=\"height:600px; width:900px;\"></div>            <script type=\"text/javascript\">                require([\"plotly\"], function(Plotly) {                    window.PLOTLYENV=window.PLOTLYENV || {};                                    if (document.getElementById(\"800bcc96-1754-435e-8e76-899c3f07b3f1\")) {                    Plotly.newPlot(                        \"800bcc96-1754-435e-8e76-899c3f07b3f1\",                        [{\"customdata\":[[\"2014-09-07 02:00:00\",13,\"CONT\",\"0 days 00:48:00\",42.38,195.54,50.23,38.63,44.2,45.74,-0.63,1.2,1.42,704.95,172.25,112.16,172.0,43.0,28.0,39.0,-10.0,-7.0]],\"hoverlabel\":{\"bgcolor\":\"white\",\"font\":{\"family\":\"Rockwell\",\"size\":14}},\"hovertemplate\":\"<b>DATE: %{customdata[0]} </b><br><b>UID:</b> %{customdata[1]}        <b>STATUS:</b> %{customdata[2]}<br><b>LIFE: </b>: %{customdata[3]}<br><br><b>VELOCITY: </b>       %{customdata[4]} km/h<br><b>DIRECTION: </b>     %{customdata[5]} \\u00ba<br><br><b>MAX_REF</b>:          %{customdata[6]} dBZ<br><b>MEAN_REF_20</b>: %{customdata[7]} dBZ<br><b>MEAN_REF_35</b>: %{customdata[8]} dBZ<br><b>MEAN_REF_40</b>: %{customdata[9]} dBZ<br><br><b>DMEAN_REF_20</b>: %{customdata[10]} dBZ<br><b>DMEAN_REF_35</b>: %{customdata[11]} dBZ<br><b>DMEAN_REF_40</b>: %{customdata[12]} dBZ<br><br><b>AREA_20</b>:          %{customdata[13]} km\\u00b2<br><b>AREA_35</b>:          %{customdata[14]} km\\u00b2<br><b>AREA_40</b>:          %{customdata[15]} km\\u00b2<br><br><b>SIZE_20</b>:          %{customdata[16]} pixels<br><b>SIZE_35</b>:          %{customdata[17]} pixels<br><b>SIZE_40</b>:          %{customdata[18]} pixels<br><br><b>DSIZE_20</b>:          %{customdata[19]} pixels<br><b>DSIZE_35</b>:          %{customdata[20]} pixels<br><b>DSIZE_40</b>:          %{customdata[21]} pixels<br><br>LON: %{lon}   LAT: %{lat}<br><extra></extra>\",\"lat\":[-2.1427719593048096],\"lon\":[-59.84758377075195],\"marker\":{\"cmax\":75,\"cmin\":-30,\"color\":\"black\",\"colorbar\":{\"thickness\":20,\"thicknessmode\":\"pixels\",\"tickcolor\":\"orange\",\"tickfont\":{\"color\":\"black\",\"size\":14},\"ticklen\":3,\"title\":{\"side\":\"right\",\"text\":\"DBZc\"}},\"colorscale\":[[0.0,\"#0034f8\"],[0.00392156862745098,\"#0037f6\"],[0.00784313725490196,\"#003af3\"],[0.011764705882352941,\"#003df0\"],[0.01568627450980392,\"#003fed\"],[0.0196078431372549,\"#0041ea\"],[0.023529411764705882,\"#0044e7\"],[0.027450980392156862,\"#0046e4\"],[0.03137254901960784,\"#0048e1\"],[0.03529411764705882,\"#004ade\"],[0.0392156862745098,\"#004cdb\"],[0.043137254901960784,\"#004fd8\"],[0.047058823529411764,\"#0051d5\"],[0.050980392156862744,\"#0053d2\"],[0.054901960784313725,\"#0054d0\"],[0.058823529411764705,\"#0056cd\"],[0.06274509803921569,\"#0058ca\"],[0.06666666666666667,\"#005ac7\"],[0.07058823529411765,\"#005cc4\"],[0.07450980392156863,\"#005ec1\"],[0.0784313725490196,\"#0060be\"],[0.08235294117647059,\"#0061bb\"],[0.08627450980392157,\"#0063b8\"],[0.09019607843137255,\"#0065b6\"],[0.09411764705882353,\"#0066b3\"],[0.09803921568627451,\"#0068b0\"],[0.10196078431372549,\"#006aad\"],[0.10588235294117647,\"#006baa\"],[0.10980392156862745,\"#006da7\"],[0.11372549019607843,\"#006ea5\"],[0.11764705882352941,\"#006fa2\"],[0.12156862745098039,\"#00719f\"],[0.12549019607843137,\"#00729d\"],[0.12941176470588237,\"#00739a\"],[0.13333333333333333,\"#007598\"],[0.13725490196078433,\"#007695\"],[0.1411764705882353,\"#077793\"],[0.1450980392156863,\"#0d7890\"],[0.14901960784313725,\"#13798e\"],[0.15294117647058825,\"#187a8b\"],[0.1568627450980392,\"#1c7b89\"],[0.1607843137254902,\"#1f7c87\"],[0.16470588235294117,\"#237d84\"],[0.16862745098039217,\"#267e82\"],[0.17254901960784313,\"#287f7f\"],[0.17647058823529413,\"#2b807d\"],[0.1803921568627451,\"#2d817b\"],[0.1843137254901961,\"#2f8278\"],[0.18823529411764706,\"#318376\"],[0.19215686274509805,\"#328473\"],[0.19607843137254902,\"#348571\"],[0.2,\"#35866f\"],[0.20392156862745098,\"#36876c\"],[0.20784313725490197,\"#37886a\"],[0.21176470588235294,\"#388967\"],[0.21568627450980393,\"#398a65\"],[0.2196078431372549,\"#3a8b62\"],[0.2235294117647059,\"#3b8c60\"],[0.22745098039215686,\"#3c8e5d\"],[0.23137254901960785,\"#3c8f5b\"],[0.23529411764705882,\"#3d9058\"],[0.23921568627450981,\"#3d9155\"],[0.24313725490196078,\"#3e9253\"],[0.24705882352941178,\"#3e9350\"],[0.25098039215686274,\"#3e944d\"],[0.2549019607843137,\"#3e954a\"],[0.25882352941176473,\"#3e9647\"],[0.2627450980392157,\"#3f9745\"],[0.26666666666666666,\"#3f9842\"],[0.27058823529411763,\"#3e993e\"],[0.27450980392156865,\"#3e9a3b\"],[0.2784313725490196,\"#3e9b38\"],[0.2823529411764706,\"#3e9c35\"],[0.28627450980392155,\"#3e9d32\"],[0.2901960784313726,\"#3e9e2e\"],[0.29411764705882354,\"#3e9f2b\"],[0.2980392156862745,\"#3fa027\"],[0.30196078431372547,\"#3fa124\"],[0.3058823529411765,\"#40a221\"],[0.30980392156862746,\"#41a31d\"],[0.3137254901960784,\"#42a41a\"],[0.3176470588235294,\"#44a517\"],[0.3215686274509804,\"#45a615\"],[0.3254901960784314,\"#47a713\"],[0.32941176470588235,\"#4aa711\"],[0.3333333333333333,\"#4ca80f\"],[0.33725490196078434,\"#4fa90e\"],[0.3411764705882353,\"#51a90d\"],[0.34509803921568627,\"#54aa0d\"],[0.34901960784313724,\"#57ab0d\"],[0.35294117647058826,\"#5aab0d\"],[0.3568627450980392,\"#5dac0d\"],[0.3607843137254902,\"#5fad0d\"],[0.36470588235294116,\"#62ad0e\"],[0.3686274509803922,\"#65ae0e\"],[0.37254901960784315,\"#67ae0e\"],[0.3764705882352941,\"#6aaf0f\"],[0.3803921568627451,\"#6db00f\"],[0.3843137254901961,\"#6fb00f\"],[0.38823529411764707,\"#72b110\"],[0.39215686274509803,\"#74b110\"],[0.396078431372549,\"#77b211\"],[0.4,\"#79b211\"],[0.403921568627451,\"#7cb311\"],[0.40784313725490196,\"#7eb412\"],[0.4117647058823529,\"#80b412\"],[0.41568627450980394,\"#83b512\"],[0.4196078431372549,\"#85b513\"],[0.4235294117647059,\"#88b613\"],[0.42745098039215684,\"#8ab613\"],[0.43137254901960786,\"#8cb714\"],[0.43529411764705883,\"#8fb814\"],[0.4392156862745098,\"#91b815\"],[0.44313725490196076,\"#93b915\"],[0.4470588235294118,\"#95b915\"],[0.45098039215686275,\"#98ba16\"],[0.4549019607843137,\"#9aba16\"],[0.4588235294117647,\"#9cbb16\"],[0.4627450980392157,\"#9fbb17\"],[0.4666666666666667,\"#a1bc17\"],[0.47058823529411764,\"#a3bc18\"],[0.4745098039215686,\"#a5bd18\"],[0.47843137254901963,\"#a7be18\"],[0.4823529411764706,\"#aabe19\"],[0.48627450980392156,\"#acbf19\"],[0.49019607843137253,\"#aebf19\"],[0.49411764705882355,\"#b0c01a\"],[0.4980392156862745,\"#b2c01a\"],[0.5019607843137255,\"#b5c11b\"],[0.5058823529411764,\"#b7c11b\"],[0.5098039215686274,\"#b9c21b\"],[0.5137254901960784,\"#bbc21c\"],[0.5176470588235295,\"#bdc31c\"],[0.5215686274509804,\"#c0c31c\"],[0.5254901960784314,\"#c2c41d\"],[0.5294117647058824,\"#c4c41d\"],[0.5333333333333333,\"#c6c51d\"],[0.5372549019607843,\"#c8c51e\"],[0.5411764705882353,\"#cac61e\"],[0.5450980392156862,\"#cdc61f\"],[0.5490196078431373,\"#cfc71f\"],[0.5529411764705883,\"#d1c71f\"],[0.5568627450980392,\"#d3c820\"],[0.5607843137254902,\"#d5c820\"],[0.5647058823529412,\"#d7c920\"],[0.5686274509803921,\"#d9c921\"],[0.5725490196078431,\"#dcca21\"],[0.5764705882352941,\"#deca22\"],[0.5803921568627451,\"#e0ca22\"],[0.5843137254901961,\"#e2cb22\"],[0.5882352941176471,\"#e4cb23\"],[0.592156862745098,\"#e6cc23\"],[0.596078431372549,\"#e8cc23\"],[0.6,\"#eacc24\"],[0.6039215686274509,\"#eccd24\"],[0.6078431372549019,\"#eecd24\"],[0.611764705882353,\"#f0cd24\"],[0.615686274509804,\"#f2cd24\"],[0.6196078431372549,\"#f3cd24\"],[0.6235294117647059,\"#f5cc24\"],[0.6274509803921569,\"#f6cc24\"],[0.6313725490196078,\"#f8cb24\"],[0.6352941176470588,\"#f9ca24\"],[0.6392156862745098,\"#f9c923\"],[0.6431372549019608,\"#fac823\"],[0.6470588235294118,\"#fbc722\"],[0.6509803921568628,\"#fbc622\"],[0.6549019607843137,\"#fcc521\"],[0.6588235294117647,\"#fcc421\"],[0.6627450980392157,\"#fcc220\"],[0.6666666666666666,\"#fdc120\"],[0.6705882352941176,\"#fdc01f\"],[0.6745098039215687,\"#fdbe1f\"],[0.6784313725490196,\"#fdbd1e\"],[0.6823529411764706,\"#febb1d\"],[0.6862745098039216,\"#feba1d\"],[0.6901960784313725,\"#feb91c\"],[0.6941176470588235,\"#feb71b\"],[0.6980392156862745,\"#feb61b\"],[0.7019607843137254,\"#feb51a\"],[0.7058823529411765,\"#ffb31a\"],[0.7098039215686275,\"#ffb219\"],[0.7137254901960784,\"#ffb018\"],[0.7176470588235294,\"#ffaf18\"],[0.7215686274509804,\"#ffae17\"],[0.7254901960784313,\"#ffac16\"],[0.7294117647058823,\"#ffab16\"],[0.7333333333333333,\"#ffa915\"],[0.7372549019607844,\"#ffa815\"],[0.7411764705882353,\"#ffa714\"],[0.7450980392156863,\"#ffa513\"],[0.7490196078431373,\"#ffa413\"],[0.7529411764705882,\"#ffa212\"],[0.7568627450980392,\"#ffa111\"],[0.7607843137254902,\"#ff9f10\"],[0.7647058823529411,\"#ff9e10\"],[0.7686274509803922,\"#ff9c0f\"],[0.7725490196078432,\"#ff9b0e\"],[0.7764705882352941,\"#ff9a0e\"],[0.7803921568627451,\"#ff980d\"],[0.7843137254901961,\"#ff970c\"],[0.788235294117647,\"#ff950b\"],[0.792156862745098,\"#ff940b\"],[0.796078431372549,\"#ff920a\"],[0.8,\"#ff9109\"],[0.803921568627451,\"#ff8f08\"],[0.807843137254902,\"#ff8e08\"],[0.8117647058823529,\"#ff8c07\"],[0.8156862745098039,\"#ff8b06\"],[0.8196078431372549,\"#ff8905\"],[0.8235294117647058,\"#ff8805\"],[0.8274509803921568,\"#ff8604\"],[0.8313725490196079,\"#ff8404\"],[0.8352941176470589,\"#ff8303\"],[0.8392156862745098,\"#ff8102\"],[0.8431372549019608,\"#ff8002\"],[0.8470588235294118,\"#ff7e01\"],[0.8509803921568627,\"#ff7c01\"],[0.8549019607843137,\"#ff7b00\"],[0.8588235294117647,\"#ff7900\"],[0.8627450980392157,\"#ff7800\"],[0.8666666666666667,\"#ff7600\"],[0.8705882352941177,\"#ff7400\"],[0.8745098039215686,\"#ff7200\"],[0.8784313725490196,\"#ff7100\"],[0.8823529411764706,\"#ff6f00\"],[0.8862745098039215,\"#ff6d00\"],[0.8901960784313725,\"#ff6c00\"],[0.8941176470588236,\"#ff6a00\"],[0.8980392156862745,\"#ff6800\"],[0.9019607843137255,\"#ff6600\"],[0.9058823529411765,\"#ff6400\"],[0.9098039215686274,\"#ff6200\"],[0.9137254901960784,\"#ff6100\"],[0.9176470588235294,\"#ff5f00\"],[0.9215686274509803,\"#ff5d00\"],[0.9254901960784314,\"#ff5b00\"],[0.9294117647058824,\"#ff5900\"],[0.9333333333333333,\"#ff5700\"],[0.9372549019607843,\"#ff5500\"],[0.9411764705882353,\"#ff5300\"],[0.9450980392156862,\"#ff5000\"],[0.9490196078431372,\"#ff4e00\"],[0.9529411764705882,\"#ff4c00\"],[0.9568627450980393,\"#ff4a00\"],[0.9607843137254902,\"#ff4700\"],[0.9647058823529412,\"#ff4500\"],[0.9686274509803922,\"#ff4200\"],[0.9725490196078431,\"#ff4000\"],[0.9764705882352941,\"#ff3d00\"],[0.9803921568627451,\"#ff3a00\"],[0.984313725490196,\"#ff3700\"],[0.9882352941176471,\"#ff3400\"],[0.9921568627450981,\"#ff3100\"],[0.996078431372549,\"#ff2d00\"],[1.0,\"#ff2a00\"]],\"showscale\":true,\"size\":5},\"mode\":\"markers\",\"type\":\"scattermapbox\"}],                        {\"height\":600,\"mapbox\":{\"accesstoken\":\"pk.eyJ1Ijoic3BsaW50ZXJzdG0iLCJhIjoiY2tydWxjMzdlMTRxYTJwcGZlYmc0aWJyYSJ9.3-nO2w18a1fbjmAXrH7kEA\",\"center\":{\"lat\":-3.1481435298919678,\"lon\":-59.99140930175781},\"layers\":[{\"below\":\"traces\",\"coordinates\":[[-62.14714189584819,-5.295901131951463],[-57.83567670766743,-5.295901131951463],[-57.83567670766743,-1.0001668807629231],[-62.14714189584819,-1.0001668807629231]],\"source\":\"data:image/png;base64,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\",\"sourcetype\":\"image\"}],\"style\":\"light\",\"zoom\":6},\"margin\":{\"b\":0,\"l\":100,\"pad\":0,\"r\":0,\"t\":40},\"template\":{\"data\":{\"bar\":[{\"error_x\":{\"color\":\"#2a3f5f\"},\"error_y\":{\"color\":\"#2a3f5f\"},\"marker\":{\"line\":{\"color\":\"#E5ECF6\",\"width\":0.5},\"pattern\":{\"fillmode\":\"overlay\",\"size\":10,\"solidity\":0.2}},\"type\":\"bar\"}],\"barpolar\":[{\"marker\":{\"line\":{\"color\":\"#E5ECF6\",\"width\":0.5},\"pattern\":{\"fillmode\":\"overlay\",\"size\":10,\"solidity\":0.2}},\"type\":\"barpolar\"}],\"carpet\":[{\"aaxis\":{\"endlinecolor\":\"#2a3f5f\",\"gridcolor\":\"white\",\"linecolor\":\"white\",\"minorgridcolor\":\"white\",\"startlinecolor\":\"#2a3f5f\"},\"baxis\":{\"endlinecolor\":\"#2a3f5f\",\"gridcolor\":\"white\",\"linecolor\":\"white\",\"minorgridcolor\":\"white\",\"startlinecolor\":\"#2a3f5f\"},\"type\":\"carpet\"}],\"choropleth\":[{\"colorbar\":{\"outlinewidth\":0,\"ticks\":\"\"},\"type\":\"choropleth\"}],\"contour\":[{\"colorbar\":{\"outlinewidth\":0,\"ticks\":\"\"},\"colorscale\":[[0.0,\"#0d0887\"],[0.1111111111111111,\"#46039f\"],[0.2222222222222222,\"#7201a8\"],[0.3333333333333333,\"#9c179e\"],[0.4444444444444444,\"#bd3786\"],[0.5555555555555556,\"#d8576b\"],[0.6666666666666666,\"#ed7953\"],[0.7777777777777778,\"#fb9f3a\"],[0.8888888888888888,\"#fdca26\"],[1.0,\"#f0f921\"]],\"type\":\"contour\"}],\"contourcarpet\":[{\"colorbar\":{\"outlinewidth\":0,\"ticks\":\"\"},\"type\":\"contourcarpet\"}],\"heatmap\":[{\"colorbar\":{\"outlinewidth\":0,\"ticks\":\"\"},\"colorscale\":[[0.0,\"#0d0887\"],[0.1111111111111111,\"#46039f\"],[0.2222222222222222,\"#7201a8\"],[0.3333333333333333,\"#9c179e\"],[0.4444444444444444,\"#bd3786\"],[0.5555555555555556,\"#d8576b\"],[0.6666666666666666,\"#ed7953\"],[0.7777777777777778,\"#fb9f3a\"],[0.8888888888888888,\"#fdca26\"],[1.0,\"#f0f921\"]],\"type\":\"heatmap\"}],\"heatmapgl\":[{\"colorbar\":{\"outlinewidth\":0,\"ticks\":\"\"},\"colorscale\":[[0.0,\"#0d0887\"],[0.1111111111111111,\"#46039f\"],[0.2222222222222222,\"#7201a8\"],[0.3333333333333333,\"#9c179e\"],[0.4444444444444444,\"#bd3786\"],[0.5555555555555556,\"#d8576b\"],[0.6666666666666666,\"#ed7953\"],[0.7777777777777778,\"#fb9f3a\"],[0.8888888888888888,\"#fdca26\"],[1.0,\"#f0f921\"]],\"type\":\"heatmapgl\"}],\"histogram\":[{\"marker\":{\"pattern\":{\"fillmode\":\"overlay\",\"size\":10,\"solidity\":0.2}},\"type\":\"histogram\"}],\"histogram2d\":[{\"colorbar\":{\"outlinewidth\":0,\"ticks\":\"\"},\"colorscale\":[[0.0,\"#0d0887\"],[0.1111111111111111,\"#46039f\"],[0.2222222222222222,\"#7201a8\"],[0.3333333333333333,\"#9c179e\"],[0.4444444444444444,\"#bd3786\"],[0.5555555555555556,\"#d8576b\"],[0.6666666666666666,\"#ed7953\"],[0.7777777777777778,\"#fb9f3a\"],[0.8888888888888888,\"#fdca26\"],[1.0,\"#f0f921\"]],\"type\":\"histogram2d\"}],\"histogram2dcontour\":[{\"colorbar\":{\"outlinewidth\":0,\"ticks\":\"\"},\"colorscale\":[[0.0,\"#0d0887\"],[0.1111111111111111,\"#46039f\"],[0.2222222222222222,\"#7201a8\"],[0.3333333333333333,\"#9c179e\"],[0.4444444444444444,\"#bd3786\"],[0.5555555555555556,\"#d8576b\"],[0.6666666666666666,\"#ed7953\"],[0.7777777777777778,\"#fb9f3a\"],[0.8888888888888888,\"#fdca26\"],[1.0,\"#f0f921\"]],\"type\":\"histogram2dcontour\"}],\"mesh3d\":[{\"colorbar\":{\"outlinewidth\":0,\"ticks\":\"\"},\"type\":\"mesh3d\"}],\"parcoords\":[{\"line\":{\"colorbar\":{\"outlinewidth\":0,\"ticks\":\"\"}},\"type\":\"parcoords\"}],\"pie\":[{\"automargin\":true,\"type\":\"pie\"}],\"scatter\":[{\"marker\":{\"colorbar\":{\"outlinewidth\":0,\"ticks\":\"\"}},\"type\":\"scatter\"}],\"scatter3d\":[{\"line\":{\"colorbar\":{\"outlinewidth\":0,\"ticks\":\"\"}},\"marker\":{\"colorbar\":{\"outlinewidth\":0,\"ticks\":\"\"}},\"type\":\"scatter3d\"}],\"scattercarpet\":[{\"marker\":{\"colorbar\":{\"outlinewidth\":0,\"ticks\":\"\"}},\"type\":\"scattercarpet\"}],\"scattergeo\":[{\"marker\":{\"colorbar\":{\"outlinewidth\":0,\"ticks\":\"\"}},\"type\":\"scattergeo\"}],\"scattergl\":[{\"marker\":{\"colorbar\":{\"outlinewidth\":0,\"ticks\":\"\"}},\"type\":\"scattergl\"}],\"scattermapbox\":[{\"marker\":{\"colorbar\":{\"outlinewidth\":0,\"ticks\":\"\"}},\"type\":\"scattermapbox\"}],\"scatterpolar\":[{\"marker\":{\"colorbar\":{\"outlinewidth\":0,\"ticks\":\"\"}},\"type\":\"scatterpolar\"}],\"scatterpolargl\":[{\"marker\":{\"colorbar\":{\"outlinewidth\":0,\"ticks\":\"\"}},\"type\":\"scatterpolargl\"}],\"scatterternary\":[{\"marker\":{\"colorbar\":{\"outlinewidth\":0,\"ticks\":\"\"}},\"type\":\"scatterternary\"}],\"surface\":[{\"colorbar\":{\"outlinewidth\":0,\"ticks\":\"\"},\"colorscale\":[[0.0,\"#0d0887\"],[0.1111111111111111,\"#46039f\"],[0.2222222222222222,\"#7201a8\"],[0.3333333333333333,\"#9c179e\"],[0.4444444444444444,\"#bd3786\"],[0.5555555555555556,\"#d8576b\"],[0.6666666666666666,\"#ed7953\"],[0.7777777777777778,\"#fb9f3a\"],[0.8888888888888888,\"#fdca26\"],[1.0,\"#f0f921\"]],\"type\":\"surface\"}],\"table\":[{\"cells\":{\"fill\":{\"color\":\"#EBF0F8\"},\"line\":{\"color\":\"white\"}},\"header\":{\"fill\":{\"color\":\"#C8D4E3\"},\"line\":{\"color\":\"white\"}},\"type\":\"table\"}]},\"layout\":{\"annotationdefaults\":{\"arrowcolor\":\"#2a3f5f\",\"arrowhead\":0,\"arrowwidth\":1},\"autotypenumbers\":\"strict\",\"coloraxis\":{\"colorbar\":{\"outlinewidth\":0,\"ticks\":\"\"}},\"colorscale\":{\"diverging\":[[0,\"#8e0152\"],[0.1,\"#c51b7d\"],[0.2,\"#de77ae\"],[0.3,\"#f1b6da\"],[0.4,\"#fde0ef\"],[0.5,\"#f7f7f7\"],[0.6,\"#e6f5d0\"],[0.7,\"#b8e186\"],[0.8,\"#7fbc41\"],[0.9,\"#4d9221\"],[1,\"#276419\"]],\"sequential\":[[0.0,\"#0d0887\"],[0.1111111111111111,\"#46039f\"],[0.2222222222222222,\"#7201a8\"],[0.3333333333333333,\"#9c179e\"],[0.4444444444444444,\"#bd3786\"],[0.5555555555555556,\"#d8576b\"],[0.6666666666666666,\"#ed7953\"],[0.7777777777777778,\"#fb9f3a\"],[0.8888888888888888,\"#fdca26\"],[1.0,\"#f0f921\"]],\"sequentialminus\":[[0.0,\"#0d0887\"],[0.1111111111111111,\"#46039f\"],[0.2222222222222222,\"#7201a8\"],[0.3333333333333333,\"#9c179e\"],[0.4444444444444444,\"#bd3786\"],[0.5555555555555556,\"#d8576b\"],[0.6666666666666666,\"#ed7953\"],[0.7777777777777778,\"#fb9f3a\"],[0.8888888888888888,\"#fdca26\"],[1.0,\"#f0f921\"]]},\"colorway\":[\"#636efa\",\"#EF553B\",\"#00cc96\",\"#ab63fa\",\"#FFA15A\",\"#19d3f3\",\"#FF6692\",\"#B6E880\",\"#FF97FF\",\"#FECB52\"],\"font\":{\"color\":\"#2a3f5f\"},\"geo\":{\"bgcolor\":\"white\",\"lakecolor\":\"white\",\"landcolor\":\"#E5ECF6\",\"showlakes\":true,\"showland\":true,\"subunitcolor\":\"white\"},\"hoverlabel\":{\"align\":\"left\"},\"hovermode\":\"closest\",\"mapbox\":{\"style\":\"light\"},\"paper_bgcolor\":\"white\",\"plot_bgcolor\":\"#E5ECF6\",\"polar\":{\"angularaxis\":{\"gridcolor\":\"white\",\"linecolor\":\"white\",\"ticks\":\"\"},\"bgcolor\":\"#E5ECF6\",\"radialaxis\":{\"gridcolor\":\"white\",\"linecolor\":\"white\",\"ticks\":\"\"}},\"scene\":{\"xaxis\":{\"backgroundcolor\":\"#E5ECF6\",\"gridcolor\":\"white\",\"gridwidth\":2,\"linecolor\":\"white\",\"showbackground\":true,\"ticks\":\"\",\"zerolinecolor\":\"white\"},\"yaxis\":{\"backgroundcolor\":\"#E5ECF6\",\"gridcolor\":\"white\",\"gridwidth\":2,\"linecolor\":\"white\",\"showbackground\":true,\"ticks\":\"\",\"zerolinecolor\":\"white\"},\"zaxis\":{\"backgroundcolor\":\"#E5ECF6\",\"gridcolor\":\"white\",\"gridwidth\":2,\"linecolor\":\"white\",\"showbackground\":true,\"ticks\":\"\",\"zerolinecolor\":\"white\"}},\"shapedefaults\":{\"line\":{\"color\":\"#2a3f5f\"}},\"ternary\":{\"aaxis\":{\"gridcolor\":\"white\",\"linecolor\":\"white\",\"ticks\":\"\"},\"baxis\":{\"gridcolor\":\"white\",\"linecolor\":\"white\",\"ticks\":\"\"},\"bgcolor\":\"#E5ECF6\",\"caxis\":{\"gridcolor\":\"white\",\"linecolor\":\"white\",\"ticks\":\"\"}},\"title\":{\"x\":0.05},\"xaxis\":{\"automargin\":true,\"gridcolor\":\"white\",\"linecolor\":\"white\",\"ticks\":\"\",\"title\":{\"standoff\":15},\"zerolinecolor\":\"white\",\"zerolinewidth\":2},\"yaxis\":{\"automargin\":true,\"gridcolor\":\"white\",\"linecolor\":\"white\",\"ticks\":\"\",\"title\":{\"standoff\":15},\"zerolinecolor\":\"white\",\"zerolinewidth\":2}}},\"title\":{\"text\":\"Tracking 2014-09-07 02:00:00\",\"x\":0.5},\"updatemenus\":[{\"buttons\":[{\"args\":[\"mapbox.layers\",[{\"below\":\"traces\",\"coordinates\":[[-62.14714189584819,-5.295901131951463],[-57.83567670766743,-5.295901131951463],[-57.83567670766743,-1.0001668807629231],[-62.14714189584819,-1.0001668807629231]],\"source\":\"data:image/png;base64,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\",\"sourcetype\":\"image\"}]],\"label\":\"None\",\"method\":\"relayout\"},{\"args\":[\"mapbox.layers\",[{\"color\":\"gray\",\"line\":{\"width\":1.5},\"name\":\"geom_20\",\"source\":{\"bbox\":[-59.99140930175781,-2.322441577911377,-59.64983749389648,-1.9990154504776],\"features\":[{\"bbox\":[-59.99140930175781,-2.322441577911377,-59.64983749389648,-1.9990154504776],\"geometry\":{\"coordinates\":[[[-59.91948699951172,-2.322441577911377],[-59.91948699951172,-2.322441577911377],[-59.91948699951172,-2.322441577911377],[-59.91948699951172,-2.322441577911377],[-59.91948699951172,-2.322441577911377],[-59.91948699951172,-2.322441577911377],[-59.91948699951172,-2.322441577911377],[-59.91948699951172,-2.322441577911377],[-59.91948699951172,-2.322441577911377],[-59.91948699951172,-2.322441577911377],[-59.91948699951172,-2.322441577911377],[-59.91948699951172,-2.322441577911377],[-59.91948699951172,-2.322441577911377],[-59.91948699951172,-2.322441577911377],[-59.91948699951172,-2.322441577911377],[-59.91948699951172,-2.322441577911377],[-59.91948699951172,-2.322441577911377],[-59.91948699951172,-2.3044753074646],[-59.95544815063477,-2.304476976394653],[-59.95544815063477,-2.304476976394653],[-59.95544815063477,-2.304476976394653],[-59.95544815063477,-2.304476976394653],[-59.95544815063477,-2.304476976394653],[-59.95544815063477,-2.304476976394653],[-59.95544815063477,-2.304476976394653],[-59.95544815063477,-2.304476976394653],[-59.95544815063477,-2.304476976394653],[-59.95544815063477,-2.304476976394653],[-59.95544815063477,-2.304476976394653],[-59.95544815063477,-2.304476976394653],[-59.95544815063477,-2.304476976394653],[-59.95544815063477,-2.304476976394653],[-59.95544815063477,-2.304476976394653],[-59.95544815063477,-2.304476976394653],[-59.95544815063477,-2.304476976394653],[-59.95544815063477,-2.286510705947876],[-59.97343063354492,-2.286510944366455],[-59.97343063354492,-2.286510944366455],[-59.97343063354492,-2.286510944366455],[-59.97343063354492,-2.286510944366455],[-59.97343063354492,-2.286510944366455],[-59.97343063354492,-2.286510944366455],[-59.97343063354492,-2.286510944366455],[-59.97343063354492,-2.286510944366455],[-59.97343063354492,-2.286510944366455],[-59.97343063354492,-2.286510944366455],[-59.97343063354492,-2.286510944366455],[-59.97343063354492,-2.286510944366455],[-59.97343063354492,-2.286510944366455],[-59.97343063354492,-2.286510944366455],[-59.97343063354492,-2.286510944366455],[-59.97343063354492,-2.286510944366455],[-59.97343063354492,-2.286510944366455],[-59.97343063354492,-2.232612133026123],[-59.97343063354492,-2.232612133026123],[-59.97343063354492,-2.232612133026123],[-59.97343063354492,-2.232612133026123],[-59.97343063354492,-2.232612133026123],[-59.97343063354492,-2.232612133026123],[-59.97343063354492,-2.232612133026123],[-59.97343063354492,-2.232612133026123],[-59.97343063354492,-2.232612133026123],[-59.97343063354492,-2.232612133026123],[-59.97343063354492,-2.232612133026123],[-59.97343063354492,-2.232612133026123],[-59.97343063354492,-2.232612133026123],[-59.97343063354492,-2.232612133026123],[-59.97343063354492,-2.232612133026123],[-59.97343063354492,-2.232612133026123],[-59.97343063354492,-2.232612133026123],[-59.95545196533203,-2.232611656188965],[-59.95545196533203,-2.214645385742188],[-59.99140930175781,-2.214645862579346],[-59.99140930175781,-2.214645862579346],[-59.99140930175781,-2.214645862579346],[-59.99140930175781,-2.214645862579346],[-59.99140930175781,-2.214645862579346],[-59.99140930175781,-2.214645862579346],[-59.99140930175781,-2.214645862579346],[-59.99140930175781,-2.214645862579346],[-59.99140930175781,-2.214645862579346],[-59.99140930175781,-2.214645862579346],[-59.99140930175781,-2.214645862579346],[-59.99140930175781,-2.214645862579346],[-59.99140930175781,-2.214645862579346],[-59.99140930175781,-2.214645862579346],[-59.99140930175781,-2.214645862579346],[-59.99140930175781,-2.214645862579346],[-59.99140930175781,-2.214645862579346],[-59.99140930175781,-2.124814510345459],[-59.99140930175781,-2.124814510345459],[-59.99140930175781,-2.124814510345459],[-59.99140930175781,-2.124814510345459],[-59.99140930175781,-2.124814510345459],[-59.99140930175781,-2.124814510345459],[-59.99140930175781,-2.124814510345459],[-59.99140930175781,-2.124814510345459],[-59.99140930175781,-2.124814510345459],[-59.99140930175781,-2.124814510345459],[-59.99140930175781,-2.124814510345459],[-59.99140930175781,-2.124814510345459],[-59.99140930175781,-2.124814510345459],[-59.99140930175781,-2.124814510345459],[-59.99140930175781,-2.124814510345459],[-59.99140930175781,-2.124814510345459],[-59.99140930175781,-2.124814510345459],[-59.97343063354492,-2.12481427192688],[-59.97343063354492,-2.106848001480103],[-59.97343063354492,-2.106848001480103],[-59.97343063354492,-2.106848001480103],[-59.97343063354492,-2.106848001480103],[-59.97343063354492,-2.106848001480103],[-59.97343063354492,-2.106848001480103],[-59.97343063354492,-2.106848001480103],[-59.97343063354492,-2.106848001480103],[-59.97343063354492,-2.106848001480103],[-59.97343063354492,-2.106848001480103],[-59.97343063354492,-2.106848001480103],[-59.97343063354492,-2.106848001480103],[-59.97343063354492,-2.106848001480103],[-59.97343063354492,-2.106848001480103],[-59.97343063354492,-2.106848001480103],[-59.97343063354492,-2.106848001480103],[-59.97343063354492,-2.106848001480103],[-59.9554557800293,-2.106847524642944],[-59.9554557800293,-2.07091498374939],[-59.97343063354492,-2.070915460586548],[-59.97343063354492,-2.070915460586548],[-59.97343063354492,-2.070915460586548],[-59.97343063354492,-2.070915460586548],[-59.97343063354492,-2.070915460586548],[-59.97343063354492,-2.070915460586548],[-59.97343063354492,-2.070915460586548],[-59.97343063354492,-2.070915460586548],[-59.97343063354492,-2.070915460586548],[-59.97343063354492,-2.070915460586548],[-59.97343063354492,-2.070915460586548],[-59.97343063354492,-2.070915460586548],[-59.97343063354492,-2.070915460586548],[-59.97343063354492,-2.070915460586548],[-59.97343063354492,-2.070915460586548],[-59.97343063354492,-2.070915460586548],[-59.97343063354492,-2.070915460586548],[-59.97343444824219,-2.052948951721191],[-59.97343444824219,-2.052948951721191],[-59.97343444824219,-2.052948951721191],[-59.97343444824219,-2.052948951721191],[-59.97343444824219,-2.052948951721191],[-59.97343444824219,-2.052948951721191],[-59.97343444824219,-2.052948951721191],[-59.97343444824219,-2.052948951721191],[-59.97343444824219,-2.052948951721191],[-59.97343444824219,-2.052948951721191],[-59.97343444824219,-2.052948951721191],[-59.97343444824219,-2.052948951721191],[-59.97343444824219,-2.052948951721191],[-59.97343444824219,-2.052948951721191],[-59.97343444824219,-2.052948951721191],[-59.97343444824219,-2.052948951721191],[-59.97343444824219,-2.052948951721191],[-59.90152740478516,-2.052945852279663],[-59.90152740478516,-2.034979581832886],[-59.90152740478516,-2.034979581832886],[-59.90152740478516,-2.034979581832886],[-59.90152740478516,-2.034979581832886],[-59.90152740478516,-2.034979581832886],[-59.90152740478516,-2.034979581832886],[-59.90152740478516,-2.034979581832886],[-59.90152740478516,-2.034979581832886],[-59.90152740478516,-2.034979581832886],[-59.90152740478516,-2.034979581832886],[-59.90152740478516,-2.034979581832886],[-59.90152740478516,-2.034979581832886],[-59.90152740478516,-2.034979581832886],[-59.90152740478516,-2.034979581832886],[-59.90152740478516,-2.034979581832886],[-59.90152740478516,-2.034979581832886],[-59.90152740478516,-2.034979581832886],[-59.84759902954102,-2.034974098205566],[-59.84760284423828,-1.999041557312012],[-59.84760284423828,-1.999041557312012],[-59.84760284423828,-1.999041557312012],[-59.84760284423828,-1.999041557312012],[-59.84760284423828,-1.999041557312012],[-59.84760284423828,-1.999041557312012],[-59.84760284423828,-1.999041557312012],[-59.84760284423828,-1.999041557312012],[-59.84760284423828,-1.999041557312012],[-59.84760284423828,-1.999041557312012],[-59.84760284423828,-1.999041557312012],[-59.84760284423828,-1.999041557312012],[-59.84760284423828,-1.999041557312012],[-59.84760284423828,-1.999041557312012],[-59.84760284423828,-1.999041557312012],[-59.84760284423828,-1.999041557312012],[-59.84760284423828,-1.999041557312012],[-59.70379257202148,-1.9990154504776],[-59.70379257202148,-1.9990154504776],[-59.70379257202148,-1.9990154504776],[-59.70379257202148,-1.9990154504776],[-59.70379257202148,-1.9990154504776],[-59.70379257202148,-1.9990154504776],[-59.70379257202148,-1.9990154504776],[-59.70379257202148,-1.9990154504776],[-59.70379257202148,-1.9990154504776],[-59.70379257202148,-1.9990154504776],[-59.70379257202148,-1.9990154504776],[-59.70379257202148,-1.9990154504776],[-59.70379257202148,-1.9990154504776],[-59.70379257202148,-1.9990154504776],[-59.70379257202148,-1.9990154504776],[-59.70379257202148,-1.9990154504776],[-59.70379257202148,-1.9990154504776],[-59.70378875732422,-2.016981601715088],[-59.68581390380859,-2.016977071762085],[-59.68581390380859,-2.016977071762085],[-59.68581390380859,-2.016977071762085],[-59.68581390380859,-2.016977071762085],[-59.68581390380859,-2.016977071762085],[-59.68581390380859,-2.016977071762085],[-59.68581390380859,-2.016977071762085],[-59.68581390380859,-2.016977071762085],[-59.68581390380859,-2.016977071762085],[-59.68581390380859,-2.016977071762085],[-59.68581390380859,-2.016977071762085],[-59.68581390380859,-2.016977071762085],[-59.68581390380859,-2.016977071762085],[-59.68581390380859,-2.016977071762085],[-59.68581390380859,-2.016977071762085],[-59.68581390380859,-2.016977071762085],[-59.68581390380859,-2.016977071762085],[-59.68581008911133,-2.034943342208862],[-59.66783142089844,-2.03493857383728],[-59.66783142089844,-2.03493857383728],[-59.66783142089844,-2.03493857383728],[-59.66783142089844,-2.03493857383728],[-59.66783142089844,-2.03493857383728],[-59.66783142089844,-2.03493857383728],[-59.66783142089844,-2.03493857383728],[-59.66783142089844,-2.03493857383728],[-59.66783142089844,-2.03493857383728],[-59.66783142089844,-2.03493857383728],[-59.66783142089844,-2.03493857383728],[-59.66783142089844,-2.03493857383728],[-59.66783142089844,-2.03493857383728],[-59.66783142089844,-2.03493857383728],[-59.66783142089844,-2.03493857383728],[-59.66783142089844,-2.03493857383728],[-59.66783142089844,-2.03493857383728],[-59.66782760620117,-2.052904844284058],[-59.64985275268555,-2.052899837493896],[-59.64985275268555,-2.052899837493896],[-59.64985275268555,-2.052899837493896],[-59.64985275268555,-2.052899837493896],[-59.64985275268555,-2.052899837493896],[-59.64985275268555,-2.052899837493896],[-59.64985275268555,-2.052899837493896],[-59.64985275268555,-2.052899837493896],[-59.64985275268555,-2.052899837493896],[-59.64985275268555,-2.052899837493896],[-59.64985275268555,-2.052899837493896],[-59.64985275268555,-2.052899837493896],[-59.64985275268555,-2.052899837493896],[-59.64985275268555,-2.052899837493896],[-59.64985275268555,-2.052899837493896],[-59.64985275268555,-2.052899837493896],[-59.64985275268555,-2.052899837493896],[-59.64984512329102,-2.070865869522095],[-59.64984512329102,-2.070865869522095],[-59.64984512329102,-2.070865869522095],[-59.64984512329102,-2.070865869522095],[-59.64984512329102,-2.070865869522095],[-59.64984512329102,-2.070865869522095],[-59.64984512329102,-2.070865869522095],[-59.64984512329102,-2.070865869522095],[-59.64984512329102,-2.070865869522095],[-59.64984512329102,-2.070865869522095],[-59.64984512329102,-2.070865869522095],[-59.64984512329102,-2.070865869522095],[-59.64984512329102,-2.070865869522095],[-59.64984512329102,-2.070865869522095],[-59.64984512329102,-2.070865869522095],[-59.64984512329102,-2.070865869522095],[-59.64984512329102,-2.070865869522095],[-59.66782379150391,-2.070871114730835],[-59.66781997680664,-2.088837146759033],[-59.64984130859375,-2.088832139968872],[-59.64984130859375,-2.088832139968872],[-59.64984130859375,-2.088832139968872],[-59.64984130859375,-2.088832139968872],[-59.64984130859375,-2.088832139968872],[-59.64984130859375,-2.088832139968872],[-59.64984130859375,-2.088832139968872],[-59.64984130859375,-2.088832139968872],[-59.64984130859375,-2.088832139968872],[-59.64984130859375,-2.088832139968872],[-59.64984130859375,-2.088832139968872],[-59.64984130859375,-2.088832139968872],[-59.64984130859375,-2.088832139968872],[-59.64984130859375,-2.088832139968872],[-59.64984130859375,-2.088832139968872],[-59.64984130859375,-2.088832139968872],[-59.64984130859375,-2.088832139968872],[-59.64983749389648,-2.106798410415649],[-59.64983749389648,-2.106798410415649],[-59.64983749389648,-2.106798410415649],[-59.64983749389648,-2.106798410415649],[-59.64983749389648,-2.106798410415649],[-59.64983749389648,-2.106798410415649],[-59.64983749389648,-2.106798410415649],[-59.64983749389648,-2.106798410415649],[-59.64983749389648,-2.106798410415649],[-59.64983749389648,-2.106798410415649],[-59.64983749389648,-2.106798410415649],[-59.64983749389648,-2.106798410415649],[-59.64983749389648,-2.106798410415649],[-59.64983749389648,-2.106798410415649],[-59.64983749389648,-2.106798410415649],[-59.64983749389648,-2.106798410415649],[-59.64983749389648,-2.106798410415649],[-59.685791015625,-2.106808185577393],[-59.685791015625,-2.106808185577393],[-59.685791015625,-2.106808185577393],[-59.685791015625,-2.106808185577393],[-59.685791015625,-2.106808185577393],[-59.685791015625,-2.106808185577393],[-59.685791015625,-2.106808185577393],[-59.685791015625,-2.106808185577393],[-59.685791015625,-2.106808185577393],[-59.685791015625,-2.106808185577393],[-59.685791015625,-2.106808185577393],[-59.685791015625,-2.106808185577393],[-59.685791015625,-2.106808185577393],[-59.685791015625,-2.106808185577393],[-59.685791015625,-2.106808185577393],[-59.685791015625,-2.106808185577393],[-59.685791015625,-2.106808185577393],[-59.68579483032227,-2.088842153549194],[-59.73972702026367,-2.088854789733887],[-59.73972320556641,-2.106821060180664],[-59.73972320556641,-2.106821060180664],[-59.73972320556641,-2.106821060180664],[-59.73972320556641,-2.106821060180664],[-59.73972320556641,-2.106821060180664],[-59.73972320556641,-2.106821060180664],[-59.73972320556641,-2.106821060180664],[-59.73972320556641,-2.106821060180664],[-59.73972320556641,-2.106821060180664],[-59.73972320556641,-2.106821060180664],[-59.73972320556641,-2.106821060180664],[-59.73972320556641,-2.106821060180664],[-59.73972320556641,-2.106821060180664],[-59.73972320556641,-2.106821060180664],[-59.73972320556641,-2.106821060180664],[-59.73972320556641,-2.106821060180664],[-59.73972320556641,-2.106821060180664],[-59.77568054199219,-2.106828212738037],[-59.77568054199219,-2.106828212738037],[-59.77568054199219,-2.106828212738037],[-59.77568054199219,-2.106828212738037],[-59.77568054199219,-2.106828212738037],[-59.77568054199219,-2.106828212738037],[-59.77568054199219,-2.106828212738037],[-59.77568054199219,-2.106828212738037],[-59.77568054199219,-2.106828212738037],[-59.77568054199219,-2.106828212738037],[-59.77568054199219,-2.106828212738037],[-59.77568054199219,-2.106828212738037],[-59.77568054199219,-2.106828212738037],[-59.77568054199219,-2.106828212738037],[-59.77568054199219,-2.106828212738037],[-59.77568054199219,-2.106828212738037],[-59.77568054199219,-2.106828212738037],[-59.77568435668945,-2.08886194229126],[-59.79365921020508,-2.088865280151367],[-59.79365539550781,-2.106831550598145],[-59.79365539550781,-2.106831550598145],[-59.79365539550781,-2.106831550598145],[-59.79365539550781,-2.106831550598145],[-59.79365539550781,-2.106831550598145],[-59.79365539550781,-2.106831550598145],[-59.79365539550781,-2.106831550598145],[-59.79365539550781,-2.106831550598145],[-59.79365539550781,-2.106831550598145],[-59.79365539550781,-2.106831550598145],[-59.79365539550781,-2.106831550598145],[-59.79365539550781,-2.106831550598145],[-59.79365539550781,-2.106831550598145],[-59.79365539550781,-2.106831550598145],[-59.79365539550781,-2.106831550598145],[-59.79365539550781,-2.106831550598145],[-59.79365539550781,-2.106831550598145],[-59.84759140014648,-2.106839179992676],[-59.84758377075195,-2.14277195930481],[-59.81163024902344,-2.142766952514648],[-59.81163024902344,-2.142766952514648],[-59.81163024902344,-2.142766952514648],[-59.81163024902344,-2.142766952514648],[-59.81163024902344,-2.142766952514648],[-59.81163024902344,-2.142766952514648],[-59.81163024902344,-2.142766952514648],[-59.81163024902344,-2.142766952514648],[-59.81163024902344,-2.142766952514648],[-59.81163024902344,-2.142766952514648],[-59.81163024902344,-2.142766952514648],[-59.81163024902344,-2.142766952514648],[-59.81163024902344,-2.142766952514648],[-59.81163024902344,-2.142766952514648],[-59.81163024902344,-2.142766952514648],[-59.81163024902344,-2.142766952514648],[-59.81163024902344,-2.142766952514648],[-59.81162643432617,-2.178699493408203],[-59.73971176147461,-2.178686141967773],[-59.73971176147461,-2.178686141967773],[-59.73971176147461,-2.178686141967773],[-59.73971176147461,-2.178686141967773],[-59.73971176147461,-2.178686141967773],[-59.73971176147461,-2.178686141967773],[-59.73971176147461,-2.178686141967773],[-59.73971176147461,-2.178686141967773],[-59.73971176147461,-2.178686141967773],[-59.73971176147461,-2.178686141967773],[-59.73971176147461,-2.178686141967773],[-59.73971176147461,-2.178686141967773],[-59.73971176147461,-2.178686141967773],[-59.73971176147461,-2.178686141967773],[-59.73971176147461,-2.178686141967773],[-59.73971176147461,-2.178686141967773],[-59.73971176147461,-2.178686141967773],[-59.73970794677734,-2.196652412414551],[-59.70375061035156,-2.196644067764282],[-59.70375061035156,-2.196644067764282],[-59.70375061035156,-2.196644067764282],[-59.70375061035156,-2.196644067764282],[-59.70375061035156,-2.196644067764282],[-59.70375061035156,-2.196644067764282],[-59.70375061035156,-2.196644067764282],[-59.70375061035156,-2.196644067764282],[-59.70375061035156,-2.196644067764282],[-59.70375061035156,-2.196644067764282],[-59.70375061035156,-2.196644067764282],[-59.70375061035156,-2.196644067764282],[-59.70375061035156,-2.196644067764282],[-59.70375061035156,-2.196644067764282],[-59.70375061035156,-2.196644067764282],[-59.70375061035156,-2.196644067764282],[-59.70375061035156,-2.196644067764282],[-59.7037467956543,-2.21461009979248],[-59.7037467956543,-2.21461009979248],[-59.7037467956543,-2.21461009979248],[-59.7037467956543,-2.21461009979248],[-59.7037467956543,-2.21461009979248],[-59.7037467956543,-2.21461009979248],[-59.7037467956543,-2.21461009979248],[-59.7037467956543,-2.21461009979248],[-59.7037467956543,-2.21461009979248],[-59.7037467956543,-2.21461009979248],[-59.7037467956543,-2.21461009979248],[-59.7037467956543,-2.21461009979248],[-59.7037467956543,-2.21461009979248],[-59.7037467956543,-2.21461009979248],[-59.7037467956543,-2.21461009979248],[-59.7037467956543,-2.21461009979248],[-59.7037467956543,-2.21461009979248],[-59.79364013671875,-2.214628934860229],[-59.79364013671875,-2.214628934860229],[-59.79364013671875,-2.214628934860229],[-59.79364013671875,-2.214628934860229],[-59.79364013671875,-2.214628934860229],[-59.79364013671875,-2.214628934860229],[-59.79364013671875,-2.214628934860229],[-59.79364013671875,-2.214628934860229],[-59.79364013671875,-2.214628934860229],[-59.79364013671875,-2.214628934860229],[-59.79364013671875,-2.214628934860229],[-59.79364013671875,-2.214628934860229],[-59.79364013671875,-2.214628934860229],[-59.79364013671875,-2.214628934860229],[-59.79364013671875,-2.214628934860229],[-59.79364013671875,-2.214628934860229],[-59.79364013671875,-2.214628934860229],[-59.79364395141602,-2.196662664413452],[-59.8296012878418,-2.196668386459351],[-59.82959747314453,-2.214634656906128],[-59.82959747314453,-2.214634656906128],[-59.82959747314453,-2.214634656906128],[-59.82959747314453,-2.214634656906128],[-59.82959747314453,-2.214634656906128],[-59.82959747314453,-2.214634656906128],[-59.82959747314453,-2.214634656906128],[-59.82959747314453,-2.214634656906128],[-59.82959747314453,-2.214634656906128],[-59.82959747314453,-2.214634656906128],[-59.82959747314453,-2.214634656906128],[-59.82959747314453,-2.214634656906128],[-59.82959747314453,-2.214634656906128],[-59.82959747314453,-2.214634656906128],[-59.82959747314453,-2.214634656906128],[-59.82959747314453,-2.214634656906128],[-59.82959747314453,-2.214634656906128],[-59.84757614135742,-2.214637041091919],[-59.84757232666016,-2.250569581985474],[-59.82959365844727,-2.250567197799683],[-59.82959365844727,-2.250567197799683],[-59.82959365844727,-2.250567197799683],[-59.82959365844727,-2.250567197799683],[-59.82959365844727,-2.250567197799683],[-59.82959365844727,-2.250567197799683],[-59.82959365844727,-2.250567197799683],[-59.82959365844727,-2.250567197799683],[-59.82959365844727,-2.250567197799683],[-59.82959365844727,-2.250567197799683],[-59.82959365844727,-2.250567197799683],[-59.82959365844727,-2.250567197799683],[-59.82959365844727,-2.250567197799683],[-59.82959365844727,-2.250567197799683],[-59.82959365844727,-2.250567197799683],[-59.82959365844727,-2.250567197799683],[-59.82959365844727,-2.250567197799683],[-59.82959365844727,-2.26853346824646],[-59.82959365844727,-2.26853346824646],[-59.82959365844727,-2.26853346824646],[-59.82959365844727,-2.26853346824646],[-59.82959365844727,-2.26853346824646],[-59.82959365844727,-2.26853346824646],[-59.82959365844727,-2.26853346824646],[-59.82959365844727,-2.26853346824646],[-59.82959365844727,-2.26853346824646],[-59.82959365844727,-2.26853346824646],[-59.82959365844727,-2.26853346824646],[-59.82959365844727,-2.26853346824646],[-59.82959365844727,-2.26853346824646],[-59.82959365844727,-2.26853346824646],[-59.82959365844727,-2.26853346824646],[-59.82959365844727,-2.26853346824646],[-59.82959365844727,-2.26853346824646],[-59.84757232666016,-2.268535852432251],[-59.84756851196289,-2.304468393325806],[-59.84756851196289,-2.304468393325806],[-59.84756851196289,-2.304468393325806],[-59.84756851196289,-2.304468393325806],[-59.84756851196289,-2.304468393325806],[-59.84756851196289,-2.304468393325806],[-59.84756851196289,-2.304468393325806],[-59.84756851196289,-2.304468393325806],[-59.84756851196289,-2.304468393325806],[-59.84756851196289,-2.304468393325806],[-59.84756851196289,-2.304468393325806],[-59.84756851196289,-2.304468393325806],[-59.84756851196289,-2.304468393325806],[-59.84756851196289,-2.304468393325806],[-59.84756851196289,-2.304468393325806],[-59.84756851196289,-2.304468393325806],[-59.84756851196289,-2.304468393325806],[-59.88352966308594,-2.30447244644165],[-59.88352584838867,-2.322438716888428],[-59.88352584838867,-2.322438716888428],[-59.88352584838867,-2.322438716888428],[-59.88352584838867,-2.322438716888428],[-59.88352584838867,-2.322438716888428],[-59.88352584838867,-2.322438716888428],[-59.88352584838867,-2.322438716888428],[-59.88352584838867,-2.322438716888428],[-59.88352584838867,-2.322438716888428],[-59.88352584838867,-2.322438716888428],[-59.88352584838867,-2.322438716888428],[-59.88352584838867,-2.322438716888428],[-59.88352584838867,-2.322438716888428],[-59.88352584838867,-2.322438716888428],[-59.88352584838867,-2.322438716888428],[-59.88352584838867,-2.322438716888428],[-59.88352584838867,-2.322438716888428],[-59.91948699951172,-2.322441577911377]]],\"type\":\"Polygon\"},\"id\":\"('Fam_13', 92)\",\"properties\":{},\"type\":\"Feature\"}],\"type\":\"FeatureCollection\"},\"type\":\"line\"},{\"color\":\"blue\",\"line\":{\"width\":1.5},\"name\":\"geom_35\",\"source\":{\"bbox\":[-59.97343063354492,-2.3044753074646,-59.84757995605469,-2.124807596206665],\"features\":[{\"bbox\":[-59.97343063354492,-2.3044753074646,-59.84757995605469,-2.124807596206665],\"geometry\":{\"coordinates\":[[[-59.91948699951172,-2.3044753074646],[-59.91948699951172,-2.3044753074646],[-59.91948699951172,-2.3044753074646],[-59.91948699951172,-2.3044753074646],[-59.91948699951172,-2.3044753074646],[-59.91948699951172,-2.3044753074646],[-59.91948699951172,-2.3044753074646],[-59.91948699951172,-2.3044753074646],[-59.91948699951172,-2.3044753074646],[-59.91948699951172,-2.3044753074646],[-59.91948699951172,-2.3044753074646],[-59.91948699951172,-2.3044753074646],[-59.91948699951172,-2.3044753074646],[-59.91948699951172,-2.3044753074646],[-59.91948699951172,-2.3044753074646],[-59.91948699951172,-2.3044753074646],[-59.91948699951172,-2.3044753074646],[-59.91949081420898,-2.286508798599243],[-59.93746948242188,-2.286509990692139],[-59.93746948242188,-2.286509990692139],[-59.93746948242188,-2.286509990692139],[-59.93746948242188,-2.286509990692139],[-59.93746948242188,-2.286509990692139],[-59.93746948242188,-2.286509990692139],[-59.93746948242188,-2.286509990692139],[-59.93746948242188,-2.286509990692139],[-59.93746948242188,-2.286509990692139],[-59.93746948242188,-2.286509990692139],[-59.93746948242188,-2.286509990692139],[-59.93746948242188,-2.286509990692139],[-59.93746948242188,-2.286509990692139],[-59.93746948242188,-2.286509990692139],[-59.93746948242188,-2.286509990692139],[-59.93746948242188,-2.286509990692139],[-59.93746948242188,-2.286509990692139],[-59.93747329711914,-2.21464467048645],[-59.95545196533203,-2.214645385742188],[-59.95545196533203,-2.214645385742188],[-59.95545196533203,-2.214645385742188],[-59.95545196533203,-2.214645385742188],[-59.95545196533203,-2.214645385742188],[-59.95545196533203,-2.214645385742188],[-59.95545196533203,-2.214645385742188],[-59.95545196533203,-2.214645385742188],[-59.95545196533203,-2.214645385742188],[-59.95545196533203,-2.214645385742188],[-59.95545196533203,-2.214645385742188],[-59.95545196533203,-2.214645385742188],[-59.95545196533203,-2.214645385742188],[-59.95545196533203,-2.214645385742188],[-59.95545196533203,-2.214645385742188],[-59.95545196533203,-2.214645385742188],[-59.95545196533203,-2.214645385742188],[-59.95545196533203,-2.19667911529541],[-59.97343063354492,-2.196679592132568],[-59.97343063354492,-2.196679592132568],[-59.97343063354492,-2.196679592132568],[-59.97343063354492,-2.196679592132568],[-59.97343063354492,-2.196679592132568],[-59.97343063354492,-2.196679592132568],[-59.97343063354492,-2.196679592132568],[-59.97343063354492,-2.196679592132568],[-59.97343063354492,-2.196679592132568],[-59.97343063354492,-2.196679592132568],[-59.97343063354492,-2.196679592132568],[-59.97343063354492,-2.196679592132568],[-59.97343063354492,-2.196679592132568],[-59.97343063354492,-2.196679592132568],[-59.97343063354492,-2.196679592132568],[-59.97343063354492,-2.196679592132568],[-59.97343063354492,-2.196679592132568],[-59.97343063354492,-2.160746812820435],[-59.97343063354492,-2.160746812820435],[-59.97343063354492,-2.160746812820435],[-59.97343063354492,-2.160746812820435],[-59.97343063354492,-2.160746812820435],[-59.97343063354492,-2.160746812820435],[-59.97343063354492,-2.160746812820435],[-59.97343063354492,-2.160746812820435],[-59.97343063354492,-2.160746812820435],[-59.97343063354492,-2.160746812820435],[-59.97343063354492,-2.160746812820435],[-59.97343063354492,-2.160746812820435],[-59.97343063354492,-2.160746812820435],[-59.97343063354492,-2.160746812820435],[-59.97343063354492,-2.160746812820435],[-59.97343063354492,-2.160746812820435],[-59.97343063354492,-2.160746812820435],[-59.93747329711914,-2.160745859146118],[-59.93747711181641,-2.142779588699341],[-59.95545196533203,-2.142780065536499],[-59.95545196533203,-2.142780065536499],[-59.95545196533203,-2.142780065536499],[-59.95545196533203,-2.142780065536499],[-59.95545196533203,-2.142780065536499],[-59.95545196533203,-2.142780065536499],[-59.95545196533203,-2.142780065536499],[-59.95545196533203,-2.142780065536499],[-59.95545196533203,-2.142780065536499],[-59.95545196533203,-2.142780065536499],[-59.95545196533203,-2.142780065536499],[-59.95545196533203,-2.142780065536499],[-59.95545196533203,-2.142780065536499],[-59.95545196533203,-2.142780065536499],[-59.95545196533203,-2.142780065536499],[-59.95545196533203,-2.142780065536499],[-59.95545196533203,-2.142780065536499],[-59.9554557800293,-2.124813795089722],[-59.9554557800293,-2.124813795089722],[-59.9554557800293,-2.124813795089722],[-59.9554557800293,-2.124813795089722],[-59.9554557800293,-2.124813795089722],[-59.9554557800293,-2.124813795089722],[-59.9554557800293,-2.124813795089722],[-59.9554557800293,-2.124813795089722],[-59.9554557800293,-2.124813795089722],[-59.9554557800293,-2.124813795089722],[-59.9554557800293,-2.124813795089722],[-59.9554557800293,-2.124813795089722],[-59.9554557800293,-2.124813795089722],[-59.9554557800293,-2.124813795089722],[-59.9554557800293,-2.124813795089722],[-59.9554557800293,-2.124813795089722],[-59.9554557800293,-2.124813795089722],[-59.86556625366211,-2.124807596206665],[-59.86556625366211,-2.124807596206665],[-59.86556625366211,-2.124807596206665],[-59.86556625366211,-2.124807596206665],[-59.86556625366211,-2.124807596206665],[-59.86556625366211,-2.124807596206665],[-59.86556625366211,-2.124807596206665],[-59.86556625366211,-2.124807596206665],[-59.86556625366211,-2.124807596206665],[-59.86556625366211,-2.124807596206665],[-59.86556625366211,-2.124807596206665],[-59.86556625366211,-2.124807596206665],[-59.86556625366211,-2.124807596206665],[-59.86556625366211,-2.124807596206665],[-59.86556625366211,-2.124807596206665],[-59.86556625366211,-2.124807596206665],[-59.86556625366211,-2.124807596206665],[-59.86556243896484,-2.142773866653442],[-59.84758377075195,-2.14277195930481],[-59.84758377075195,-2.14277195930481],[-59.84758377075195,-2.14277195930481],[-59.84758377075195,-2.14277195930481],[-59.84758377075195,-2.14277195930481],[-59.84758377075195,-2.14277195930481],[-59.84758377075195,-2.14277195930481],[-59.84758377075195,-2.14277195930481],[-59.84758377075195,-2.14277195930481],[-59.84758377075195,-2.14277195930481],[-59.84758377075195,-2.14277195930481],[-59.84758377075195,-2.14277195930481],[-59.84758377075195,-2.14277195930481],[-59.84758377075195,-2.14277195930481],[-59.84758377075195,-2.14277195930481],[-59.84758377075195,-2.14277195930481],[-59.84758377075195,-2.14277195930481],[-59.84758377075195,-2.160738229751587],[-59.84758377075195,-2.160738229751587],[-59.84758377075195,-2.160738229751587],[-59.84758377075195,-2.160738229751587],[-59.84758377075195,-2.160738229751587],[-59.84758377075195,-2.160738229751587],[-59.84758377075195,-2.160738229751587],[-59.84758377075195,-2.160738229751587],[-59.84758377075195,-2.160738229751587],[-59.84758377075195,-2.160738229751587],[-59.84758377075195,-2.160738229751587],[-59.84758377075195,-2.160738229751587],[-59.84758377075195,-2.160738229751587],[-59.84758377075195,-2.160738229751587],[-59.84758377075195,-2.160738229751587],[-59.84758377075195,-2.160738229751587],[-59.84758377075195,-2.160738229751587],[-59.86556243896484,-2.16074013710022],[-59.86555862426758,-2.178706407546997],[-59.84757995605469,-2.178704500198364],[-59.84757995605469,-2.178704500198364],[-59.84757995605469,-2.178704500198364],[-59.84757995605469,-2.178704500198364],[-59.84757995605469,-2.178704500198364],[-59.84757995605469,-2.178704500198364],[-59.84757995605469,-2.178704500198364],[-59.84757995605469,-2.178704500198364],[-59.84757995605469,-2.178704500198364],[-59.84757995605469,-2.178704500198364],[-59.84757995605469,-2.178704500198364],[-59.84757995605469,-2.178704500198364],[-59.84757995605469,-2.178704500198364],[-59.84757995605469,-2.178704500198364],[-59.84757995605469,-2.178704500198364],[-59.84757995605469,-2.178704500198364],[-59.84757995605469,-2.178704500198364],[-59.84757995605469,-2.196670770645142],[-59.84757995605469,-2.196670770645142],[-59.84757995605469,-2.196670770645142],[-59.84757995605469,-2.196670770645142],[-59.84757995605469,-2.196670770645142],[-59.84757995605469,-2.196670770645142],[-59.84757995605469,-2.196670770645142],[-59.84757995605469,-2.196670770645142],[-59.84757995605469,-2.196670770645142],[-59.84757995605469,-2.196670770645142],[-59.84757995605469,-2.196670770645142],[-59.84757995605469,-2.196670770645142],[-59.84757995605469,-2.196670770645142],[-59.84757995605469,-2.196670770645142],[-59.84757995605469,-2.196670770645142],[-59.84757995605469,-2.196670770645142],[-59.84757995605469,-2.196670770645142],[-59.86555862426758,-2.196672916412354],[-59.86555862426758,-2.214639186859131],[-59.86555862426758,-2.214639186859131],[-59.86555862426758,-2.214639186859131],[-59.86555862426758,-2.214639186859131],[-59.86555862426758,-2.214639186859131],[-59.86555862426758,-2.214639186859131],[-59.86555862426758,-2.214639186859131],[-59.86555862426758,-2.214639186859131],[-59.86555862426758,-2.214639186859131],[-59.86555862426758,-2.214639186859131],[-59.86555862426758,-2.214639186859131],[-59.86555862426758,-2.214639186859131],[-59.86555862426758,-2.214639186859131],[-59.86555862426758,-2.214639186859131],[-59.86555862426758,-2.214639186859131],[-59.86555862426758,-2.214639186859131],[-59.86555862426758,-2.214639186859131],[-59.88353729248047,-2.214640855789185],[-59.8835334777832,-2.250573396682739],[-59.86555480957031,-2.250571727752686],[-59.86555480957031,-2.250571727752686],[-59.86555480957031,-2.250571727752686],[-59.86555480957031,-2.250571727752686],[-59.86555480957031,-2.250571727752686],[-59.86555480957031,-2.250571727752686],[-59.86555480957031,-2.250571727752686],[-59.86555480957031,-2.250571727752686],[-59.86555480957031,-2.250571727752686],[-59.86555480957031,-2.250571727752686],[-59.86555480957031,-2.250571727752686],[-59.86555480957031,-2.250571727752686],[-59.86555480957031,-2.250571727752686],[-59.86555480957031,-2.250571727752686],[-59.86555480957031,-2.250571727752686],[-59.86555480957031,-2.250571727752686],[-59.86555480957031,-2.250571727752686],[-59.86555099487305,-2.268537998199463],[-59.86555099487305,-2.268537998199463],[-59.86555099487305,-2.268537998199463],[-59.86555099487305,-2.268537998199463],[-59.86555099487305,-2.268537998199463],[-59.86555099487305,-2.268537998199463],[-59.86555099487305,-2.268537998199463],[-59.86555099487305,-2.268537998199463],[-59.86555099487305,-2.268537998199463],[-59.86555099487305,-2.268537998199463],[-59.86555099487305,-2.268537998199463],[-59.86555099487305,-2.268537998199463],[-59.86555099487305,-2.268537998199463],[-59.86555099487305,-2.268537998199463],[-59.86555099487305,-2.268537998199463],[-59.86555099487305,-2.268537998199463],[-59.86555099487305,-2.268537998199463],[-59.88352966308594,-2.268539905548096],[-59.88352966308594,-2.30447244644165],[-59.88352966308594,-2.30447244644165],[-59.88352966308594,-2.30447244644165],[-59.88352966308594,-2.30447244644165],[-59.88352966308594,-2.30447244644165],[-59.88352966308594,-2.30447244644165],[-59.88352966308594,-2.30447244644165],[-59.88352966308594,-2.30447244644165],[-59.88352966308594,-2.30447244644165],[-59.88352966308594,-2.30447244644165],[-59.88352966308594,-2.30447244644165],[-59.88352966308594,-2.30447244644165],[-59.88352966308594,-2.30447244644165],[-59.88352966308594,-2.30447244644165],[-59.88352966308594,-2.30447244644165],[-59.88352966308594,-2.30447244644165],[-59.88352966308594,-2.30447244644165],[-59.91948699951172,-2.3044753074646]]],\"type\":\"Polygon\"},\"id\":\"('Fam_13', 92)\",\"properties\":{},\"type\":\"Feature\"}],\"type\":\"FeatureCollection\"},\"type\":\"line\"},{\"color\":\"red\",\"line\":{\"width\":1.5},\"name\":\"geom_40\",\"source\":{\"bbox\":[-59.95545196533203,-2.3044753074646,-59.86555862426758,-2.124809503555298],\"features\":[{\"bbox\":[-59.95545196533203,-2.3044753074646,-59.86555862426758,-2.124809503555298],\"geometry\":{\"coordinates\":[[[-59.91948699951172,-2.3044753074646],[-59.91948699951172,-2.3044753074646],[-59.91948699951172,-2.3044753074646],[-59.91948699951172,-2.3044753074646],[-59.91948699951172,-2.3044753074646],[-59.91948699951172,-2.3044753074646],[-59.91948699951172,-2.3044753074646],[-59.91948699951172,-2.3044753074646],[-59.91948699951172,-2.3044753074646],[-59.91948699951172,-2.3044753074646],[-59.91948699951172,-2.3044753074646],[-59.91948699951172,-2.3044753074646],[-59.91948699951172,-2.3044753074646],[-59.91948699951172,-2.3044753074646],[-59.91948699951172,-2.3044753074646],[-59.91948699951172,-2.3044753074646],[-59.91948699951172,-2.3044753074646],[-59.91949081420898,-2.268542528152466],[-59.93746948242188,-2.268543481826782],[-59.93746948242188,-2.268543481826782],[-59.93746948242188,-2.268543481826782],[-59.93746948242188,-2.268543481826782],[-59.93746948242188,-2.268543481826782],[-59.93746948242188,-2.268543481826782],[-59.93746948242188,-2.268543481826782],[-59.93746948242188,-2.268543481826782],[-59.93746948242188,-2.268543481826782],[-59.93746948242188,-2.268543481826782],[-59.93746948242188,-2.268543481826782],[-59.93746948242188,-2.268543481826782],[-59.93746948242188,-2.268543481826782],[-59.93746948242188,-2.268543481826782],[-59.93746948242188,-2.268543481826782],[-59.93746948242188,-2.268543481826782],[-59.93746948242188,-2.268543481826782],[-59.93746948242188,-2.250577211380005],[-59.93746948242188,-2.250577211380005],[-59.93746948242188,-2.250577211380005],[-59.93746948242188,-2.250577211380005],[-59.93746948242188,-2.250577211380005],[-59.93746948242188,-2.250577211380005],[-59.93746948242188,-2.250577211380005],[-59.93746948242188,-2.250577211380005],[-59.93746948242188,-2.250577211380005],[-59.93746948242188,-2.250577211380005],[-59.93746948242188,-2.250577211380005],[-59.93746948242188,-2.250577211380005],[-59.93746948242188,-2.250577211380005],[-59.93746948242188,-2.250577211380005],[-59.93746948242188,-2.250577211380005],[-59.93746948242188,-2.250577211380005],[-59.93746948242188,-2.250577211380005],[-59.91949081420898,-2.250576257705688],[-59.91949081420898,-2.232609987258911],[-59.93747329711914,-2.232610940933228],[-59.93747329711914,-2.232610940933228],[-59.93747329711914,-2.232610940933228],[-59.93747329711914,-2.232610940933228],[-59.93747329711914,-2.232610940933228],[-59.93747329711914,-2.232610940933228],[-59.93747329711914,-2.232610940933228],[-59.93747329711914,-2.232610940933228],[-59.93747329711914,-2.232610940933228],[-59.93747329711914,-2.232610940933228],[-59.93747329711914,-2.232610940933228],[-59.93747329711914,-2.232610940933228],[-59.93747329711914,-2.232610940933228],[-59.93747329711914,-2.232610940933228],[-59.93747329711914,-2.232610940933228],[-59.93747329711914,-2.232610940933228],[-59.93747329711914,-2.232610940933228],[-59.93747329711914,-2.196678400039673],[-59.95545196533203,-2.19667911529541],[-59.95545196533203,-2.19667911529541],[-59.95545196533203,-2.19667911529541],[-59.95545196533203,-2.19667911529541],[-59.95545196533203,-2.19667911529541],[-59.95545196533203,-2.19667911529541],[-59.95545196533203,-2.19667911529541],[-59.95545196533203,-2.19667911529541],[-59.95545196533203,-2.19667911529541],[-59.95545196533203,-2.19667911529541],[-59.95545196533203,-2.19667911529541],[-59.95545196533203,-2.19667911529541],[-59.95545196533203,-2.19667911529541],[-59.95545196533203,-2.19667911529541],[-59.95545196533203,-2.19667911529541],[-59.95545196533203,-2.19667911529541],[-59.95545196533203,-2.19667911529541],[-59.95545196533203,-2.160746574401855],[-59.95545196533203,-2.160746574401855],[-59.95545196533203,-2.160746574401855],[-59.95545196533203,-2.160746574401855],[-59.95545196533203,-2.160746574401855],[-59.95545196533203,-2.160746574401855],[-59.95545196533203,-2.160746574401855],[-59.95545196533203,-2.160746574401855],[-59.95545196533203,-2.160746574401855],[-59.95545196533203,-2.160746574401855],[-59.95545196533203,-2.160746574401855],[-59.95545196533203,-2.160746574401855],[-59.95545196533203,-2.160746574401855],[-59.95545196533203,-2.160746574401855],[-59.95545196533203,-2.160746574401855],[-59.95545196533203,-2.160746574401855],[-59.95545196533203,-2.160746574401855],[-59.91949462890625,-2.160744905471802],[-59.91949844360352,-2.142778396606445],[-59.91949844360352,-2.142778396606445],[-59.91949844360352,-2.142778396606445],[-59.91949844360352,-2.142778396606445],[-59.91949844360352,-2.142778396606445],[-59.91949844360352,-2.142778396606445],[-59.91949844360352,-2.142778396606445],[-59.91949844360352,-2.142778396606445],[-59.91949844360352,-2.142778396606445],[-59.91949844360352,-2.142778396606445],[-59.91949844360352,-2.142778396606445],[-59.91949844360352,-2.142778396606445],[-59.91949844360352,-2.142778396606445],[-59.91949844360352,-2.142778396606445],[-59.91949844360352,-2.142778396606445],[-59.91949844360352,-2.142778396606445],[-59.91949844360352,-2.142778396606445],[-59.90151977539062,-2.14277720451355],[-59.90151977539062,-2.124810934066772],[-59.90151977539062,-2.124810934066772],[-59.90151977539062,-2.124810934066772],[-59.90151977539062,-2.124810934066772],[-59.90151977539062,-2.124810934066772],[-59.90151977539062,-2.124810934066772],[-59.90151977539062,-2.124810934066772],[-59.90151977539062,-2.124810934066772],[-59.90151977539062,-2.124810934066772],[-59.90151977539062,-2.124810934066772],[-59.90151977539062,-2.124810934066772],[-59.90151977539062,-2.124810934066772],[-59.90151977539062,-2.124810934066772],[-59.90151977539062,-2.124810934066772],[-59.90151977539062,-2.124810934066772],[-59.90151977539062,-2.124810934066772],[-59.90151977539062,-2.124810934066772],[-59.883544921875,-2.124809503555298],[-59.883544921875,-2.124809503555298],[-59.883544921875,-2.124809503555298],[-59.883544921875,-2.124809503555298],[-59.883544921875,-2.124809503555298],[-59.883544921875,-2.124809503555298],[-59.883544921875,-2.124809503555298],[-59.883544921875,-2.124809503555298],[-59.883544921875,-2.124809503555298],[-59.883544921875,-2.124809503555298],[-59.883544921875,-2.124809503555298],[-59.883544921875,-2.124809503555298],[-59.883544921875,-2.124809503555298],[-59.883544921875,-2.124809503555298],[-59.883544921875,-2.124809503555298],[-59.883544921875,-2.124809503555298],[-59.883544921875,-2.124809503555298],[-59.88354110717773,-2.142775774002075],[-59.86556243896484,-2.142773866653442],[-59.86556243896484,-2.142773866653442],[-59.86556243896484,-2.142773866653442],[-59.86556243896484,-2.142773866653442],[-59.86556243896484,-2.142773866653442],[-59.86556243896484,-2.142773866653442],[-59.86556243896484,-2.142773866653442],[-59.86556243896484,-2.142773866653442],[-59.86556243896484,-2.142773866653442],[-59.86556243896484,-2.142773866653442],[-59.86556243896484,-2.142773866653442],[-59.86556243896484,-2.142773866653442],[-59.86556243896484,-2.142773866653442],[-59.86556243896484,-2.142773866653442],[-59.86556243896484,-2.142773866653442],[-59.86556243896484,-2.142773866653442],[-59.86556243896484,-2.142773866653442],[-59.86555862426758,-2.196672916412354],[-59.86555862426758,-2.196672916412354],[-59.86555862426758,-2.196672916412354],[-59.86555862426758,-2.196672916412354],[-59.86555862426758,-2.196672916412354],[-59.86555862426758,-2.196672916412354],[-59.86555862426758,-2.196672916412354],[-59.86555862426758,-2.196672916412354],[-59.86555862426758,-2.196672916412354],[-59.86555862426758,-2.196672916412354],[-59.86555862426758,-2.196672916412354],[-59.86555862426758,-2.196672916412354],[-59.86555862426758,-2.196672916412354],[-59.86555862426758,-2.196672916412354],[-59.86555862426758,-2.196672916412354],[-59.86555862426758,-2.196672916412354],[-59.86555862426758,-2.196672916412354],[-59.88353729248047,-2.196674585342407],[-59.8835334777832,-2.232607126235962],[-59.8835334777832,-2.232607126235962],[-59.8835334777832,-2.232607126235962],[-59.8835334777832,-2.232607126235962],[-59.8835334777832,-2.232607126235962],[-59.8835334777832,-2.232607126235962],[-59.8835334777832,-2.232607126235962],[-59.8835334777832,-2.232607126235962],[-59.8835334777832,-2.232607126235962],[-59.8835334777832,-2.232607126235962],[-59.8835334777832,-2.232607126235962],[-59.8835334777832,-2.232607126235962],[-59.8835334777832,-2.232607126235962],[-59.8835334777832,-2.232607126235962],[-59.8835334777832,-2.232607126235962],[-59.8835334777832,-2.232607126235962],[-59.8835334777832,-2.232607126235962],[-59.90151214599609,-2.232608795166016],[-59.90151214599609,-2.250575065612793],[-59.8835334777832,-2.250573396682739],[-59.8835334777832,-2.250573396682739],[-59.8835334777832,-2.250573396682739],[-59.8835334777832,-2.250573396682739],[-59.8835334777832,-2.250573396682739],[-59.8835334777832,-2.250573396682739],[-59.8835334777832,-2.250573396682739],[-59.8835334777832,-2.250573396682739],[-59.8835334777832,-2.250573396682739],[-59.8835334777832,-2.250573396682739],[-59.8835334777832,-2.250573396682739],[-59.8835334777832,-2.250573396682739],[-59.8835334777832,-2.250573396682739],[-59.8835334777832,-2.250573396682739],[-59.8835334777832,-2.250573396682739],[-59.8835334777832,-2.250573396682739],[-59.8835334777832,-2.250573396682739],[-59.88352966308594,-2.30447244644165],[-59.88352966308594,-2.30447244644165],[-59.88352966308594,-2.30447244644165],[-59.88352966308594,-2.30447244644165],[-59.88352966308594,-2.30447244644165],[-59.88352966308594,-2.30447244644165],[-59.88352966308594,-2.30447244644165],[-59.88352966308594,-2.30447244644165],[-59.88352966308594,-2.30447244644165],[-59.88352966308594,-2.30447244644165],[-59.88352966308594,-2.30447244644165],[-59.88352966308594,-2.30447244644165],[-59.88352966308594,-2.30447244644165],[-59.88352966308594,-2.30447244644165],[-59.88352966308594,-2.30447244644165],[-59.88352966308594,-2.30447244644165],[-59.88352966308594,-2.30447244644165],[-59.91948699951172,-2.3044753074646]]],\"type\":\"Polygon\"},\"id\":\"('Fam_13', 92)\",\"properties\":{},\"type\":\"Feature\"}],\"type\":\"FeatureCollection\"},\"type\":\"line\"},{\"color\":\"black\",\"line\":{\"width\":4},\"name\":\"Trajectory\",\"source\":{\"bbox\":[-59.84758377075195,-2.14277195930481,-59.77567672729492,-2.124794483184814],\"features\":[{\"bbox\":[-59.84758377075195,-2.14277195930481,-59.77567672729492,-2.124794483184814],\"geometry\":{\"coordinates\":[[-59.77567672729492,-2.124794483184814],[-59.84758377075195,-2.14277195930481]],\"type\":\"LineString\"},\"id\":\"('Fam_13', 92)\",\"properties\":{},\"type\":\"Feature\"}],\"type\":\"FeatureCollection\"},\"type\":\"line\"},{\"below\":\"traces\",\"coordinates\":[[-62.14714189584819,-5.295901131951463],[-57.83567670766743,-5.295901131951463],[-57.83567670766743,-1.0001668807629231],[-62.14714189584819,-1.0001668807629231]],\"source\":\"data:image/png;base64,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\",\"sourcetype\":\"image\"},{\"below\":\"traces\",\"coordinates\":[[-62.14714189584819,-5.295901131951463],[-57.83567670766743,-5.295901131951463],[-57.83567670766743,-1.0001668807629231],[-62.14714189584819,-1.0001668807629231]],\"source\":\"data:image/png;base64,iVBORw0KGgoAAAANSUhEUgAAAPEAAADxCAYAAAAay1EJAAACe0lEQVR4nO3dsU3DQBSA4TOCkpYhqCnYgZoBYAfEDAyQlgUQJTt4AoZgAiSKo0JYEU4g2HHeve+rgOqQ+PXubOOUAgAAAAAAAAAAAAAAAAAAAAAAAAAAAAAAAAAAAAAAAAAAAAAAAAAAAAAAAAAAAAAAAAAAAAAAAAAAAAAAAAAAAAAAAAAAAAAAAAAAQBwX7/3SSwD+S8iTOVp6ASQmZAju4r0XMgAAAAAAM7tb9eVu5Wr0xNwnZv+EPCkRAzBibPtsEkMgzsHQABEDAAAAAAAAAAAAAAAAAAAAAAAA0JKb59P+5vnUy/YgMhGP8wkQEJyIAQAAAAAAAAAAAAAAAAAAAAAAAACgCfXpzLuUIYL6dNYPg13/Hv6jW3oBGWwKtrt+u9znWmiPl8cvRLxMRcQL+ApYyExBxHsgVkiqPpz09eHEBTA2MokDGAv56+diz+146QWwm2HA3f2H7XpiJvEBG8b522lrIufjPnEAfwnTVM5HxEFsC1m8edlOB7EtUtvovETcCJM4L9vpgMamrpBzMokhOBGzVb0qztsHzMMejZhjKy3eGEQczPp5eK5zsIDjEPGO6u33H3n3WPZ2Qam7/7ic43bSMNru5fv3GX7NYXJ1ekdLRTyHn6aueOMwiSdQb0sfPeRShBuVSRzYcFvtHjEAAAAATavnpa/nHuRoiWenExFvm0SclKDbIeKkulcPdrRCxBCciJNY3z7bTrdDxAmMBSvkNog4MefiNvgHiER+mrxCjs8kTkLAAAAAAAAAAAAAAAAAAAAAAAAAAAAAAAAAAAAAAAAAAAAAAAAAAAAAAAAAAAAAAAAAAAAAAAAAAAAAAAAAu/sECXihqsrs3hAAAAAASUVORK5CYII=\",\"sourcetype\":\"image\"},{\"below\":\"traces\",\"coordinates\":[[-62.14714189584819,-5.295901131951463],[-57.83567670766743,-5.295901131951463],[-57.83567670766743,-1.0001668807629231],[-62.14714189584819,-1.0001668807629231]],\"source\":\"data:image/png;base64,iVBORw0KGgoAAAANSUhEUgAAAPEAAADxCAYAAAAay1EJAAACCUlEQVR4nO3bsW0CMQCGURuliMQMWYCa4iZImT2QMg5S9kjJBC5Ss0BmiESFUxGRKCcIBIzt9ypKU3z8d6cjBAAAAAAAAAAAAAAAAAAAAAAAAAAAAAAAAAAAAAAAAAAAAAAAAAAAAAAAAAAAAAAAAAAAAAAAAAAAAAAAAAAAAAAAAAAAAAAAAAAAAAAAAAAAAAAAgFsXSx+Ajsw36evz2/1Q8CTAyfZDBm7cfJNEC7UTMTRAyAAAAAAAAAAAAAAAAAAAAAAAAAAAAAAAAAAAAAAAAAAAAAAAAAAAAAAAAAC0Zbt6SKXPQLsmpQ/QCyFzKSK+ou3qIYmZ/ybiK5g8vg+lz0C7RHwlQoYO5eXUpTcHWWKAS8rLaRpbZEtNCJb45sXnjyGE8WCFTCx9AI5zTKy74OnLXekDcD7x9s3ldCWEyhgRQ+XcE1do7P7YWvfJEldIrOwTcYV+W2Jh90vEDRBw30RcOQEj4jPkRfC2FMV5On2i/YDjS6h6DfPT9x+j+Fr394Gj5UVI1hgAAAAAAA7Js5DyzBP1lnjZAyon4o5YYGiAkNtjiTuyC1jIbRExVE7Enfi5vta4HSKGyom4E3Edhrj2F0NogktpAAAAAAAAAAAAAAAAAAAAAAAAAAAAAAAAAAAAAAAAAAAAAAAAAAAAAAAAAAAAAAAAAAAAAAAAAAAAAACAv/kE+rVeVlIdrKIAAAAASUVORK5CYII=\",\"sourcetype\":\"image\"},{\"below\":\"traces\",\"coordinates\":[[-62.14714189584819,-5.295901131951463],[-57.83567670766743,-5.295901131951463],[-57.83567670766743,-1.0001668807629231],[-62.14714189584819,-1.0001668807629231]],\"source\":\"data:image/png;base64,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\",\"sourcetype\":\"image\"}]],\"label\":\"All\",\"method\":\"relayout\"},{\"args\":[\"mapbox.layers\",[{\"below\":\"traces\",\"coordinates\":[[-62.14714189584819,-5.295901131951463],[-57.83567670766743,-5.295901131951463],[-57.83567670766743,-1.0001668807629231],[-62.14714189584819,-1.0001668807629231]],\"source\":\"data:image/png;base64,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\",\"sourcetype\":\"image\"}]],\"label\":\"Clusters 20 dBZ\",\"method\":\"relayout\"},{\"args\":[\"mapbox.layers\",[{\"below\":\"traces\",\"coordinates\":[[-62.14714189584819,-5.295901131951463],[-57.83567670766743,-5.295901131951463],[-57.83567670766743,-1.0001668807629231],[-62.14714189584819,-1.0001668807629231]],\"source\":\"data:image/png;base64,iVBORw0KGgoAAAANSUhEUgAAAPEAAADxCAYAAAAay1EJAAACe0lEQVR4nO3dsU3DQBSA4TOCkpYhqCnYgZoBYAfEDAyQlgUQJTt4AoZgAiSKo0JYEU4g2HHeve+rgOqQ+PXubOOUAgAAAAAAAAAAAAAAAAAAAAAAAAAAAAAAAAAAAAAAAAAAAAAAAAAAAAAAAAAAAAAAAAAAAAAAAAAAAAAAAAAAAAAAAAAAAAAAAAAAQBwX7/3SSwD+S8iTOVp6ASQmZAju4r0XMgAAAAAAM7tb9eVu5Wr0xNwnZv+EPCkRAzBibPtsEkMgzsHQABEDAAAAAAAAAAAAAAAAAAAAAAAA0JKb59P+5vnUy/YgMhGP8wkQEJyIAQAAAAAAAAAAAAAAAAAAAAAAAACgCfXpzLuUIYL6dNYPg13/Hv6jW3oBGWwKtrt+u9znWmiPl8cvRLxMRcQL+ApYyExBxHsgVkiqPpz09eHEBTA2MokDGAv56+diz+146QWwm2HA3f2H7XpiJvEBG8b522lrIufjPnEAfwnTVM5HxEFsC1m8edlOB7EtUtvovETcCJM4L9vpgMamrpBzMokhOBGzVb0qztsHzMMejZhjKy3eGEQczPp5eK5zsIDjEPGO6u33H3n3WPZ2Qam7/7ic43bSMNru5fv3GX7NYXJ1ekdLRTyHn6aueOMwiSdQb0sfPeRShBuVSRzYcFvtHjEAAAAATavnpa/nHuRoiWenExFvm0SclKDbIeKkulcPdrRCxBCciJNY3z7bTrdDxAmMBSvkNog4MefiNvgHiER+mrxCjs8kTkLAAAAAAAAAAAAAAAAAAAAAAAAAAAAAAAAAAAAAAAAAAAAAAAAAAAAAAAAAAAAAAAAAAAAAAAAAAAAAAAAAu/sECXihqsrs3hAAAAAASUVORK5CYII=\",\"sourcetype\":\"image\"}]],\"label\":\"Clusters 35 dBZ\",\"method\":\"relayout\"},{\"args\":[\"mapbox.layers\",[{\"below\":\"traces\",\"coordinates\":[[-62.14714189584819,-5.295901131951463],[-57.83567670766743,-5.295901131951463],[-57.83567670766743,-1.0001668807629231],[-62.14714189584819,-1.0001668807629231]],\"source\":\"data:image/png;base64,iVBORw0KGgoAAAANSUhEUgAAAPEAAADxCAYAAAAay1EJAAACCUlEQVR4nO3bsW0CMQCGURuliMQMWYCa4iZImT2QMg5S9kjJBC5Ss0BmiESFUxGRKCcIBIzt9ypKU3z8d6cjBAAAAAAAAAAAAAAAAAAAAAAAAAAAAAAAAAAAAAAAAAAAAAAAAAAAAAAAAAAAAAAAAAAAAAAAAAAAAAAAAAAAAAAAAAAAAAAAAAAAAAAAAAAAAAAAgFsXSx+Ajsw36evz2/1Q8CTAyfZDBm7cfJNEC7UTMTRAyAAAAAAAAAAAAAAAAAAAAAAAAAAAAAAAAAAAAAAAAAAAAAAAAAAAAAAAAAC0Zbt6SKXPQLsmpQ/QCyFzKSK+ou3qIYmZ/ybiK5g8vg+lz0C7RHwlQoYO5eXUpTcHWWKAS8rLaRpbZEtNCJb45sXnjyGE8WCFTCx9AI5zTKy74OnLXekDcD7x9s3ldCWEyhgRQ+XcE1do7P7YWvfJEldIrOwTcYV+W2Jh90vEDRBw30RcOQEj4jPkRfC2FMV5On2i/YDjS6h6DfPT9x+j+Fr394Gj5UVI1hgAAAAAAA7Js5DyzBP1lnjZAyon4o5YYGiAkNtjiTuyC1jIbRExVE7Enfi5vta4HSKGyom4E3Edhrj2F0NogktpAAAAAAAAAAAAAAAAAAAAAAAAAAAAAAAAAAAAAAAAAAAAAAAAAAAAAAAAAAAAAAAAAAAAAAAAAAAAAACAv/kE+rVeVlIdrKIAAAAASUVORK5CYII=\",\"sourcetype\":\"image\"}]],\"label\":\"Clusters 40 dBZ\",\"method\":\"relayout\"},{\"args\":[\"mapbox.layers\",[{\"color\":\"gray\",\"line\":{\"width\":1.5},\"name\":\"geom_20\",\"source\":{\"bbox\":[-59.99140930175781,-2.322441577911377,-59.64983749389648,-1.9990154504776],\"features\":[{\"bbox\":[-59.99140930175781,-2.322441577911377,-59.64983749389648,-1.9990154504776],\"geometry\":{\"coordinates\":[[[-59.91948699951172,-2.322441577911377],[-59.91948699951172,-2.322441577911377],[-59.91948699951172,-2.322441577911377],[-59.91948699951172,-2.322441577911377],[-59.91948699951172,-2.322441577911377],[-59.91948699951172,-2.322441577911377],[-59.91948699951172,-2.322441577911377],[-59.91948699951172,-2.322441577911377],[-59.91948699951172,-2.322441577911377],[-59.91948699951172,-2.322441577911377],[-59.91948699951172,-2.322441577911377],[-59.91948699951172,-2.322441577911377],[-59.91948699951172,-2.322441577911377],[-59.91948699951172,-2.322441577911377],[-59.91948699951172,-2.322441577911377],[-59.91948699951172,-2.322441577911377],[-59.91948699951172,-2.322441577911377],[-59.91948699951172,-2.3044753074646],[-59.95544815063477,-2.304476976394653],[-59.95544815063477,-2.304476976394653],[-59.95544815063477,-2.304476976394653],[-59.95544815063477,-2.304476976394653],[-59.95544815063477,-2.304476976394653],[-59.95544815063477,-2.304476976394653],[-59.95544815063477,-2.304476976394653],[-59.95544815063477,-2.304476976394653],[-59.95544815063477,-2.304476976394653],[-59.95544815063477,-2.304476976394653],[-59.95544815063477,-2.304476976394653],[-59.95544815063477,-2.304476976394653],[-59.95544815063477,-2.304476976394653],[-59.95544815063477,-2.304476976394653],[-59.95544815063477,-2.304476976394653],[-59.95544815063477,-2.304476976394653],[-59.95544815063477,-2.304476976394653],[-59.95544815063477,-2.286510705947876],[-59.97343063354492,-2.286510944366455],[-59.97343063354492,-2.286510944366455],[-59.97343063354492,-2.286510944366455],[-59.97343063354492,-2.286510944366455],[-59.97343063354492,-2.286510944366455],[-59.97343063354492,-2.286510944366455],[-59.97343063354492,-2.286510944366455],[-59.97343063354492,-2.286510944366455],[-59.97343063354492,-2.286510944366455],[-59.97343063354492,-2.286510944366455],[-59.97343063354492,-2.286510944366455],[-59.97343063354492,-2.286510944366455],[-59.97343063354492,-2.286510944366455],[-59.97343063354492,-2.286510944366455],[-59.97343063354492,-2.286510944366455],[-59.97343063354492,-2.286510944366455],[-59.97343063354492,-2.286510944366455],[-59.97343063354492,-2.232612133026123],[-59.97343063354492,-2.232612133026123],[-59.97343063354492,-2.232612133026123],[-59.97343063354492,-2.232612133026123],[-59.97343063354492,-2.232612133026123],[-59.97343063354492,-2.232612133026123],[-59.97343063354492,-2.232612133026123],[-59.97343063354492,-2.232612133026123],[-59.97343063354492,-2.232612133026123],[-59.97343063354492,-2.232612133026123],[-59.97343063354492,-2.232612133026123],[-59.97343063354492,-2.232612133026123],[-59.97343063354492,-2.232612133026123],[-59.97343063354492,-2.232612133026123],[-59.97343063354492,-2.232612133026123],[-59.97343063354492,-2.232612133026123],[-59.97343063354492,-2.232612133026123],[-59.95545196533203,-2.232611656188965],[-59.95545196533203,-2.214645385742188],[-59.99140930175781,-2.214645862579346],[-59.99140930175781,-2.214645862579346],[-59.99140930175781,-2.214645862579346],[-59.99140930175781,-2.214645862579346],[-59.99140930175781,-2.214645862579346],[-59.99140930175781,-2.214645862579346],[-59.99140930175781,-2.214645862579346],[-59.99140930175781,-2.214645862579346],[-59.99140930175781,-2.214645862579346],[-59.99140930175781,-2.214645862579346],[-59.99140930175781,-2.214645862579346],[-59.99140930175781,-2.214645862579346],[-59.99140930175781,-2.214645862579346],[-59.99140930175781,-2.214645862579346],[-59.99140930175781,-2.214645862579346],[-59.99140930175781,-2.214645862579346],[-59.99140930175781,-2.214645862579346],[-59.99140930175781,-2.124814510345459],[-59.99140930175781,-2.124814510345459],[-59.99140930175781,-2.124814510345459],[-59.99140930175781,-2.124814510345459],[-59.99140930175781,-2.124814510345459],[-59.99140930175781,-2.124814510345459],[-59.99140930175781,-2.124814510345459],[-59.99140930175781,-2.124814510345459],[-59.99140930175781,-2.124814510345459],[-59.99140930175781,-2.124814510345459],[-59.99140930175781,-2.124814510345459],[-59.99140930175781,-2.124814510345459],[-59.99140930175781,-2.124814510345459],[-59.99140930175781,-2.124814510345459],[-59.99140930175781,-2.124814510345459],[-59.99140930175781,-2.124814510345459],[-59.99140930175781,-2.124814510345459],[-59.97343063354492,-2.12481427192688],[-59.97343063354492,-2.106848001480103],[-59.97343063354492,-2.106848001480103],[-59.97343063354492,-2.106848001480103],[-59.97343063354492,-2.106848001480103],[-59.97343063354492,-2.106848001480103],[-59.97343063354492,-2.106848001480103],[-59.97343063354492,-2.106848001480103],[-59.97343063354492,-2.106848001480103],[-59.97343063354492,-2.106848001480103],[-59.97343063354492,-2.106848001480103],[-59.97343063354492,-2.106848001480103],[-59.97343063354492,-2.106848001480103],[-59.97343063354492,-2.106848001480103],[-59.97343063354492,-2.106848001480103],[-59.97343063354492,-2.106848001480103],[-59.97343063354492,-2.106848001480103],[-59.97343063354492,-2.106848001480103],[-59.9554557800293,-2.106847524642944],[-59.9554557800293,-2.07091498374939],[-59.97343063354492,-2.070915460586548],[-59.97343063354492,-2.070915460586548],[-59.97343063354492,-2.070915460586548],[-59.97343063354492,-2.070915460586548],[-59.97343063354492,-2.070915460586548],[-59.97343063354492,-2.070915460586548],[-59.97343063354492,-2.070915460586548],[-59.97343063354492,-2.070915460586548],[-59.97343063354492,-2.070915460586548],[-59.97343063354492,-2.070915460586548],[-59.97343063354492,-2.070915460586548],[-59.97343063354492,-2.070915460586548],[-59.97343063354492,-2.070915460586548],[-59.97343063354492,-2.070915460586548],[-59.97343063354492,-2.070915460586548],[-59.97343063354492,-2.070915460586548],[-59.97343063354492,-2.070915460586548],[-59.97343444824219,-2.052948951721191],[-59.97343444824219,-2.052948951721191],[-59.97343444824219,-2.052948951721191],[-59.97343444824219,-2.052948951721191],[-59.97343444824219,-2.052948951721191],[-59.97343444824219,-2.052948951721191],[-59.97343444824219,-2.052948951721191],[-59.97343444824219,-2.052948951721191],[-59.97343444824219,-2.052948951721191],[-59.97343444824219,-2.052948951721191],[-59.97343444824219,-2.052948951721191],[-59.97343444824219,-2.052948951721191],[-59.97343444824219,-2.052948951721191],[-59.97343444824219,-2.052948951721191],[-59.97343444824219,-2.052948951721191],[-59.97343444824219,-2.052948951721191],[-59.97343444824219,-2.052948951721191],[-59.90152740478516,-2.052945852279663],[-59.90152740478516,-2.034979581832886],[-59.90152740478516,-2.034979581832886],[-59.90152740478516,-2.034979581832886],[-59.90152740478516,-2.034979581832886],[-59.90152740478516,-2.034979581832886],[-59.90152740478516,-2.034979581832886],[-59.90152740478516,-2.034979581832886],[-59.90152740478516,-2.034979581832886],[-59.90152740478516,-2.034979581832886],[-59.90152740478516,-2.034979581832886],[-59.90152740478516,-2.034979581832886],[-59.90152740478516,-2.034979581832886],[-59.90152740478516,-2.034979581832886],[-59.90152740478516,-2.034979581832886],[-59.90152740478516,-2.034979581832886],[-59.90152740478516,-2.034979581832886],[-59.90152740478516,-2.034979581832886],[-59.84759902954102,-2.034974098205566],[-59.84760284423828,-1.999041557312012],[-59.84760284423828,-1.999041557312012],[-59.84760284423828,-1.999041557312012],[-59.84760284423828,-1.999041557312012],[-59.84760284423828,-1.999041557312012],[-59.84760284423828,-1.999041557312012],[-59.84760284423828,-1.999041557312012],[-59.84760284423828,-1.999041557312012],[-59.84760284423828,-1.999041557312012],[-59.84760284423828,-1.999041557312012],[-59.84760284423828,-1.999041557312012],[-59.84760284423828,-1.999041557312012],[-59.84760284423828,-1.999041557312012],[-59.84760284423828,-1.999041557312012],[-59.84760284423828,-1.999041557312012],[-59.84760284423828,-1.999041557312012],[-59.84760284423828,-1.999041557312012],[-59.70379257202148,-1.9990154504776],[-59.70379257202148,-1.9990154504776],[-59.70379257202148,-1.9990154504776],[-59.70379257202148,-1.9990154504776],[-59.70379257202148,-1.9990154504776],[-59.70379257202148,-1.9990154504776],[-59.70379257202148,-1.9990154504776],[-59.70379257202148,-1.9990154504776],[-59.70379257202148,-1.9990154504776],[-59.70379257202148,-1.9990154504776],[-59.70379257202148,-1.9990154504776],[-59.70379257202148,-1.9990154504776],[-59.70379257202148,-1.9990154504776],[-59.70379257202148,-1.9990154504776],[-59.70379257202148,-1.9990154504776],[-59.70379257202148,-1.9990154504776],[-59.70379257202148,-1.9990154504776],[-59.70378875732422,-2.016981601715088],[-59.68581390380859,-2.016977071762085],[-59.68581390380859,-2.016977071762085],[-59.68581390380859,-2.016977071762085],[-59.68581390380859,-2.016977071762085],[-59.68581390380859,-2.016977071762085],[-59.68581390380859,-2.016977071762085],[-59.68581390380859,-2.016977071762085],[-59.68581390380859,-2.016977071762085],[-59.68581390380859,-2.016977071762085],[-59.68581390380859,-2.016977071762085],[-59.68581390380859,-2.016977071762085],[-59.68581390380859,-2.016977071762085],[-59.68581390380859,-2.016977071762085],[-59.68581390380859,-2.016977071762085],[-59.68581390380859,-2.016977071762085],[-59.68581390380859,-2.016977071762085],[-59.68581390380859,-2.016977071762085],[-59.68581008911133,-2.034943342208862],[-59.66783142089844,-2.03493857383728],[-59.66783142089844,-2.03493857383728],[-59.66783142089844,-2.03493857383728],[-59.66783142089844,-2.03493857383728],[-59.66783142089844,-2.03493857383728],[-59.66783142089844,-2.03493857383728],[-59.66783142089844,-2.03493857383728],[-59.66783142089844,-2.03493857383728],[-59.66783142089844,-2.03493857383728],[-59.66783142089844,-2.03493857383728],[-59.66783142089844,-2.03493857383728],[-59.66783142089844,-2.03493857383728],[-59.66783142089844,-2.03493857383728],[-59.66783142089844,-2.03493857383728],[-59.66783142089844,-2.03493857383728],[-59.66783142089844,-2.03493857383728],[-59.66783142089844,-2.03493857383728],[-59.66782760620117,-2.052904844284058],[-59.64985275268555,-2.052899837493896],[-59.64985275268555,-2.052899837493896],[-59.64985275268555,-2.052899837493896],[-59.64985275268555,-2.052899837493896],[-59.64985275268555,-2.052899837493896],[-59.64985275268555,-2.052899837493896],[-59.64985275268555,-2.052899837493896],[-59.64985275268555,-2.052899837493896],[-59.64985275268555,-2.052899837493896],[-59.64985275268555,-2.052899837493896],[-59.64985275268555,-2.052899837493896],[-59.64985275268555,-2.052899837493896],[-59.64985275268555,-2.052899837493896],[-59.64985275268555,-2.052899837493896],[-59.64985275268555,-2.052899837493896],[-59.64985275268555,-2.052899837493896],[-59.64985275268555,-2.052899837493896],[-59.64984512329102,-2.070865869522095],[-59.64984512329102,-2.070865869522095],[-59.64984512329102,-2.070865869522095],[-59.64984512329102,-2.070865869522095],[-59.64984512329102,-2.070865869522095],[-59.64984512329102,-2.070865869522095],[-59.64984512329102,-2.070865869522095],[-59.64984512329102,-2.070865869522095],[-59.64984512329102,-2.070865869522095],[-59.64984512329102,-2.070865869522095],[-59.64984512329102,-2.070865869522095],[-59.64984512329102,-2.070865869522095],[-59.64984512329102,-2.070865869522095],[-59.64984512329102,-2.070865869522095],[-59.64984512329102,-2.070865869522095],[-59.64984512329102,-2.070865869522095],[-59.64984512329102,-2.070865869522095],[-59.66782379150391,-2.070871114730835],[-59.66781997680664,-2.088837146759033],[-59.64984130859375,-2.088832139968872],[-59.64984130859375,-2.088832139968872],[-59.64984130859375,-2.088832139968872],[-59.64984130859375,-2.088832139968872],[-59.64984130859375,-2.088832139968872],[-59.64984130859375,-2.088832139968872],[-59.64984130859375,-2.088832139968872],[-59.64984130859375,-2.088832139968872],[-59.64984130859375,-2.088832139968872],[-59.64984130859375,-2.088832139968872],[-59.64984130859375,-2.088832139968872],[-59.64984130859375,-2.088832139968872],[-59.64984130859375,-2.088832139968872],[-59.64984130859375,-2.088832139968872],[-59.64984130859375,-2.088832139968872],[-59.64984130859375,-2.088832139968872],[-59.64984130859375,-2.088832139968872],[-59.64983749389648,-2.106798410415649],[-59.64983749389648,-2.106798410415649],[-59.64983749389648,-2.106798410415649],[-59.64983749389648,-2.106798410415649],[-59.64983749389648,-2.106798410415649],[-59.64983749389648,-2.106798410415649],[-59.64983749389648,-2.106798410415649],[-59.64983749389648,-2.106798410415649],[-59.64983749389648,-2.106798410415649],[-59.64983749389648,-2.106798410415649],[-59.64983749389648,-2.106798410415649],[-59.64983749389648,-2.106798410415649],[-59.64983749389648,-2.106798410415649],[-59.64983749389648,-2.106798410415649],[-59.64983749389648,-2.106798410415649],[-59.64983749389648,-2.106798410415649],[-59.64983749389648,-2.106798410415649],[-59.685791015625,-2.106808185577393],[-59.685791015625,-2.106808185577393],[-59.685791015625,-2.106808185577393],[-59.685791015625,-2.106808185577393],[-59.685791015625,-2.106808185577393],[-59.685791015625,-2.106808185577393],[-59.685791015625,-2.106808185577393],[-59.685791015625,-2.106808185577393],[-59.685791015625,-2.106808185577393],[-59.685791015625,-2.106808185577393],[-59.685791015625,-2.106808185577393],[-59.685791015625,-2.106808185577393],[-59.685791015625,-2.106808185577393],[-59.685791015625,-2.106808185577393],[-59.685791015625,-2.106808185577393],[-59.685791015625,-2.106808185577393],[-59.685791015625,-2.106808185577393],[-59.68579483032227,-2.088842153549194],[-59.73972702026367,-2.088854789733887],[-59.73972320556641,-2.106821060180664],[-59.73972320556641,-2.106821060180664],[-59.73972320556641,-2.106821060180664],[-59.73972320556641,-2.106821060180664],[-59.73972320556641,-2.106821060180664],[-59.73972320556641,-2.106821060180664],[-59.73972320556641,-2.106821060180664],[-59.73972320556641,-2.106821060180664],[-59.73972320556641,-2.106821060180664],[-59.73972320556641,-2.106821060180664],[-59.73972320556641,-2.106821060180664],[-59.73972320556641,-2.106821060180664],[-59.73972320556641,-2.106821060180664],[-59.73972320556641,-2.106821060180664],[-59.73972320556641,-2.106821060180664],[-59.73972320556641,-2.106821060180664],[-59.73972320556641,-2.106821060180664],[-59.77568054199219,-2.106828212738037],[-59.77568054199219,-2.106828212738037],[-59.77568054199219,-2.106828212738037],[-59.77568054199219,-2.106828212738037],[-59.77568054199219,-2.106828212738037],[-59.77568054199219,-2.106828212738037],[-59.77568054199219,-2.106828212738037],[-59.77568054199219,-2.106828212738037],[-59.77568054199219,-2.106828212738037],[-59.77568054199219,-2.106828212738037],[-59.77568054199219,-2.106828212738037],[-59.77568054199219,-2.106828212738037],[-59.77568054199219,-2.106828212738037],[-59.77568054199219,-2.106828212738037],[-59.77568054199219,-2.106828212738037],[-59.77568054199219,-2.106828212738037],[-59.77568054199219,-2.106828212738037],[-59.77568435668945,-2.08886194229126],[-59.79365921020508,-2.088865280151367],[-59.79365539550781,-2.106831550598145],[-59.79365539550781,-2.106831550598145],[-59.79365539550781,-2.106831550598145],[-59.79365539550781,-2.106831550598145],[-59.79365539550781,-2.106831550598145],[-59.79365539550781,-2.106831550598145],[-59.79365539550781,-2.106831550598145],[-59.79365539550781,-2.106831550598145],[-59.79365539550781,-2.106831550598145],[-59.79365539550781,-2.106831550598145],[-59.79365539550781,-2.106831550598145],[-59.79365539550781,-2.106831550598145],[-59.79365539550781,-2.106831550598145],[-59.79365539550781,-2.106831550598145],[-59.79365539550781,-2.106831550598145],[-59.79365539550781,-2.106831550598145],[-59.79365539550781,-2.106831550598145],[-59.84759140014648,-2.106839179992676],[-59.84758377075195,-2.14277195930481],[-59.81163024902344,-2.142766952514648],[-59.81163024902344,-2.142766952514648],[-59.81163024902344,-2.142766952514648],[-59.81163024902344,-2.142766952514648],[-59.81163024902344,-2.142766952514648],[-59.81163024902344,-2.142766952514648],[-59.81163024902344,-2.142766952514648],[-59.81163024902344,-2.142766952514648],[-59.81163024902344,-2.142766952514648],[-59.81163024902344,-2.142766952514648],[-59.81163024902344,-2.142766952514648],[-59.81163024902344,-2.142766952514648],[-59.81163024902344,-2.142766952514648],[-59.81163024902344,-2.142766952514648],[-59.81163024902344,-2.142766952514648],[-59.81163024902344,-2.142766952514648],[-59.81163024902344,-2.142766952514648],[-59.81162643432617,-2.178699493408203],[-59.73971176147461,-2.178686141967773],[-59.73971176147461,-2.178686141967773],[-59.73971176147461,-2.178686141967773],[-59.73971176147461,-2.178686141967773],[-59.73971176147461,-2.178686141967773],[-59.73971176147461,-2.178686141967773],[-59.73971176147461,-2.178686141967773],[-59.73971176147461,-2.178686141967773],[-59.73971176147461,-2.178686141967773],[-59.73971176147461,-2.178686141967773],[-59.73971176147461,-2.178686141967773],[-59.73971176147461,-2.178686141967773],[-59.73971176147461,-2.178686141967773],[-59.73971176147461,-2.178686141967773],[-59.73971176147461,-2.178686141967773],[-59.73971176147461,-2.178686141967773],[-59.73971176147461,-2.178686141967773],[-59.73970794677734,-2.196652412414551],[-59.70375061035156,-2.196644067764282],[-59.70375061035156,-2.196644067764282],[-59.70375061035156,-2.196644067764282],[-59.70375061035156,-2.196644067764282],[-59.70375061035156,-2.196644067764282],[-59.70375061035156,-2.196644067764282],[-59.70375061035156,-2.196644067764282],[-59.70375061035156,-2.196644067764282],[-59.70375061035156,-2.196644067764282],[-59.70375061035156,-2.196644067764282],[-59.70375061035156,-2.196644067764282],[-59.70375061035156,-2.196644067764282],[-59.70375061035156,-2.196644067764282],[-59.70375061035156,-2.196644067764282],[-59.70375061035156,-2.196644067764282],[-59.70375061035156,-2.196644067764282],[-59.70375061035156,-2.196644067764282],[-59.7037467956543,-2.21461009979248],[-59.7037467956543,-2.21461009979248],[-59.7037467956543,-2.21461009979248],[-59.7037467956543,-2.21461009979248],[-59.7037467956543,-2.21461009979248],[-59.7037467956543,-2.21461009979248],[-59.7037467956543,-2.21461009979248],[-59.7037467956543,-2.21461009979248],[-59.7037467956543,-2.21461009979248],[-59.7037467956543,-2.21461009979248],[-59.7037467956543,-2.21461009979248],[-59.7037467956543,-2.21461009979248],[-59.7037467956543,-2.21461009979248],[-59.7037467956543,-2.21461009979248],[-59.7037467956543,-2.21461009979248],[-59.7037467956543,-2.21461009979248],[-59.7037467956543,-2.21461009979248],[-59.79364013671875,-2.214628934860229],[-59.79364013671875,-2.214628934860229],[-59.79364013671875,-2.214628934860229],[-59.79364013671875,-2.214628934860229],[-59.79364013671875,-2.214628934860229],[-59.79364013671875,-2.214628934860229],[-59.79364013671875,-2.214628934860229],[-59.79364013671875,-2.214628934860229],[-59.79364013671875,-2.214628934860229],[-59.79364013671875,-2.214628934860229],[-59.79364013671875,-2.214628934860229],[-59.79364013671875,-2.214628934860229],[-59.79364013671875,-2.214628934860229],[-59.79364013671875,-2.214628934860229],[-59.79364013671875,-2.214628934860229],[-59.79364013671875,-2.214628934860229],[-59.79364013671875,-2.214628934860229],[-59.79364395141602,-2.196662664413452],[-59.8296012878418,-2.196668386459351],[-59.82959747314453,-2.214634656906128],[-59.82959747314453,-2.214634656906128],[-59.82959747314453,-2.214634656906128],[-59.82959747314453,-2.214634656906128],[-59.82959747314453,-2.214634656906128],[-59.82959747314453,-2.214634656906128],[-59.82959747314453,-2.214634656906128],[-59.82959747314453,-2.214634656906128],[-59.82959747314453,-2.214634656906128],[-59.82959747314453,-2.214634656906128],[-59.82959747314453,-2.214634656906128],[-59.82959747314453,-2.214634656906128],[-59.82959747314453,-2.214634656906128],[-59.82959747314453,-2.214634656906128],[-59.82959747314453,-2.214634656906128],[-59.82959747314453,-2.214634656906128],[-59.82959747314453,-2.214634656906128],[-59.84757614135742,-2.214637041091919],[-59.84757232666016,-2.250569581985474],[-59.82959365844727,-2.250567197799683],[-59.82959365844727,-2.250567197799683],[-59.82959365844727,-2.250567197799683],[-59.82959365844727,-2.250567197799683],[-59.82959365844727,-2.250567197799683],[-59.82959365844727,-2.250567197799683],[-59.82959365844727,-2.250567197799683],[-59.82959365844727,-2.250567197799683],[-59.82959365844727,-2.250567197799683],[-59.82959365844727,-2.250567197799683],[-59.82959365844727,-2.250567197799683],[-59.82959365844727,-2.250567197799683],[-59.82959365844727,-2.250567197799683],[-59.82959365844727,-2.250567197799683],[-59.82959365844727,-2.250567197799683],[-59.82959365844727,-2.250567197799683],[-59.82959365844727,-2.250567197799683],[-59.82959365844727,-2.26853346824646],[-59.82959365844727,-2.26853346824646],[-59.82959365844727,-2.26853346824646],[-59.82959365844727,-2.26853346824646],[-59.82959365844727,-2.26853346824646],[-59.82959365844727,-2.26853346824646],[-59.82959365844727,-2.26853346824646],[-59.82959365844727,-2.26853346824646],[-59.82959365844727,-2.26853346824646],[-59.82959365844727,-2.26853346824646],[-59.82959365844727,-2.26853346824646],[-59.82959365844727,-2.26853346824646],[-59.82959365844727,-2.26853346824646],[-59.82959365844727,-2.26853346824646],[-59.82959365844727,-2.26853346824646],[-59.82959365844727,-2.26853346824646],[-59.82959365844727,-2.26853346824646],[-59.84757232666016,-2.268535852432251],[-59.84756851196289,-2.304468393325806],[-59.84756851196289,-2.304468393325806],[-59.84756851196289,-2.304468393325806],[-59.84756851196289,-2.304468393325806],[-59.84756851196289,-2.304468393325806],[-59.84756851196289,-2.304468393325806],[-59.84756851196289,-2.304468393325806],[-59.84756851196289,-2.304468393325806],[-59.84756851196289,-2.304468393325806],[-59.84756851196289,-2.304468393325806],[-59.84756851196289,-2.304468393325806],[-59.84756851196289,-2.304468393325806],[-59.84756851196289,-2.304468393325806],[-59.84756851196289,-2.304468393325806],[-59.84756851196289,-2.304468393325806],[-59.84756851196289,-2.304468393325806],[-59.84756851196289,-2.304468393325806],[-59.88352966308594,-2.30447244644165],[-59.88352584838867,-2.322438716888428],[-59.88352584838867,-2.322438716888428],[-59.88352584838867,-2.322438716888428],[-59.88352584838867,-2.322438716888428],[-59.88352584838867,-2.322438716888428],[-59.88352584838867,-2.322438716888428],[-59.88352584838867,-2.322438716888428],[-59.88352584838867,-2.322438716888428],[-59.88352584838867,-2.322438716888428],[-59.88352584838867,-2.322438716888428],[-59.88352584838867,-2.322438716888428],[-59.88352584838867,-2.322438716888428],[-59.88352584838867,-2.322438716888428],[-59.88352584838867,-2.322438716888428],[-59.88352584838867,-2.322438716888428],[-59.88352584838867,-2.322438716888428],[-59.88352584838867,-2.322438716888428],[-59.91948699951172,-2.322441577911377]]],\"type\":\"Polygon\"},\"id\":\"('Fam_13', 92)\",\"properties\":{},\"type\":\"Feature\"}],\"type\":\"FeatureCollection\"},\"type\":\"line\"},{\"below\":\"traces\",\"coordinates\":[[-62.14714189584819,-5.295901131951463],[-57.83567670766743,-5.295901131951463],[-57.83567670766743,-1.0001668807629231],[-62.14714189584819,-1.0001668807629231]],\"source\":\"data:image/png;base64,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\",\"sourcetype\":\"image\"}]],\"label\":\"Geometries 20 dBZ\",\"method\":\"relayout\"},{\"args\":[\"mapbox.layers\",[{\"color\":\"blue\",\"line\":{\"width\":1.5},\"name\":\"geom_35\",\"source\":{\"bbox\":[-59.97343063354492,-2.3044753074646,-59.84757995605469,-2.124807596206665],\"features\":[{\"bbox\":[-59.97343063354492,-2.3044753074646,-59.84757995605469,-2.124807596206665],\"geometry\":{\"coordinates\":[[[-59.91948699951172,-2.3044753074646],[-59.91948699951172,-2.3044753074646],[-59.91948699951172,-2.3044753074646],[-59.91948699951172,-2.3044753074646],[-59.91948699951172,-2.3044753074646],[-59.91948699951172,-2.3044753074646],[-59.91948699951172,-2.3044753074646],[-59.91948699951172,-2.3044753074646],[-59.91948699951172,-2.3044753074646],[-59.91948699951172,-2.3044753074646],[-59.91948699951172,-2.3044753074646],[-59.91948699951172,-2.3044753074646],[-59.91948699951172,-2.3044753074646],[-59.91948699951172,-2.3044753074646],[-59.91948699951172,-2.3044753074646],[-59.91948699951172,-2.3044753074646],[-59.91948699951172,-2.3044753074646],[-59.91949081420898,-2.286508798599243],[-59.93746948242188,-2.286509990692139],[-59.93746948242188,-2.286509990692139],[-59.93746948242188,-2.286509990692139],[-59.93746948242188,-2.286509990692139],[-59.93746948242188,-2.286509990692139],[-59.93746948242188,-2.286509990692139],[-59.93746948242188,-2.286509990692139],[-59.93746948242188,-2.286509990692139],[-59.93746948242188,-2.286509990692139],[-59.93746948242188,-2.286509990692139],[-59.93746948242188,-2.286509990692139],[-59.93746948242188,-2.286509990692139],[-59.93746948242188,-2.286509990692139],[-59.93746948242188,-2.286509990692139],[-59.93746948242188,-2.286509990692139],[-59.93746948242188,-2.286509990692139],[-59.93746948242188,-2.286509990692139],[-59.93747329711914,-2.21464467048645],[-59.95545196533203,-2.214645385742188],[-59.95545196533203,-2.214645385742188],[-59.95545196533203,-2.214645385742188],[-59.95545196533203,-2.214645385742188],[-59.95545196533203,-2.214645385742188],[-59.95545196533203,-2.214645385742188],[-59.95545196533203,-2.214645385742188],[-59.95545196533203,-2.214645385742188],[-59.95545196533203,-2.214645385742188],[-59.95545196533203,-2.214645385742188],[-59.95545196533203,-2.214645385742188],[-59.95545196533203,-2.214645385742188],[-59.95545196533203,-2.214645385742188],[-59.95545196533203,-2.214645385742188],[-59.95545196533203,-2.214645385742188],[-59.95545196533203,-2.214645385742188],[-59.95545196533203,-2.214645385742188],[-59.95545196533203,-2.19667911529541],[-59.97343063354492,-2.196679592132568],[-59.97343063354492,-2.196679592132568],[-59.97343063354492,-2.196679592132568],[-59.97343063354492,-2.196679592132568],[-59.97343063354492,-2.196679592132568],[-59.97343063354492,-2.196679592132568],[-59.97343063354492,-2.196679592132568],[-59.97343063354492,-2.196679592132568],[-59.97343063354492,-2.196679592132568],[-59.97343063354492,-2.196679592132568],[-59.97343063354492,-2.196679592132568],[-59.97343063354492,-2.196679592132568],[-59.97343063354492,-2.196679592132568],[-59.97343063354492,-2.196679592132568],[-59.97343063354492,-2.196679592132568],[-59.97343063354492,-2.196679592132568],[-59.97343063354492,-2.196679592132568],[-59.97343063354492,-2.160746812820435],[-59.97343063354492,-2.160746812820435],[-59.97343063354492,-2.160746812820435],[-59.97343063354492,-2.160746812820435],[-59.97343063354492,-2.160746812820435],[-59.97343063354492,-2.160746812820435],[-59.97343063354492,-2.160746812820435],[-59.97343063354492,-2.160746812820435],[-59.97343063354492,-2.160746812820435],[-59.97343063354492,-2.160746812820435],[-59.97343063354492,-2.160746812820435],[-59.97343063354492,-2.160746812820435],[-59.97343063354492,-2.160746812820435],[-59.97343063354492,-2.160746812820435],[-59.97343063354492,-2.160746812820435],[-59.97343063354492,-2.160746812820435],[-59.97343063354492,-2.160746812820435],[-59.93747329711914,-2.160745859146118],[-59.93747711181641,-2.142779588699341],[-59.95545196533203,-2.142780065536499],[-59.95545196533203,-2.142780065536499],[-59.95545196533203,-2.142780065536499],[-59.95545196533203,-2.142780065536499],[-59.95545196533203,-2.142780065536499],[-59.95545196533203,-2.142780065536499],[-59.95545196533203,-2.142780065536499],[-59.95545196533203,-2.142780065536499],[-59.95545196533203,-2.142780065536499],[-59.95545196533203,-2.142780065536499],[-59.95545196533203,-2.142780065536499],[-59.95545196533203,-2.142780065536499],[-59.95545196533203,-2.142780065536499],[-59.95545196533203,-2.142780065536499],[-59.95545196533203,-2.142780065536499],[-59.95545196533203,-2.142780065536499],[-59.95545196533203,-2.142780065536499],[-59.9554557800293,-2.124813795089722],[-59.9554557800293,-2.124813795089722],[-59.9554557800293,-2.124813795089722],[-59.9554557800293,-2.124813795089722],[-59.9554557800293,-2.124813795089722],[-59.9554557800293,-2.124813795089722],[-59.9554557800293,-2.124813795089722],[-59.9554557800293,-2.124813795089722],[-59.9554557800293,-2.124813795089722],[-59.9554557800293,-2.124813795089722],[-59.9554557800293,-2.124813795089722],[-59.9554557800293,-2.124813795089722],[-59.9554557800293,-2.124813795089722],[-59.9554557800293,-2.124813795089722],[-59.9554557800293,-2.124813795089722],[-59.9554557800293,-2.124813795089722],[-59.9554557800293,-2.124813795089722],[-59.86556625366211,-2.124807596206665],[-59.86556625366211,-2.124807596206665],[-59.86556625366211,-2.124807596206665],[-59.86556625366211,-2.124807596206665],[-59.86556625366211,-2.124807596206665],[-59.86556625366211,-2.124807596206665],[-59.86556625366211,-2.124807596206665],[-59.86556625366211,-2.124807596206665],[-59.86556625366211,-2.124807596206665],[-59.86556625366211,-2.124807596206665],[-59.86556625366211,-2.124807596206665],[-59.86556625366211,-2.124807596206665],[-59.86556625366211,-2.124807596206665],[-59.86556625366211,-2.124807596206665],[-59.86556625366211,-2.124807596206665],[-59.86556625366211,-2.124807596206665],[-59.86556625366211,-2.124807596206665],[-59.86556243896484,-2.142773866653442],[-59.84758377075195,-2.14277195930481],[-59.84758377075195,-2.14277195930481],[-59.84758377075195,-2.14277195930481],[-59.84758377075195,-2.14277195930481],[-59.84758377075195,-2.14277195930481],[-59.84758377075195,-2.14277195930481],[-59.84758377075195,-2.14277195930481],[-59.84758377075195,-2.14277195930481],[-59.84758377075195,-2.14277195930481],[-59.84758377075195,-2.14277195930481],[-59.84758377075195,-2.14277195930481],[-59.84758377075195,-2.14277195930481],[-59.84758377075195,-2.14277195930481],[-59.84758377075195,-2.14277195930481],[-59.84758377075195,-2.14277195930481],[-59.84758377075195,-2.14277195930481],[-59.84758377075195,-2.14277195930481],[-59.84758377075195,-2.160738229751587],[-59.84758377075195,-2.160738229751587],[-59.84758377075195,-2.160738229751587],[-59.84758377075195,-2.160738229751587],[-59.84758377075195,-2.160738229751587],[-59.84758377075195,-2.160738229751587],[-59.84758377075195,-2.160738229751587],[-59.84758377075195,-2.160738229751587],[-59.84758377075195,-2.160738229751587],[-59.84758377075195,-2.160738229751587],[-59.84758377075195,-2.160738229751587],[-59.84758377075195,-2.160738229751587],[-59.84758377075195,-2.160738229751587],[-59.84758377075195,-2.160738229751587],[-59.84758377075195,-2.160738229751587],[-59.84758377075195,-2.160738229751587],[-59.84758377075195,-2.160738229751587],[-59.86556243896484,-2.16074013710022],[-59.86555862426758,-2.178706407546997],[-59.84757995605469,-2.178704500198364],[-59.84757995605469,-2.178704500198364],[-59.84757995605469,-2.178704500198364],[-59.84757995605469,-2.178704500198364],[-59.84757995605469,-2.178704500198364],[-59.84757995605469,-2.178704500198364],[-59.84757995605469,-2.178704500198364],[-59.84757995605469,-2.178704500198364],[-59.84757995605469,-2.178704500198364],[-59.84757995605469,-2.178704500198364],[-59.84757995605469,-2.178704500198364],[-59.84757995605469,-2.178704500198364],[-59.84757995605469,-2.178704500198364],[-59.84757995605469,-2.178704500198364],[-59.84757995605469,-2.178704500198364],[-59.84757995605469,-2.178704500198364],[-59.84757995605469,-2.178704500198364],[-59.84757995605469,-2.196670770645142],[-59.84757995605469,-2.196670770645142],[-59.84757995605469,-2.196670770645142],[-59.84757995605469,-2.196670770645142],[-59.84757995605469,-2.196670770645142],[-59.84757995605469,-2.196670770645142],[-59.84757995605469,-2.196670770645142],[-59.84757995605469,-2.196670770645142],[-59.84757995605469,-2.196670770645142],[-59.84757995605469,-2.196670770645142],[-59.84757995605469,-2.196670770645142],[-59.84757995605469,-2.196670770645142],[-59.84757995605469,-2.196670770645142],[-59.84757995605469,-2.196670770645142],[-59.84757995605469,-2.196670770645142],[-59.84757995605469,-2.196670770645142],[-59.84757995605469,-2.196670770645142],[-59.86555862426758,-2.196672916412354],[-59.86555862426758,-2.214639186859131],[-59.86555862426758,-2.214639186859131],[-59.86555862426758,-2.214639186859131],[-59.86555862426758,-2.214639186859131],[-59.86555862426758,-2.214639186859131],[-59.86555862426758,-2.214639186859131],[-59.86555862426758,-2.214639186859131],[-59.86555862426758,-2.214639186859131],[-59.86555862426758,-2.214639186859131],[-59.86555862426758,-2.214639186859131],[-59.86555862426758,-2.214639186859131],[-59.86555862426758,-2.214639186859131],[-59.86555862426758,-2.214639186859131],[-59.86555862426758,-2.214639186859131],[-59.86555862426758,-2.214639186859131],[-59.86555862426758,-2.214639186859131],[-59.86555862426758,-2.214639186859131],[-59.88353729248047,-2.214640855789185],[-59.8835334777832,-2.250573396682739],[-59.86555480957031,-2.250571727752686],[-59.86555480957031,-2.250571727752686],[-59.86555480957031,-2.250571727752686],[-59.86555480957031,-2.250571727752686],[-59.86555480957031,-2.250571727752686],[-59.86555480957031,-2.250571727752686],[-59.86555480957031,-2.250571727752686],[-59.86555480957031,-2.250571727752686],[-59.86555480957031,-2.250571727752686],[-59.86555480957031,-2.250571727752686],[-59.86555480957031,-2.250571727752686],[-59.86555480957031,-2.250571727752686],[-59.86555480957031,-2.250571727752686],[-59.86555480957031,-2.250571727752686],[-59.86555480957031,-2.250571727752686],[-59.86555480957031,-2.250571727752686],[-59.86555480957031,-2.250571727752686],[-59.86555099487305,-2.268537998199463],[-59.86555099487305,-2.268537998199463],[-59.86555099487305,-2.268537998199463],[-59.86555099487305,-2.268537998199463],[-59.86555099487305,-2.268537998199463],[-59.86555099487305,-2.268537998199463],[-59.86555099487305,-2.268537998199463],[-59.86555099487305,-2.268537998199463],[-59.86555099487305,-2.268537998199463],[-59.86555099487305,-2.268537998199463],[-59.86555099487305,-2.268537998199463],[-59.86555099487305,-2.268537998199463],[-59.86555099487305,-2.268537998199463],[-59.86555099487305,-2.268537998199463],[-59.86555099487305,-2.268537998199463],[-59.86555099487305,-2.268537998199463],[-59.86555099487305,-2.268537998199463],[-59.88352966308594,-2.268539905548096],[-59.88352966308594,-2.30447244644165],[-59.88352966308594,-2.30447244644165],[-59.88352966308594,-2.30447244644165],[-59.88352966308594,-2.30447244644165],[-59.88352966308594,-2.30447244644165],[-59.88352966308594,-2.30447244644165],[-59.88352966308594,-2.30447244644165],[-59.88352966308594,-2.30447244644165],[-59.88352966308594,-2.30447244644165],[-59.88352966308594,-2.30447244644165],[-59.88352966308594,-2.30447244644165],[-59.88352966308594,-2.30447244644165],[-59.88352966308594,-2.30447244644165],[-59.88352966308594,-2.30447244644165],[-59.88352966308594,-2.30447244644165],[-59.88352966308594,-2.30447244644165],[-59.88352966308594,-2.30447244644165],[-59.91948699951172,-2.3044753074646]]],\"type\":\"Polygon\"},\"id\":\"('Fam_13', 92)\",\"properties\":{},\"type\":\"Feature\"}],\"type\":\"FeatureCollection\"},\"type\":\"line\"},{\"below\":\"traces\",\"coordinates\":[[-62.14714189584819,-5.295901131951463],[-57.83567670766743,-5.295901131951463],[-57.83567670766743,-1.0001668807629231],[-62.14714189584819,-1.0001668807629231]],\"source\":\"data:image/png;base64,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\",\"sourcetype\":\"image\"}]],\"label\":\"Geometries 35 dBZ\",\"method\":\"relayout\"},{\"args\":[\"mapbox.layers\",[{\"color\":\"red\",\"line\":{\"width\":1.5},\"name\":\"geom_40\",\"source\":{\"bbox\":[-59.95545196533203,-2.3044753074646,-59.86555862426758,-2.124809503555298],\"features\":[{\"bbox\":[-59.95545196533203,-2.3044753074646,-59.86555862426758,-2.124809503555298],\"geometry\":{\"coordinates\":[[[-59.91948699951172,-2.3044753074646],[-59.91948699951172,-2.3044753074646],[-59.91948699951172,-2.3044753074646],[-59.91948699951172,-2.3044753074646],[-59.91948699951172,-2.3044753074646],[-59.91948699951172,-2.3044753074646],[-59.91948699951172,-2.3044753074646],[-59.91948699951172,-2.3044753074646],[-59.91948699951172,-2.3044753074646],[-59.91948699951172,-2.3044753074646],[-59.91948699951172,-2.3044753074646],[-59.91948699951172,-2.3044753074646],[-59.91948699951172,-2.3044753074646],[-59.91948699951172,-2.3044753074646],[-59.91948699951172,-2.3044753074646],[-59.91948699951172,-2.3044753074646],[-59.91948699951172,-2.3044753074646],[-59.91949081420898,-2.268542528152466],[-59.93746948242188,-2.268543481826782],[-59.93746948242188,-2.268543481826782],[-59.93746948242188,-2.268543481826782],[-59.93746948242188,-2.268543481826782],[-59.93746948242188,-2.268543481826782],[-59.93746948242188,-2.268543481826782],[-59.93746948242188,-2.268543481826782],[-59.93746948242188,-2.268543481826782],[-59.93746948242188,-2.268543481826782],[-59.93746948242188,-2.268543481826782],[-59.93746948242188,-2.268543481826782],[-59.93746948242188,-2.268543481826782],[-59.93746948242188,-2.268543481826782],[-59.93746948242188,-2.268543481826782],[-59.93746948242188,-2.268543481826782],[-59.93746948242188,-2.268543481826782],[-59.93746948242188,-2.268543481826782],[-59.93746948242188,-2.250577211380005],[-59.93746948242188,-2.250577211380005],[-59.93746948242188,-2.250577211380005],[-59.93746948242188,-2.250577211380005],[-59.93746948242188,-2.250577211380005],[-59.93746948242188,-2.250577211380005],[-59.93746948242188,-2.250577211380005],[-59.93746948242188,-2.250577211380005],[-59.93746948242188,-2.250577211380005],[-59.93746948242188,-2.250577211380005],[-59.93746948242188,-2.250577211380005],[-59.93746948242188,-2.250577211380005],[-59.93746948242188,-2.250577211380005],[-59.93746948242188,-2.250577211380005],[-59.93746948242188,-2.250577211380005],[-59.93746948242188,-2.250577211380005],[-59.93746948242188,-2.250577211380005],[-59.91949081420898,-2.250576257705688],[-59.91949081420898,-2.232609987258911],[-59.93747329711914,-2.232610940933228],[-59.93747329711914,-2.232610940933228],[-59.93747329711914,-2.232610940933228],[-59.93747329711914,-2.232610940933228],[-59.93747329711914,-2.232610940933228],[-59.93747329711914,-2.232610940933228],[-59.93747329711914,-2.232610940933228],[-59.93747329711914,-2.232610940933228],[-59.93747329711914,-2.232610940933228],[-59.93747329711914,-2.232610940933228],[-59.93747329711914,-2.232610940933228],[-59.93747329711914,-2.232610940933228],[-59.93747329711914,-2.232610940933228],[-59.93747329711914,-2.232610940933228],[-59.93747329711914,-2.232610940933228],[-59.93747329711914,-2.232610940933228],[-59.93747329711914,-2.232610940933228],[-59.93747329711914,-2.196678400039673],[-59.95545196533203,-2.19667911529541],[-59.95545196533203,-2.19667911529541],[-59.95545196533203,-2.19667911529541],[-59.95545196533203,-2.19667911529541],[-59.95545196533203,-2.19667911529541],[-59.95545196533203,-2.19667911529541],[-59.95545196533203,-2.19667911529541],[-59.95545196533203,-2.19667911529541],[-59.95545196533203,-2.19667911529541],[-59.95545196533203,-2.19667911529541],[-59.95545196533203,-2.19667911529541],[-59.95545196533203,-2.19667911529541],[-59.95545196533203,-2.19667911529541],[-59.95545196533203,-2.19667911529541],[-59.95545196533203,-2.19667911529541],[-59.95545196533203,-2.19667911529541],[-59.95545196533203,-2.19667911529541],[-59.95545196533203,-2.160746574401855],[-59.95545196533203,-2.160746574401855],[-59.95545196533203,-2.160746574401855],[-59.95545196533203,-2.160746574401855],[-59.95545196533203,-2.160746574401855],[-59.95545196533203,-2.160746574401855],[-59.95545196533203,-2.160746574401855],[-59.95545196533203,-2.160746574401855],[-59.95545196533203,-2.160746574401855],[-59.95545196533203,-2.160746574401855],[-59.95545196533203,-2.160746574401855],[-59.95545196533203,-2.160746574401855],[-59.95545196533203,-2.160746574401855],[-59.95545196533203,-2.160746574401855],[-59.95545196533203,-2.160746574401855],[-59.95545196533203,-2.160746574401855],[-59.95545196533203,-2.160746574401855],[-59.91949462890625,-2.160744905471802],[-59.91949844360352,-2.142778396606445],[-59.91949844360352,-2.142778396606445],[-59.91949844360352,-2.142778396606445],[-59.91949844360352,-2.142778396606445],[-59.91949844360352,-2.142778396606445],[-59.91949844360352,-2.142778396606445],[-59.91949844360352,-2.142778396606445],[-59.91949844360352,-2.142778396606445],[-59.91949844360352,-2.142778396606445],[-59.91949844360352,-2.142778396606445],[-59.91949844360352,-2.142778396606445],[-59.91949844360352,-2.142778396606445],[-59.91949844360352,-2.142778396606445],[-59.91949844360352,-2.142778396606445],[-59.91949844360352,-2.142778396606445],[-59.91949844360352,-2.142778396606445],[-59.91949844360352,-2.142778396606445],[-59.90151977539062,-2.14277720451355],[-59.90151977539062,-2.124810934066772],[-59.90151977539062,-2.124810934066772],[-59.90151977539062,-2.124810934066772],[-59.90151977539062,-2.124810934066772],[-59.90151977539062,-2.124810934066772],[-59.90151977539062,-2.124810934066772],[-59.90151977539062,-2.124810934066772],[-59.90151977539062,-2.124810934066772],[-59.90151977539062,-2.124810934066772],[-59.90151977539062,-2.124810934066772],[-59.90151977539062,-2.124810934066772],[-59.90151977539062,-2.124810934066772],[-59.90151977539062,-2.124810934066772],[-59.90151977539062,-2.124810934066772],[-59.90151977539062,-2.124810934066772],[-59.90151977539062,-2.124810934066772],[-59.90151977539062,-2.124810934066772],[-59.883544921875,-2.124809503555298],[-59.883544921875,-2.124809503555298],[-59.883544921875,-2.124809503555298],[-59.883544921875,-2.124809503555298],[-59.883544921875,-2.124809503555298],[-59.883544921875,-2.124809503555298],[-59.883544921875,-2.124809503555298],[-59.883544921875,-2.124809503555298],[-59.883544921875,-2.124809503555298],[-59.883544921875,-2.124809503555298],[-59.883544921875,-2.124809503555298],[-59.883544921875,-2.124809503555298],[-59.883544921875,-2.124809503555298],[-59.883544921875,-2.124809503555298],[-59.883544921875,-2.124809503555298],[-59.883544921875,-2.124809503555298],[-59.883544921875,-2.124809503555298],[-59.88354110717773,-2.142775774002075],[-59.86556243896484,-2.142773866653442],[-59.86556243896484,-2.142773866653442],[-59.86556243896484,-2.142773866653442],[-59.86556243896484,-2.142773866653442],[-59.86556243896484,-2.142773866653442],[-59.86556243896484,-2.142773866653442],[-59.86556243896484,-2.142773866653442],[-59.86556243896484,-2.142773866653442],[-59.86556243896484,-2.142773866653442],[-59.86556243896484,-2.142773866653442],[-59.86556243896484,-2.142773866653442],[-59.86556243896484,-2.142773866653442],[-59.86556243896484,-2.142773866653442],[-59.86556243896484,-2.142773866653442],[-59.86556243896484,-2.142773866653442],[-59.86556243896484,-2.142773866653442],[-59.86556243896484,-2.142773866653442],[-59.86555862426758,-2.196672916412354],[-59.86555862426758,-2.196672916412354],[-59.86555862426758,-2.196672916412354],[-59.86555862426758,-2.196672916412354],[-59.86555862426758,-2.196672916412354],[-59.86555862426758,-2.196672916412354],[-59.86555862426758,-2.196672916412354],[-59.86555862426758,-2.196672916412354],[-59.86555862426758,-2.196672916412354],[-59.86555862426758,-2.196672916412354],[-59.86555862426758,-2.196672916412354],[-59.86555862426758,-2.196672916412354],[-59.86555862426758,-2.196672916412354],[-59.86555862426758,-2.196672916412354],[-59.86555862426758,-2.196672916412354],[-59.86555862426758,-2.196672916412354],[-59.86555862426758,-2.196672916412354],[-59.88353729248047,-2.196674585342407],[-59.8835334777832,-2.232607126235962],[-59.8835334777832,-2.232607126235962],[-59.8835334777832,-2.232607126235962],[-59.8835334777832,-2.232607126235962],[-59.8835334777832,-2.232607126235962],[-59.8835334777832,-2.232607126235962],[-59.8835334777832,-2.232607126235962],[-59.8835334777832,-2.232607126235962],[-59.8835334777832,-2.232607126235962],[-59.8835334777832,-2.232607126235962],[-59.8835334777832,-2.232607126235962],[-59.8835334777832,-2.232607126235962],[-59.8835334777832,-2.232607126235962],[-59.8835334777832,-2.232607126235962],[-59.8835334777832,-2.232607126235962],[-59.8835334777832,-2.232607126235962],[-59.8835334777832,-2.232607126235962],[-59.90151214599609,-2.232608795166016],[-59.90151214599609,-2.250575065612793],[-59.8835334777832,-2.250573396682739],[-59.8835334777832,-2.250573396682739],[-59.8835334777832,-2.250573396682739],[-59.8835334777832,-2.250573396682739],[-59.8835334777832,-2.250573396682739],[-59.8835334777832,-2.250573396682739],[-59.8835334777832,-2.250573396682739],[-59.8835334777832,-2.250573396682739],[-59.8835334777832,-2.250573396682739],[-59.8835334777832,-2.250573396682739],[-59.8835334777832,-2.250573396682739],[-59.8835334777832,-2.250573396682739],[-59.8835334777832,-2.250573396682739],[-59.8835334777832,-2.250573396682739],[-59.8835334777832,-2.250573396682739],[-59.8835334777832,-2.250573396682739],[-59.8835334777832,-2.250573396682739],[-59.88352966308594,-2.30447244644165],[-59.88352966308594,-2.30447244644165],[-59.88352966308594,-2.30447244644165],[-59.88352966308594,-2.30447244644165],[-59.88352966308594,-2.30447244644165],[-59.88352966308594,-2.30447244644165],[-59.88352966308594,-2.30447244644165],[-59.88352966308594,-2.30447244644165],[-59.88352966308594,-2.30447244644165],[-59.88352966308594,-2.30447244644165],[-59.88352966308594,-2.30447244644165],[-59.88352966308594,-2.30447244644165],[-59.88352966308594,-2.30447244644165],[-59.88352966308594,-2.30447244644165],[-59.88352966308594,-2.30447244644165],[-59.88352966308594,-2.30447244644165],[-59.88352966308594,-2.30447244644165],[-59.91948699951172,-2.3044753074646]]],\"type\":\"Polygon\"},\"id\":\"('Fam_13', 92)\",\"properties\":{},\"type\":\"Feature\"}],\"type\":\"FeatureCollection\"},\"type\":\"line\"},{\"below\":\"traces\",\"coordinates\":[[-62.14714189584819,-5.295901131951463],[-57.83567670766743,-5.295901131951463],[-57.83567670766743,-1.0001668807629231],[-62.14714189584819,-1.0001668807629231]],\"source\":\"data:image/png;base64,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\",\"sourcetype\":\"image\"}]],\"label\":\"Geometries 40 dBZ\",\"method\":\"relayout\"},{\"args\":[\"mapbox.layers\",[{\"color\":\"black\",\"line\":{\"width\":4},\"name\":\"Trajectory\",\"source\":{\"bbox\":[-59.84758377075195,-2.14277195930481,-59.77567672729492,-2.124794483184814],\"features\":[{\"bbox\":[-59.84758377075195,-2.14277195930481,-59.77567672729492,-2.124794483184814],\"geometry\":{\"coordinates\":[[-59.77567672729492,-2.124794483184814],[-59.84758377075195,-2.14277195930481]],\"type\":\"LineString\"},\"id\":\"('Fam_13', 92)\",\"properties\":{},\"type\":\"Feature\"}],\"type\":\"FeatureCollection\"},\"type\":\"line\"},{\"below\":\"traces\",\"coordinates\":[[-62.14714189584819,-5.295901131951463],[-57.83567670766743,-5.295901131951463],[-57.83567670766743,-1.0001668807629231],[-62.14714189584819,-1.0001668807629231]],\"source\":\"data:image/png;base64,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\",\"sourcetype\":\"image\"}]],\"label\":\"Trajectory\",\"method\":\"relayout\"}],\"type\":\"buttons\"}],\"width\":900},                        {\"responsive\": true}                    ).then(function(){\n",
       "                            \n",
       "var gd = document.getElementById('800bcc96-1754-435e-8e76-899c3f07b3f1');\n",
       "var x = new MutationObserver(function (mutations, observer) {{\n",
       "        var display = window.getComputedStyle(gd).display;\n",
       "        if (!display || display === 'none') {{\n",
       "            console.log([gd, 'removed!']);\n",
       "            Plotly.purge(gd);\n",
       "            observer.disconnect();\n",
       "        }}\n",
       "}});\n",
       "\n",
       "// Listen for the removal of the full notebook cells\n",
       "var notebookContainer = gd.closest('#notebook-container');\n",
       "if (notebookContainer) {{\n",
       "    x.observe(notebookContainer, {childList: true});\n",
       "}}\n",
       "\n",
       "// Listen for the clearing of the current output cell\n",
       "var outputEl = gd.closest('.output');\n",
       "if (outputEl) {{\n",
       "    x.observe(outputEl, {childList: true});\n",
       "}}\n",
       "\n",
       "                        })                };                });            </script>        </div>"
      ]
     },
     "metadata": {},
     "output_type": "display_data"
    }
   ],
   "source": [
    "sta.track(df_filter1.query('uid == 13 and time == 10'),var=VAR,level=LEVEL)"
   ]
  },
  {
   "cell_type": "code",
   "execution_count": 60,
   "id": "8af17918",
   "metadata": {},
   "outputs": [
    {
     "data": {
      "application/vnd.plotly.v1+json": {
       "config": {
        "plotlyServerURL": "https://plot.ly"
       },
       "data": [
        {
         "customdata": [
          [
           13,
           195.5363889370449,
           "40-50 km/h",
           42.37523331721851,
           "2014-09-07 02:00:00"
          ]
         ],
         "hovertemplate": "<b>%{hovertext}</b><br><br>Wind Speed:=%{customdata[2]}<br>velocity=%{customdata[3]}<br>direction=%{customdata[1]}<br>uid=%{customdata[0]}<br>timestamp=%{customdata[4]}<extra></extra>",
         "hovertext": [
          "13"
         ],
         "legendgroup": "40-50 km/h",
         "marker": {
          "color": "#f0f921",
          "symbol": "circle"
         },
         "mode": "markers",
         "name": "40-50 km/h",
         "r": [
          42.37523331721851
         ],
         "showlegend": true,
         "subplot": "polar",
         "theta": [
          195.5363889370449
         ],
         "type": "scatterpolar"
        }
       ],
       "layout": {
        "annotations": [
         {
          "showarrow": false,
          "text": "Wind Rose",
          "x": 0.5,
          "y": 0.5
         }
        ],
        "font": {
         "size": 12
        },
        "height": 500,
        "legend": {
         "orientation": "h",
         "title": {
          "text": "Wind Speed:"
         },
         "tracegroupgap": 0,
         "x": 0.5,
         "xanchor": "center",
         "y": -0.1,
         "yanchor": "top"
        },
        "margin": {
         "t": 60
        },
        "polar": {
         "angularaxis": {
          "direction": "clockwise",
          "rotation": 90
         },
         "domain": {
          "x": [
           0,
           1
          ],
          "y": [
           0,
           1
          ]
         },
         "radialaxis": {
          "linewidth": 0,
          "showticklabels": true,
          "ticks": ""
         }
        },
        "shapes": [
         {
          "fillcolor": "White",
          "line": {
           "color": "Black"
          },
          "type": "circle",
          "x0": 0.4,
          "x1": 0.6,
          "xref": "paper",
          "y0": 0.4,
          "y1": 0.6,
          "yref": "paper"
         }
        ],
        "template": {
         "data": {
          "pie": [
           {
            "automargin": true,
            "type": "pie"
           }
          ],
          "scatter": [
           {
            "line": {
             "width": 3
            },
            "marker": {
             "size": 9
            },
            "type": "scatter"
           }
          ],
          "scatter3d": [
           {
            "line": {
             "width": 3
            },
            "marker": {
             "size": 9
            },
            "type": "scatter3d"
           }
          ],
          "scattergeo": [
           {
            "line": {
             "width": 3
            },
            "marker": {
             "size": 9
            },
            "type": "scattergeo"
           }
          ],
          "scattergl": [
           {
            "line": {
             "width": 3
            },
            "marker": {
             "size": 9
            },
            "type": "scattergl"
           }
          ],
          "scatterpolar": [
           {
            "line": {
             "width": 3
            },
            "marker": {
             "size": 9
            },
            "type": "scatterpolar"
           }
          ],
          "scatterpolargl": [
           {
            "line": {
             "width": 3
            },
            "marker": {
             "size": 9
            },
            "type": "scatterpolargl"
           }
          ],
          "scatterternary": [
           {
            "line": {
             "width": 3
            },
            "marker": {
             "size": 9
            },
            "type": "scatterternary"
           }
          ],
          "table": [
           {
            "cells": {
             "height": 30
            },
            "header": {
             "height": 36
            },
            "type": "table"
           }
          ]
         },
         "layout": {
          "font": {
           "size": 18
          },
          "xaxis": {
           "title": {
            "standoff": 15
           }
          },
          "yaxis": {
           "title": {
            "standoff": 15
           }
          }
         }
        },
        "title": {
         "text": "Wind Rose ",
         "x": 0.5
        },
        "width": 500
       }
      },
      "text/html": [
       "<div>                            <div id=\"93380385-e831-4d77-9595-398cfed0c2f6\" class=\"plotly-graph-div\" style=\"height:500px; width:500px;\"></div>            <script type=\"text/javascript\">                require([\"plotly\"], function(Plotly) {                    window.PLOTLYENV=window.PLOTLYENV || {};                                    if (document.getElementById(\"93380385-e831-4d77-9595-398cfed0c2f6\")) {                    Plotly.newPlot(                        \"93380385-e831-4d77-9595-398cfed0c2f6\",                        [{\"customdata\":[[13,195.5363889370449,\"40-50 km/h\",42.37523331721851,\"2014-09-07 02:00:00\"]],\"hovertemplate\":\"<b>%{hovertext}</b><br><br>Wind Speed:=%{customdata[2]}<br>velocity=%{customdata[3]}<br>direction=%{customdata[1]}<br>uid=%{customdata[0]}<br>timestamp=%{customdata[4]}<extra></extra>\",\"hovertext\":[\"13\"],\"legendgroup\":\"40-50 km/h\",\"marker\":{\"color\":\"#f0f921\",\"symbol\":\"circle\"},\"mode\":\"markers\",\"name\":\"40-50 km/h\",\"r\":[42.37523331721851],\"showlegend\":true,\"subplot\":\"polar\",\"theta\":[195.5363889370449],\"type\":\"scatterpolar\"}],                        {\"annotations\":[{\"showarrow\":false,\"text\":\"Wind Rose\",\"x\":0.5,\"y\":0.5}],\"font\":{\"size\":12},\"height\":500,\"legend\":{\"orientation\":\"h\",\"title\":{\"text\":\"Wind Speed:\"},\"tracegroupgap\":0,\"x\":0.5,\"xanchor\":\"center\",\"y\":-0.1,\"yanchor\":\"top\"},\"margin\":{\"t\":60},\"polar\":{\"angularaxis\":{\"direction\":\"clockwise\",\"rotation\":90},\"domain\":{\"x\":[0.0,1.0],\"y\":[0.0,1.0]},\"radialaxis\":{\"linewidth\":0,\"showticklabels\":true,\"ticks\":\"\"}},\"shapes\":[{\"fillcolor\":\"White\",\"line\":{\"color\":\"Black\"},\"type\":\"circle\",\"x0\":0.4,\"x1\":0.6,\"xref\":\"paper\",\"y0\":0.4,\"y1\":0.6,\"yref\":\"paper\"}],\"template\":{\"data\":{\"pie\":[{\"automargin\":true,\"type\":\"pie\"}],\"scatter\":[{\"line\":{\"width\":3},\"marker\":{\"size\":9},\"type\":\"scatter\"}],\"scatter3d\":[{\"line\":{\"width\":3},\"marker\":{\"size\":9},\"type\":\"scatter3d\"}],\"scattergeo\":[{\"line\":{\"width\":3},\"marker\":{\"size\":9},\"type\":\"scattergeo\"}],\"scattergl\":[{\"line\":{\"width\":3},\"marker\":{\"size\":9},\"type\":\"scattergl\"}],\"scatterpolar\":[{\"line\":{\"width\":3},\"marker\":{\"size\":9},\"type\":\"scatterpolar\"}],\"scatterpolargl\":[{\"line\":{\"width\":3},\"marker\":{\"size\":9},\"type\":\"scatterpolargl\"}],\"scatterternary\":[{\"line\":{\"width\":3},\"marker\":{\"size\":9},\"type\":\"scatterternary\"}],\"table\":[{\"cells\":{\"height\":30},\"header\":{\"height\":36},\"type\":\"table\"}]},\"layout\":{\"font\":{\"size\":18},\"xaxis\":{\"title\":{\"standoff\":15}},\"yaxis\":{\"title\":{\"standoff\":15}}}},\"title\":{\"text\":\"Wind Rose \",\"x\":0.5},\"width\":500},                        {\"responsive\": true}                    ).then(function(){\n",
       "                            \n",
       "var gd = document.getElementById('93380385-e831-4d77-9595-398cfed0c2f6');\n",
       "var x = new MutationObserver(function (mutations, observer) {{\n",
       "        var display = window.getComputedStyle(gd).display;\n",
       "        if (!display || display === 'none') {{\n",
       "            console.log([gd, 'removed!']);\n",
       "            Plotly.purge(gd);\n",
       "            observer.disconnect();\n",
       "        }}\n",
       "}});\n",
       "\n",
       "// Listen for the removal of the full notebook cells\n",
       "var notebookContainer = gd.closest('#notebook-container');\n",
       "if (notebookContainer) {{\n",
       "    x.observe(notebookContainer, {childList: true});\n",
       "}}\n",
       "\n",
       "// Listen for the clearing of the current output cell\n",
       "var outputEl = gd.closest('.output');\n",
       "if (outputEl) {{\n",
       "    x.observe(outputEl, {childList: true});\n",
       "}}\n",
       "\n",
       "                        })                };                });            </script>        </div>"
      ]
     },
     "metadata": {},
     "output_type": "display_data"
    }
   ],
   "source": [
    "wind_df = sta.plot_wind(df_filter1.query('uid == 13 and time == 10'),style='scatter')"
   ]
  },
  {
   "cell_type": "code",
   "execution_count": 64,
   "id": "172981af",
   "metadata": {},
   "outputs": [
    {
     "data": {
      "application/vnd.plotly.v1+json": {
       "config": {
        "plotlyServerURL": "https://plot.ly"
       },
       "data": [
        {
         "base": [
          "20-30 km/h"
         ],
         "customdata": [
          [
           13,
           175.31478171127418,
           28.86106392831439,
           "2014-09-07 01:24:00"
          ]
         ],
         "hovertemplate": "<b>%{hovertext}</b><br><br>Wind Speed:=%{base}<br>velocity=%{customdata[2]}<br>direction=%{customdata[1]}<br>uid=%{customdata[0]}<br>timestamp=%{customdata[3]}<extra></extra>",
         "hovertext": [
          "13"
         ],
         "legendgroup": "20-30 km/h",
         "marker": {
          "color": "#f0f921",
          "pattern": {
           "shape": ""
          }
         },
         "name": "20-30 km/h",
         "r": [
          28.86106392831439
         ],
         "showlegend": true,
         "subplot": "polar",
         "theta": [
          175.31478171127418
         ],
         "type": "barpolar"
        },
        {
         "base": [
          "40-50 km/h",
          "40-50 km/h",
          "40-50 km/h"
         ],
         "customdata": [
          [
           13,
           186.3228428974995,
           41.00191225769715,
           "2014-09-07 01:12:00"
          ],
          [
           13,
           195.5363889370449,
           42.37523331721851,
           "2014-09-07 02:00:00"
          ],
          [
           13,
           192.55822481842964,
           45.54067309343704,
           "2014-09-07 01:48:00"
          ]
         ],
         "hovertemplate": "<b>%{hovertext}</b><br><br>Wind Speed:=%{base}<br>velocity=%{customdata[2]}<br>direction=%{customdata[1]}<br>uid=%{customdata[0]}<br>timestamp=%{customdata[3]}<extra></extra>",
         "hovertext": [
          "13",
          "13",
          "13"
         ],
         "legendgroup": "40-50 km/h",
         "marker": {
          "color": "#fdca26",
          "pattern": {
           "shape": ""
          }
         },
         "name": "40-50 km/h",
         "r": [
          41.00191225769715,
          42.37523331721851,
          45.54067309343704
         ],
         "showlegend": true,
         "subplot": "polar",
         "theta": [
          186.3228428974995,
          195.5363889370449,
          192.55822481842964
         ],
         "type": "barpolar"
        },
        {
         "base": [
          "50-60 km/h"
         ],
         "customdata": [
          [
           13,
           189.12003538306388,
           51.14159130312261,
           "2014-09-07 01:36:00"
          ]
         ],
         "hovertemplate": "<b>%{hovertext}</b><br><br>Wind Speed:=%{base}<br>velocity=%{customdata[2]}<br>direction=%{customdata[1]}<br>uid=%{customdata[0]}<br>timestamp=%{customdata[3]}<extra></extra>",
         "hovertext": [
          "13"
         ],
         "legendgroup": "50-60 km/h",
         "marker": {
          "color": "#fb9f3a",
          "pattern": {
           "shape": ""
          }
         },
         "name": "50-60 km/h",
         "r": [
          51.14159130312261
         ],
         "showlegend": true,
         "subplot": "polar",
         "theta": [
          189.12003538306388
         ],
         "type": "barpolar"
        }
       ],
       "layout": {
        "annotations": [
         {
          "showarrow": false,
          "text": "Wind Rose",
          "x": 0.5,
          "y": 0.5
         }
        ],
        "barmode": "relative",
        "font": {
         "size": 12
        },
        "height": 500,
        "legend": {
         "orientation": "h",
         "title": {
          "text": "Wind Speed:"
         },
         "tracegroupgap": 0,
         "x": 0.5,
         "xanchor": "center",
         "y": -0.1,
         "yanchor": "top"
        },
        "margin": {
         "t": 60
        },
        "polar": {
         "angularaxis": {
          "direction": "clockwise",
          "rotation": 90
         },
         "domain": {
          "x": [
           0,
           1
          ],
          "y": [
           0,
           1
          ]
         },
         "radialaxis": {
          "linewidth": 0,
          "showticklabels": true,
          "ticks": ""
         }
        },
        "shapes": [
         {
          "fillcolor": "White",
          "line": {
           "color": "Black"
          },
          "type": "circle",
          "x0": 0.4,
          "x1": 0.6,
          "xref": "paper",
          "y0": 0.4,
          "y1": 0.6,
          "yref": "paper"
         }
        ],
        "template": {
         "data": {
          "pie": [
           {
            "automargin": true,
            "type": "pie"
           }
          ],
          "scatter": [
           {
            "line": {
             "width": 3
            },
            "marker": {
             "size": 9
            },
            "type": "scatter"
           }
          ],
          "scatter3d": [
           {
            "line": {
             "width": 3
            },
            "marker": {
             "size": 9
            },
            "type": "scatter3d"
           }
          ],
          "scattergeo": [
           {
            "line": {
             "width": 3
            },
            "marker": {
             "size": 9
            },
            "type": "scattergeo"
           }
          ],
          "scattergl": [
           {
            "line": {
             "width": 3
            },
            "marker": {
             "size": 9
            },
            "type": "scattergl"
           }
          ],
          "scatterpolar": [
           {
            "line": {
             "width": 3
            },
            "marker": {
             "size": 9
            },
            "type": "scatterpolar"
           }
          ],
          "scatterpolargl": [
           {
            "line": {
             "width": 3
            },
            "marker": {
             "size": 9
            },
            "type": "scatterpolargl"
           }
          ],
          "scatterternary": [
           {
            "line": {
             "width": 3
            },
            "marker": {
             "size": 9
            },
            "type": "scatterternary"
           }
          ],
          "table": [
           {
            "cells": {
             "height": 30
            },
            "header": {
             "height": 36
            },
            "type": "table"
           }
          ]
         },
         "layout": {
          "font": {
           "size": 18
          },
          "xaxis": {
           "title": {
            "standoff": 15
           }
          },
          "yaxis": {
           "title": {
            "standoff": 15
           }
          }
         }
        },
        "title": {
         "text": "Wind Rose ",
         "x": 0.5
        },
        "width": 500
       }
      },
      "text/html": [
       "<div>                            <div id=\"8c6b66e5-cbfe-4c72-8daa-8bab44693b75\" class=\"plotly-graph-div\" style=\"height:500px; width:500px;\"></div>            <script type=\"text/javascript\">                require([\"plotly\"], function(Plotly) {                    window.PLOTLYENV=window.PLOTLYENV || {};                                    if (document.getElementById(\"8c6b66e5-cbfe-4c72-8daa-8bab44693b75\")) {                    Plotly.newPlot(                        \"8c6b66e5-cbfe-4c72-8daa-8bab44693b75\",                        [{\"base\":[\"20-30 km/h\"],\"customdata\":[[13,175.31478171127418,28.86106392831439,\"2014-09-07 01:24:00\"]],\"hovertemplate\":\"<b>%{hovertext}</b><br><br>Wind Speed:=%{base}<br>velocity=%{customdata[2]}<br>direction=%{customdata[1]}<br>uid=%{customdata[0]}<br>timestamp=%{customdata[3]}<extra></extra>\",\"hovertext\":[\"13\"],\"legendgroup\":\"20-30 km/h\",\"marker\":{\"color\":\"#f0f921\",\"pattern\":{\"shape\":\"\"}},\"name\":\"20-30 km/h\",\"r\":[28.86106392831439],\"showlegend\":true,\"subplot\":\"polar\",\"theta\":[175.31478171127418],\"type\":\"barpolar\"},{\"base\":[\"40-50 km/h\",\"40-50 km/h\",\"40-50 km/h\"],\"customdata\":[[13,186.3228428974995,41.00191225769715,\"2014-09-07 01:12:00\"],[13,195.5363889370449,42.37523331721851,\"2014-09-07 02:00:00\"],[13,192.55822481842964,45.54067309343704,\"2014-09-07 01:48:00\"]],\"hovertemplate\":\"<b>%{hovertext}</b><br><br>Wind Speed:=%{base}<br>velocity=%{customdata[2]}<br>direction=%{customdata[1]}<br>uid=%{customdata[0]}<br>timestamp=%{customdata[3]}<extra></extra>\",\"hovertext\":[\"13\",\"13\",\"13\"],\"legendgroup\":\"40-50 km/h\",\"marker\":{\"color\":\"#fdca26\",\"pattern\":{\"shape\":\"\"}},\"name\":\"40-50 km/h\",\"r\":[41.00191225769715,42.37523331721851,45.54067309343704],\"showlegend\":true,\"subplot\":\"polar\",\"theta\":[186.3228428974995,195.5363889370449,192.55822481842964],\"type\":\"barpolar\"},{\"base\":[\"50-60 km/h\"],\"customdata\":[[13,189.12003538306388,51.14159130312261,\"2014-09-07 01:36:00\"]],\"hovertemplate\":\"<b>%{hovertext}</b><br><br>Wind Speed:=%{base}<br>velocity=%{customdata[2]}<br>direction=%{customdata[1]}<br>uid=%{customdata[0]}<br>timestamp=%{customdata[3]}<extra></extra>\",\"hovertext\":[\"13\"],\"legendgroup\":\"50-60 km/h\",\"marker\":{\"color\":\"#fb9f3a\",\"pattern\":{\"shape\":\"\"}},\"name\":\"50-60 km/h\",\"r\":[51.14159130312261],\"showlegend\":true,\"subplot\":\"polar\",\"theta\":[189.12003538306388],\"type\":\"barpolar\"}],                        {\"annotations\":[{\"showarrow\":false,\"text\":\"Wind Rose\",\"x\":0.5,\"y\":0.5}],\"barmode\":\"relative\",\"font\":{\"size\":12},\"height\":500,\"legend\":{\"orientation\":\"h\",\"title\":{\"text\":\"Wind Speed:\"},\"tracegroupgap\":0,\"x\":0.5,\"xanchor\":\"center\",\"y\":-0.1,\"yanchor\":\"top\"},\"margin\":{\"t\":60},\"polar\":{\"angularaxis\":{\"direction\":\"clockwise\",\"rotation\":90},\"domain\":{\"x\":[0.0,1.0],\"y\":[0.0,1.0]},\"radialaxis\":{\"linewidth\":0,\"showticklabels\":true,\"ticks\":\"\"}},\"shapes\":[{\"fillcolor\":\"White\",\"line\":{\"color\":\"Black\"},\"type\":\"circle\",\"x0\":0.4,\"x1\":0.6,\"xref\":\"paper\",\"y0\":0.4,\"y1\":0.6,\"yref\":\"paper\"}],\"template\":{\"data\":{\"pie\":[{\"automargin\":true,\"type\":\"pie\"}],\"scatter\":[{\"line\":{\"width\":3},\"marker\":{\"size\":9},\"type\":\"scatter\"}],\"scatter3d\":[{\"line\":{\"width\":3},\"marker\":{\"size\":9},\"type\":\"scatter3d\"}],\"scattergeo\":[{\"line\":{\"width\":3},\"marker\":{\"size\":9},\"type\":\"scattergeo\"}],\"scattergl\":[{\"line\":{\"width\":3},\"marker\":{\"size\":9},\"type\":\"scattergl\"}],\"scatterpolar\":[{\"line\":{\"width\":3},\"marker\":{\"size\":9},\"type\":\"scatterpolar\"}],\"scatterpolargl\":[{\"line\":{\"width\":3},\"marker\":{\"size\":9},\"type\":\"scatterpolargl\"}],\"scatterternary\":[{\"line\":{\"width\":3},\"marker\":{\"size\":9},\"type\":\"scatterternary\"}],\"table\":[{\"cells\":{\"height\":30},\"header\":{\"height\":36},\"type\":\"table\"}]},\"layout\":{\"font\":{\"size\":18},\"xaxis\":{\"title\":{\"standoff\":15}},\"yaxis\":{\"title\":{\"standoff\":15}}}},\"title\":{\"text\":\"Wind Rose \",\"x\":0.5},\"width\":500},                        {\"responsive\": true}                    ).then(function(){\n",
       "                            \n",
       "var gd = document.getElementById('8c6b66e5-cbfe-4c72-8daa-8bab44693b75');\n",
       "var x = new MutationObserver(function (mutations, observer) {{\n",
       "        var display = window.getComputedStyle(gd).display;\n",
       "        if (!display || display === 'none') {{\n",
       "            console.log([gd, 'removed!']);\n",
       "            Plotly.purge(gd);\n",
       "            observer.disconnect();\n",
       "        }}\n",
       "}});\n",
       "\n",
       "// Listen for the removal of the full notebook cells\n",
       "var notebookContainer = gd.closest('#notebook-container');\n",
       "if (notebookContainer) {{\n",
       "    x.observe(notebookContainer, {childList: true});\n",
       "}}\n",
       "\n",
       "// Listen for the clearing of the current output cell\n",
       "var outputEl = gd.closest('.output');\n",
       "if (outputEl) {{\n",
       "    x.observe(outputEl, {childList: true});\n",
       "}}\n",
       "\n",
       "                        })                };                });            </script>        </div>"
      ]
     },
     "metadata": {},
     "output_type": "display_data"
    }
   ],
   "source": [
    "wind_df = sta.plot_wind(df_filter1.query('uid == 13 and time <= 10'),style='bar')"
   ]
  },
  {
   "cell_type": "code",
   "execution_count": 65,
   "id": "00936102",
   "metadata": {},
   "outputs": [
    {
     "data": {
      "text/html": [
       "<div>\n",
       "<style scoped>\n",
       "    .dataframe tbody tr th:only-of-type {\n",
       "        vertical-align: middle;\n",
       "    }\n",
       "\n",
       "    .dataframe tbody tr th {\n",
       "        vertical-align: top;\n",
       "    }\n",
       "\n",
       "    .dataframe thead th {\n",
       "        text-align: right;\n",
       "    }\n",
       "</style>\n",
       "<table border=\"1\" class=\"dataframe\">\n",
       "  <thead>\n",
       "    <tr style=\"text-align: right;\">\n",
       "      <th></th>\n",
       "      <th>uid</th>\n",
       "      <th>direction</th>\n",
       "      <th>strength</th>\n",
       "      <th>velocity</th>\n",
       "      <th>timestamp</th>\n",
       "    </tr>\n",
       "  </thead>\n",
       "  <tbody>\n",
       "    <tr>\n",
       "      <th>1</th>\n",
       "      <td>13</td>\n",
       "      <td>186.322843</td>\n",
       "      <td>40-50 km/h</td>\n",
       "      <td>41.001912</td>\n",
       "      <td>2014-09-07 01:12:00</td>\n",
       "    </tr>\n",
       "    <tr>\n",
       "      <th>0</th>\n",
       "      <td>13</td>\n",
       "      <td>175.314782</td>\n",
       "      <td>20-30 km/h</td>\n",
       "      <td>28.861064</td>\n",
       "      <td>2014-09-07 01:24:00</td>\n",
       "    </tr>\n",
       "    <tr>\n",
       "      <th>4</th>\n",
       "      <td>13</td>\n",
       "      <td>189.120035</td>\n",
       "      <td>50-60 km/h</td>\n",
       "      <td>51.141591</td>\n",
       "      <td>2014-09-07 01:36:00</td>\n",
       "    </tr>\n",
       "    <tr>\n",
       "      <th>3</th>\n",
       "      <td>13</td>\n",
       "      <td>192.558225</td>\n",
       "      <td>40-50 km/h</td>\n",
       "      <td>45.540673</td>\n",
       "      <td>2014-09-07 01:48:00</td>\n",
       "    </tr>\n",
       "    <tr>\n",
       "      <th>2</th>\n",
       "      <td>13</td>\n",
       "      <td>195.536389</td>\n",
       "      <td>40-50 km/h</td>\n",
       "      <td>42.375233</td>\n",
       "      <td>2014-09-07 02:00:00</td>\n",
       "    </tr>\n",
       "  </tbody>\n",
       "</table>\n",
       "</div>"
      ],
      "text/plain": [
       "  uid   direction    strength   velocity            timestamp\n",
       "1  13  186.322843  40-50 km/h  41.001912  2014-09-07 01:12:00\n",
       "0  13  175.314782  20-30 km/h  28.861064  2014-09-07 01:24:00\n",
       "4  13  189.120035  50-60 km/h  51.141591  2014-09-07 01:36:00\n",
       "3  13  192.558225  40-50 km/h  45.540673  2014-09-07 01:48:00\n",
       "2  13  195.536389  40-50 km/h  42.375233  2014-09-07 02:00:00"
      ]
     },
     "execution_count": 65,
     "metadata": {},
     "output_type": "execute_result"
    }
   ],
   "source": [
    "wind_df"
   ]
  },
  {
   "cell_type": "code",
   "execution_count": null,
   "id": "650209b6",
   "metadata": {},
   "outputs": [],
   "source": []
  }
 ],
 "metadata": {
  "kernelspec": {
   "display_name": "Python 3",
   "language": "python",
   "name": "python3"
  },
  "language_info": {
   "codemirror_mode": {
    "name": "ipython",
    "version": 3
   },
   "file_extension": ".py",
   "mimetype": "text/x-python",
   "name": "python",
   "nbconvert_exporter": "python",
   "pygments_lexer": "ipython3",
   "version": "3.7.10"
  }
 },
 "nbformat": 4,
 "nbformat_minor": 5
}
