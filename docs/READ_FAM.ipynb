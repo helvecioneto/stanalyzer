{
 "cells": [
  {
   "cell_type": "markdown",
   "metadata": {},
   "source": [
    "# OUTPUT TRACKING ALGORITHM\n",
    "\n",
    "\n",
    "---\n",
    "Author: **Helvecio B. Leal Neto** & **Alan J. P. Calheiros**\\\n",
    "**National Institute for Space Research - Brazil - (2021)**\n",
    "\n",
    "\n",
    "\n",
    "## About\n",
    "\n",
    "This notebook is designed for viewing the tracking results of the storm/precipitation tracking algorithm beta version. The results presented here refer to the tracking of clusters via radar data provided by the GoAmazon project, for the following periods:\n",
    "\n",
    "**Start**: 2014-09-07 00:00:00\n",
    "\n",
    "**End**: 2014-09-09 00:00:00\n",
    "\n",
    "The tracking threshold is:\n",
    "\n",
    "* **20** dBZ\n",
    "* inner 1 - ***35*** dBZ\n",
    "* inner 2 - ***40*** dBZ\n",
    "\n",
    "Minimum size threshold per cluster:\n",
    "\n",
    "* **30** pixels\n",
    "* inner 1 - ***15*** pixels\n",
    "* inner 2 - ***10*** pixels"
   ]
  },
  {
   "cell_type": "markdown",
   "metadata": {},
   "source": [
    "## Dependencies libraries"
   ]
  },
  {
   "cell_type": "code",
   "execution_count": null,
   "metadata": {},
   "outputs": [],
   "source": []
  },
  {
   "cell_type": "code",
   "execution_count": 5,
   "metadata": {},
   "outputs": [],
   "source": [
    "import sys\n",
    "sys.path.append(\"../\")\n",
    "\n",
    "import stanalyzer as sta\n",
    "\n",
    "frame = sta.read_file('../tracks/S201409070000_E201409100000_VDBZc_T20_L5.pkl')\n",
    "\n",
    "\n",
    "# print(sta.life_cicle(frame))"
   ]
  },
  {
   "cell_type": "code",
   "execution_count": null,
   "metadata": {},
   "outputs": [],
   "source": []
  },
  {
   "cell_type": "code",
   "execution_count": null,
   "metadata": {},
   "outputs": [],
   "source": [
    "help(sta.read_file)"
   ]
  },
  {
   "cell_type": "code",
   "execution_count": null,
   "metadata": {},
   "outputs": [],
   "source": [
    "import pandas as pd"
   ]
  },
  {
   "cell_type": "code",
   "execution_count": null,
   "metadata": {},
   "outputs": [],
   "source": [
    "### PATH\n",
    "PATH_FILE = '../tracks/S201409070000_E201409100000_VDBZc_T20_L5.pkl'"
   ]
  },
  {
   "cell_type": "code",
   "execution_count": null,
   "metadata": {},
   "outputs": [],
   "source": [
    "### Read tracking file\n",
    "df = sta.read_file(PATH_FILE)\n",
    "df.head()"
   ]
  },
  {
   "cell_type": "code",
   "execution_count": null,
   "metadata": {},
   "outputs": [],
   "source": [
    "sta.life_cicle()"
   ]
  },
  {
   "cell_type": "code",
   "execution_count": null,
   "metadata": {},
   "outputs": [],
   "source": [
    "def life_cicle(dframe):\n",
    "    \n",
    "    ## Group by uid\n",
    "    grouped_frame,life_time,uid_,start_,end_ = [],[],[],[],[]\n",
    "    for group in dframe.groupby(pd.Grouper(key=\"uid\")):\n",
    "        grouped_frame.append(group)\n",
    "\n",
    "    ## Calculate by initial time and final time\n",
    "    for f in range(len(grouped_frame)):\n",
    "        life_time.append(len(fam_iop1_all_true[f][1]))\n",
    "        uid_.append(fam_iop1_all_true[f][1].uid.values[0])\n",
    "        start_.append(fam_iop1_all_true[f][1].timestamp.values[0]),end_.append(fam_iop1_all_true[f][1].timestamp.values[-1])\n",
    "\n",
    "    ## Create cicle life dataframe\n",
    "    cicle_life = pd.DataFrame(list(zip(uid_, life_time,start_,end_)), \n",
    "                   columns =['uid', 'times','begin','end'])\n",
    "    ## Calculate duration\n",
    "    cicle_life['duration'] = pd.to_timedelta(pd.to_datetime(cicle_life['end']) - pd.to_datetime(cicle_life['begin']))\n",
    "    return cicle_life"
   ]
  },
  {
   "cell_type": "code",
   "execution_count": null,
   "metadata": {},
   "outputs": [],
   "source": [
    "life_cicle(df)"
   ]
  },
  {
   "cell_type": "code",
   "execution_count": null,
   "metadata": {},
   "outputs": [],
   "source": [
    "# Dataframe library\n",
    "import pandas as pd\n",
    "# Numerical Python library\n",
    "import numpy as np\n",
    "# netCDF4 library\n",
    "import netCDF4\n",
    "# Import gzip to open netCDF\n",
    "import gzip\n",
    "# Visualization library\n",
    "import matplotlib.pyplot as plt"
   ]
  },
  {
   "cell_type": "markdown",
   "metadata": {},
   "source": [
    "## Variables\n",
    "\n",
    "**Fam_Nº**-> Refers to the number of the Tracked Family.\n",
    "<br>\n",
    "\n",
    "**timestamp** ->A digital record of the time of occurrence of a particular event.\n",
    "<br>\n",
    "**time** -> Refers to the tracking time in the algorithm.\n",
    "<br>\n",
    "**uid** -> Unique IDentifier, it is used to generate the families.\n",
    "<br>\n",
    "**id_t** -> Referring cluster identifier at the time of tracking occurrence. From the DBSCAN clustering algorithm.\n",
    "<br>\n",
    "**lat** -> Refers latitude centroid, taken from the reference matrix of the original nc files.\n",
    "<br>\n",
    "**lon** -> Refers longitude centroid, taken from the reference matrix of the original nc files.\n",
    "<br>\n",
    "**p0** -> The first coordinate point of centroid in matrix (clusters or nc_file): (p0,p1)=(x,y)=(lon,lat).\n",
    "<br>\n",
    "**p1** -> The second coordinate point of centroid in matrix (clusters or nc_file): (p0,p1)=(x,y)=(lon,lat).\n",
    "<br>\n",
    "**size_%THRESHOLD** -> Total number of Pixels in the main cluster. Each point depends on the sensor's spatial resolution (pixel size): RADAR 2x2km.\n",
    "<br>\n",
    "**mean_ref_%THRESHOLD** -> Averaged reflectivity of the cluster. Value in dBZ.\n",
    "<br>\n",
    "**max_ref_%THRESHOLD** -> Max reflectivity of the cluster. Value in dBZ.\n",
    "<br>\n",
    "**angle_%THRESHOLD_orig** -> Original displacement angle of the cluster at the current time.\n",
    "<br>\n",
    "**angle_%THRESHOLD_cor** -> Corrected displacement angle of the cluster at the current time. \n",
    "<br>\n",
    "**vel_%THRESHOLD_orig** -> Original displacement velocity of the cluster at the current time in kilometers per hour (km/h).\n",
    "<br>\n",
    "**vel_%THRESHOLD_cor** -> Corrected displacement velocity of the cluster at the current time in kilometers per hour (km/h).\n",
    "<br>\n",
    "**mean_total_ref_%THRESHOLD** -> Average reflectivity of the inner clusters by threshold (Value in dBZ).\n",
    "<br>\n",
    "**total_size_%THRESHOLD** -> Total size of inner clusters by threshold (number of pixels).\n",
    "<br>\n",
    "**n_cluster_%THRESHOLD** -> Total number of inner clusters by Threshold.\n",
    "<br>\n",
    "**avg_angle_%THRESHOLD** -> Averaged angle for the inner cluster by threshold (Value in degree).\n",
    "<br>\n",
    "**avg_vel_%THRESHOLD** -> Averaged velocity for inner clusters by threshold (Value in km/h).\n",
    "<br>\n",
    "**status** -> Status of occurrence, type: NEW-> New cluster; CONT-> Continous cluster; SPLT -> Splitted cluster; MERG -> Merged Cluster.\n",
    "<br>\n",
    "**delta_t** -> Time interval for cluster life cycle.\n",
    "<br>\n",
    "**nc_file** -> Path of netCDF file.\n",
    "<br>\n",
    "**cluster_file** -> Path of cluster file (From DBSCAN).\n",
    "<br>\n",
    "**dsize_%THRESHOLD** -> Difference between the sizes of two consecutive clusters (in Pixel).\n",
    "<br>\n",
    "**dmean_ref_%THRESHOLD** -> Difference between the mean reflectivities of two consecutive clusters for main threshold (in dBZ).\n",
    "<br>\n",
    "**dmean_total_ref_%THRESHOLD** -> Difference between the mean reflectivities of all clusters between two consecutive times for an inner threshold (in dBZ).\n",
    "<br>\n",
    "**dtotal_size_%THRESHOLD** -> Difference between the total size (in pixel) of all clusters between two consecutive times for an inner threshold (values in pixel)."
   ]
  },
  {
   "cell_type": "markdown",
   "metadata": {},
   "source": [
    "## Read tracking file\n",
    "\n",
    "Tracking DataFrame."
   ]
  },
  {
   "cell_type": "code",
   "execution_count": null,
   "metadata": {},
   "outputs": [],
   "source": [
    "fam_tracking = pd.read_pickle(\"./S201409070000_E201409100000_VDBZc_T20_L5.pkl\")\n",
    "fam_tracking"
   ]
  },
  {
   "cell_type": "markdown",
   "metadata": {},
   "source": [
    "### Example how to select a FAM by uid"
   ]
  },
  {
   "cell_type": "code",
   "execution_count": null,
   "metadata": {},
   "outputs": [],
   "source": [
    "uid = 97\n",
    "selected_fam = fam_tracking.query('uid == @uid')\n",
    "selected_fam"
   ]
  },
  {
   "cell_type": "markdown",
   "metadata": {},
   "source": [
    "## Example how to select a cluster in the family"
   ]
  },
  {
   "cell_type": "code",
   "execution_count": null,
   "metadata": {},
   "outputs": [],
   "source": [
    "line = 0 #first line \n",
    "\n",
    "selected_line = selected_fam.iloc[[line]]\n",
    "selected_line"
   ]
  },
  {
   "cell_type": "markdown",
   "metadata": {},
   "source": [
    "## Example how to open the cluster file and the original data to extract reflectivity values"
   ]
  },
  {
   "cell_type": "code",
   "execution_count": null,
   "metadata": {},
   "outputs": [],
   "source": [
    "## OPEN CLUSTERS\n",
    "def open_cluster(path):\n",
    "    try:\n",
    "        cluster = np.load(path['cluster_file'].values[0])['arr_0']\n",
    "        cluster[cluster == 0] = np.NAN\n",
    "        return cluster\n",
    "    except:\n",
    "        print('File not found!')"
   ]
  },
  {
   "cell_type": "code",
   "execution_count": null,
   "metadata": {},
   "outputs": [],
   "source": [
    "selected_line"
   ]
  },
  {
   "cell_type": "code",
   "execution_count": null,
   "metadata": {},
   "outputs": [],
   "source": [
    "cluster_matrix_all = open_cluster(selected_line)\n",
    "print('Original dimensions of cluster->',cluster_matrix_all.shape)\n",
    "\n",
    "THRESHOLD_LEVEL = 0 #to select the main threshold (ex: 0-20dBZ,1-35dBZ,2-40dBZ)\n",
    "cluster_matrix = cluster_matrix_all[:,:,THRESHOLD_LEVEL]\n",
    "print('Selected dimensions of cluster->',cluster_matrix.shape)"
   ]
  },
  {
   "cell_type": "code",
   "execution_count": null,
   "metadata": {},
   "outputs": [],
   "source": [
    "### OPEN NETCDF\n",
    "def open_file(file_path):\n",
    "    VAR_NAME = 'DBZc'\n",
    "    LEVEL = 5 #2.5km height\n",
    "    THRESHOLDS = [20,35,40] #dBZ\n",
    "    with gzip.open(file_path['nc_file'].values[0]) as gz:\n",
    "        with netCDF4.Dataset('dummy', mode='r', memory=gz.read()) as nc:\n",
    "            data = nc.variables[VAR_NAME][0][LEVEL][:].filled()\n",
    "            data[data == -9999.] = np.NAN\n",
    "    data[data < THRESHOLDS[0]] = np.nan\n",
    "    return data"
   ]
  },
  {
   "cell_type": "code",
   "execution_count": null,
   "metadata": {},
   "outputs": [],
   "source": [
    "nc_matrix = open_file(selected_line)\n",
    "print('NetCDF Max/Min values (thresholded):\\n',np.nanmax(nc_matrix),np.nanmin(nc_matrix))"
   ]
  },
  {
   "cell_type": "code",
   "execution_count": null,
   "metadata": {},
   "outputs": [],
   "source": [
    "fig, (ax,ax1) = plt.subplots(1,2, figsize=(15,6))\n",
    "\n",
    "ax.imshow(nc_matrix)\n",
    "ax1.imshow(cluster_matrix);\n",
    "ax.set_title('Original file')\n",
    "ax1.set_title('Cluster file');"
   ]
  },
  {
   "cell_type": "markdown",
   "metadata": {},
   "source": [
    "## Extracting reflectivities from the selected cluster\n",
    "\n",
    "To extract the reflectivity values of an individual cluster, you will need to choose the tracking 'id_t', this should be done as follows:\n",
    "\n",
    "Visualization of individual line."
   ]
  },
  {
   "cell_type": "code",
   "execution_count": null,
   "metadata": {},
   "outputs": [],
   "source": [
    "selected_line"
   ]
  },
  {
   "cell_type": "code",
   "execution_count": null,
   "metadata": {},
   "outputs": [],
   "source": [
    "### This line shows that id_t is equal to 20. \n",
    "selected_id_t = selected_line.id_t.values[0]\n",
    "\n",
    "### Get XY coordinates from cluster matrix\n",
    "x,y = np.where(cluster_matrix == selected_id_t)\n",
    "\n",
    "### Get reflectivities values from nc_file cluster\n",
    "dbz_list = nc_matrix[x,y]"
   ]
  },
  {
   "cell_type": "code",
   "execution_count": null,
   "metadata": {},
   "outputs": [],
   "source": [
    "print('List with reflectivity values of an individual cluster.\\n',dbz_list)"
   ]
  },
  {
   "cell_type": "markdown",
   "metadata": {},
   "source": [
    "### Cluster location view"
   ]
  },
  {
   "cell_type": "code",
   "execution_count": null,
   "metadata": {},
   "outputs": [],
   "source": [
    "fig, (ax,ax1) = plt.subplots(1,2, figsize=(15,6))\n",
    "ax.imshow(nc_matrix)\n",
    "ax1.imshow(cluster_matrix);\n",
    "ax.set_title('Original file')\n",
    "ax1.set_title('Cluster file');\n",
    "\n",
    "ax.scatter(selected_line.p0,selected_line.p1,marker='x',color='r',s=100)\n",
    "ax1.scatter(selected_line.p0,selected_line.p1,marker='x',color='r',s=100)"
   ]
  },
  {
   "cell_type": "code",
   "execution_count": null,
   "metadata": {},
   "outputs": [],
   "source": []
  }
 ],
 "metadata": {
  "kernelspec": {
   "display_name": "Python 3",
   "language": "python",
   "name": "python3"
  },
  "language_info": {
   "codemirror_mode": {
    "name": "ipython",
    "version": 3
   },
   "file_extension": ".py",
   "mimetype": "text/x-python",
   "name": "python",
   "nbconvert_exporter": "python",
   "pygments_lexer": "ipython3",
   "version": "3.7.10"
  }
 },
 "nbformat": 4,
 "nbformat_minor": 4
}
